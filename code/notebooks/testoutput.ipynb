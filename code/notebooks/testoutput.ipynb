{
 "cells": [
  {
   "cell_type": "markdown",
   "id": "hindu-banking",
   "metadata": {},
   "source": [
    "## import libs"
   ]
  },
  {
   "cell_type": "code",
   "execution_count": 1,
   "id": "latter-indication",
   "metadata": {
    "execution": {
     "iopub.execute_input": "2021-09-21T20:02:59.916857Z",
     "iopub.status.busy": "2021-09-21T20:02:59.915750Z",
     "iopub.status.idle": "2021-09-21T20:03:01.179730Z",
     "shell.execute_reply": "2021-09-21T20:03:01.178539Z"
    },
    "scrolled": true
   },
   "outputs": [],
   "source": [
    "import os\n",
    "import pandas as pd\n",
    "import gzip"
   ]
  },
  {
   "cell_type": "markdown",
   "id": "automotive-granny",
   "metadata": {},
   "source": [
    "## read clusters"
   ]
  },
  {
   "cell_type": "code",
   "execution_count": 2,
   "id": "formed-chorus",
   "metadata": {
    "execution": {
     "iopub.execute_input": "2021-09-21T20:03:01.191760Z",
     "iopub.status.busy": "2021-09-21T20:03:01.188495Z",
     "iopub.status.idle": "2021-09-21T20:03:01.196496Z",
     "shell.execute_reply": "2021-09-21T20:03:01.192611Z"
    }
   },
   "outputs": [
    {
     "name": "stdout",
     "output_type": "stream",
     "text": [
      "Hi\n"
     ]
    }
   ],
   "source": [
    "splicing_bedgz_f = \"./QTLs/QTLTools/polyA.Splicing/OnlyFirstReps.sorted.qqnorm.bed.gz\"\n",
    "\n",
    "print(\"Hi\")"
   ]
  },
  {
   "cell_type": "raw",
   "id": "signal-connectivity",
   "metadata": {},
   "source": []
  }
 ],
 "metadata": {
  "kernelspec": {
   "display_name": "Python 3",
   "language": "python",
   "name": "python3"
  },
  "language_info": {
   "codemirror_mode": {
    "name": "ipython",
    "version": 3
   },
   "file_extension": ".py",
   "mimetype": "text/x-python",
   "name": "python",
   "nbconvert_exporter": "python",
   "pygments_lexer": "ipython3",
   "version": "3.9.4"
  }
 },
 "nbformat": 4,
 "nbformat_minor": 5
}
