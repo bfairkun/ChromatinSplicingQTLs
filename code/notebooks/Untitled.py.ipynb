{
 "cells": [
  {
   "cell_type": "markdown",
   "id": "hindu-banking",
   "metadata": {},
   "source": [
    "## import libs"
   ]
  },
  {
   "cell_type": "code",
   "execution_count": 1,
   "id": "latter-indication",
   "metadata": {
    "scrolled": true
   },
   "outputs": [
    {
     "name": "stdout",
     "output_type": "stream",
     "text": [
      "/project2/yangili1/bjf79/ChromatinSplicingQTLs/code/notebooks\n"
     ]
    }
   ],
   "source": [
    "import os\n",
    "import pandas as pd\n",
    "import gzip\n",
    "from plotnine import *\n",
    "\n",
    "print(os.getcwd())"
   ]
  },
  {
   "cell_type": "markdown",
   "id": "automotive-granny",
   "metadata": {},
   "source": [
    "## read clusters"
   ]
  },
  {
   "cell_type": "code",
   "execution_count": 3,
   "id": "formed-chorus",
   "metadata": {},
   "outputs": [],
   "source": [
    "splicing_QTL_permutation_test_f = \"QTLs/QTLTools/polyA.Splicing/PermutationPass.FDR_Added.txt.gz\"\n",
    "Cluster_sig = pd.read_csv(splicing_QTL_permutation_test_f, delimiter=' ', usecols=['grp_id', 'q'])\n",
    "\n",
    "Cluster_sig.to_csv(\"scratch/test.gz\", sep=\"\\t\", index=False)\n"
   ]
  },
  {
   "cell_type": "raw",
   "id": "signal-connectivity",
   "metadata": {},
   "source": []
  }
 ],
 "metadata": {
  "kernelspec": {
   "display_name": "python_from_conda_env",
   "language": "python",
   "name": "python_from_conda_env"
  },
  "language_info": {
   "codemirror_mode": {
    "name": "ipython",
    "version": 3
   },
   "file_extension": ".py",
   "mimetype": "text/x-python",
   "name": "python",
   "nbconvert_exporter": "python",
   "pygments_lexer": "ipython3",
   "version": "3.6.13"
  }
 },
 "nbformat": 4,
 "nbformat_minor": 5
}
