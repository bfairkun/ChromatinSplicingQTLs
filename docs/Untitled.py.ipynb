{
 "cells": [
  {
   "cell_type": "code",
   "execution_count": 1,
   "id": "b62eb1af",
   "metadata": {
    "execution": {
     "iopub.execute_input": "2021-09-22T19:21:19.528783Z",
     "iopub.status.busy": "2021-09-22T19:21:19.526787Z",
     "iopub.status.idle": "2021-09-22T19:21:42.459263Z",
     "shell.execute_reply": "2021-09-22T19:21:42.458287Z"
    },
    "tags": [
     "snakemake-job-properties"
    ]
   },
   "outputs": [],
   "source": [
    "\n",
    "######## snakemake preamble start (automatically inserted, do not edit) ########\n",
    "import sys; sys.path.extend(['/project2/gilad/bjf79_project1/envs/main/lib/python3.9/site-packages', '/project2/yangili1/bjf79/ChromatinSplicingQTLs/code/notebooks']); import pickle; snakemake = pickle.loads(b'\\x80\\x04\\x95D\\x05\\x00\\x00\\x00\\x00\\x00\\x00\\x8c\\x10snakemake.script\\x94\\x8c\\tSnakemake\\x94\\x93\\x94)\\x81\\x94}\\x94(\\x8c\\x05input\\x94\\x8c\\x0csnakemake.io\\x94\\x8c\\nInputFiles\\x94\\x93\\x94)\\x81\\x94(\\x8c=QTLs/QTLTools/polyA.Splicing/PermutationPass.FDR_Added.txt.gz\\x94\\x8c?QTLs/QTLTools/polyA.Splicing/OnlyFirstReps.sorted.qqnorm.bed.gz\\x94\\x8c>QTLs/QTLTools/Expression.Splicing/Genotypes/WholeGenome.vcf.gz\\x94e}\\x94(\\x8c\\x06_names\\x94}\\x94\\x8c\\x12_allowed_overrides\\x94]\\x94(\\x8c\\x05index\\x94\\x8c\\x04sort\\x94eh\\x12\\x8c\\tfunctools\\x94\\x8c\\x07partial\\x94\\x93\\x94h\\x06\\x8c\\x19Namedlist._used_attribute\\x94\\x93\\x94\\x85\\x94R\\x94(h\\x18)}\\x94\\x8c\\x05_name\\x94h\\x12sNt\\x94bh\\x13h\\x16h\\x18\\x85\\x94R\\x94(h\\x18)}\\x94h\\x1ch\\x13sNt\\x94bub\\x8c\\x06output\\x94h\\x06\\x8c\\x0bOutputFiles\\x94\\x93\\x94)\\x81\\x94\\x8c\\x0fscratch/test.gz\\x94a}\\x94(h\\x0e}\\x94h\\x10]\\x94(h\\x12h\\x13eh\\x12h\\x16h\\x18\\x85\\x94R\\x94(h\\x18)}\\x94h\\x1ch\\x12sNt\\x94bh\\x13h\\x16h\\x18\\x85\\x94R\\x94(h\\x18)}\\x94h\\x1ch\\x13sNt\\x94bub\\x8c\\x06params\\x94h\\x06\\x8c\\x06Params\\x94\\x93\\x94)\\x81\\x94}\\x94(h\\x0e}\\x94h\\x10]\\x94(h\\x12h\\x13eh\\x12h\\x16h\\x18\\x85\\x94R\\x94(h\\x18)}\\x94h\\x1ch\\x12sNt\\x94bh\\x13h\\x16h\\x18\\x85\\x94R\\x94(h\\x18)}\\x94h\\x1ch\\x13sNt\\x94bub\\x8c\\twildcards\\x94h\\x06\\x8c\\tWildcards\\x94\\x93\\x94)\\x81\\x94}\\x94(h\\x0e}\\x94h\\x10]\\x94(h\\x12h\\x13eh\\x12h\\x16h\\x18\\x85\\x94R\\x94(h\\x18)}\\x94h\\x1ch\\x12sNt\\x94bh\\x13h\\x16h\\x18\\x85\\x94R\\x94(h\\x18)}\\x94h\\x1ch\\x13sNt\\x94bub\\x8c\\x07threads\\x94K\\x01\\x8c\\tresources\\x94h\\x06\\x8c\\tResources\\x94\\x93\\x94)\\x81\\x94(K\\x01K\\x01e}\\x94(h\\x0e}\\x94(\\x8c\\x06_cores\\x94K\\x00N\\x86\\x94\\x8c\\x06_nodes\\x94K\\x01N\\x86\\x94uh\\x10]\\x94(h\\x12h\\x13eh\\x12h\\x16h\\x18\\x85\\x94R\\x94(h\\x18)}\\x94h\\x1ch\\x12sNt\\x94bh\\x13h\\x16h\\x18\\x85\\x94R\\x94(h\\x18)}\\x94h\\x1ch\\x13sNt\\x94bhWK\\x01hYK\\x01ub\\x8c\\x03log\\x94h\\x06\\x8c\\x03Log\\x94\\x93\\x94)\\x81\\x94\\x8c\\x19../docs/Untitled.py.ipynb\\x94a}\\x94(h\\x0e}\\x94\\x8c\\x08notebook\\x94K\\x00N\\x86\\x94sh\\x10]\\x94(h\\x12h\\x13eh\\x12h\\x16h\\x18\\x85\\x94R\\x94(h\\x18)}\\x94h\\x1ch\\x12sNt\\x94bh\\x13h\\x16h\\x18\\x85\\x94R\\x94(h\\x18)}\\x94h\\x1ch\\x13sNt\\x94bhkhhub\\x8c\\x06config\\x94}\\x94(\\x8c\\x07scratch\\x94\\x8c\\x17/scratch/midway2/bjf79/\\x94\\x8c\\x07samples\\x94\\x8c\\x0bsamples.tsv\\x94\\x8c\\naspera_key\\x94\\x8c8/home/bjf79/.aspera/connect/etc/asperaweb_id_dsa.openssh\\x94\\x8c\\x0bsQTL_chunks\\x94M\\xe8\\x03u\\x8c\\x04rule\\x94\\x8c\\x1fCount_sQTLs_with_SpliceSiteSNPs\\x94\\x8c\\x0fbench_iteration\\x94N\\x8c\\tscriptdir\\x94\\x8c=/project2/yangili1/bjf79/ChromatinSplicingQTLs/code/notebooks\\x94ub.'); from snakemake.logging import logger; logger.printshellcmds = True; import os; os.chdir('/project2/yangili1/bjf79/ChromatinSplicingQTLs/code');\n",
    "######## snakemake preamble end #########\n"
   ]
  },
  {
   "cell_type": "markdown",
   "id": "hindu-banking",
   "metadata": {},
   "source": [
    "## import libs"
   ]
  },
  {
   "cell_type": "code",
   "execution_count": 2,
   "id": "latter-indication",
   "metadata": {
    "execution": {
     "iopub.execute_input": "2021-09-22T19:21:42.466461Z",
     "iopub.status.busy": "2021-09-22T19:21:42.465220Z",
     "iopub.status.idle": "2021-09-22T19:21:52.499731Z",
     "shell.execute_reply": "2021-09-22T19:21:52.498952Z"
    },
    "scrolled": true
   },
   "outputs": [
    {
     "name": "stdout",
     "output_type": "stream",
     "text": [
      "/project2/yangili1/bjf79/ChromatinSplicingQTLs/code\n"
     ]
    }
   ],
   "source": [
    "import os\n",
    "import pandas as pd\n",
    "import gzip\n",
    "from plotnine import *\n",
    "\n",
    "print(os.getcwd())"
   ]
  },
  {
   "cell_type": "markdown",
   "id": "automotive-granny",
   "metadata": {},
   "source": [
    "## read clusters"
   ]
  },
  {
   "cell_type": "code",
   "execution_count": 3,
   "id": "formed-chorus",
   "metadata": {
    "execution": {
     "iopub.execute_input": "2021-09-22T19:21:52.507681Z",
     "iopub.status.busy": "2021-09-22T19:21:52.506665Z",
     "iopub.status.idle": "2021-09-22T19:21:53.106624Z",
     "shell.execute_reply": "2021-09-22T19:21:53.105773Z"
    }
   },
   "outputs": [],
   "source": [
    "splicing_QTL_permutation_test_f = \"QTLs/QTLTools/polyA.Splicing/PermutationPass.FDR_Added.txt.gz\"\n",
    "Cluster_sig = pd.read_csv(splicing_QTL_permutation_test_f, delimiter=' ', usecols=['grp_id', 'q'])\n",
    "\n",
    "Cluster_sig.to_csv(\"scratch/test.gz\", sep=\"\\t\", index=False)\n"
   ]
  },
  {
   "cell_type": "raw",
   "id": "signal-connectivity",
   "metadata": {},
   "source": []
  }
 ],
 "metadata": {
  "kernelspec": {
   "display_name": "python_from_conda_env",
   "language": "python",
   "name": "python_from_conda_env"
  },
  "language_info": {
   "codemirror_mode": {
    "name": "ipython",
    "version": 3
   },
   "file_extension": ".py",
   "mimetype": "text/x-python",
   "name": "python",
   "nbconvert_exporter": "python",
   "pygments_lexer": "ipython3",
   "version": "3.6.13"
  }
 },
 "nbformat": 4,
 "nbformat_minor": 5
}
