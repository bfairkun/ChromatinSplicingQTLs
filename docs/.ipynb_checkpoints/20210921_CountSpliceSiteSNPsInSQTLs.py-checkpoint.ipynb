{
 "cells": [
  {
   "cell_type": "markdown",
   "id": "abandoned-failing",
   "metadata": {},
   "source": [
    "# Intro\n",
    "\n",
    "In this notebook, I was planning to better understand how many spliceQTLs are due to SNPs in core splice sites (5'ss or 3'ss). As a simple first pass at this, I will look at the QTLtools permutation pass output in which I performed permutation pass on leafcutter intron phenotypes, using the smallest P-value amongst any intron within a cluster as the test statistic. Therefore, this QTLtools output has a single nominal P value (and single FDR corrected Qvalue) for each cluster of introns. So the way I plan to go about this, is to check for each cluster, check if any of the introns in the cluster overlap splice sites, then look for a pattern between the cluster P-value and whether any of the cluster's introns contain a splice site.\n",
    "\n",
    "Now onto the code..."
   ]
  },
  {
   "cell_type": "markdown",
   "id": "quality-europe",
   "metadata": {},
   "source": [
    "## import libs\n",
    "\n",
    "Note that plotnine was not importing properly, so I just commented it out. This is the library I would normally use for plotting the results. Since it is working, I will just do some data processing to get me closer to the anser, write out the processed results to a file, then explore the results with plots in a different document with R where I am more comfortable plotting."
   ]
  },
  {
   "cell_type": "code",
   "execution_count": 1,
   "id": "stainless-quebec",
   "metadata": {
    "execution": {
     "iopub.execute_input": "2021-09-21T20:15:50.486188Z",
     "iopub.status.busy": "2021-09-21T20:15:50.485165Z",
     "iopub.status.idle": "2021-09-21T20:15:55.941136Z",
     "shell.execute_reply": "2021-09-21T20:15:55.939995Z"
    },
    "scrolled": true
   },
   "outputs": [],
   "source": [
    "import os\n",
    "import pandas as pd\n",
    "import gzip\n",
    "import vcf\n",
    "# from plotnine import *"
   ]
  },
  {
   "cell_type": "markdown",
   "id": "swedish-bottle",
   "metadata": {},
   "source": [
    "## helper functions"
   ]
  },
  {
   "cell_type": "code",
   "execution_count": 2,
   "id": "hungarian-meeting",
   "metadata": {
    "execution": {
     "iopub.execute_input": "2021-09-21T20:15:55.952104Z",
     "iopub.status.busy": "2021-09-21T20:15:55.951018Z",
     "iopub.status.idle": "2021-09-21T20:15:55.953880Z",
     "shell.execute_reply": "2021-09-21T20:15:55.954794Z"
    }
   },
   "outputs": [],
   "source": [
    "def count_iterable(i):\n",
    "    return sum(1 for e in i)\n",
    "\n",
    "def Count_SNPs_Around_Pos(vcf_reader, chrom, pos, upstream_bp, downstream_bp, strand=\"+\"):\n",
    "    \"\"\"\n",
    "    for a vcf_reader object, return an integer of the number of variants that intersect a window\n",
    "    defined by a upstream_bp (normally negative), and a downstream_bp (normally positive),\n",
    "    relative to a pos on a chrom. Reverse upstream_bp and downstream_bp if strand not +\n",
    "    \"\"\"\n",
    "    if strand==\"+\":\n",
    "        return count_iterable(vcf_reader.fetch(chrom, pos+upstream_bp, pos+downstream_bp))\n",
    "    else:\n",
    "        return count_iterable(vcf_reader.fetch(chrom, pos-downstream_bp, pos-upstream_bp))\n",
    "\n",
    "def PickArg2IfStrandNegative(arg1, arg2, strand):\n",
    "    if strand == \"+\":\n",
    "        return arg1\n",
    "    else:\n",
    "        return arg2"
   ]
  },
  {
   "cell_type": "markdown",
   "id": "fifth-figure",
   "metadata": {},
   "source": [
    "## read clusters\n",
    "\n",
    "Read introns from QTLtools bedgz input, which has intron coordinates and cluster ID for each intron. Then read in QTLtools permutation test output (permutation tested grouped by cluster) to get Q value for each cluster being a QTL."
   ]
  },
  {
   "cell_type": "code",
   "execution_count": 3,
   "id": "hawaiian-hollywood",
   "metadata": {
    "execution": {
     "iopub.execute_input": "2021-09-21T20:15:55.963139Z",
     "iopub.status.busy": "2021-09-21T20:15:55.962474Z",
     "iopub.status.idle": "2021-09-21T20:16:11.470552Z",
     "shell.execute_reply": "2021-09-21T20:16:11.471315Z"
    }
   },
   "outputs": [
    {
     "data": {
      "text/html": [
       "<div>\n",
       "<style scoped>\n",
       "    .dataframe tbody tr th:only-of-type {\n",
       "        vertical-align: middle;\n",
       "    }\n",
       "\n",
       "    .dataframe tbody tr th {\n",
       "        vertical-align: top;\n",
       "    }\n",
       "\n",
       "    .dataframe thead th {\n",
       "        text-align: right;\n",
       "    }\n",
       "</style>\n",
       "<table border=\"1\" class=\"dataframe\">\n",
       "  <thead>\n",
       "    <tr style=\"text-align: right;\">\n",
       "      <th></th>\n",
       "      <th>#Chr</th>\n",
       "      <th>start</th>\n",
       "      <th>end</th>\n",
       "      <th>pid</th>\n",
       "      <th>gid</th>\n",
       "      <th>grp_id</th>\n",
       "      <th>q</th>\n",
       "    </tr>\n",
       "  </thead>\n",
       "  <tbody>\n",
       "    <tr>\n",
       "      <th>0</th>\n",
       "      <td>chr1</td>\n",
       "      <td>15947</td>\n",
       "      <td>16607</td>\n",
       "      <td>1:15947:16607:clu_1_-</td>\n",
       "      <td>chr1_clu_1_-</td>\n",
       "      <td>chr1_clu_1_-</td>\n",
       "      <td>0.51821</td>\n",
       "    </tr>\n",
       "    <tr>\n",
       "      <th>1</th>\n",
       "      <td>chr1</td>\n",
       "      <td>16310</td>\n",
       "      <td>16607</td>\n",
       "      <td>1:16310:16607:clu_1_-</td>\n",
       "      <td>chr1_clu_1_-</td>\n",
       "      <td>chr1_clu_1_-</td>\n",
       "      <td>0.51821</td>\n",
       "    </tr>\n",
       "    <tr>\n",
       "      <th>2</th>\n",
       "      <td>chr1</td>\n",
       "      <td>17055</td>\n",
       "      <td>17915</td>\n",
       "      <td>1:17055:17915:clu_2_-</td>\n",
       "      <td>chr1_clu_2_-</td>\n",
       "      <td>chr1_clu_2_-</td>\n",
       "      <td>0.79293</td>\n",
       "    </tr>\n",
       "    <tr>\n",
       "      <th>3</th>\n",
       "      <td>chr1</td>\n",
       "      <td>17055</td>\n",
       "      <td>17233</td>\n",
       "      <td>1:17055:17233:clu_2_-</td>\n",
       "      <td>chr1_clu_2_-</td>\n",
       "      <td>chr1_clu_2_-</td>\n",
       "      <td>0.79293</td>\n",
       "    </tr>\n",
       "    <tr>\n",
       "      <th>4</th>\n",
       "      <td>chr1</td>\n",
       "      <td>17368</td>\n",
       "      <td>17915</td>\n",
       "      <td>1:17368:17915:clu_2_-</td>\n",
       "      <td>chr1_clu_2_-</td>\n",
       "      <td>chr1_clu_2_-</td>\n",
       "      <td>0.79293</td>\n",
       "    </tr>\n",
       "    <tr>\n",
       "      <th>...</th>\n",
       "      <td>...</td>\n",
       "      <td>...</td>\n",
       "      <td>...</td>\n",
       "      <td>...</td>\n",
       "      <td>...</td>\n",
       "      <td>...</td>\n",
       "      <td>...</td>\n",
       "    </tr>\n",
       "    <tr>\n",
       "      <th>143404</th>\n",
       "      <td>chr9</td>\n",
       "      <td>137798914</td>\n",
       "      <td>137800880</td>\n",
       "      <td>9:137798914:137800880:clu_20895_+</td>\n",
       "      <td>chr9_clu_20895_+</td>\n",
       "      <td>chr9_clu_20895_+</td>\n",
       "      <td>0.76432</td>\n",
       "    </tr>\n",
       "    <tr>\n",
       "      <th>143405</th>\n",
       "      <td>chr9</td>\n",
       "      <td>137800575</td>\n",
       "      <td>137800880</td>\n",
       "      <td>9:137800575:137800880:clu_20895_+</td>\n",
       "      <td>chr9_clu_20895_+</td>\n",
       "      <td>chr9_clu_20895_+</td>\n",
       "      <td>0.76432</td>\n",
       "    </tr>\n",
       "    <tr>\n",
       "      <th>143406</th>\n",
       "      <td>chr9</td>\n",
       "      <td>137800984</td>\n",
       "      <td>137802409</td>\n",
       "      <td>9:137800984:137802409:clu_20894_+</td>\n",
       "      <td>chr9_clu_20894_+</td>\n",
       "      <td>chr9_clu_20894_+</td>\n",
       "      <td>0.43322</td>\n",
       "    </tr>\n",
       "    <tr>\n",
       "      <th>143407</th>\n",
       "      <td>chr9</td>\n",
       "      <td>137800984</td>\n",
       "      <td>137802857</td>\n",
       "      <td>9:137800984:137802857:clu_20894_+</td>\n",
       "      <td>chr9_clu_20894_+</td>\n",
       "      <td>chr9_clu_20894_+</td>\n",
       "      <td>0.43322</td>\n",
       "    </tr>\n",
       "    <tr>\n",
       "      <th>143408</th>\n",
       "      <td>chr9</td>\n",
       "      <td>137800984</td>\n",
       "      <td>137811461</td>\n",
       "      <td>9:137800984:137811461:clu_20894_+</td>\n",
       "      <td>chr9_clu_20894_+</td>\n",
       "      <td>chr9_clu_20894_+</td>\n",
       "      <td>0.43322</td>\n",
       "    </tr>\n",
       "  </tbody>\n",
       "</table>\n",
       "<p>143409 rows × 7 columns</p>\n",
       "</div>"
      ],
      "text/plain": [
       "        #Chr      start        end                                pid  \\\n",
       "0       chr1      15947      16607              1:15947:16607:clu_1_-   \n",
       "1       chr1      16310      16607              1:16310:16607:clu_1_-   \n",
       "2       chr1      17055      17915              1:17055:17915:clu_2_-   \n",
       "3       chr1      17055      17233              1:17055:17233:clu_2_-   \n",
       "4       chr1      17368      17915              1:17368:17915:clu_2_-   \n",
       "...      ...        ...        ...                                ...   \n",
       "143404  chr9  137798914  137800880  9:137798914:137800880:clu_20895_+   \n",
       "143405  chr9  137800575  137800880  9:137800575:137800880:clu_20895_+   \n",
       "143406  chr9  137800984  137802409  9:137800984:137802409:clu_20894_+   \n",
       "143407  chr9  137800984  137802857  9:137800984:137802857:clu_20894_+   \n",
       "143408  chr9  137800984  137811461  9:137800984:137811461:clu_20894_+   \n",
       "\n",
       "                     gid            grp_id        q  \n",
       "0           chr1_clu_1_-      chr1_clu_1_-  0.51821  \n",
       "1           chr1_clu_1_-      chr1_clu_1_-  0.51821  \n",
       "2           chr1_clu_2_-      chr1_clu_2_-  0.79293  \n",
       "3           chr1_clu_2_-      chr1_clu_2_-  0.79293  \n",
       "4           chr1_clu_2_-      chr1_clu_2_-  0.79293  \n",
       "...                  ...               ...      ...  \n",
       "143404  chr9_clu_20895_+  chr9_clu_20895_+  0.76432  \n",
       "143405  chr9_clu_20895_+  chr9_clu_20895_+  0.76432  \n",
       "143406  chr9_clu_20894_+  chr9_clu_20894_+  0.43322  \n",
       "143407  chr9_clu_20894_+  chr9_clu_20894_+  0.43322  \n",
       "143408  chr9_clu_20894_+  chr9_clu_20894_+  0.43322  \n",
       "\n",
       "[143409 rows x 7 columns]"
      ]
     },
     "execution_count": 3,
     "metadata": {},
     "output_type": "execute_result"
    }
   ],
   "source": [
    "splicing_bedgz_f = \"../code/QTLs/QTLTools/polyA.Splicing/OnlyFirstReps.sorted.qqnorm.bed.gz\"\n",
    "Clusters = pd.read_csv(splicing_bedgz_f, delimiter='\\t', usecols=range(0,5))\n",
    "\n",
    "\n",
    "splicing_QTL_permutation_test_f = \"../code/QTLs/QTLTools/polyA.Splicing/PermutationPass.FDR_Added.txt.gz\"\n",
    "Cluster_sig = pd.read_csv(splicing_QTL_permutation_test_f, delimiter=' ', usecols=['grp_id', 'q'])\n",
    "\n",
    "\n",
    "Merged = pd.merge(Clusters, Cluster_sig, left_on=\"gid\", right_on=\"grp_id\", how=\"left\")\n",
    "Merged"
   ]
  },
  {
   "cell_type": "markdown",
   "id": "young-correction",
   "metadata": {},
   "source": [
    "Now, let's add a column for the donor position (5' intron boundary), and the acceptor (3' intron boundary), which will have to take strandedness into account."
   ]
  },
  {
   "cell_type": "code",
   "execution_count": 4,
   "id": "attractive-variation",
   "metadata": {
    "execution": {
     "iopub.execute_input": "2021-09-21T20:16:11.487999Z",
     "iopub.status.busy": "2021-09-21T20:16:11.487169Z",
     "iopub.status.idle": "2021-09-21T20:16:15.744678Z",
     "shell.execute_reply": "2021-09-21T20:16:15.745612Z"
    }
   },
   "outputs": [
    {
     "data": {
      "text/html": [
       "<div>\n",
       "<style scoped>\n",
       "    .dataframe tbody tr th:only-of-type {\n",
       "        vertical-align: middle;\n",
       "    }\n",
       "\n",
       "    .dataframe tbody tr th {\n",
       "        vertical-align: top;\n",
       "    }\n",
       "\n",
       "    .dataframe thead th {\n",
       "        text-align: right;\n",
       "    }\n",
       "</style>\n",
       "<table border=\"1\" class=\"dataframe\">\n",
       "  <thead>\n",
       "    <tr style=\"text-align: right;\">\n",
       "      <th></th>\n",
       "      <th>#Chr</th>\n",
       "      <th>start</th>\n",
       "      <th>end</th>\n",
       "      <th>pid</th>\n",
       "      <th>gid</th>\n",
       "      <th>grp_id</th>\n",
       "      <th>q</th>\n",
       "      <th>strand</th>\n",
       "      <th>DonorPos</th>\n",
       "      <th>AcceptorPos</th>\n",
       "    </tr>\n",
       "  </thead>\n",
       "  <tbody>\n",
       "    <tr>\n",
       "      <th>0</th>\n",
       "      <td>chr1</td>\n",
       "      <td>15947</td>\n",
       "      <td>16607</td>\n",
       "      <td>1:15947:16607:clu_1_-</td>\n",
       "      <td>chr1_clu_1_-</td>\n",
       "      <td>chr1_clu_1_-</td>\n",
       "      <td>0.51821</td>\n",
       "      <td>-</td>\n",
       "      <td>16606</td>\n",
       "      <td>15947</td>\n",
       "    </tr>\n",
       "    <tr>\n",
       "      <th>1</th>\n",
       "      <td>chr1</td>\n",
       "      <td>16310</td>\n",
       "      <td>16607</td>\n",
       "      <td>1:16310:16607:clu_1_-</td>\n",
       "      <td>chr1_clu_1_-</td>\n",
       "      <td>chr1_clu_1_-</td>\n",
       "      <td>0.51821</td>\n",
       "      <td>-</td>\n",
       "      <td>16606</td>\n",
       "      <td>16310</td>\n",
       "    </tr>\n",
       "    <tr>\n",
       "      <th>2</th>\n",
       "      <td>chr1</td>\n",
       "      <td>17055</td>\n",
       "      <td>17915</td>\n",
       "      <td>1:17055:17915:clu_2_-</td>\n",
       "      <td>chr1_clu_2_-</td>\n",
       "      <td>chr1_clu_2_-</td>\n",
       "      <td>0.79293</td>\n",
       "      <td>-</td>\n",
       "      <td>17914</td>\n",
       "      <td>17055</td>\n",
       "    </tr>\n",
       "    <tr>\n",
       "      <th>3</th>\n",
       "      <td>chr1</td>\n",
       "      <td>17055</td>\n",
       "      <td>17233</td>\n",
       "      <td>1:17055:17233:clu_2_-</td>\n",
       "      <td>chr1_clu_2_-</td>\n",
       "      <td>chr1_clu_2_-</td>\n",
       "      <td>0.79293</td>\n",
       "      <td>-</td>\n",
       "      <td>17232</td>\n",
       "      <td>17055</td>\n",
       "    </tr>\n",
       "    <tr>\n",
       "      <th>4</th>\n",
       "      <td>chr1</td>\n",
       "      <td>17368</td>\n",
       "      <td>17915</td>\n",
       "      <td>1:17368:17915:clu_2_-</td>\n",
       "      <td>chr1_clu_2_-</td>\n",
       "      <td>chr1_clu_2_-</td>\n",
       "      <td>0.79293</td>\n",
       "      <td>-</td>\n",
       "      <td>17914</td>\n",
       "      <td>17368</td>\n",
       "    </tr>\n",
       "    <tr>\n",
       "      <th>...</th>\n",
       "      <td>...</td>\n",
       "      <td>...</td>\n",
       "      <td>...</td>\n",
       "      <td>...</td>\n",
       "      <td>...</td>\n",
       "      <td>...</td>\n",
       "      <td>...</td>\n",
       "      <td>...</td>\n",
       "      <td>...</td>\n",
       "      <td>...</td>\n",
       "    </tr>\n",
       "    <tr>\n",
       "      <th>143404</th>\n",
       "      <td>chr9</td>\n",
       "      <td>137798914</td>\n",
       "      <td>137800880</td>\n",
       "      <td>9:137798914:137800880:clu_20895_+</td>\n",
       "      <td>chr9_clu_20895_+</td>\n",
       "      <td>chr9_clu_20895_+</td>\n",
       "      <td>0.76432</td>\n",
       "      <td>+</td>\n",
       "      <td>137798914</td>\n",
       "      <td>137800879</td>\n",
       "    </tr>\n",
       "    <tr>\n",
       "      <th>143405</th>\n",
       "      <td>chr9</td>\n",
       "      <td>137800575</td>\n",
       "      <td>137800880</td>\n",
       "      <td>9:137800575:137800880:clu_20895_+</td>\n",
       "      <td>chr9_clu_20895_+</td>\n",
       "      <td>chr9_clu_20895_+</td>\n",
       "      <td>0.76432</td>\n",
       "      <td>+</td>\n",
       "      <td>137800575</td>\n",
       "      <td>137800879</td>\n",
       "    </tr>\n",
       "    <tr>\n",
       "      <th>143406</th>\n",
       "      <td>chr9</td>\n",
       "      <td>137800984</td>\n",
       "      <td>137802409</td>\n",
       "      <td>9:137800984:137802409:clu_20894_+</td>\n",
       "      <td>chr9_clu_20894_+</td>\n",
       "      <td>chr9_clu_20894_+</td>\n",
       "      <td>0.43322</td>\n",
       "      <td>+</td>\n",
       "      <td>137800984</td>\n",
       "      <td>137802408</td>\n",
       "    </tr>\n",
       "    <tr>\n",
       "      <th>143407</th>\n",
       "      <td>chr9</td>\n",
       "      <td>137800984</td>\n",
       "      <td>137802857</td>\n",
       "      <td>9:137800984:137802857:clu_20894_+</td>\n",
       "      <td>chr9_clu_20894_+</td>\n",
       "      <td>chr9_clu_20894_+</td>\n",
       "      <td>0.43322</td>\n",
       "      <td>+</td>\n",
       "      <td>137800984</td>\n",
       "      <td>137802856</td>\n",
       "    </tr>\n",
       "    <tr>\n",
       "      <th>143408</th>\n",
       "      <td>chr9</td>\n",
       "      <td>137800984</td>\n",
       "      <td>137811461</td>\n",
       "      <td>9:137800984:137811461:clu_20894_+</td>\n",
       "      <td>chr9_clu_20894_+</td>\n",
       "      <td>chr9_clu_20894_+</td>\n",
       "      <td>0.43322</td>\n",
       "      <td>+</td>\n",
       "      <td>137800984</td>\n",
       "      <td>137811460</td>\n",
       "    </tr>\n",
       "  </tbody>\n",
       "</table>\n",
       "<p>143409 rows × 10 columns</p>\n",
       "</div>"
      ],
      "text/plain": [
       "        #Chr      start        end                                pid  \\\n",
       "0       chr1      15947      16607              1:15947:16607:clu_1_-   \n",
       "1       chr1      16310      16607              1:16310:16607:clu_1_-   \n",
       "2       chr1      17055      17915              1:17055:17915:clu_2_-   \n",
       "3       chr1      17055      17233              1:17055:17233:clu_2_-   \n",
       "4       chr1      17368      17915              1:17368:17915:clu_2_-   \n",
       "...      ...        ...        ...                                ...   \n",
       "143404  chr9  137798914  137800880  9:137798914:137800880:clu_20895_+   \n",
       "143405  chr9  137800575  137800880  9:137800575:137800880:clu_20895_+   \n",
       "143406  chr9  137800984  137802409  9:137800984:137802409:clu_20894_+   \n",
       "143407  chr9  137800984  137802857  9:137800984:137802857:clu_20894_+   \n",
       "143408  chr9  137800984  137811461  9:137800984:137811461:clu_20894_+   \n",
       "\n",
       "                     gid            grp_id        q strand   DonorPos  \\\n",
       "0           chr1_clu_1_-      chr1_clu_1_-  0.51821      -      16606   \n",
       "1           chr1_clu_1_-      chr1_clu_1_-  0.51821      -      16606   \n",
       "2           chr1_clu_2_-      chr1_clu_2_-  0.79293      -      17914   \n",
       "3           chr1_clu_2_-      chr1_clu_2_-  0.79293      -      17232   \n",
       "4           chr1_clu_2_-      chr1_clu_2_-  0.79293      -      17914   \n",
       "...                  ...               ...      ...    ...        ...   \n",
       "143404  chr9_clu_20895_+  chr9_clu_20895_+  0.76432      +  137798914   \n",
       "143405  chr9_clu_20895_+  chr9_clu_20895_+  0.76432      +  137800575   \n",
       "143406  chr9_clu_20894_+  chr9_clu_20894_+  0.43322      +  137800984   \n",
       "143407  chr9_clu_20894_+  chr9_clu_20894_+  0.43322      +  137800984   \n",
       "143408  chr9_clu_20894_+  chr9_clu_20894_+  0.43322      +  137800984   \n",
       "\n",
       "        AcceptorPos  \n",
       "0             15947  \n",
       "1             16310  \n",
       "2             17055  \n",
       "3             17055  \n",
       "4             17368  \n",
       "...             ...  \n",
       "143404    137800879  \n",
       "143405    137800879  \n",
       "143406    137802408  \n",
       "143407    137802856  \n",
       "143408    137811460  \n",
       "\n",
       "[143409 rows x 10 columns]"
      ]
     },
     "execution_count": 4,
     "metadata": {},
     "output_type": "execute_result"
    }
   ],
   "source": [
    "Merged['strand']=Merged['pid'].str[-1:]\n",
    "Merged['DonorPos']=Merged.apply(lambda x: PickArg2IfStrandNegative(x['start'], x['end']-1, x['strand']), axis=1)\n",
    "Merged['AcceptorPos']=Merged.apply(lambda x: PickArg2IfStrandNegative(x['end']-1, x['start'], x['strand']), axis=1)\n",
    "\n",
    "Merged"
   ]
  },
  {
   "cell_type": "markdown",
   "id": "challenging-feature",
   "metadata": {},
   "source": [
    "Now, I want to classify the introns by whether or not there is a test SNP near the intron boundaries... I did some careful checking of my code with the help of visualizing SNPs and splice sites in IGV, to check that this counting works as expected with regards to both plus and minus strand introns at both 5'ss and 3'ss SNPs."
   ]
  },
  {
   "cell_type": "code",
   "execution_count": 5,
   "id": "incomplete-listening",
   "metadata": {
    "execution": {
     "iopub.execute_input": "2021-09-21T20:16:15.752227Z",
     "iopub.status.busy": "2021-09-21T20:16:15.751474Z",
     "iopub.status.idle": "2021-09-21T20:17:42.472399Z",
     "shell.execute_reply": "2021-09-21T20:17:42.471378Z"
    }
   },
   "outputs": [],
   "source": [
    "vcf_reader = vcf.Reader(filename='../code/QTLs/QTLTools/Expression.Splicing/Genotypes/WholeGenome.vcf.gz')\n",
    "\n",
    "#From -1 to 5 pos relative to donor GT: [0]G[1]T\n",
    "Merged['DonorSnpCount'] = Merged.apply(lambda x: Count_SNPs_Around_Pos(vcf_reader, x['#Chr'], x['DonorPos'], -1, 5, strand=x['strand']), axis=1)"
   ]
  },
  {
   "cell_type": "code",
   "execution_count": 6,
   "id": "metallic-explanation",
   "metadata": {
    "execution": {
     "iopub.execute_input": "2021-09-21T20:17:42.478679Z",
     "iopub.status.busy": "2021-09-21T20:17:42.477703Z",
     "iopub.status.idle": "2021-09-21T20:19:05.127477Z",
     "shell.execute_reply": "2021-09-21T20:19:05.127943Z"
    }
   },
   "outputs": [],
   "source": [
    "# From -3 position to 0 (YAG) 3'ss\n",
    "Merged['AcceptorSnpCount'] = Merged.apply(lambda x: Count_SNPs_Around_Pos(vcf_reader, x['#Chr'], x['AcceptorPos'], -3, 0, strand=x['strand']), axis=1)\n"
   ]
  },
  {
   "cell_type": "markdown",
   "id": "optical-leisure",
   "metadata": {},
   "source": [
    "Now make a column to categorize introns as having SNP in splice site or not."
   ]
  },
  {
   "cell_type": "code",
   "execution_count": 7,
   "id": "arranged-static",
   "metadata": {
    "execution": {
     "iopub.execute_input": "2021-09-21T20:19:05.133126Z",
     "iopub.status.busy": "2021-09-21T20:19:05.132503Z",
     "iopub.status.idle": "2021-09-21T20:19:05.184220Z",
     "shell.execute_reply": "2021-09-21T20:19:05.183206Z"
    }
   },
   "outputs": [],
   "source": [
    "Merged['SNP_in_SS'] = (Merged['AcceptorSnpCount'] + Merged['DonorSnpCount']) > 0"
   ]
  },
  {
   "cell_type": "markdown",
   "id": "present-citizenship",
   "metadata": {},
   "source": [
    "How many introns SNPs overlapping the splice sites?"
   ]
  },
  {
   "cell_type": "code",
   "execution_count": 8,
   "id": "cardiac-resort",
   "metadata": {
    "execution": {
     "iopub.execute_input": "2021-09-21T20:19:05.206826Z",
     "iopub.status.busy": "2021-09-21T20:19:05.205942Z",
     "iopub.status.idle": "2021-09-21T20:19:05.209847Z",
     "shell.execute_reply": "2021-09-21T20:19:05.209044Z"
    }
   },
   "outputs": [
    {
     "data": {
      "text/plain": [
       "2982"
      ]
     },
     "execution_count": 8,
     "metadata": {},
     "output_type": "execute_result"
    }
   ],
   "source": [
    "sum(Merged['SNP_in_SS'])"
   ]
  },
  {
   "cell_type": "markdown",
   "id": "bored-feeding",
   "metadata": {},
   "source": [
    "Finally, let's write out the pertinent results, so I can read them into R in a different document and plot the results:"
   ]
  },
  {
   "cell_type": "code",
   "execution_count": 9,
   "id": "chicken-portugal",
   "metadata": {
    "execution": {
     "iopub.execute_input": "2021-09-21T20:19:05.214515Z",
     "iopub.status.busy": "2021-09-21T20:19:05.213728Z",
     "iopub.status.idle": "2021-09-21T20:19:07.481959Z",
     "shell.execute_reply": "2021-09-21T20:19:07.481015Z"
    }
   },
   "outputs": [],
   "source": [
    "Merged.to_csv(\"../code/QTLs/QTLTools/polyA.Splicing/PermutationPass.FDR_Added.SS_SNPs.Annotated.txt.gz\", sep=\"\\t\", index=False)"
   ]
  }
 ],
 "metadata": {
  "kernelspec": {
   "display_name": "Python 3",
   "language": "python",
   "name": "python3"
  },
  "language_info": {
   "codemirror_mode": {
    "name": "ipython",
    "version": 3
   },
   "file_extension": ".py",
   "mimetype": "text/x-python",
   "name": "python",
   "nbconvert_exporter": "python",
   "pygments_lexer": "ipython3",
   "version": "3.9.4"
  }
 },
 "nbformat": 4,
 "nbformat_minor": 5
}
