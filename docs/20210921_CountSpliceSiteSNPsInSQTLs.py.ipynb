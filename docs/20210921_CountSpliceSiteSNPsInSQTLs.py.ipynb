{
 "cells": [
  {
   "cell_type": "code",
   "execution_count": 1,
   "id": "74846eb0",
   "metadata": {
    "execution": {
     "iopub.execute_input": "2021-09-23T15:04:50.457724Z",
     "iopub.status.busy": "2021-09-23T15:04:50.456036Z",
     "iopub.status.idle": "2021-09-23T15:04:50.981763Z",
     "shell.execute_reply": "2021-09-23T15:04:50.980817Z"
    },
    "tags": [
     "snakemake-job-properties"
    ]
   },
   "outputs": [],
   "source": [
    "\n",
    "######## snakemake preamble start (automatically inserted, do not edit) ########\n",
    "import sys; sys.path.extend(['/project2/gilad/bjf79_project1/envs/main/lib/python3.9/site-packages', '/project2/yangili1/bjf79/ChromatinSplicingQTLs/code/notebooks']); import pickle; snakemake = pickle.loads(b'\\x80\\x04\\x95\\x9f\\x05\\x00\\x00\\x00\\x00\\x00\\x00\\x8c\\x10snakemake.script\\x94\\x8c\\tSnakemake\\x94\\x93\\x94)\\x81\\x94}\\x94(\\x8c\\x05input\\x94\\x8c\\x0csnakemake.io\\x94\\x8c\\nInputFiles\\x94\\x93\\x94)\\x81\\x94(\\x8c=QTLs/QTLTools/polyA.Splicing/PermutationPass.FDR_Added.txt.gz\\x94\\x8c?QTLs/QTLTools/polyA.Splicing/OnlyFirstReps.sorted.qqnorm.bed.gz\\x94\\x8c>QTLs/QTLTools/Expression.Splicing/Genotypes/WholeGenome.vcf.gz\\x94e}\\x94(\\x8c\\x06_names\\x94}\\x94\\x8c\\x12_allowed_overrides\\x94]\\x94(\\x8c\\x05index\\x94\\x8c\\x04sort\\x94eh\\x12\\x8c\\tfunctools\\x94\\x8c\\x07partial\\x94\\x93\\x94h\\x06\\x8c\\x19Namedlist._used_attribute\\x94\\x93\\x94\\x85\\x94R\\x94(h\\x18)}\\x94\\x8c\\x05_name\\x94h\\x12sNt\\x94bh\\x13h\\x16h\\x18\\x85\\x94R\\x94(h\\x18)}\\x94h\\x1ch\\x13sNt\\x94bub\\x8c\\x06output\\x94h\\x06\\x8c\\x0bOutputFiles\\x94\\x93\\x94)\\x81\\x94\\x8cOQTLs/QTLTools/polyA.Splicing/PermutationPass.FDR_Added.SS_SNPs.Annotated.txt.gz\\x94a}\\x94(h\\x0e}\\x94h\\x10]\\x94(h\\x12h\\x13eh\\x12h\\x16h\\x18\\x85\\x94R\\x94(h\\x18)}\\x94h\\x1ch\\x12sNt\\x94bh\\x13h\\x16h\\x18\\x85\\x94R\\x94(h\\x18)}\\x94h\\x1ch\\x13sNt\\x94bub\\x8c\\x06params\\x94h\\x06\\x8c\\x06Params\\x94\\x93\\x94)\\x81\\x94}\\x94(h\\x0e}\\x94h\\x10]\\x94(h\\x12h\\x13eh\\x12h\\x16h\\x18\\x85\\x94R\\x94(h\\x18)}\\x94h\\x1ch\\x12sNt\\x94bh\\x13h\\x16h\\x18\\x85\\x94R\\x94(h\\x18)}\\x94h\\x1ch\\x13sNt\\x94bub\\x8c\\twildcards\\x94h\\x06\\x8c\\tWildcards\\x94\\x93\\x94)\\x81\\x94}\\x94(h\\x0e}\\x94h\\x10]\\x94(h\\x12h\\x13eh\\x12h\\x16h\\x18\\x85\\x94R\\x94(h\\x18)}\\x94h\\x1ch\\x12sNt\\x94bh\\x13h\\x16h\\x18\\x85\\x94R\\x94(h\\x18)}\\x94h\\x1ch\\x13sNt\\x94bub\\x8c\\x07threads\\x94K\\x01\\x8c\\tresources\\x94h\\x06\\x8c\\tResources\\x94\\x93\\x94)\\x81\\x94(K\\x01K\\x01e}\\x94(h\\x0e}\\x94(\\x8c\\x06_cores\\x94K\\x00N\\x86\\x94\\x8c\\x06_nodes\\x94K\\x01N\\x86\\x94uh\\x10]\\x94(h\\x12h\\x13eh\\x12h\\x16h\\x18\\x85\\x94R\\x94(h\\x18)}\\x94h\\x1ch\\x12sNt\\x94bh\\x13h\\x16h\\x18\\x85\\x94R\\x94(h\\x18)}\\x94h\\x1ch\\x13sNt\\x94bhWK\\x01hYK\\x01ub\\x8c\\x03log\\x94h\\x06\\x8c\\x03Log\\x94\\x93\\x94)\\x81\\x94\\x8c4../docs/20210921_CountSpliceSiteSNPsInSQTLs.py.ipynb\\x94a}\\x94(h\\x0e}\\x94\\x8c\\x08notebook\\x94K\\x00N\\x86\\x94sh\\x10]\\x94(h\\x12h\\x13eh\\x12h\\x16h\\x18\\x85\\x94R\\x94(h\\x18)}\\x94h\\x1ch\\x12sNt\\x94bh\\x13h\\x16h\\x18\\x85\\x94R\\x94(h\\x18)}\\x94h\\x1ch\\x13sNt\\x94bhkhhub\\x8c\\x06config\\x94}\\x94(\\x8c\\x07scratch\\x94\\x8c\\x17/scratch/midway2/bjf79/\\x94\\x8c\\x07samples\\x94\\x8c\\x0bsamples.tsv\\x94\\x8c\\naspera_key\\x94\\x8c8/home/bjf79/.aspera/connect/etc/asperaweb_id_dsa.openssh\\x94\\x8c\\x0bsQTL_chunks\\x94M\\xe8\\x03u\\x8c\\x04rule\\x94\\x8c\\x1fCount_sQTLs_with_SpliceSiteSNPs\\x94\\x8c\\x0fbench_iteration\\x94N\\x8c\\tscriptdir\\x94\\x8c=/project2/yangili1/bjf79/ChromatinSplicingQTLs/code/notebooks\\x94ub.'); from snakemake.logging import logger; logger.printshellcmds = True; import os; os.chdir('/project2/yangili1/bjf79/ChromatinSplicingQTLs/code');\n",
    "######## snakemake preamble end #########\n"
   ]
  },
  {
   "cell_type": "markdown",
   "id": "abandoned-failing",
   "metadata": {},
   "source": [
    "# Intro\n",
    "\n",
    "In this notebook, I was planning to better understand how many spliceQTLs are due to SNPs in core splice sites (5'ss or 3'ss). As a simple first pass at this, I will look at the QTLtools permutation pass output in which I performed permutation pass on leafcutter intron phenotypes, using the smallest P-value amongst any intron within a cluster as the test statistic. Therefore, this QTLtools output has a single nominal P value (and single FDR corrected Qvalue) for each cluster of introns. So the way I plan to go about this, is to check for each cluster, check if any of the introns in the cluster overlap splice sites, then look for a pattern between the cluster P-value and whether any of the cluster's introns contain a splice site.\n",
    "\n",
    "Now onto the code..."
   ]
  },
  {
   "cell_type": "markdown",
   "id": "quality-europe",
   "metadata": {},
   "source": [
    "## import libs\n"
   ]
  },
  {
   "cell_type": "code",
   "execution_count": 2,
   "id": "5285cdf6",
   "metadata": {
    "execution": {
     "iopub.execute_input": "2021-09-23T15:04:50.988508Z",
     "iopub.status.busy": "2021-09-23T15:04:50.987589Z",
     "iopub.status.idle": "2021-09-23T15:04:50.990411Z",
     "shell.execute_reply": "2021-09-23T15:04:50.989646Z"
    }
   },
   "outputs": [],
   "source": [
    "import os"
   ]
  },
  {
   "cell_type": "markdown",
   "id": "2a55b3f5",
   "metadata": {},
   "source": [
    "I think jupyter notebook will open a notebook and change to the parent directory of the notebook while you are editing. But I want this notebook to execute as if it will be executed in a snakemake, so while I am editing in jupyter notebook, I will change to that snakemake's parent directory, and be sure to comment out that change directory command"
   ]
  },
  {
   "cell_type": "code",
   "execution_count": 3,
   "id": "a1f691bc",
   "metadata": {
    "execution": {
     "iopub.execute_input": "2021-09-23T15:04:50.995482Z",
     "iopub.status.busy": "2021-09-23T15:04:50.994710Z",
     "iopub.status.idle": "2021-09-23T15:05:21.963809Z",
     "shell.execute_reply": "2021-09-23T15:05:21.962939Z"
    }
   },
   "outputs": [
    {
     "name": "stdout",
     "output_type": "stream",
     "text": [
      "/project2/yangili1/bjf79/ChromatinSplicingQTLs/code\n"
     ]
    }
   ],
   "source": [
    "# os.chdir(\"../\")\n",
    "print(os.getcwd())\n",
    "\n",
    "import pandas as pd\n",
    "import gzip\n",
    "import vcf\n",
    "from plotnine import *"
   ]
  },
  {
   "cell_type": "markdown",
   "id": "swedish-bottle",
   "metadata": {},
   "source": [
    "## helper functions"
   ]
  },
  {
   "cell_type": "code",
   "execution_count": 4,
   "id": "hungarian-meeting",
   "metadata": {
    "execution": {
     "iopub.execute_input": "2021-09-23T15:05:21.975427Z",
     "iopub.status.busy": "2021-09-23T15:05:21.974311Z",
     "iopub.status.idle": "2021-09-23T15:05:21.977752Z",
     "shell.execute_reply": "2021-09-23T15:05:21.976819Z"
    }
   },
   "outputs": [],
   "source": [
    "def count_iterable(i):\n",
    "    return sum(1 for e in i)\n",
    "\n",
    "def Count_SNPs_Around_Pos(vcf_reader, chrom, pos, upstream_bp, downstream_bp, strand=\"+\"):\n",
    "    \"\"\"\n",
    "    for a vcf_reader object, return an integer of the number of variants that intersect a window\n",
    "    defined by a upstream_bp (normally negative), and a downstream_bp (normally positive),\n",
    "    relative to a pos on a chrom. Reverse upstream_bp and downstream_bp if strand not +\n",
    "    \"\"\"\n",
    "    if strand==\"+\":\n",
    "        return count_iterable(vcf_reader.fetch(chrom, pos+upstream_bp, pos+downstream_bp))\n",
    "    else:\n",
    "        return count_iterable(vcf_reader.fetch(chrom, pos-downstream_bp, pos-upstream_bp))\n",
    "\n",
    "def PickArg2IfStrandNegative(arg1, arg2, strand):\n",
    "    if strand == \"+\":\n",
    "        return arg1\n",
    "    else:\n",
    "        return arg2"
   ]
  },
  {
   "cell_type": "markdown",
   "id": "fifth-figure",
   "metadata": {},
   "source": [
    "## read clusters\n",
    "\n",
    "Read introns from QTLtools bedgz input, which has intron coordinates and cluster ID for each intron. Then read in QTLtools permutation test output (permutation tested grouped by cluster) to get Q value for each cluster being a QTL."
   ]
  },
  {
   "cell_type": "code",
   "execution_count": 5,
   "id": "hawaiian-hollywood",
   "metadata": {
    "execution": {
     "iopub.execute_input": "2021-09-23T15:05:21.985664Z",
     "iopub.status.busy": "2021-09-23T15:05:21.985001Z",
     "iopub.status.idle": "2021-09-23T15:05:36.206183Z",
     "shell.execute_reply": "2021-09-23T15:05:36.207112Z"
    }
   },
   "outputs": [
    {
     "data": {
      "text/html": [
       "<div>\n",
       "<style scoped>\n",
       "    .dataframe tbody tr th:only-of-type {\n",
       "        vertical-align: middle;\n",
       "    }\n",
       "\n",
       "    .dataframe tbody tr th {\n",
       "        vertical-align: top;\n",
       "    }\n",
       "\n",
       "    .dataframe thead th {\n",
       "        text-align: right;\n",
       "    }\n",
       "</style>\n",
       "<table border=\"1\" class=\"dataframe\">\n",
       "  <thead>\n",
       "    <tr style=\"text-align: right;\">\n",
       "      <th></th>\n",
       "      <th>#Chr</th>\n",
       "      <th>start</th>\n",
       "      <th>end</th>\n",
       "      <th>pid</th>\n",
       "      <th>gid</th>\n",
       "      <th>grp_id</th>\n",
       "      <th>q</th>\n",
       "    </tr>\n",
       "  </thead>\n",
       "  <tbody>\n",
       "    <tr>\n",
       "      <th>0</th>\n",
       "      <td>chr1</td>\n",
       "      <td>15947</td>\n",
       "      <td>16607</td>\n",
       "      <td>1:15947:16607:clu_1_-</td>\n",
       "      <td>chr1_clu_1_-</td>\n",
       "      <td>chr1_clu_1_-</td>\n",
       "      <td>0.51821</td>\n",
       "    </tr>\n",
       "    <tr>\n",
       "      <th>1</th>\n",
       "      <td>chr1</td>\n",
       "      <td>16310</td>\n",
       "      <td>16607</td>\n",
       "      <td>1:16310:16607:clu_1_-</td>\n",
       "      <td>chr1_clu_1_-</td>\n",
       "      <td>chr1_clu_1_-</td>\n",
       "      <td>0.51821</td>\n",
       "    </tr>\n",
       "    <tr>\n",
       "      <th>2</th>\n",
       "      <td>chr1</td>\n",
       "      <td>17055</td>\n",
       "      <td>17915</td>\n",
       "      <td>1:17055:17915:clu_2_-</td>\n",
       "      <td>chr1_clu_2_-</td>\n",
       "      <td>chr1_clu_2_-</td>\n",
       "      <td>0.79293</td>\n",
       "    </tr>\n",
       "    <tr>\n",
       "      <th>3</th>\n",
       "      <td>chr1</td>\n",
       "      <td>17055</td>\n",
       "      <td>17233</td>\n",
       "      <td>1:17055:17233:clu_2_-</td>\n",
       "      <td>chr1_clu_2_-</td>\n",
       "      <td>chr1_clu_2_-</td>\n",
       "      <td>0.79293</td>\n",
       "    </tr>\n",
       "    <tr>\n",
       "      <th>4</th>\n",
       "      <td>chr1</td>\n",
       "      <td>17368</td>\n",
       "      <td>17915</td>\n",
       "      <td>1:17368:17915:clu_2_-</td>\n",
       "      <td>chr1_clu_2_-</td>\n",
       "      <td>chr1_clu_2_-</td>\n",
       "      <td>0.79293</td>\n",
       "    </tr>\n",
       "    <tr>\n",
       "      <th>...</th>\n",
       "      <td>...</td>\n",
       "      <td>...</td>\n",
       "      <td>...</td>\n",
       "      <td>...</td>\n",
       "      <td>...</td>\n",
       "      <td>...</td>\n",
       "      <td>...</td>\n",
       "    </tr>\n",
       "    <tr>\n",
       "      <th>143404</th>\n",
       "      <td>chr9</td>\n",
       "      <td>137798914</td>\n",
       "      <td>137800880</td>\n",
       "      <td>9:137798914:137800880:clu_20895_+</td>\n",
       "      <td>chr9_clu_20895_+</td>\n",
       "      <td>chr9_clu_20895_+</td>\n",
       "      <td>0.76432</td>\n",
       "    </tr>\n",
       "    <tr>\n",
       "      <th>143405</th>\n",
       "      <td>chr9</td>\n",
       "      <td>137800575</td>\n",
       "      <td>137800880</td>\n",
       "      <td>9:137800575:137800880:clu_20895_+</td>\n",
       "      <td>chr9_clu_20895_+</td>\n",
       "      <td>chr9_clu_20895_+</td>\n",
       "      <td>0.76432</td>\n",
       "    </tr>\n",
       "    <tr>\n",
       "      <th>143406</th>\n",
       "      <td>chr9</td>\n",
       "      <td>137800984</td>\n",
       "      <td>137802409</td>\n",
       "      <td>9:137800984:137802409:clu_20894_+</td>\n",
       "      <td>chr9_clu_20894_+</td>\n",
       "      <td>chr9_clu_20894_+</td>\n",
       "      <td>0.43322</td>\n",
       "    </tr>\n",
       "    <tr>\n",
       "      <th>143407</th>\n",
       "      <td>chr9</td>\n",
       "      <td>137800984</td>\n",
       "      <td>137802857</td>\n",
       "      <td>9:137800984:137802857:clu_20894_+</td>\n",
       "      <td>chr9_clu_20894_+</td>\n",
       "      <td>chr9_clu_20894_+</td>\n",
       "      <td>0.43322</td>\n",
       "    </tr>\n",
       "    <tr>\n",
       "      <th>143408</th>\n",
       "      <td>chr9</td>\n",
       "      <td>137800984</td>\n",
       "      <td>137811461</td>\n",
       "      <td>9:137800984:137811461:clu_20894_+</td>\n",
       "      <td>chr9_clu_20894_+</td>\n",
       "      <td>chr9_clu_20894_+</td>\n",
       "      <td>0.43322</td>\n",
       "    </tr>\n",
       "  </tbody>\n",
       "</table>\n",
       "<p>143409 rows × 7 columns</p>\n",
       "</div>"
      ],
      "text/plain": [
       "        #Chr      start        end                                pid  \\\n",
       "0       chr1      15947      16607              1:15947:16607:clu_1_-   \n",
       "1       chr1      16310      16607              1:16310:16607:clu_1_-   \n",
       "2       chr1      17055      17915              1:17055:17915:clu_2_-   \n",
       "3       chr1      17055      17233              1:17055:17233:clu_2_-   \n",
       "4       chr1      17368      17915              1:17368:17915:clu_2_-   \n",
       "...      ...        ...        ...                                ...   \n",
       "143404  chr9  137798914  137800880  9:137798914:137800880:clu_20895_+   \n",
       "143405  chr9  137800575  137800880  9:137800575:137800880:clu_20895_+   \n",
       "143406  chr9  137800984  137802409  9:137800984:137802409:clu_20894_+   \n",
       "143407  chr9  137800984  137802857  9:137800984:137802857:clu_20894_+   \n",
       "143408  chr9  137800984  137811461  9:137800984:137811461:clu_20894_+   \n",
       "\n",
       "                     gid            grp_id        q  \n",
       "0           chr1_clu_1_-      chr1_clu_1_-  0.51821  \n",
       "1           chr1_clu_1_-      chr1_clu_1_-  0.51821  \n",
       "2           chr1_clu_2_-      chr1_clu_2_-  0.79293  \n",
       "3           chr1_clu_2_-      chr1_clu_2_-  0.79293  \n",
       "4           chr1_clu_2_-      chr1_clu_2_-  0.79293  \n",
       "...                  ...               ...      ...  \n",
       "143404  chr9_clu_20895_+  chr9_clu_20895_+  0.76432  \n",
       "143405  chr9_clu_20895_+  chr9_clu_20895_+  0.76432  \n",
       "143406  chr9_clu_20894_+  chr9_clu_20894_+  0.43322  \n",
       "143407  chr9_clu_20894_+  chr9_clu_20894_+  0.43322  \n",
       "143408  chr9_clu_20894_+  chr9_clu_20894_+  0.43322  \n",
       "\n",
       "[143409 rows x 7 columns]"
      ]
     },
     "execution_count": 1,
     "metadata": {},
     "output_type": "execute_result"
    }
   ],
   "source": [
    "splicing_bedgz_f = \"QTLs/QTLTools/polyA.Splicing/OnlyFirstReps.sorted.qqnorm.bed.gz\"\n",
    "Clusters = pd.read_csv(splicing_bedgz_f, delimiter='\\t', usecols=range(0,5))\n",
    "\n",
    "\n",
    "splicing_QTL_permutation_test_f = \"QTLs/QTLTools/polyA.Splicing/PermutationPass.FDR_Added.txt.gz\"\n",
    "Cluster_sig = pd.read_csv(splicing_QTL_permutation_test_f, delimiter=' ', usecols=['grp_id', 'q'])\n",
    "\n",
    "\n",
    "Merged = pd.merge(Clusters, Cluster_sig, left_on=\"gid\", right_on=\"grp_id\", how=\"left\")\n",
    "Merged"
   ]
  },
  {
   "cell_type": "markdown",
   "id": "young-correction",
   "metadata": {},
   "source": [
    "Now, let's add a column for the donor position (5' intron boundary), and the acceptor (3' intron boundary), which will have to take strandedness into account."
   ]
  },
  {
   "cell_type": "code",
   "execution_count": 6,
   "id": "attractive-variation",
   "metadata": {
    "execution": {
     "iopub.execute_input": "2021-09-23T15:05:36.222564Z",
     "iopub.status.busy": "2021-09-23T15:05:36.221550Z",
     "iopub.status.idle": "2021-09-23T15:05:40.944912Z",
     "shell.execute_reply": "2021-09-23T15:05:40.945853Z"
    }
   },
   "outputs": [
    {
     "data": {
      "text/html": [
       "<div>\n",
       "<style scoped>\n",
       "    .dataframe tbody tr th:only-of-type {\n",
       "        vertical-align: middle;\n",
       "    }\n",
       "\n",
       "    .dataframe tbody tr th {\n",
       "        vertical-align: top;\n",
       "    }\n",
       "\n",
       "    .dataframe thead th {\n",
       "        text-align: right;\n",
       "    }\n",
       "</style>\n",
       "<table border=\"1\" class=\"dataframe\">\n",
       "  <thead>\n",
       "    <tr style=\"text-align: right;\">\n",
       "      <th></th>\n",
       "      <th>#Chr</th>\n",
       "      <th>start</th>\n",
       "      <th>end</th>\n",
       "      <th>pid</th>\n",
       "      <th>gid</th>\n",
       "      <th>grp_id</th>\n",
       "      <th>q</th>\n",
       "      <th>strand</th>\n",
       "      <th>DonorPos</th>\n",
       "      <th>AcceptorPos</th>\n",
       "    </tr>\n",
       "  </thead>\n",
       "  <tbody>\n",
       "    <tr>\n",
       "      <th>0</th>\n",
       "      <td>chr1</td>\n",
       "      <td>15947</td>\n",
       "      <td>16607</td>\n",
       "      <td>1:15947:16607:clu_1_-</td>\n",
       "      <td>chr1_clu_1_-</td>\n",
       "      <td>chr1_clu_1_-</td>\n",
       "      <td>0.51821</td>\n",
       "      <td>-</td>\n",
       "      <td>16606</td>\n",
       "      <td>15947</td>\n",
       "    </tr>\n",
       "    <tr>\n",
       "      <th>1</th>\n",
       "      <td>chr1</td>\n",
       "      <td>16310</td>\n",
       "      <td>16607</td>\n",
       "      <td>1:16310:16607:clu_1_-</td>\n",
       "      <td>chr1_clu_1_-</td>\n",
       "      <td>chr1_clu_1_-</td>\n",
       "      <td>0.51821</td>\n",
       "      <td>-</td>\n",
       "      <td>16606</td>\n",
       "      <td>16310</td>\n",
       "    </tr>\n",
       "    <tr>\n",
       "      <th>2</th>\n",
       "      <td>chr1</td>\n",
       "      <td>17055</td>\n",
       "      <td>17915</td>\n",
       "      <td>1:17055:17915:clu_2_-</td>\n",
       "      <td>chr1_clu_2_-</td>\n",
       "      <td>chr1_clu_2_-</td>\n",
       "      <td>0.79293</td>\n",
       "      <td>-</td>\n",
       "      <td>17914</td>\n",
       "      <td>17055</td>\n",
       "    </tr>\n",
       "    <tr>\n",
       "      <th>3</th>\n",
       "      <td>chr1</td>\n",
       "      <td>17055</td>\n",
       "      <td>17233</td>\n",
       "      <td>1:17055:17233:clu_2_-</td>\n",
       "      <td>chr1_clu_2_-</td>\n",
       "      <td>chr1_clu_2_-</td>\n",
       "      <td>0.79293</td>\n",
       "      <td>-</td>\n",
       "      <td>17232</td>\n",
       "      <td>17055</td>\n",
       "    </tr>\n",
       "    <tr>\n",
       "      <th>4</th>\n",
       "      <td>chr1</td>\n",
       "      <td>17368</td>\n",
       "      <td>17915</td>\n",
       "      <td>1:17368:17915:clu_2_-</td>\n",
       "      <td>chr1_clu_2_-</td>\n",
       "      <td>chr1_clu_2_-</td>\n",
       "      <td>0.79293</td>\n",
       "      <td>-</td>\n",
       "      <td>17914</td>\n",
       "      <td>17368</td>\n",
       "    </tr>\n",
       "    <tr>\n",
       "      <th>...</th>\n",
       "      <td>...</td>\n",
       "      <td>...</td>\n",
       "      <td>...</td>\n",
       "      <td>...</td>\n",
       "      <td>...</td>\n",
       "      <td>...</td>\n",
       "      <td>...</td>\n",
       "      <td>...</td>\n",
       "      <td>...</td>\n",
       "      <td>...</td>\n",
       "    </tr>\n",
       "    <tr>\n",
       "      <th>143404</th>\n",
       "      <td>chr9</td>\n",
       "      <td>137798914</td>\n",
       "      <td>137800880</td>\n",
       "      <td>9:137798914:137800880:clu_20895_+</td>\n",
       "      <td>chr9_clu_20895_+</td>\n",
       "      <td>chr9_clu_20895_+</td>\n",
       "      <td>0.76432</td>\n",
       "      <td>+</td>\n",
       "      <td>137798914</td>\n",
       "      <td>137800879</td>\n",
       "    </tr>\n",
       "    <tr>\n",
       "      <th>143405</th>\n",
       "      <td>chr9</td>\n",
       "      <td>137800575</td>\n",
       "      <td>137800880</td>\n",
       "      <td>9:137800575:137800880:clu_20895_+</td>\n",
       "      <td>chr9_clu_20895_+</td>\n",
       "      <td>chr9_clu_20895_+</td>\n",
       "      <td>0.76432</td>\n",
       "      <td>+</td>\n",
       "      <td>137800575</td>\n",
       "      <td>137800879</td>\n",
       "    </tr>\n",
       "    <tr>\n",
       "      <th>143406</th>\n",
       "      <td>chr9</td>\n",
       "      <td>137800984</td>\n",
       "      <td>137802409</td>\n",
       "      <td>9:137800984:137802409:clu_20894_+</td>\n",
       "      <td>chr9_clu_20894_+</td>\n",
       "      <td>chr9_clu_20894_+</td>\n",
       "      <td>0.43322</td>\n",
       "      <td>+</td>\n",
       "      <td>137800984</td>\n",
       "      <td>137802408</td>\n",
       "    </tr>\n",
       "    <tr>\n",
       "      <th>143407</th>\n",
       "      <td>chr9</td>\n",
       "      <td>137800984</td>\n",
       "      <td>137802857</td>\n",
       "      <td>9:137800984:137802857:clu_20894_+</td>\n",
       "      <td>chr9_clu_20894_+</td>\n",
       "      <td>chr9_clu_20894_+</td>\n",
       "      <td>0.43322</td>\n",
       "      <td>+</td>\n",
       "      <td>137800984</td>\n",
       "      <td>137802856</td>\n",
       "    </tr>\n",
       "    <tr>\n",
       "      <th>143408</th>\n",
       "      <td>chr9</td>\n",
       "      <td>137800984</td>\n",
       "      <td>137811461</td>\n",
       "      <td>9:137800984:137811461:clu_20894_+</td>\n",
       "      <td>chr9_clu_20894_+</td>\n",
       "      <td>chr9_clu_20894_+</td>\n",
       "      <td>0.43322</td>\n",
       "      <td>+</td>\n",
       "      <td>137800984</td>\n",
       "      <td>137811460</td>\n",
       "    </tr>\n",
       "  </tbody>\n",
       "</table>\n",
       "<p>143409 rows × 10 columns</p>\n",
       "</div>"
      ],
      "text/plain": [
       "        #Chr      start        end                                pid  \\\n",
       "0       chr1      15947      16607              1:15947:16607:clu_1_-   \n",
       "1       chr1      16310      16607              1:16310:16607:clu_1_-   \n",
       "2       chr1      17055      17915              1:17055:17915:clu_2_-   \n",
       "3       chr1      17055      17233              1:17055:17233:clu_2_-   \n",
       "4       chr1      17368      17915              1:17368:17915:clu_2_-   \n",
       "...      ...        ...        ...                                ...   \n",
       "143404  chr9  137798914  137800880  9:137798914:137800880:clu_20895_+   \n",
       "143405  chr9  137800575  137800880  9:137800575:137800880:clu_20895_+   \n",
       "143406  chr9  137800984  137802409  9:137800984:137802409:clu_20894_+   \n",
       "143407  chr9  137800984  137802857  9:137800984:137802857:clu_20894_+   \n",
       "143408  chr9  137800984  137811461  9:137800984:137811461:clu_20894_+   \n",
       "\n",
       "                     gid            grp_id        q strand   DonorPos  \\\n",
       "0           chr1_clu_1_-      chr1_clu_1_-  0.51821      -      16606   \n",
       "1           chr1_clu_1_-      chr1_clu_1_-  0.51821      -      16606   \n",
       "2           chr1_clu_2_-      chr1_clu_2_-  0.79293      -      17914   \n",
       "3           chr1_clu_2_-      chr1_clu_2_-  0.79293      -      17232   \n",
       "4           chr1_clu_2_-      chr1_clu_2_-  0.79293      -      17914   \n",
       "...                  ...               ...      ...    ...        ...   \n",
       "143404  chr9_clu_20895_+  chr9_clu_20895_+  0.76432      +  137798914   \n",
       "143405  chr9_clu_20895_+  chr9_clu_20895_+  0.76432      +  137800575   \n",
       "143406  chr9_clu_20894_+  chr9_clu_20894_+  0.43322      +  137800984   \n",
       "143407  chr9_clu_20894_+  chr9_clu_20894_+  0.43322      +  137800984   \n",
       "143408  chr9_clu_20894_+  chr9_clu_20894_+  0.43322      +  137800984   \n",
       "\n",
       "        AcceptorPos  \n",
       "0             15947  \n",
       "1             16310  \n",
       "2             17055  \n",
       "3             17055  \n",
       "4             17368  \n",
       "...             ...  \n",
       "143404    137800879  \n",
       "143405    137800879  \n",
       "143406    137802408  \n",
       "143407    137802856  \n",
       "143408    137811460  \n",
       "\n",
       "[143409 rows x 10 columns]"
      ]
     },
     "execution_count": 1,
     "metadata": {},
     "output_type": "execute_result"
    }
   ],
   "source": [
    "Merged['strand']=Merged['pid'].str[-1:]\n",
    "Merged['DonorPos']=Merged.apply(lambda x: PickArg2IfStrandNegative(x['start'], x['end']-1, x['strand']), axis=1)\n",
    "Merged['AcceptorPos']=Merged.apply(lambda x: PickArg2IfStrandNegative(x['end']-1, x['start'], x['strand']), axis=1)\n",
    "\n",
    "Merged"
   ]
  },
  {
   "cell_type": "markdown",
   "id": "challenging-feature",
   "metadata": {},
   "source": [
    "Now, I want to classify the introns by whether or not there is a test SNP near the intron boundaries... I did some careful checking of my code with the help of visualizing SNPs and splice sites in IGV, to check that this counting works as expected with regards to both plus and minus strand introns at both 5'ss and 3'ss SNPs."
   ]
  },
  {
   "cell_type": "code",
   "execution_count": 7,
   "id": "incomplete-listening",
   "metadata": {
    "execution": {
     "iopub.execute_input": "2021-09-23T15:05:40.951590Z",
     "iopub.status.busy": "2021-09-23T15:05:40.950579Z",
     "iopub.status.idle": "2021-09-23T15:08:03.786371Z",
     "shell.execute_reply": "2021-09-23T15:08:03.785374Z"
    }
   },
   "outputs": [],
   "source": [
    "vcf_reader = vcf.Reader(filename='QTLs/QTLTools/Expression.Splicing/Genotypes/WholeGenome.vcf.gz')\n",
    "\n",
    "#From -1 to 5 pos relative to donor GT: [0]G[1]T\n",
    "Merged['DonorSnpCount'] = Merged.apply(lambda x: Count_SNPs_Around_Pos(vcf_reader, x['#Chr'], x['DonorPos'], -1, 5, strand=x['strand']), axis=1)"
   ]
  },
  {
   "cell_type": "code",
   "execution_count": 8,
   "id": "metallic-explanation",
   "metadata": {
    "execution": {
     "iopub.execute_input": "2021-09-23T15:08:03.793449Z",
     "iopub.status.busy": "2021-09-23T15:08:03.792697Z",
     "iopub.status.idle": "2021-09-23T15:09:40.714975Z",
     "shell.execute_reply": "2021-09-23T15:09:40.713894Z"
    }
   },
   "outputs": [],
   "source": [
    "# From -3 position to 0 (YAG) 3'ss\n",
    "Merged['AcceptorSnpCount'] = Merged.apply(lambda x: Count_SNPs_Around_Pos(vcf_reader, x['#Chr'], x['AcceptorPos'], -3, 0, strand=x['strand']), axis=1)\n"
   ]
  },
  {
   "cell_type": "markdown",
   "id": "optical-leisure",
   "metadata": {},
   "source": [
    "Now make a column to categorize introns as having SNP in splice site or not."
   ]
  },
  {
   "cell_type": "code",
   "execution_count": 9,
   "id": "arranged-static",
   "metadata": {
    "execution": {
     "iopub.execute_input": "2021-09-23T15:09:40.721100Z",
     "iopub.status.busy": "2021-09-23T15:09:40.720145Z",
     "iopub.status.idle": "2021-09-23T15:09:40.787979Z",
     "shell.execute_reply": "2021-09-23T15:09:40.787097Z"
    }
   },
   "outputs": [],
   "source": [
    "Merged['SNP_in_SS'] = (Merged['AcceptorSnpCount'] + Merged['DonorSnpCount']) > 0"
   ]
  },
  {
   "cell_type": "markdown",
   "id": "present-citizenship",
   "metadata": {},
   "source": [
    "How many introns SNPs overlapping the splice sites?"
   ]
  },
  {
   "cell_type": "code",
   "execution_count": 10,
   "id": "cardiac-resort",
   "metadata": {
    "execution": {
     "iopub.execute_input": "2021-09-23T15:09:40.811345Z",
     "iopub.status.busy": "2021-09-23T15:09:40.810384Z",
     "iopub.status.idle": "2021-09-23T15:09:40.813640Z",
     "shell.execute_reply": "2021-09-23T15:09:40.814419Z"
    }
   },
   "outputs": [
    {
     "data": {
      "text/plain": [
       "2982"
      ]
     },
     "execution_count": 1,
     "metadata": {},
     "output_type": "execute_result"
    }
   ],
   "source": [
    "sum(Merged['SNP_in_SS'])"
   ]
  },
  {
   "cell_type": "markdown",
   "id": "e5a1543e",
   "metadata": {},
   "source": [
    "Now let's plot how many sQTLs have splice site SNPs.."
   ]
  },
  {
   "cell_type": "code",
   "execution_count": 11,
   "id": "d562faf1",
   "metadata": {
    "execution": {
     "iopub.execute_input": "2021-09-23T15:09:40.820378Z",
     "iopub.status.busy": "2021-09-23T15:09:40.819642Z",
     "iopub.status.idle": "2021-09-23T15:09:41.653483Z",
     "shell.execute_reply": "2021-09-23T15:09:41.654382Z"
    }
   },
   "outputs": [
    {
     "data": {
      "image/png": "[encoded data removed]",
      "text/plain": [
       "<Figure size 640x480 with 1 Axes>"
      ]
     },
     "metadata": {},
     "output_type": "display_data"
    },
    {
     "data": {
      "text/plain": [
       "<ggplot: (8778658572783)>"
      ]
     },
     "execution_count": 1,
     "metadata": {},
     "output_type": "execute_result"
    }
   ],
   "source": [
    "ToPlot = (Merged.filter(['q', 'gid', 'SNP_in_SS'])\n",
    "    .groupby(['gid', 'q'])\n",
    "    .agg({\"SNP_in_SS\": \"sum\"}))\n",
    "\n",
    "ToPlot = ToPlot.reset_index()\n",
    "\n",
    "\n",
    "ToPlot['IsSQTL'] = ToPlot['q'] < 0.1\n",
    "ToPlot['HasSpliceSiteSNP'] = ToPlot['SNP_in_SS'] > 0\n",
    "\n",
    "\n",
    "\n",
    "(ggplot(ToPlot, aes(x='factor(IsSQTL)', fill='factor(HasSpliceSiteSNP)'))\n",
    " + geom_bar()\n",
    " + theme_bw())"
   ]
  },
  {
   "cell_type": "code",
   "execution_count": 12,
   "id": "81e2d107",
   "metadata": {
    "execution": {
     "iopub.execute_input": "2021-09-23T15:09:41.670736Z",
     "iopub.status.busy": "2021-09-23T15:09:41.669633Z",
     "iopub.status.idle": "2021-09-23T15:09:42.118993Z",
     "shell.execute_reply": "2021-09-23T15:09:42.119643Z"
    }
   },
   "outputs": [
    {
     "data": {
      "image/png": "[encoded data removed]",
      "text/plain": [
       "<Figure size 640x480 with 1 Axes>"
      ]
     },
     "metadata": {},
     "output_type": "display_data"
    },
    {
     "data": {
      "text/plain": [
       "<ggplot: (-9223363258200113534)>"
      ]
     },
     "execution_count": 1,
     "metadata": {},
     "output_type": "execute_result"
    }
   ],
   "source": [
    "(ggplot(ToPlot, aes(x='factor(IsSQTL)', fill='factor(HasSpliceSiteSNP)'))\n",
    " + geom_bar(position=\"fill\")\n",
    " + theme_bw())"
   ]
  },
  {
   "cell_type": "markdown",
   "id": "bored-feeding",
   "metadata": {},
   "source": [
    "Finally, let's consider writing out the pertinent results, so I possibly replot in R or something, and also test having output files from my notebook that snakemake can track"
   ]
  },
  {
   "cell_type": "code",
   "execution_count": 13,
   "id": "chicken-portugal",
   "metadata": {
    "execution": {
     "iopub.execute_input": "2021-09-23T15:09:42.125468Z",
     "iopub.status.busy": "2021-09-23T15:09:42.124437Z",
     "iopub.status.idle": "2021-09-23T15:09:45.050210Z",
     "shell.execute_reply": "2021-09-23T15:09:45.051148Z"
    }
   },
   "outputs": [],
   "source": [
    "Merged.to_csv(\"QTLs/QTLTools/polyA.Splicing/PermutationPass.FDR_Added.SS_SNPs.Annotated.txt.gz\", sep=\"\\t\", index=False)"
   ]
  }
 ],
 "metadata": {
  "kernelspec": {
   "display_name": "python_from_conda_env",
   "language": "python",
   "name": "python_from_conda_env"
  },
  "language_info": {
   "codemirror_mode": {
    "name": "ipython",
    "version": 3
   },
   "file_extension": ".py",
   "mimetype": "text/x-python",
   "name": "python",
   "nbconvert_exporter": "python",
   "pygments_lexer": "ipython3",
   "version": "3.6.13"
  }
 },
 "nbformat": 4,
 "nbformat_minor": 5
}
