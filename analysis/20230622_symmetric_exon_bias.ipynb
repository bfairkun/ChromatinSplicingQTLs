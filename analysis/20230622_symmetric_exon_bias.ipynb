{
 "cells": [
  {
   "cell_type": "code",
   "execution_count": 1,
   "id": "2bed5524",
   "metadata": {},
   "outputs": [],
   "source": [
    "import numpy as np\n",
    "import pandas as pd\n",
    "import seaborn as sns\n",
    "from matplotlib import pyplot as plt\n",
    "from tqdm import tqdm"
   ]
  },
  {
   "cell_type": "code",
   "execution_count": 99,
   "id": "4bf9116b",
   "metadata": {},
   "outputs": [],
   "source": [
    "chRNA_psi = pd.read_csv('../code/QTLs/QTLTools/chRNA.Splicing/OnlyFirstReps.PSI.bed.gz', sep='\\t')"
   ]
  },
  {
   "cell_type": "code",
   "execution_count": null,
   "id": "02d85796",
   "metadata": {},
   "outputs": [],
   "source": [
    "14829"
   ]
  },
  {
   "cell_type": "code",
   "execution_count": 19,
   "id": "96ad17df",
   "metadata": {},
   "outputs": [],
   "source": [
    "\n",
    "for x in chRNA_psi.groupby('gid'):\n",
    "    if x[1].shape[0] == 2:\n",
    "        break"
   ]
  },
  {
   "cell_type": "code",
   "execution_count": 28,
   "id": "fc7b775e",
   "metadata": {},
   "outputs": [],
   "source": [
    "len_dif = []\n",
    "max_psi = []\n",
    "for x in chRNA_psi.groupby('gid'):\n",
    "    if x[1].shape[0] == 2:\n",
    "        len_dif.append(np.abs((x[1].iloc[1].end - x[1].iloc[1].start) - (x[1].iloc[0].end - x[1].iloc[0].start)))\n",
    "        psi = x[1][x[1].columns[6:]].mean(axis=1).max()\n",
    "        max_psi.append(psi)\n",
    "        \n",
    "len_dif = np.array(len_dif)\n",
    "max_psi = np.array(max_psi)"
   ]
  },
  {
   "cell_type": "code",
   "execution_count": 29,
   "id": "b6cc3939",
   "metadata": {},
   "outputs": [],
   "source": [
    "df = pd.DataFrame()\n",
    "df['len_dif'] = len_dif\n",
    "df['symmetric'] = (len_dif%3)==0\n",
    "df['max_psi'] = max_psi"
   ]
  },
  {
   "cell_type": "code",
   "execution_count": 53,
   "id": "15607787",
   "metadata": {},
   "outputs": [
    {
     "data": {
      "text/plain": [
       "0.43026941362916005"
      ]
     },
     "execution_count": 53,
     "metadata": {},
     "output_type": "execute_result"
    }
   ],
   "source": [
    "\n",
    "df.loc[(df.max_psi <= 0.6) & (df.max_psi >= 0.5)].symmetric.mean()"
   ]
  },
  {
   "cell_type": "code",
   "execution_count": 59,
   "id": "381e879c",
   "metadata": {},
   "outputs": [
    {
     "data": {
      "text/plain": [
       "[0.43026941362916005,\n",
       " 0.4587378640776699,\n",
       " 0.41524736415247365,\n",
       " 0.4157973174366617,\n",
       " 0.430062630480167,\n",
       " 0.34812112986682503]"
      ]
     },
     "execution_count": 59,
     "metadata": {},
     "output_type": "execute_result"
    }
   ],
   "source": [
    "symmetric"
   ]
  },
  {
   "cell_type": "code",
   "execution_count": 56,
   "id": "218b0aad",
   "metadata": {},
   "outputs": [],
   "source": [
    "x = np.linspace(0.6, 1, 6)\n",
    "symmetric = []\n",
    "for i in x:\n",
    "    symmetric.append(df.loc[(df.max_psi >= i-0.1) & (df.max_psi <= i)].symmetric.mean())"
   ]
  },
  {
   "cell_type": "code",
   "execution_count": 84,
   "id": "845c61d2",
   "metadata": {},
   "outputs": [],
   "source": [
    "def is_alt(df):\n",
    "    \n",
    "    cassette_list = []\n",
    "    len_dif_ = []\n",
    "    delta_psi_ = []\n",
    "    \n",
    "    samples = df.columns[6:]\n",
    "    \n",
    "    any_cassette = False\n",
    "    \n",
    "    for idx, row in df.iterrows():\n",
    "        \n",
    "        if (row[samples].isna().mean()) < 0.1:\n",
    "        \n",
    "            start = row.start\n",
    "            end = row.end\n",
    "            \n",
    "            psi = row[samples].mean()\n",
    "\n",
    "            if (np.sum(df.start == start) == 2) & (np.sum((df.start == start) & (df.end < end)) == 1):\n",
    "                I1 = df.loc[(df.start == start) & (df.end < end)]\n",
    "#                 print(I1.shape)\n",
    "                len_dif = np.abs((I1.end.iloc[0] - I1.start.iloc[0]) - (end-start))\n",
    "#                 print(len_dif)\n",
    "                I1_psi = I1[samples].mean(axis=1).iloc[0]\n",
    "                delta_psi = np.abs(psi-I1_psi)\n",
    "#                 print(delta_psi)\n",
    "                len_dif_.append(len_dif)\n",
    "                delta_psi_.append(delta_psi)\n",
    "                \n",
    "            if (np.sum(df.end == end) == 2) & (np.sum((df.end == end) & (df.start > start)) == 1):\n",
    "                I1 = df.loc[(df.end == end) & (df.start > start)]\n",
    "#                 print(I1.shape)\n",
    "                len_dif = np.abs((I1.end.iloc[0] - I1.start.iloc[0]) - (end-start))\n",
    "                I1_psi = I1[samples].mean(axis=1).iloc[0]\n",
    "                delta_psi = np.abs(psi-I1_psi)\n",
    "                \n",
    "                len_dif_.append(len_dif)\n",
    "                delta_psi_.append(delta_psi)\n",
    "#         print(len(len_dif_))\n",
    "                    \n",
    "                \n",
    "    return len_dif_, delta_psi_\n",
    "\n",
    "#     return cassette_list\n",
    "                    \n",
    "    "
   ]
  },
  {
   "cell_type": "code",
   "execution_count": 100,
   "id": "0a0ec1ff",
   "metadata": {},
   "outputs": [
    {
     "name": "stderr",
     "output_type": "stream",
     "text": [
      "100%|███████████████████████████████████████████████████████████████████████████████████████████████████████████████████████████████████████████████████| 49245/49245 [06:40<00:00, 123.02it/s]\n"
     ]
    }
   ],
   "source": [
    "len_dif = []\n",
    "delta_psi = []\n",
    "\n",
    "for x in tqdm(chRNA_psi.groupby('gid')):\n",
    "    len_dif_, delta_psi_ = is_alt(x[1])\n",
    "    len_dif.extend(len_dif_)\n",
    "    delta_psi.extend(delta_psi_)"
   ]
  },
  {
   "cell_type": "code",
   "execution_count": 101,
   "id": "145a33c5",
   "metadata": {},
   "outputs": [],
   "source": [
    "df_chRNA = pd.DataFrame()\n",
    "df_chRNA['len_dif'] = len_dif\n",
    "df_chRNA['delta_psi'] = delta_psi\n",
    "df_chRNA['symmetric'] = ((np.array(len_dif)%3)==0)"
   ]
  },
  {
   "cell_type": "code",
   "execution_count": 87,
   "id": "d19ab4e5",
   "metadata": {},
   "outputs": [],
   "source": [
    "df = pd.DataFrame()\n",
    "df['len_dif'] = len_dif\n",
    "df['delta_psi'] = delta_psi\n",
    "df['symmetric'] = ((np.array(len_dif)%3)==0)"
   ]
  },
  {
   "cell_type": "code",
   "execution_count": 117,
   "id": "8abb4bb5",
   "metadata": {},
   "outputs": [
    {
     "data": {
      "text/plain": [
       "0.3437204910292729"
      ]
     },
     "execution_count": 117,
     "metadata": {},
     "output_type": "execute_result"
    }
   ],
   "source": [
    "df.loc[(df.delta_psi < 0.01)].symmetric.mean()"
   ]
  },
  {
   "cell_type": "code",
   "execution_count": 116,
   "id": "9ce418be",
   "metadata": {},
   "outputs": [
    {
     "data": {
      "text/plain": [
       "0.3242258652094718"
      ]
     },
     "execution_count": 116,
     "metadata": {},
     "output_type": "execute_result"
    }
   ],
   "source": [
    "df_chRNA.loc[(df_chRNA.delta_psi < 0.001)].symmetric.mean()"
   ]
  },
  {
   "cell_type": "code",
   "execution_count": 109,
   "id": "fef20870",
   "metadata": {},
   "outputs": [
    {
     "data": {
      "text/plain": [
       "(array([ 8912.,  3966.,  5185.,  6532.,  7993.,  5320.,  2425.,  2163.,\n",
       "         3897., 11205.]),\n",
       " array([0. , 0.1, 0.2, 0.3, 0.4, 0.5, 0.6, 0.7, 0.8, 0.9, 1. ]),\n",
       " <BarContainer object of 10 artists>)"
      ]
     },
     "execution_count": 109,
     "metadata": {},
     "output_type": "execute_result"
    },
    {
     "data": {
      "image/png": "[encoded data removed]",
      "text/plain": [
       "<Figure size 640x480 with 1 Axes>"
      ]
     },
     "metadata": {},
     "output_type": "display_data"
    }
   ],
   "source": [
    "plt.hist(df_chRNA.delta_psi)"
   ]
  },
  {
   "cell_type": "code",
   "execution_count": 20,
   "id": "7a8cf357",
   "metadata": {},
   "outputs": [
    {
     "data": {
      "text/plain": [
       "2"
      ]
     },
     "execution_count": 20,
     "metadata": {},
     "output_type": "execute_result"
    }
   ],
   "source": [
    "(x[1].start == x[1].start.min()).sum()"
   ]
  },
  {
   "cell_type": "code",
   "execution_count": 240,
   "id": "c7c1c9a4",
   "metadata": {},
   "outputs": [],
   "source": [
    "def is_cassette(df):\n",
    "    \n",
    "    cassette_list = []\n",
    "    \n",
    "    samples = df.columns[6:]\n",
    "    \n",
    "    any_cassette = False\n",
    "    \n",
    "    for idx, row in df.iterrows():\n",
    "        \n",
    "        if (row[samples].isna().mean()) < 0.1:\n",
    "        \n",
    "            start = row.start\n",
    "            end = row.end\n",
    "\n",
    "            if np.sum(df.start == start) >= 2:\n",
    "                if np.sum(df.end == end) >= 2:\n",
    "                    if np.sum((df.start == start) & (df.end <end).sum()>=1):\n",
    "                        if np.sum((df.start > start) & (df.end == end).sum()>=1):\n",
    "                            I1 = df.loc[(df.start == start) & (df.end < end)]\n",
    "                            I2 = df.loc[(df.start > start) & (df.end == end)]\n",
    "\n",
    "                            for idx_i1, row_i1 in I1.iterrows():\n",
    "                                for idx_i2, row_i2 in I2.iterrows():\n",
    "                                    if int(row_i1.end) < (int(row_i2.start)-2):\n",
    "                                        \n",
    "                                        length = int(row_i2.start) - int(row_i1.end) - 2\n",
    "                                        \n",
    "                                        cassette = (row.pid, row_i1.pid, row_i2.pid)\n",
    "                                        \n",
    "                                        psi_dif = np.abs(row_i1[samples] - row_i2[samples])\n",
    "                                        psi_sum = (row_i1[samples] + row_i2[samples])>0\n",
    "                                        \n",
    "                                        if (np.mean(psi_dif) < 0.333) and (np.median(psi_sum)>0):\n",
    "                                        \n",
    "                                            PSI = np.mean(row_i1[samples] + row_i2[samples])\n",
    "\n",
    "                                            cassette_list.append((cassette, PSI, length))\n",
    "\n",
    "                                            any_cassette =  True\n",
    "\n",
    "    return cassette_list\n",
    "                    \n",
    "    "
   ]
  },
  {
   "cell_type": "code",
   "execution_count": 241,
   "id": "5b8a5fe3",
   "metadata": {},
   "outputs": [
    {
     "name": "stderr",
     "output_type": "stream",
     "text": [
      "100%|███████████████████████████████████████████████████████████████████████████████████████████████████████████████████████████████████████████████████| 49245/49245 [04:41<00:00, 175.06it/s]\n"
     ]
    }
   ],
   "source": [
    "cassette_list = []\n",
    "\n",
    "for x in tqdm(chRNA_psi.groupby('gid')):\n",
    "    cassette_list.extend(is_cassette(x[1]))\n"
   ]
  },
  {
   "cell_type": "code",
   "execution_count": 244,
   "id": "6bc13c7d",
   "metadata": {},
   "outputs": [],
   "source": [
    "bins_1 = []\n",
    "bins_2 = []\n",
    "bins_3 = []\n",
    "bins_4 = []\n",
    "bins_5 = []\n",
    "for exon in cassette_list:\n",
    "#     print(exon[1])\n",
    "#     print(exon[2])\n",
    "    if (exon[1] < 0.2):\n",
    "#         print('1')\n",
    "        bins_1.append(exon[2]%3==0)\n",
    "    elif (exon[1] < 0.4):\n",
    "        bins_2.append(exon[2]%3==0)\n",
    "    elif (exon[1] < 0.6):\n",
    "        bins_3.append(exon[2]%3==0)\n",
    "    elif (exon[1] < 0.8):\n",
    "        bins_4.append(exon[2]%3==0)\n",
    "    else:\n",
    "        bins_5.append(exon[2]%3==0)"
   ]
  },
  {
   "cell_type": "code",
   "execution_count": 253,
   "id": "166cabe8",
   "metadata": {},
   "outputs": [
    {
     "data": {
      "text/plain": [
       "1.148438338520983"
      ]
     },
     "execution_count": 253,
     "metadata": {},
     "output_type": "execute_result"
    }
   ],
   "source": [
    "np.mean(bins_5)/0.33"
   ]
  },
  {
   "cell_type": "code",
   "execution_count": 166,
   "id": "2ec68c6e",
   "metadata": {},
   "outputs": [],
   "source": [
    "bins_pct = [np.mean(x) for x in bins]"
   ]
  },
  {
   "cell_type": "code",
   "execution_count": 215,
   "id": "56132745",
   "metadata": {},
   "outputs": [
    {
     "data": {
      "text/plain": [
       "21956"
      ]
     },
     "execution_count": 215,
     "metadata": {},
     "output_type": "execute_result"
    }
   ],
   "source": [
    "len(cassette_list)"
   ]
  },
  {
   "cell_type": "code",
   "execution_count": 60,
   "id": "8fc85ee9",
   "metadata": {},
   "outputs": [
    {
     "name": "stderr",
     "output_type": "stream",
     "text": [
      "/tmp/ipykernel_715461/1515007243.py:9: RuntimeWarning: Mean of empty slice\n",
      "  avg_PSI = np.nanmean(I1[x[1].columns[6:]] + I2[x[1].columns[6:]], axis=1)\n"
     ]
    }
   ],
   "source": [
    "I1 = x[1].loc[(x[1].start == x[1].start.min()) & (x[1].end < x[1].end.max())]\n",
    "I2 = x[1].loc[(x[1].start > x[1].start.min()) & (x[1].end == x[1].end.max())]\n",
    "SE = x[1].loc[(x[1].start == x[1].start.min()) & (x[1].end == x[1].end.max())]\n",
    "\n",
    "length_SE = int(SE.end) - int(SE.start)\n",
    "exon_length = I2.start - I1.end\n",
    "symmetric = (exon_length%3 == 0)\n",
    "\n",
    "avg_PSI = np.nanmean(I1[x[1].columns[6:]] + I2[x[1].columns[6:]], axis=1)\n"
   ]
  },
  {
   "cell_type": "code",
   "execution_count": 65,
   "id": "15dc7730",
   "metadata": {},
   "outputs": [
    {
     "data": {
      "text/html": [
       "<div>\n",
       "<style scoped>\n",
       "    .dataframe tbody tr th:only-of-type {\n",
       "        vertical-align: middle;\n",
       "    }\n",
       "\n",
       "    .dataframe tbody tr th {\n",
       "        vertical-align: top;\n",
       "    }\n",
       "\n",
       "    .dataframe thead th {\n",
       "        text-align: right;\n",
       "    }\n",
       "</style>\n",
       "<table border=\"1\" class=\"dataframe\">\n",
       "  <thead>\n",
       "    <tr style=\"text-align: right;\">\n",
       "      <th></th>\n",
       "      <th>#Chr</th>\n",
       "      <th>start</th>\n",
       "      <th>end</th>\n",
       "      <th>pid</th>\n",
       "      <th>gid</th>\n",
       "      <th>strand</th>\n",
       "      <th>HG00096</th>\n",
       "      <th>HG00097</th>\n",
       "      <th>HG00099</th>\n",
       "      <th>HG00100</th>\n",
       "      <th>...</th>\n",
       "      <th>NA20810</th>\n",
       "      <th>NA20811</th>\n",
       "      <th>NA20812</th>\n",
       "      <th>NA20813</th>\n",
       "      <th>NA20814</th>\n",
       "      <th>NA20815</th>\n",
       "      <th>NA20816</th>\n",
       "      <th>NA20819</th>\n",
       "      <th>NA20826</th>\n",
       "      <th>NA20828</th>\n",
       "    </tr>\n",
       "  </thead>\n",
       "  <tbody>\n",
       "    <tr>\n",
       "      <th>22123</th>\n",
       "      <td>chr10</td>\n",
       "      <td>38017015</td>\n",
       "      <td>38017291</td>\n",
       "      <td>10:38017015:38017291:clu_25065_+</td>\n",
       "      <td>chr10_clu_25065_+</td>\n",
       "      <td>+</td>\n",
       "      <td>0.923080</td>\n",
       "      <td>0.8913</td>\n",
       "      <td>0.970590</td>\n",
       "      <td>0.958330</td>\n",
       "      <td>...</td>\n",
       "      <td>0.903230</td>\n",
       "      <td>0.9375</td>\n",
       "      <td>0.87879</td>\n",
       "      <td>0.926830</td>\n",
       "      <td>0.83333</td>\n",
       "      <td>0.945950</td>\n",
       "      <td>0.941180</td>\n",
       "      <td>0.913040</td>\n",
       "      <td>0.935480</td>\n",
       "      <td>0.92</td>\n",
       "    </tr>\n",
       "    <tr>\n",
       "      <th>22124</th>\n",
       "      <td>chr10</td>\n",
       "      <td>38017015</td>\n",
       "      <td>38017312</td>\n",
       "      <td>10:38017015:38017312:clu_25065_+</td>\n",
       "      <td>chr10_clu_25065_+</td>\n",
       "      <td>+</td>\n",
       "      <td>0.000000</td>\n",
       "      <td>0.0000</td>\n",
       "      <td>0.000000</td>\n",
       "      <td>0.000000</td>\n",
       "      <td>...</td>\n",
       "      <td>0.000000</td>\n",
       "      <td>0.0000</td>\n",
       "      <td>0.00000</td>\n",
       "      <td>0.000000</td>\n",
       "      <td>0.00000</td>\n",
       "      <td>0.000000</td>\n",
       "      <td>0.000000</td>\n",
       "      <td>0.000000</td>\n",
       "      <td>0.000000</td>\n",
       "      <td>0.00</td>\n",
       "    </tr>\n",
       "    <tr>\n",
       "      <th>22125</th>\n",
       "      <td>chr10</td>\n",
       "      <td>38017020</td>\n",
       "      <td>38017291</td>\n",
       "      <td>10:38017020:38017291:clu_25065_+</td>\n",
       "      <td>chr10_clu_25065_+</td>\n",
       "      <td>+</td>\n",
       "      <td>0.076923</td>\n",
       "      <td>0.1087</td>\n",
       "      <td>0.029412</td>\n",
       "      <td>0.041667</td>\n",
       "      <td>...</td>\n",
       "      <td>0.096774</td>\n",
       "      <td>0.0625</td>\n",
       "      <td>0.12121</td>\n",
       "      <td>0.073171</td>\n",
       "      <td>0.16667</td>\n",
       "      <td>0.054054</td>\n",
       "      <td>0.058824</td>\n",
       "      <td>0.086957</td>\n",
       "      <td>0.064516</td>\n",
       "      <td>0.08</td>\n",
       "    </tr>\n",
       "  </tbody>\n",
       "</table>\n",
       "<p>3 rows × 468 columns</p>\n",
       "</div>"
      ],
      "text/plain": [
       "        #Chr     start       end                               pid  \\\n",
       "22123  chr10  38017015  38017291  10:38017015:38017291:clu_25065_+   \n",
       "22124  chr10  38017015  38017312  10:38017015:38017312:clu_25065_+   \n",
       "22125  chr10  38017020  38017291  10:38017020:38017291:clu_25065_+   \n",
       "\n",
       "                     gid strand   HG00096  HG00097   HG00099   HG00100  ...  \\\n",
       "22123  chr10_clu_25065_+      +  0.923080   0.8913  0.970590  0.958330  ...   \n",
       "22124  chr10_clu_25065_+      +  0.000000   0.0000  0.000000  0.000000  ...   \n",
       "22125  chr10_clu_25065_+      +  0.076923   0.1087  0.029412  0.041667  ...   \n",
       "\n",
       "        NA20810  NA20811  NA20812   NA20813  NA20814   NA20815   NA20816  \\\n",
       "22123  0.903230   0.9375  0.87879  0.926830  0.83333  0.945950  0.941180   \n",
       "22124  0.000000   0.0000  0.00000  0.000000  0.00000  0.000000  0.000000   \n",
       "22125  0.096774   0.0625  0.12121  0.073171  0.16667  0.054054  0.058824   \n",
       "\n",
       "        NA20819   NA20826  NA20828  \n",
       "22123  0.913040  0.935480     0.92  \n",
       "22124  0.000000  0.000000     0.00  \n",
       "22125  0.086957  0.064516     0.08  \n",
       "\n",
       "[3 rows x 468 columns]"
      ]
     },
     "execution_count": 65,
     "metadata": {},
     "output_type": "execute_result"
    }
   ],
   "source": [
    "x[1]"
   ]
  },
  {
   "cell_type": "code",
   "execution_count": 68,
   "id": "44b3fe45",
   "metadata": {},
   "outputs": [
    {
     "data": {
      "text/plain": [
       "1"
      ]
     },
     "execution_count": 68,
     "metadata": {},
     "output_type": "execute_result"
    }
   ],
   "source": [
    "((x[1].start == x[1].start.min()) & (x[1].end == x[1].end.max())).sum()"
   ]
  },
  {
   "cell_type": "code",
   "execution_count": null,
   "id": "f70a98f0",
   "metadata": {},
   "outputs": [],
   "source": []
  }
 ],
 "metadata": {
  "kernelspec": {
   "display_name": "Python 3 (ipykernel)",
   "language": "python",
   "name": "python3"
  },
  "language_info": {
   "codemirror_mode": {
    "name": "ipython",
    "version": 3
   },
   "file_extension": ".py",
   "mimetype": "text/x-python",
   "name": "python",
   "nbconvert_exporter": "python",
   "pygments_lexer": "ipython3",
   "version": "3.8.8"
  }
 },
 "nbformat": 4,
 "nbformat_minor": 5
}
