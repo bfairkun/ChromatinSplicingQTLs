{
 "cells": [
  {
   "cell_type": "code",
   "execution_count": 1,
   "id": "3390ba6b",
   "metadata": {},
   "outputs": [],
   "source": [
    "import numpy as np\n",
    "import pandas as pd\n",
    "from tqdm import tqdm\n",
    "from matplotlib import pyplot as plt"
   ]
  },
  {
   "cell_type": "markdown",
   "id": "73229281",
   "metadata": {},
   "source": [
    "# Please ignore this messy notebook while I clean it up"
   ]
  },
  {
   "cell_type": "code",
   "execution_count": 3,
   "id": "0725ece1",
   "metadata": {},
   "outputs": [],
   "source": [
    "snps = pd.read_csv('../output/hyprcoloc_results/ForColoc/snpscores.txt.gz', sep='\\t')\n",
    "hyprcoloc = pd.read_csv('../output/hyprcoloc_results/ForColoc/hyprcoloc.results.txt.gz', sep='\\t')\n",
    "colocalized = pd.read_csv('../output/hyprcoloc_results/ForColoc/hyprcoloc.results.OnlyColocalized.Stats.txt.gz', sep='\\t')"
   ]
  },
  {
   "cell_type": "code",
   "execution_count": 27,
   "id": "3c4242f3",
   "metadata": {},
   "outputs": [
    {
     "data": {
      "text/plain": [
       "(69624, 4)"
      ]
     },
     "execution_count": 27,
     "metadata": {},
     "output_type": "execute_result"
    }
   ],
   "source": [
    "snps.shape"
   ]
  },
  {
   "cell_type": "code",
   "execution_count": 28,
   "id": "05e00a5c",
   "metadata": {},
   "outputs": [
    {
     "data": {
      "text/plain": [
       "(23554, 8)"
      ]
     },
     "execution_count": 28,
     "metadata": {},
     "output_type": "execute_result"
    }
   ],
   "source": [
    "hyprcoloc.shape"
   ]
  },
  {
   "cell_type": "code",
   "execution_count": 29,
   "id": "827e5d22",
   "metadata": {},
   "outputs": [
    {
     "data": {
      "text/plain": [
       "(21883, 10)"
      ]
     },
     "execution_count": 29,
     "metadata": {},
     "output_type": "execute_result"
    }
   ],
   "source": [
    "colocalized.shape"
   ]
  },
  {
   "cell_type": "code",
   "execution_count": 34,
   "id": "c4d3ba60",
   "metadata": {},
   "outputs": [
    {
     "data": {
      "text/plain": [
       "4645"
      ]
     },
     "execution_count": 34,
     "metadata": {},
     "output_type": "execute_result"
    }
   ],
   "source": [
    "len(colocalized.snp.unique())"
   ]
  },
  {
   "cell_type": "code",
   "execution_count": 35,
   "id": "300a4f22",
   "metadata": {},
   "outputs": [
    {
     "data": {
      "text/html": [
       "<div>\n",
       "<style scoped>\n",
       "    .dataframe tbody tr th:only-of-type {\n",
       "        vertical-align: middle;\n",
       "    }\n",
       "\n",
       "    .dataframe tbody tr th {\n",
       "        vertical-align: top;\n",
       "    }\n",
       "\n",
       "    .dataframe thead th {\n",
       "        text-align: right;\n",
       "    }\n",
       "</style>\n",
       "<table border=\"1\" class=\"dataframe\">\n",
       "  <thead>\n",
       "    <tr style=\"text-align: right;\">\n",
       "      <th></th>\n",
       "      <th>snp</th>\n",
       "      <th>ColocalizedCluster</th>\n",
       "      <th>FinemapPr</th>\n",
       "      <th>Locus</th>\n",
       "    </tr>\n",
       "  </thead>\n",
       "  <tbody>\n",
       "    <tr>\n",
       "      <th>0</th>\n",
       "      <td>1:97908656:C:T</td>\n",
       "      <td>1</td>\n",
       "      <td>0.974771</td>\n",
       "      <td>ENSG00000188641.14</td>\n",
       "    </tr>\n",
       "    <tr>\n",
       "      <th>1</th>\n",
       "      <td>9:37560759:G:C</td>\n",
       "      <td>1</td>\n",
       "      <td>0.140782</td>\n",
       "      <td>ENSG00000147912.13</td>\n",
       "    </tr>\n",
       "    <tr>\n",
       "      <th>2</th>\n",
       "      <td>9:37561120:C:T</td>\n",
       "      <td>1</td>\n",
       "      <td>0.140782</td>\n",
       "      <td>ENSG00000147912.13</td>\n",
       "    </tr>\n",
       "    <tr>\n",
       "      <th>3</th>\n",
       "      <td>9:37561993:C:T</td>\n",
       "      <td>1</td>\n",
       "      <td>0.140782</td>\n",
       "      <td>ENSG00000147912.13</td>\n",
       "    </tr>\n",
       "    <tr>\n",
       "      <th>4</th>\n",
       "      <td>9:37565725:A:G</td>\n",
       "      <td>1</td>\n",
       "      <td>0.140782</td>\n",
       "      <td>ENSG00000147912.13</td>\n",
       "    </tr>\n",
       "    <tr>\n",
       "      <th>...</th>\n",
       "      <td>...</td>\n",
       "      <td>...</td>\n",
       "      <td>...</td>\n",
       "      <td>...</td>\n",
       "    </tr>\n",
       "    <tr>\n",
       "      <th>69619</th>\n",
       "      <td>6:33124947:C:A</td>\n",
       "      <td>1</td>\n",
       "      <td>0.005937</td>\n",
       "      <td>ENSG00000112473.18</td>\n",
       "    </tr>\n",
       "    <tr>\n",
       "      <th>69620</th>\n",
       "      <td>6:33125047:C:T</td>\n",
       "      <td>1</td>\n",
       "      <td>0.005937</td>\n",
       "      <td>ENSG00000112473.18</td>\n",
       "    </tr>\n",
       "    <tr>\n",
       "      <th>69621</th>\n",
       "      <td>6:33125185:G:T</td>\n",
       "      <td>1</td>\n",
       "      <td>0.005937</td>\n",
       "      <td>ENSG00000112473.18</td>\n",
       "    </tr>\n",
       "    <tr>\n",
       "      <th>69622</th>\n",
       "      <td>6:33125523:A:G</td>\n",
       "      <td>1</td>\n",
       "      <td>0.005937</td>\n",
       "      <td>ENSG00000112473.18</td>\n",
       "    </tr>\n",
       "    <tr>\n",
       "      <th>69623</th>\n",
       "      <td>6:33125588:A:T</td>\n",
       "      <td>1</td>\n",
       "      <td>0.005937</td>\n",
       "      <td>ENSG00000112473.18</td>\n",
       "    </tr>\n",
       "  </tbody>\n",
       "</table>\n",
       "<p>69624 rows × 4 columns</p>\n",
       "</div>"
      ],
      "text/plain": [
       "                  snp  ColocalizedCluster  FinemapPr               Locus\n",
       "0      1:97908656:C:T                   1   0.974771  ENSG00000188641.14\n",
       "1      9:37560759:G:C                   1   0.140782  ENSG00000147912.13\n",
       "2      9:37561120:C:T                   1   0.140782  ENSG00000147912.13\n",
       "3      9:37561993:C:T                   1   0.140782  ENSG00000147912.13\n",
       "4      9:37565725:A:G                   1   0.140782  ENSG00000147912.13\n",
       "...               ...                 ...        ...                 ...\n",
       "69619  6:33124947:C:A                   1   0.005937  ENSG00000112473.18\n",
       "69620  6:33125047:C:T                   1   0.005937  ENSG00000112473.18\n",
       "69621  6:33125185:G:T                   1   0.005937  ENSG00000112473.18\n",
       "69622  6:33125523:A:G                   1   0.005937  ENSG00000112473.18\n",
       "69623  6:33125588:A:T                   1   0.005937  ENSG00000112473.18\n",
       "\n",
       "[69624 rows x 4 columns]"
      ]
     },
     "execution_count": 35,
     "metadata": {},
     "output_type": "execute_result"
    }
   ],
   "source": [
    "snps"
   ]
  },
  {
   "cell_type": "code",
   "execution_count": 44,
   "id": "8eaf0f36",
   "metadata": {},
   "outputs": [
    {
     "data": {
      "text/plain": [
       "4189"
      ]
     },
     "execution_count": 44,
     "metadata": {},
     "output_type": "execute_result"
    }
   ],
   "source": [
    "len([x for x in colocalized.snp.unique() if x in list(snps.snp)])"
   ]
  },
  {
   "cell_type": "code",
   "execution_count": 45,
   "id": "3b5934b1",
   "metadata": {},
   "outputs": [
    {
     "data": {
      "text/plain": [
       "456"
      ]
     },
     "execution_count": 45,
     "metadata": {},
     "output_type": "execute_result"
    }
   ],
   "source": [
    "4645-4189"
   ]
  },
  {
   "cell_type": "code",
   "execution_count": 6,
   "id": "b22c926e",
   "metadata": {},
   "outputs": [],
   "source": [
    "splicing_coloc_idx = colocalized.loc[[y == 'polyA.Splicing.Subset_YRI' for y in [x.split(';')[0] for x in colocalized.phenotype_full]]].index"
   ]
  },
  {
   "cell_type": "code",
   "execution_count": 15,
   "id": "36e19812",
   "metadata": {},
   "outputs": [],
   "source": [
    "def get_intron_SJ(intron):\n",
    "    intron_ = intron.split(';')[1]\n",
    "    chrom, start, end, cluster = intron_.split(':')\n",
    "    strand = cluster.split('_')[-1]\n",
    "    \n",
    "    if strand == '+':\n",
    "        ss5 = (int(start)-2, int(start)+6)\n",
    "        ss3 = (int(end)-7, int(end)+1)\n",
    "        \n",
    "    else:\n",
    "        ss5 = (int(end)-7, int(end)+1)\n",
    "        ss3 = (int(start)-2, int(start)+6)\n",
    "        \n",
    "    return chrom, strand, ss5, ss3\n",
    "\n",
    "\n",
    "def get_SJ_bed(intron_list):\n",
    "    \n",
    "    fh_5ss = open('../../hyprcoloc_5ss.bed', 'w')\n",
    "    fh_3ss = open('../../hyprcoloc_3ss.bed', 'w')\n",
    "    \n",
    "    for intron in intron_list:\n",
    "        \n",
    "        chrom, strand, ss5, ss3 = get_intron_SJ(intron)\n",
    "        \n",
    "        ss5_row = '\\t'.join(['chr' + chrom, str(ss5[0]), str(ss5[1]), intron, '.', strand]) + '\\n'\n",
    "        ss3_row = '\\t'.join(['chr' + chrom, str(ss3[0]), str(ss3[1]), intron, '.', strand]) + '\\n'\n",
    "        \n",
    "        fh_5ss.write(ss5_row)\n",
    "        fh_3ss.write(ss3_row)\n",
    "    \n",
    "        \n",
    "    "
   ]
  },
  {
   "cell_type": "code",
   "execution_count": 16,
   "id": "e62355e4",
   "metadata": {},
   "outputs": [],
   "source": [
    "get_SJ_bed(list(colocalized.loc[splicing_coloc_idx].phenotype_full.unique()))"
   ]
  },
  {
   "cell_type": "code",
   "execution_count": 17,
   "id": "b215212e",
   "metadata": {},
   "outputs": [],
   "source": [
    "def get_intron_SJ_extended(intron):\n",
    "    intron_ = intron.split(';')[1]\n",
    "    chrom, start, end, cluster = intron_.split(':')\n",
    "    strand = cluster.split('_')[-1]\n",
    "    \n",
    "    if strand == '+':\n",
    "        ss5 = (int(start)-22, int(start)+26)\n",
    "        ss3 = (int(end)-27, int(end)+21)\n",
    "        \n",
    "    else:\n",
    "        ss5 = (int(end)-27, int(end)+21)\n",
    "        ss3 = (int(start)-22, int(start)+26)\n",
    "        \n",
    "    return chrom, strand, ss5, ss3\n",
    "\n",
    "\n",
    "def get_SJ_bed_extended(intron_list):\n",
    "    \n",
    "    fh_5ss = open('../../hyprcoloc_5ss.extended.bed', 'w')\n",
    "    fh_3ss = open('../../hyprcoloc_3ss.extended.bed', 'w')\n",
    "    \n",
    "    for intron in intron_list:\n",
    "        \n",
    "        chrom, strand, ss5, ss3 = get_intron_SJ_extended(intron)\n",
    "        \n",
    "        ss5_row = '\\t'.join(['chr' + chrom, str(ss5[0]), str(ss5[1]), intron, '.', strand]) + '\\n'\n",
    "        ss3_row = '\\t'.join(['chr' + chrom, str(ss3[0]), str(ss3[1]), intron, '.', strand]) + '\\n'\n",
    "        \n",
    "        fh_5ss.write(ss5_row)\n",
    "        fh_3ss.write(ss3_row)\n",
    "    \n",
    "        \n",
    "    "
   ]
  },
  {
   "cell_type": "code",
   "execution_count": 18,
   "id": "bfe7f411",
   "metadata": {},
   "outputs": [],
   "source": [
    "get_SJ_bed_extended(list(colocalized.loc[splicing_coloc_idx].phenotype_full.unique()))"
   ]
  },
  {
   "cell_type": "code",
   "execution_count": 11,
   "id": "f5e212c7",
   "metadata": {},
   "outputs": [],
   "source": [
    "import sys\n",
    "from Bio import motifs\n",
    "from Bio.Seq import Seq\n",
    "import pandas as pd\n",
    "\n",
    "# df = pd.read_csv(MyArg1, delimiter=\"\\t\", names=['name', 'seq'])\n",
    "# df['seq'] = df['seq'].apply(Seq)\n",
    "\n",
    "# m  = motifs.create(df['seq'])\n",
    "# pwm = m.counts.normalize()\n",
    "# pssm = pwm.log_odds()\n",
    "\n",
    "# # pssm.calculate(m.consensus)\n",
    "# df['score'] = df['seq'].apply(pssm.calculate)\n",
    "\n",
    "# #df.to_csv(MyArg2, sep='\\t', header=False, index=False)"
   ]
  },
  {
   "cell_type": "code",
   "execution_count": 19,
   "id": "5c73856e",
   "metadata": {},
   "outputs": [],
   "source": [
    "df = pd.read_csv('../../hyprcoloc_5ss.sorted.tab', sep='\\t', names=['name', 'seq'])"
   ]
  },
  {
   "cell_type": "code",
   "execution_count": 20,
   "id": "50ec2472",
   "metadata": {},
   "outputs": [],
   "source": [
    "df = pd.read_csv('../../hyprcoloc_5ss.sorted.tab', sep='\\t', names=['name', 'seq'])\n",
    "\n",
    "df['seq'] = df['seq'].apply(Seq)\n",
    "\n",
    "m  = motifs.create(df['seq'])\n",
    "pwm = m.counts.normalize()\n",
    "pssm = pwm.log_odds()\n",
    "\n",
    "# pssm.calculate(m.consensus)\n",
    "df['score'] = df['seq'].apply(pssm.calculate)"
   ]
  },
  {
   "cell_type": "code",
   "execution_count": 21,
   "id": "ca0f10a5",
   "metadata": {},
   "outputs": [
    {
     "data": {
      "text/plain": [
       "0.6864564"
      ]
     },
     "execution_count": 21,
     "metadata": {},
     "output_type": "execute_result"
    }
   ],
   "source": [
    "pssm.calculate(Seq('GAGTTGGT'))"
   ]
  },
  {
   "cell_type": "code",
   "execution_count": 22,
   "id": "af089e9a",
   "metadata": {},
   "outputs": [
    {
     "data": {
      "text/plain": [
       "{'A': (0.6226315789473684,\n",
       "  0.08473684210526315,\n",
       "  0.0010526315789473684,\n",
       "  0.0005263157894736842,\n",
       "  0.5536842105263158,\n",
       "  0.6542105263157895,\n",
       "  0.08736842105263158,\n",
       "  0.1636842105263158),\n",
       " 'C': (0.11473684210526315,\n",
       "  0.026842105263157896,\n",
       "  0.0,\n",
       "  0.010526315789473684,\n",
       "  0.031578947368421054,\n",
       "  0.08947368421052632,\n",
       "  0.053157894736842105,\n",
       "  0.15),\n",
       " 'G': (0.12631578947368421,\n",
       "  0.8163157894736842,\n",
       "  0.9989473684210526,\n",
       "  0.0005263157894736842,\n",
       "  0.3736842105263158,\n",
       "  0.14894736842105263,\n",
       "  0.7805263157894737,\n",
       "  0.1994736842105263),\n",
       " 'T': (0.13631578947368422,\n",
       "  0.07210526315789474,\n",
       "  0.0,\n",
       "  0.988421052631579,\n",
       "  0.04105263157894737,\n",
       "  0.10736842105263159,\n",
       "  0.07894736842105263,\n",
       "  0.4868421052631579)}"
      ]
     },
     "execution_count": 22,
     "metadata": {},
     "output_type": "execute_result"
    }
   ],
   "source": [
    "pwm"
   ]
  },
  {
   "cell_type": "code",
   "execution_count": null,
   "id": "38755853",
   "metadata": {},
   "outputs": [],
   "source": []
  },
  {
   "cell_type": "code",
   "execution_count": 46,
   "id": "b11d509d",
   "metadata": {},
   "outputs": [],
   "source": [
    "merged_snps = colocalized.merge(snps, left_on='Locus', right_on='Locus')\n",
    "\n",
    "splicing_idx = merged_snps.loc[[y == 'polyA.Splicing.Subset_YRI' for y in [x.split(';')[0] for x in merged_snps.phenotype_full]]].index"
   ]
  },
  {
   "cell_type": "code",
   "execution_count": 47,
   "id": "86a5ca7e",
   "metadata": {},
   "outputs": [
    {
     "data": {
      "text/html": [
       "<div>\n",
       "<style scoped>\n",
       "    .dataframe tbody tr th:only-of-type {\n",
       "        vertical-align: middle;\n",
       "    }\n",
       "\n",
       "    .dataframe tbody tr th {\n",
       "        vertical-align: top;\n",
       "    }\n",
       "\n",
       "    .dataframe thead th {\n",
       "        text-align: right;\n",
       "    }\n",
       "</style>\n",
       "<table border=\"1\" class=\"dataframe\">\n",
       "  <thead>\n",
       "    <tr style=\"text-align: right;\">\n",
       "      <th></th>\n",
       "      <th>snp_x</th>\n",
       "      <th>beta</th>\n",
       "      <th>beta_se</th>\n",
       "      <th>p</th>\n",
       "      <th>Locus</th>\n",
       "      <th>phenotype_full</th>\n",
       "      <th>iteration</th>\n",
       "      <th>ColocPr</th>\n",
       "      <th>RegionalPr</th>\n",
       "      <th>TopSNPFinemapPr</th>\n",
       "      <th>snp_y</th>\n",
       "      <th>ColocalizedCluster</th>\n",
       "      <th>FinemapPr</th>\n",
       "    </tr>\n",
       "  </thead>\n",
       "  <tbody>\n",
       "    <tr>\n",
       "      <th>0</th>\n",
       "      <td>1:169950692:C:T</td>\n",
       "      <td>0.707955</td>\n",
       "      <td>0.109608</td>\n",
       "      <td>1.735140e-08</td>\n",
       "      <td>ENSG00000000457.14</td>\n",
       "      <td>MetabolicLabelled.30min;ENSG00000000457.14</td>\n",
       "      <td>1</td>\n",
       "      <td>0.8375</td>\n",
       "      <td>0.9621</td>\n",
       "      <td>0.4808</td>\n",
       "      <td>1:169950692:C:T</td>\n",
       "      <td>1</td>\n",
       "      <td>0.480820</td>\n",
       "    </tr>\n",
       "    <tr>\n",
       "      <th>1</th>\n",
       "      <td>1:169950692:C:T</td>\n",
       "      <td>0.707955</td>\n",
       "      <td>0.109608</td>\n",
       "      <td>1.735140e-08</td>\n",
       "      <td>ENSG00000000457.14</td>\n",
       "      <td>MetabolicLabelled.30min;ENSG00000000457.14</td>\n",
       "      <td>1</td>\n",
       "      <td>0.8375</td>\n",
       "      <td>0.9621</td>\n",
       "      <td>0.4808</td>\n",
       "      <td>1:169951871:ATAAT:A</td>\n",
       "      <td>1</td>\n",
       "      <td>0.480820</td>\n",
       "    </tr>\n",
       "    <tr>\n",
       "      <th>2</th>\n",
       "      <td>1:169950692:C:T</td>\n",
       "      <td>0.580269</td>\n",
       "      <td>0.114196</td>\n",
       "      <td>3.588590e-06</td>\n",
       "      <td>ENSG00000000457.14</td>\n",
       "      <td>MetabolicLabelled.60min;ENSG00000000457.14</td>\n",
       "      <td>1</td>\n",
       "      <td>0.8375</td>\n",
       "      <td>0.9621</td>\n",
       "      <td>0.4808</td>\n",
       "      <td>1:169950692:C:T</td>\n",
       "      <td>1</td>\n",
       "      <td>0.480820</td>\n",
       "    </tr>\n",
       "    <tr>\n",
       "      <th>3</th>\n",
       "      <td>1:169950692:C:T</td>\n",
       "      <td>0.580269</td>\n",
       "      <td>0.114196</td>\n",
       "      <td>3.588590e-06</td>\n",
       "      <td>ENSG00000000457.14</td>\n",
       "      <td>MetabolicLabelled.60min;ENSG00000000457.14</td>\n",
       "      <td>1</td>\n",
       "      <td>0.8375</td>\n",
       "      <td>0.9621</td>\n",
       "      <td>0.4808</td>\n",
       "      <td>1:169951871:ATAAT:A</td>\n",
       "      <td>1</td>\n",
       "      <td>0.480820</td>\n",
       "    </tr>\n",
       "    <tr>\n",
       "      <th>4</th>\n",
       "      <td>1:169692248:T:TA</td>\n",
       "      <td>-0.548874</td>\n",
       "      <td>0.087977</td>\n",
       "      <td>2.952800e-08</td>\n",
       "      <td>ENSG00000000460.17</td>\n",
       "      <td>H3K27AC;H3K27AC_peak_7161</td>\n",
       "      <td>1</td>\n",
       "      <td>0.3770</td>\n",
       "      <td>0.6895</td>\n",
       "      <td>0.2401</td>\n",
       "      <td>1:169692248:T:TA</td>\n",
       "      <td>1</td>\n",
       "      <td>0.240080</td>\n",
       "    </tr>\n",
       "    <tr>\n",
       "      <th>...</th>\n",
       "      <td>...</td>\n",
       "      <td>...</td>\n",
       "      <td>...</td>\n",
       "      <td>...</td>\n",
       "      <td>...</td>\n",
       "      <td>...</td>\n",
       "      <td>...</td>\n",
       "      <td>...</td>\n",
       "      <td>...</td>\n",
       "      <td>...</td>\n",
       "      <td>...</td>\n",
       "      <td>...</td>\n",
       "      <td>...</td>\n",
       "    </tr>\n",
       "    <tr>\n",
       "      <th>321739</th>\n",
       "      <td>11:57646470:C:G</td>\n",
       "      <td>1.013670</td>\n",
       "      <td>0.136558</td>\n",
       "      <td>2.102900e-10</td>\n",
       "      <td>ENSG00000288534.1</td>\n",
       "      <td>H3K27AC;H3K27AC_peak_16841</td>\n",
       "      <td>1</td>\n",
       "      <td>0.9258</td>\n",
       "      <td>0.9997</td>\n",
       "      <td>0.5275</td>\n",
       "      <td>11:57651876:G:T</td>\n",
       "      <td>1</td>\n",
       "      <td>0.472271</td>\n",
       "    </tr>\n",
       "    <tr>\n",
       "      <th>321740</th>\n",
       "      <td>11:57646470:C:G</td>\n",
       "      <td>1.058860</td>\n",
       "      <td>0.131536</td>\n",
       "      <td>1.478100e-11</td>\n",
       "      <td>ENSG00000288534.1</td>\n",
       "      <td>H3K27AC;H3K27AC_peak_16842</td>\n",
       "      <td>1</td>\n",
       "      <td>0.9258</td>\n",
       "      <td>0.9997</td>\n",
       "      <td>0.5275</td>\n",
       "      <td>11:57646470:C:G</td>\n",
       "      <td>1</td>\n",
       "      <td>0.527473</td>\n",
       "    </tr>\n",
       "    <tr>\n",
       "      <th>321741</th>\n",
       "      <td>11:57646470:C:G</td>\n",
       "      <td>1.058860</td>\n",
       "      <td>0.131536</td>\n",
       "      <td>1.478100e-11</td>\n",
       "      <td>ENSG00000288534.1</td>\n",
       "      <td>H3K27AC;H3K27AC_peak_16842</td>\n",
       "      <td>1</td>\n",
       "      <td>0.9258</td>\n",
       "      <td>0.9997</td>\n",
       "      <td>0.5275</td>\n",
       "      <td>11:57651876:G:T</td>\n",
       "      <td>1</td>\n",
       "      <td>0.472271</td>\n",
       "    </tr>\n",
       "    <tr>\n",
       "      <th>321742</th>\n",
       "      <td>11:57646470:C:G</td>\n",
       "      <td>0.770294</td>\n",
       "      <td>0.121887</td>\n",
       "      <td>2.117410e-08</td>\n",
       "      <td>ENSG00000288534.1</td>\n",
       "      <td>H3K4ME3;H3K4ME3_peak_9500</td>\n",
       "      <td>1</td>\n",
       "      <td>0.9258</td>\n",
       "      <td>0.9997</td>\n",
       "      <td>0.5275</td>\n",
       "      <td>11:57646470:C:G</td>\n",
       "      <td>1</td>\n",
       "      <td>0.527473</td>\n",
       "    </tr>\n",
       "    <tr>\n",
       "      <th>321743</th>\n",
       "      <td>11:57646470:C:G</td>\n",
       "      <td>0.770294</td>\n",
       "      <td>0.121887</td>\n",
       "      <td>2.117410e-08</td>\n",
       "      <td>ENSG00000288534.1</td>\n",
       "      <td>H3K4ME3;H3K4ME3_peak_9500</td>\n",
       "      <td>1</td>\n",
       "      <td>0.9258</td>\n",
       "      <td>0.9997</td>\n",
       "      <td>0.5275</td>\n",
       "      <td>11:57651876:G:T</td>\n",
       "      <td>1</td>\n",
       "      <td>0.472271</td>\n",
       "    </tr>\n",
       "  </tbody>\n",
       "</table>\n",
       "<p>321744 rows × 13 columns</p>\n",
       "</div>"
      ],
      "text/plain": [
       "                   snp_x      beta   beta_se             p  \\\n",
       "0        1:169950692:C:T  0.707955  0.109608  1.735140e-08   \n",
       "1        1:169950692:C:T  0.707955  0.109608  1.735140e-08   \n",
       "2        1:169950692:C:T  0.580269  0.114196  3.588590e-06   \n",
       "3        1:169950692:C:T  0.580269  0.114196  3.588590e-06   \n",
       "4       1:169692248:T:TA -0.548874  0.087977  2.952800e-08   \n",
       "...                  ...       ...       ...           ...   \n",
       "321739   11:57646470:C:G  1.013670  0.136558  2.102900e-10   \n",
       "321740   11:57646470:C:G  1.058860  0.131536  1.478100e-11   \n",
       "321741   11:57646470:C:G  1.058860  0.131536  1.478100e-11   \n",
       "321742   11:57646470:C:G  0.770294  0.121887  2.117410e-08   \n",
       "321743   11:57646470:C:G  0.770294  0.121887  2.117410e-08   \n",
       "\n",
       "                     Locus                              phenotype_full  \\\n",
       "0       ENSG00000000457.14  MetabolicLabelled.30min;ENSG00000000457.14   \n",
       "1       ENSG00000000457.14  MetabolicLabelled.30min;ENSG00000000457.14   \n",
       "2       ENSG00000000457.14  MetabolicLabelled.60min;ENSG00000000457.14   \n",
       "3       ENSG00000000457.14  MetabolicLabelled.60min;ENSG00000000457.14   \n",
       "4       ENSG00000000460.17                   H3K27AC;H3K27AC_peak_7161   \n",
       "...                    ...                                         ...   \n",
       "321739   ENSG00000288534.1                  H3K27AC;H3K27AC_peak_16841   \n",
       "321740   ENSG00000288534.1                  H3K27AC;H3K27AC_peak_16842   \n",
       "321741   ENSG00000288534.1                  H3K27AC;H3K27AC_peak_16842   \n",
       "321742   ENSG00000288534.1                   H3K4ME3;H3K4ME3_peak_9500   \n",
       "321743   ENSG00000288534.1                   H3K4ME3;H3K4ME3_peak_9500   \n",
       "\n",
       "        iteration  ColocPr  RegionalPr  TopSNPFinemapPr                snp_y  \\\n",
       "0               1   0.8375      0.9621           0.4808      1:169950692:C:T   \n",
       "1               1   0.8375      0.9621           0.4808  1:169951871:ATAAT:A   \n",
       "2               1   0.8375      0.9621           0.4808      1:169950692:C:T   \n",
       "3               1   0.8375      0.9621           0.4808  1:169951871:ATAAT:A   \n",
       "4               1   0.3770      0.6895           0.2401     1:169692248:T:TA   \n",
       "...           ...      ...         ...              ...                  ...   \n",
       "321739          1   0.9258      0.9997           0.5275      11:57651876:G:T   \n",
       "321740          1   0.9258      0.9997           0.5275      11:57646470:C:G   \n",
       "321741          1   0.9258      0.9997           0.5275      11:57651876:G:T   \n",
       "321742          1   0.9258      0.9997           0.5275      11:57646470:C:G   \n",
       "321743          1   0.9258      0.9997           0.5275      11:57651876:G:T   \n",
       "\n",
       "        ColocalizedCluster  FinemapPr  \n",
       "0                        1   0.480820  \n",
       "1                        1   0.480820  \n",
       "2                        1   0.480820  \n",
       "3                        1   0.480820  \n",
       "4                        1   0.240080  \n",
       "...                    ...        ...  \n",
       "321739                   1   0.472271  \n",
       "321740                   1   0.527473  \n",
       "321741                   1   0.472271  \n",
       "321742                   1   0.527473  \n",
       "321743                   1   0.472271  \n",
       "\n",
       "[321744 rows x 13 columns]"
      ]
     },
     "execution_count": 47,
     "metadata": {},
     "output_type": "execute_result"
    }
   ],
   "source": [
    "merged_snps"
   ]
  },
  {
   "cell_type": "code",
   "execution_count": 30,
   "id": "0a49ee7a",
   "metadata": {},
   "outputs": [
    {
     "data": {
      "text/plain": [
       "'polyA.Splicing.Subset_YRI;7:1936897:1940088:clu_15643_-'"
      ]
     },
     "execution_count": 30,
     "metadata": {},
     "output_type": "execute_result"
    }
   ],
   "source": [
    "merged_snps.loc[splicing_idx].head().phenotype_full.loc[66]"
   ]
  },
  {
   "cell_type": "code",
   "execution_count": 48,
   "id": "32b594b7",
   "metadata": {
    "scrolled": true
   },
   "outputs": [
    {
     "name": "stderr",
     "output_type": "stream",
     "text": [
      "  1%|          | 4/727 [00:00<01:16,  9.42it/s]"
     ]
    },
    {
     "name": "stdout",
     "output_type": "stream",
     "text": [
      "2:201141373:G:A polyA.Splicing.Subset_YRI;2:201140439:201141374:clu_6977_+\n"
     ]
    },
    {
     "name": "stderr",
     "output_type": "stream",
     "text": [
      "  1%|▏         | 10/727 [00:01<01:10, 10.24it/s]"
     ]
    },
    {
     "name": "stdout",
     "output_type": "stream",
     "text": [
      "19:41586462:A:T polyA.Splicing.Subset_YRI;19:41586195:41586464:clu_38826_+\n",
      "19:41585872:G:A polyA.Splicing.Subset_YRI;19:41585871:41586154:clu_38826_+\n",
      "19:41586462:A:T polyA.Splicing.Subset_YRI;19:41585495:41586464:clu_38826_+\n"
     ]
    },
    {
     "name": "stderr",
     "output_type": "stream",
     "text": [
      "  3%|▎         | 20/727 [00:02<01:05, 10.83it/s]"
     ]
    },
    {
     "name": "stdout",
     "output_type": "stream",
     "text": [
      "17:51166498:G:A polyA.Splicing.Subset_YRI;17:51166497:51166827:clu_35611_+\n",
      "17:51166498:G:A polyA.Splicing.Subset_YRI;17:51166497:51166827:clu_35611_+\n"
     ]
    },
    {
     "name": "stderr",
     "output_type": "stream",
     "text": [
      " 13%|█▎        | 91/727 [00:25<02:45,  3.85it/s]"
     ]
    },
    {
     "name": "stdout",
     "output_type": "stream",
     "text": [
      "20:18412855:C:T polyA.Splicing.Subset_YRI;20:18412853:18412968:clu_39398_-\n",
      "20:18412855:C:T polyA.Splicing.Subset_YRI;20:18412853:18414348:clu_39398_-\n"
     ]
    },
    {
     "name": "stderr",
     "output_type": "stream",
     "text": [
      " 13%|█▎        | 95/727 [00:27<02:42,  3.89it/s]"
     ]
    },
    {
     "name": "stdout",
     "output_type": "stream",
     "text": [
      "12:112919388:G:A polyA.Splicing.Subset_YRI;12:112917700:112919389:clu_27175_+\n"
     ]
    },
    {
     "name": "stderr",
     "output_type": "stream",
     "text": [
      " 16%|█▌        | 114/727 [00:33<04:43,  2.16it/s]"
     ]
    },
    {
     "name": "stdout",
     "output_type": "stream",
     "text": [
      "14:57481662:T:C polyA.Splicing.Subset_YRI;14:57481660:57483065:clu_29270_-\n"
     ]
    },
    {
     "name": "stderr",
     "output_type": "stream",
     "text": [
      "\r",
      " 16%|█▌        | 116/727 [00:34<04:02,  2.52it/s]"
     ]
    },
    {
     "name": "stdout",
     "output_type": "stream",
     "text": [
      "14:58456677:G:A polyA.Splicing.Subset_YRI;14:58453473:58456678:clu_28485_+\n"
     ]
    },
    {
     "name": "stderr",
     "output_type": "stream",
     "text": [
      " 21%|██        | 150/727 [00:41<02:51,  3.37it/s]"
     ]
    },
    {
     "name": "stdout",
     "output_type": "stream",
     "text": [
      "19:57492212:G:A polyA.Splicing.Subset_YRI;19:57492211:57492856:clu_39240_+\n"
     ]
    },
    {
     "name": "stderr",
     "output_type": "stream",
     "text": [
      " 25%|██▌       | 184/727 [00:54<01:49,  4.94it/s]"
     ]
    },
    {
     "name": "stdout",
     "output_type": "stream",
     "text": [
      "12:6872998:C:T polyA.Splicing.Subset_YRI;12:6872997:6873246:clu_25014_-\n",
      "12:6944654:TGGGTCAGAC:T polyA.Splicing.Subset_YRI;12:6944652:6945771:clu_26282_+\n"
     ]
    },
    {
     "name": "stderr",
     "output_type": "stream",
     "text": [
      " 28%|██▊       | 206/727 [01:04<05:24,  1.61it/s]"
     ]
    },
    {
     "name": "stdout",
     "output_type": "stream",
     "text": [
      "2:177332141:C:T polyA.Splicing.Subset_YRI;2:177323396:177332142:clu_5432_-\n"
     ]
    },
    {
     "name": "stderr",
     "output_type": "stream",
     "text": [
      " 31%|███▏      | 229/727 [01:14<03:06,  2.67it/s]"
     ]
    },
    {
     "name": "stdout",
     "output_type": "stream",
     "text": [
      "10:97679916:C:G polyA.Splicing.Subset_YRI;10:97679915:97686766:clu_22296_-\n"
     ]
    },
    {
     "name": "stderr",
     "output_type": "stream",
     "text": [
      " 36%|███▌      | 262/727 [01:23<00:47,  9.77it/s]"
     ]
    },
    {
     "name": "stdout",
     "output_type": "stream",
     "text": [
      "7:76000956:T:C polyA.Splicing.Subset_YRI;7:76000954:76003758:clu_16010_-\n"
     ]
    },
    {
     "name": "stderr",
     "output_type": "stream",
     "text": [
      " 38%|███▊      | 275/727 [01:25<01:16,  5.91it/s]"
     ]
    },
    {
     "name": "stdout",
     "output_type": "stream",
     "text": [
      "8:33513081:C:T polyA.Splicing.Subset_YRI;8:33512712:33513082:clu_17771_-\n"
     ]
    },
    {
     "name": "stderr",
     "output_type": "stream",
     "text": [
      " 42%|████▏     | 304/727 [01:32<01:40,  4.22it/s]"
     ]
    },
    {
     "name": "stdout",
     "output_type": "stream",
     "text": [
      "14:91170188:C:T polyA.Splicing.Subset_YRI;14:91170186:91173289:clu_28767_+\n"
     ]
    },
    {
     "name": "stderr",
     "output_type": "stream",
     "text": [
      " 43%|████▎     | 310/727 [01:33<01:08,  6.04it/s]"
     ]
    },
    {
     "name": "stdout",
     "output_type": "stream",
     "text": [
      "11:47237713:G:C polyA.Splicing.Subset_YRI;11:47237712:47237837:clu_24015_+\n"
     ]
    },
    {
     "name": "stderr",
     "output_type": "stream",
     "text": [
      " 44%|████▎     | 318/727 [01:34<00:58,  7.05it/s]"
     ]
    },
    {
     "name": "stdout",
     "output_type": "stream",
     "text": [
      "13:52143914:CT:C polyA.Splicing.Subset_YRI;13:52141069:52143915:clu_27668_-\n",
      "13:52143914:CT:C polyA.Splicing.Subset_YRI;13:52136902:52143916:clu_27668_-\n"
     ]
    },
    {
     "name": "stderr",
     "output_type": "stream",
     "text": [
      " 46%|████▌     | 333/727 [01:42<03:15,  2.02it/s]"
     ]
    },
    {
     "name": "stdout",
     "output_type": "stream",
     "text": [
      "2:169584491:G:A polyA.Splicing.Subset_YRI;2:169584490:169603642:clu_6756_+\n"
     ]
    },
    {
     "name": "stderr",
     "output_type": "stream",
     "text": [
      " 49%|████▊     | 354/727 [01:48<02:35,  2.40it/s]"
     ]
    },
    {
     "name": "stdout",
     "output_type": "stream",
     "text": [
      "16:24929612:C:A polyA.Splicing.Subset_YRI;16:24920260:24929613:clu_31625_-\n"
     ]
    },
    {
     "name": "stderr",
     "output_type": "stream",
     "text": [
      " 51%|█████     | 368/727 [01:50<00:32, 11.09it/s]"
     ]
    },
    {
     "name": "stdout",
     "output_type": "stream",
     "text": [
      "19:51417359:C:T polyA.Splicing.Subset_YRI;19:51417358:51417545:clu_37772_-\n"
     ]
    },
    {
     "name": "stderr",
     "output_type": "stream",
     "text": [
      " 51%|█████     | 372/727 [01:50<00:40,  8.74it/s]"
     ]
    },
    {
     "name": "stdout",
     "output_type": "stream",
     "text": [
      "1:179889309:G:A polyA.Splicing.Subset_YRI;1:179884769:179889310:clu_3820_+\n"
     ]
    },
    {
     "name": "stderr",
     "output_type": "stream",
     "text": [
      " 55%|█████▍    | 397/727 [01:56<01:34,  3.49it/s]"
     ]
    },
    {
     "name": "stdout",
     "output_type": "stream",
     "text": [
      "20:18161818:A:G polyA.Splicing.Subset_YRI;20:18159265:18161820:clu_39897_+\n"
     ]
    },
    {
     "name": "stderr",
     "output_type": "stream",
     "text": [
      " 57%|█████▋    | 416/727 [01:59<00:53,  5.86it/s]"
     ]
    },
    {
     "name": "stdout",
     "output_type": "stream",
     "text": [
      "5:83353124:G:A polyA.Splicing.Subset_YRI;5:83258677:83353125:clu_11805_+\n"
     ]
    },
    {
     "name": "stderr",
     "output_type": "stream",
     "text": [
      " 58%|█████▊    | 422/727 [02:00<00:44,  6.82it/s]"
     ]
    },
    {
     "name": "stdout",
     "output_type": "stream",
     "text": [
      "18:11905954:C:T polyA.Splicing.Subset_YRI;18:11905953:11906203:clu_36477_-\n"
     ]
    },
    {
     "name": "stderr",
     "output_type": "stream",
     "text": [
      " 60%|█████▉    | 433/727 [02:03<01:04,  4.54it/s]"
     ]
    },
    {
     "name": "stdout",
     "output_type": "stream",
     "text": [
      "8:123142457:G:T polyA.Splicing.Subset_YRI;8:123142456:123144717:clu_18966_+\n"
     ]
    },
    {
     "name": "stderr",
     "output_type": "stream",
     "text": [
      " 63%|██████▎   | 461/727 [02:08<00:35,  7.50it/s]"
     ]
    },
    {
     "name": "stdout",
     "output_type": "stream",
     "text": [
      "17:44708840:G:T polyA.Splicing.Subset_YRI;17:44708839:44709304:clu_35462_+\n"
     ]
    },
    {
     "name": "stderr",
     "output_type": "stream",
     "text": [
      " 68%|██████▊   | 493/727 [02:24<01:42,  2.29it/s]"
     ]
    },
    {
     "name": "stdout",
     "output_type": "stream",
     "text": [
      "8:99892049:T:C polyA.Splicing.Subset_YRI;8:99892047:99893639:clu_18038_-\n"
     ]
    },
    {
     "name": "stderr",
     "output_type": "stream",
     "text": [
      "\r",
      " 68%|██████▊   | 495/727 [02:24<01:06,  3.47it/s]"
     ]
    },
    {
     "name": "stdout",
     "output_type": "stream",
     "text": [
      "8:94529074:A:G polyA.Splicing.Subset_YRI;8:94527363:94529076:clu_18010_-\n"
     ]
    },
    {
     "name": "stderr",
     "output_type": "stream",
     "text": [
      " 69%|██████▉   | 505/727 [02:26<00:51,  4.32it/s]"
     ]
    },
    {
     "name": "stdout",
     "output_type": "stream",
     "text": [
      "17:54999625:G:A polyA.Splicing.Subset_YRI;17:54999451:54999626:clu_35621_+\n"
     ]
    },
    {
     "name": "stderr",
     "output_type": "stream",
     "text": [
      " 73%|███████▎  | 531/727 [02:36<00:29,  6.59it/s]"
     ]
    },
    {
     "name": "stdout",
     "output_type": "stream",
     "text": [
      "16:28835545:G:A polyA.Splicing.Subset_YRI;16:28835399:28835546:clu_32670_+\n"
     ]
    },
    {
     "name": "stderr",
     "output_type": "stream",
     "text": [
      " 75%|███████▍  | 542/727 [02:39<00:32,  5.66it/s]"
     ]
    },
    {
     "name": "stdout",
     "output_type": "stream",
     "text": [
      "5:131165058:A:C polyA.Splicing.Subset_YRI;5:131162676:131165060:clu_12933_-\n"
     ]
    },
    {
     "name": "stderr",
     "output_type": "stream",
     "text": [
      " 79%|███████▉  | 575/727 [02:48<01:39,  1.53it/s]"
     ]
    },
    {
     "name": "stdout",
     "output_type": "stream",
     "text": [
      "8:85219234:A:T polyA.Splicing.Subset_YRI;8:85217502:85219236:clu_17966_-\n"
     ]
    },
    {
     "name": "stderr",
     "output_type": "stream",
     "text": [
      " 82%|████████▏ | 594/727 [02:56<01:01,  2.16it/s]"
     ]
    },
    {
     "name": "stdout",
     "output_type": "stream",
     "text": [
      "4:168396128:C:T polyA.Splicing.Subset_YRI;4:168396127:168400826:clu_11335_-\n"
     ]
    },
    {
     "name": "stderr",
     "output_type": "stream",
     "text": [
      " 83%|████████▎ | 601/727 [02:58<00:42,  3.00it/s]"
     ]
    },
    {
     "name": "stdout",
     "output_type": "stream",
     "text": [
      "14:92121194:A:G polyA.Splicing.Subset_YRI;14:92117642:92121196:clu_29525_-\n"
     ]
    },
    {
     "name": "stderr",
     "output_type": "stream",
     "text": [
      " 85%|████████▌ | 620/727 [03:01<00:14,  7.63it/s]"
     ]
    },
    {
     "name": "stdout",
     "output_type": "stream",
     "text": [
      "6:26370605:T:G polyA.Splicing.Subset_YRI;6:26370603:26372897:clu_13495_+\n"
     ]
    },
    {
     "name": "stderr",
     "output_type": "stream",
     "text": [
      "\r",
      " 86%|████████▌ | 622/727 [03:02<00:34,  3.01it/s]"
     ]
    },
    {
     "name": "stdout",
     "output_type": "stream",
     "text": [
      "11:58610951:A:G polyA.Splicing.Subset_YRI;11:58610334:58610953:clu_24050_+\n"
     ]
    },
    {
     "name": "stderr",
     "output_type": "stream",
     "text": [
      "\r",
      " 86%|████████▌ | 623/727 [03:03<00:47,  2.18it/s]"
     ]
    },
    {
     "name": "stdout",
     "output_type": "stream",
     "text": [
      "11:61398259:C:CA polyA.Splicing.Subset_YRI;11:61397975:61398261:clu_24090_+\n"
     ]
    },
    {
     "name": "stderr",
     "output_type": "stream",
     "text": [
      " 89%|████████▉ | 646/727 [03:06<00:11,  7.25it/s]"
     ]
    },
    {
     "name": "stdout",
     "output_type": "stream",
     "text": [
      "1:207337251:G:A polyA.Splicing.Subset_YRI;1:207337250:207337329:clu_4052_+\n"
     ]
    },
    {
     "name": "stderr",
     "output_type": "stream",
     "text": [
      " 91%|█████████▏| 664/727 [03:09<00:06,  9.12it/s]"
     ]
    },
    {
     "name": "stdout",
     "output_type": "stream",
     "text": [
      "15:30937260:G:A polyA.Splicing.Subset_YRI;15:30937259:30941566:clu_30554_+\n"
     ]
    },
    {
     "name": "stderr",
     "output_type": "stream",
     "text": [
      " 96%|█████████▌| 695/727 [03:28<00:15,  2.13it/s]"
     ]
    },
    {
     "name": "stdout",
     "output_type": "stream",
     "text": [
      "17:15999502:C:A polyA.Splicing.Subset_YRI;17:15993778:15999503:clu_33655_-\n"
     ]
    },
    {
     "name": "stderr",
     "output_type": "stream",
     "text": [
      "100%|██████████| 727/727 [03:43<00:00,  3.26it/s]\n"
     ]
    }
   ],
   "source": [
    "def get_splice_junctions(intron):\n",
    "    chrom, start, end, clu = intron.split(';')[1].split(':')\n",
    "    strand = clu.split('_')[-1]\n",
    "    \n",
    "    return int(start), int(end), strand\n",
    "\n",
    "\n",
    "def isSNPinSJ(snp, intron):\n",
    "    \n",
    "    snp_pos = int(snp.split(':')[1])\n",
    "    \n",
    "    start, end, strand = get_splice_junctions(intron)\n",
    "    \n",
    "    token = False\n",
    "    token = (token or (start+1 == snp_pos))\n",
    "    token = (token or (start+2 == snp_pos))\n",
    "    token = (token or (end-1 == snp_pos))\n",
    "    token = (token or (end-2 == snp_pos))\n",
    "    \n",
    "    return token\n",
    "\n",
    "\n",
    "def isSNPnearSJ(snp, intron, window=5):\n",
    "    \n",
    "    snp_pos = int(snp.split(':')[1])\n",
    "    \n",
    "    start, end, strand = get_splice_junctions(intron)\n",
    "    \n",
    "    token = False\n",
    "    arange = np.arange(-window, window) + 1\n",
    "    for pos in arange:\n",
    "        token = (token or (start+pos == snp_pos))\n",
    "        token = (token or (end-pos == snp_pos))\n",
    "    \n",
    "    return token\n",
    "\n",
    "\n",
    "def isClusterinSJ(data, snp_x):\n",
    "    snp_x_data = data.loc[data.snp_x == snp_x]\n",
    "    \n",
    "    token = False\n",
    "    \n",
    "    snps_sj_pr = []\n",
    "    snps_no_sj_pr = []\n",
    "    betas = []\n",
    "    p = []\n",
    "    \n",
    "    for idx in snp_x_data.index:\n",
    "        intron = snp_x_data.loc[idx, 'phenotype_full']\n",
    "        snp_y = snp_x_data.loc[idx, 'snp_y']\n",
    "        locus = snp_x_data.loc[idx, 'Locus']\n",
    "        \n",
    "        token_intron = isSNPinSJ(snp_y, intron)\n",
    "        \n",
    "        if token_intron:\n",
    "            \n",
    "            print(snp_y, intron)\n",
    "            \n",
    "            betas.append(snp_x_data.loc[idx, 'beta'])\n",
    "            p.append(snp_x_data.loc[idx, 'p'])\n",
    "            snps_sj_pr.append(snps.loc[(snps.snp==snp_y) & (snps.Locus==locus)].FinemapPr)\n",
    "            \n",
    "        snps_no_sj_pr.append(snps.loc[(snps.snp==snp_y) & (snps.Locus==locus)].FinemapPr)\n",
    "        token = (token or token_intron)\n",
    "        \n",
    "    return token, betas, p, snps_sj_pr, snps_no_sj_pr\n",
    "            \n",
    "\n",
    "merged_splicing = merged_snps.loc[splicing_idx]\n",
    "\n",
    "snp_sj = []\n",
    "snp_no_sj = []\n",
    "\n",
    "beta_snp = []\n",
    "beta_no_snp = [] \n",
    "\n",
    "p_snp = []\n",
    "p_no_snp = []\n",
    "\n",
    "pr_sj = []\n",
    "pr_nosj = []\n",
    "\n",
    "for snp_x in tqdm(merged_splicing.snp_x.unique(), leave=True, position=0):\n",
    "    \n",
    "    CSJ, beta, p, sjp, nsjp = isClusterinSJ(merged_splicing, snp_x)\n",
    "    \n",
    "    if CSJ:\n",
    "        beta_snp.extend(beta)\n",
    "        p_snp.extend(p)\n",
    "        snp_sj.append(snp_x)\n",
    "        pr_sj.extend(list(sjp))\n",
    "    else:\n",
    "        beta_no_snp.extend(list(merged_splicing.loc[merged_splicing.snp_x == snp_x].beta))\n",
    "        p_no_snp.extend(list(merged_splicing.loc[merged_splicing.snp_x == snp_x].p))\n",
    "        snp_no_sj.append(snp_x)\n",
    "        pr_nosj.extend(list(nsjp))\n",
    "    \n",
    "    "
   ]
  },
  {
   "cell_type": "code",
   "execution_count": 56,
   "id": "4f30fd96",
   "metadata": {},
   "outputs": [],
   "source": [
    "df.index = [df.name[i].split('::')[0] for i in range(len(df.name))]\n",
    "df_extended.index = [df_extended.name[i].split('::')[0] for i in range(len(df_extended.name))]"
   ]
  },
  {
   "cell_type": "code",
   "execution_count": 32,
   "id": "83b0c3b8",
   "metadata": {},
   "outputs": [
    {
     "data": {
      "text/plain": [
       "name     polyA.Splicing.Subset_YRI;17:51166497:51166827...\n",
       "seq                               (C, G, G, T, A, A, G, G)\n",
       "score                                             8.417029\n",
       "Name: polyA.Splicing.Subset_YRI;17:51166497:51166827:clu_35611_+, dtype: object"
      ]
     },
     "execution_count": 32,
     "metadata": {},
     "output_type": "execute_result"
    }
   ],
   "source": [
    "df.loc['polyA.Splicing.Subset_YRI;17:51166497:51166827:clu_35611_+']"
   ]
  },
  {
   "cell_type": "code",
   "execution_count": 33,
   "id": "08b8c52f",
   "metadata": {},
   "outputs": [
    {
     "data": {
      "text/plain": [
       "'AGGTGAGT'"
      ]
     },
     "execution_count": 33,
     "metadata": {},
     "output_type": "execute_result"
    }
   ],
   "source": [
    "str(df.loc['polyA.Splicing.Subset_YRI;19:41586195:41586464:clu_38826_+'].seq)"
   ]
  },
  {
   "cell_type": "code",
   "execution_count": null,
   "id": "211b165e",
   "metadata": {},
   "outputs": [],
   "source": [
    "14:91170188:C:T polyA.Splicing.Subset_YRI;14:91170186:91173289:clu_28767_+"
   ]
  },
  {
   "cell_type": "code",
   "execution_count": 110,
   "id": "97e1a14b",
   "metadata": {},
   "outputs": [
    {
     "data": {
      "text/plain": [
       "name     polyA.Splicing.Subset_YRI;14:91170186:91173289...\n",
       "seq                               (A, G, G, C, G, G, G, T)\n",
       "score                                             2.889086\n",
       "Name: polyA.Splicing.Subset_YRI;14:91170186:91173289:clu_28767_+, dtype: object"
      ]
     },
     "execution_count": 110,
     "metadata": {},
     "output_type": "execute_result"
    }
   ],
   "source": [
    "df.loc['polyA.Splicing.Subset_YRI;14:91170186:91173289:clu_28767_+']"
   ]
  },
  {
   "cell_type": "code",
   "execution_count": 113,
   "id": "5843abf1",
   "metadata": {},
   "outputs": [
    {
     "data": {
      "text/plain": [
       "9.44214"
      ]
     },
     "execution_count": 113,
     "metadata": {},
     "output_type": "execute_result"
    }
   ],
   "source": [
    "pssm.calculate(Seq('AGGTGGGT'))"
   ]
  },
  {
   "cell_type": "code",
   "execution_count": 52,
   "id": "826ee1e5",
   "metadata": {},
   "outputs": [
    {
     "data": {
      "text/plain": [
       "{'Expression.Splicing',\n",
       " 'Expression.Splicing.Subset_YRI',\n",
       " 'H3K27AC',\n",
       " 'H3K4ME3',\n",
       " 'MetabolicLabelled.30min',\n",
       " 'MetabolicLabelled.60min',\n",
       " 'None',\n",
       " 'chRNA.Expression.Splicing',\n",
       " 'polyA.Splicing.Subset_YRI'}"
      ]
     },
     "execution_count": 52,
     "metadata": {},
     "output_type": "execute_result"
    }
   ],
   "source": [
    "set(sorted([x.split(';')[0] for x in hyprcoloc.ColocalizedTraits]))"
   ]
  },
  {
   "cell_type": "code",
   "execution_count": 9,
   "id": "f46cd769",
   "metadata": {},
   "outputs": [
    {
     "name": "stderr",
     "output_type": "stream",
     "text": [
      "100%|██████████| 727/727 [03:50<00:00,  3.16it/s]\n"
     ]
    }
   ],
   "source": [
    "snp_sj = []\n",
    "snp_no_sj = []\n",
    "\n",
    "beta_snp = []\n",
    "beta_no_snp = [] \n",
    "\n",
    "p_snp = []\n",
    "p_no_snp = []\n",
    "\n",
    "\n",
    "for snp_x in tqdm(merged_splicing.snp_x.unique(), leave=True, position=0):\n",
    "    \n",
    "    if isClusterinSJ(merged_splicing, snp_x)[0]:\n",
    "        beta_snp.extend(list(merged_splicing.loc[merged_splicing.snp_x == snp_x].beta))\n",
    "        p_snp.extend(list(merged_splicing.loc[merged_splicing.snp_x == snp_x].p))\n",
    "        snp_sj.append(snp_x)\n",
    "    else:\n",
    "        beta_no_snp.extend(list(merged_splicing.loc[merged_splicing.snp_x == snp_x].beta))\n",
    "        p_no_snp.extend(list(merged_splicing.loc[merged_splicing.snp_x == snp_x].p))\n",
    "        snp_no_sj.append(snp_x)\n",
    "    "
   ]
  },
  {
   "cell_type": "code",
   "execution_count": 10,
   "id": "4255909f",
   "metadata": {},
   "outputs": [],
   "source": [
    "counts_sj = 0\n",
    "counts_no_sj = 0\n",
    "\n",
    "for snp in snp_sj:\n",
    "    coloc = colocalized.loc[colocalized.snp==snp]\n",
    "    \n",
    "    counts_sj += np.sum([x.split(';')[0] == 'MetabolicLabelled.60min' for x in coloc.phenotype_full])\n",
    "    \n",
    "for snp in snp_no_sj:\n",
    "    coloc = colocalized.loc[colocalized.snp==snp]\n",
    "    \n",
    "    counts_no_sj += np.sum([x.split(';')[0] == 'MetabolicLabelled.60min' for x in coloc.phenotype_full])"
   ]
  },
  {
   "cell_type": "code",
   "execution_count": 11,
   "id": "d7c6aa55",
   "metadata": {},
   "outputs": [
    {
     "data": {
      "text/plain": [
       "(array([0.00861951, 0.31604884, 0.12527027, 0.09826246, 0.28559322,\n",
       "        0.30398152, 0.32466835, 0.28616786, 0.02988098, 0.        ,\n",
       "        0.05516489, 0.23215224, 0.34305665, 0.24421956, 0.19480101,\n",
       "        0.13274051, 0.29880981, 0.03620196, 0.        , 0.0183883 ]),\n",
       " array([-2.8366   , -2.5366625, -2.236725 , -1.9367875, -1.63685  ,\n",
       "        -1.3369125, -1.036975 , -0.7370375, -0.4371   , -0.1371625,\n",
       "         0.162775 ,  0.4627125,  0.76265  ,  1.0625875,  1.362525 ,\n",
       "         1.6624625,  1.9624   ,  2.2623375,  2.562275 ,  2.8622125,\n",
       "         3.16215  ]),\n",
       " <BarContainer object of 20 artists>)"
      ]
     },
     "execution_count": 11,
     "metadata": {},
     "output_type": "execute_result"
    },
    {
     "data": {
      "image/png": "[encoded data removed]",
      "text/plain": [
       "<Figure size 432x288 with 1 Axes>"
      ]
     },
     "metadata": {
      "needs_background": "light"
     },
     "output_type": "display_data"
    }
   ],
   "source": [
    "plt.hist(beta_no_snp, density=True, alpha=0.25, bins=20)\n",
    "plt.hist(beta_snp, density=True, alpha = 0.25, bins=20)"
   ]
  },
  {
   "cell_type": "code",
   "execution_count": 12,
   "id": "96f64362",
   "metadata": {},
   "outputs": [
    {
     "data": {
      "text/plain": [
       "24455"
      ]
     },
     "execution_count": 12,
     "metadata": {},
     "output_type": "execute_result"
    }
   ],
   "source": [
    "len(beta_no_snp)"
   ]
  },
  {
   "cell_type": "code",
   "execution_count": 13,
   "id": "cdbaabc2",
   "metadata": {},
   "outputs": [
    {
     "data": {
      "text/plain": [
       "(array([0.03961889, 0.06712836, 0.04541036, 0.05418531, 0.00978407,\n",
       "        0.0079852 , 0.01123193, 0.01425929, 0.00355385, 0.00140399]),\n",
       " array([ 2.65048547,  6.57881291, 10.50714034, 14.43546778, 18.36379521,\n",
       "        22.29212265, 26.22045008, 30.14877752, 34.07710495, 38.00543239,\n",
       "        41.93375982]),\n",
       " <BarContainer object of 10 artists>)"
      ]
     },
     "execution_count": 13,
     "metadata": {},
     "output_type": "execute_result"
    },
    {
     "data": {
      "image/png": "[encoded data removed]",
      "text/plain": [
       "<Figure size 432x288 with 1 Axes>"
      ]
     },
     "metadata": {
      "needs_background": "light"
     },
     "output_type": "display_data"
    }
   ],
   "source": [
    "plt.hist(-np.log10(p_no_snp), density=True, alpha=0.25)\n",
    "plt.hist(-np.log10(p_snp), density=True, alpha = 0.25)"
   ]
  },
  {
   "cell_type": "code",
   "execution_count": 14,
   "id": "b0c8d154",
   "metadata": {},
   "outputs": [
    {
     "data": {
      "text/plain": [
       "<matplotlib.collections.PathCollection at 0x7fe0d3729e80>"
      ]
     },
     "execution_count": 14,
     "metadata": {},
     "output_type": "execute_result"
    },
    {
     "data": {
      "image/png": "[encoded data removed]",
      "text/plain": [
       "<Figure size 432x288 with 1 Axes>"
      ]
     },
     "metadata": {
      "needs_background": "light"
     },
     "output_type": "display_data"
    }
   ],
   "source": [
    "plt.plot(-np.log10((np.arange(len(p_no_snp))+1)/len(p_no_snp))[::-1],\n",
    "            -np.log10((np.arange(len(p_no_snp))+1)/len(p_no_snp))[::-1], 'r--')\n",
    "\n",
    "plt.scatter(-np.log10((np.arange(len(p_snp))+1)/len(p_snp))[::-1],\n",
    "            sorted(-np.log10(p_snp)))\n",
    "plt.scatter(-np.log10((np.arange(len(p_no_snp))+1)/len(p_no_snp))[::-1],\n",
    "            sorted(-np.log10(p_no_snp)))"
   ]
  },
  {
   "cell_type": "code",
   "execution_count": 6,
   "id": "cb608e31",
   "metadata": {},
   "outputs": [],
   "source": [
    "import sys\n",
    "from Bio import motifs\n",
    "from Bio.Seq import Seq\n",
    "import pandas as pd\n",
    "\n",
    "# I like to script and debug with an interactive interpreter. If using\n",
    "# interactive interpreter to script quick args with sys.argv, parse_args with\n",
    "# hardcoded args below\n",
    "if hasattr(sys, 'ps1'):\n",
    "    sys.argv = [\"\", \"../../../bjf79/20211209_JingxinRNAseq/code/SplicingAnalysis/leafcutter/JuncfilesMerged.annotated.basic.bed.5ss.tab\",\n",
    "                \"../../../bjf79/20211209_JingxinRNAseq/code/SplicingAnalysis/leafcutter/JuncfilesMerged.annotated.basic.bed.5ss.tab.gz\"\n",
    "               ]\n",
    "\n",
    "_, MyArg1, MyArg2 = sys.argv\n",
    "\n",
    "df = pd.read_csv(MyArg1, delimiter=\"\\t\", names=['name', 'seq'])\n",
    "df['seq'] = df['seq'].apply(Seq)\n",
    "\n",
    "m  = motifs.create(df['seq'])\n",
    "pwm = m.counts.normalize()\n",
    "pssm = pwm.log_odds()\n",
    "\n",
    "# pssm.calculate(m.consensus)\n",
    "df['score'] = df['seq'].apply(pssm.calculate)\n",
    "\n",
    "#df.to_csv(MyArg2, sep='\\t', header=False, index=False)"
   ]
  },
  {
   "cell_type": "code",
   "execution_count": 12,
   "id": "f5e4abae",
   "metadata": {},
   "outputs": [
    {
     "data": {
      "text/plain": [
       "<Bio.motifs.Motif at 0x7f5268663640>"
      ]
     },
     "execution_count": 12,
     "metadata": {},
     "output_type": "execute_result"
    }
   ],
   "source": [
    "m"
   ]
  },
  {
   "cell_type": "code",
   "execution_count": 1,
   "id": "1d4844f3",
   "metadata": {},
   "outputs": [],
   "source": [
    "from platform import python_version"
   ]
  },
  {
   "cell_type": "code",
   "execution_count": 125,
   "id": "de34e6c1",
   "metadata": {},
   "outputs": [
    {
     "data": {
      "text/plain": [
       "['22', '50526017', 'A', 'T']"
      ]
     },
     "execution_count": 125,
     "metadata": {},
     "output_type": "execute_result"
    }
   ],
   "source": [
    "snp_x.split(':')"
   ]
  },
  {
   "cell_type": "code",
   "execution_count": 75,
   "id": "9747feca",
   "metadata": {},
   "outputs": [
    {
     "name": "stderr",
     "output_type": "stream",
     "text": [
      "  2%|▏         | 18/727 [00:00<00:04, 166.72it/s]"
     ]
    },
    {
     "name": "stdout",
     "output_type": "stream",
     "text": [
      "+\n",
      "GCCCAGAT\n",
      "2\n",
      "G\n",
      "19:41585872:G:A\n"
     ]
    },
    {
     "name": "stderr",
     "output_type": "stream",
     "text": [
      "  7%|▋         | 49/727 [00:00<00:06, 98.91it/s] "
     ]
    },
    {
     "name": "stdout",
     "output_type": "stream",
     "text": [
      "-\n",
      "AAGGTCCT\n",
      "4\n",
      "C\n",
      "10:100986746:C:T\n",
      "-\n",
      "GAGGTCCT\n",
      "4\n",
      "C\n",
      "10:100986746:C:T\n",
      "-\n",
      "AAGGTCAC\n",
      "4\n",
      "C\n",
      "10:100986746:C:T\n"
     ]
    },
    {
     "name": "stderr",
     "output_type": "stream",
     "text": [
      " 10%|█         | 74/727 [00:00<00:08, 80.24it/s]"
     ]
    },
    {
     "name": "stdout",
     "output_type": "stream",
     "text": [
      "+\n",
      "CCTCAGAC\n",
      "7\n",
      "A\n",
      "6:30061395:A:AG\n",
      "-\n",
      "AACGTCTT\n",
      "0\n",
      "C\n",
      "16:1772796:C:CACCT\n",
      "-\n",
      "AACGTCTT\n",
      "4\n",
      "C\n",
      "16:1772796:C:CACCT\n",
      "-\n",
      "GACGTCTG\n",
      "1\n",
      "T\n",
      "1:1231507:T:C\n"
     ]
    },
    {
     "name": "stderr",
     "output_type": "stream",
     "text": [
      " 13%|█▎        | 98/727 [00:01<00:06, 92.48it/s]"
     ]
    },
    {
     "name": "stdout",
     "output_type": "stream",
     "text": [
      "-\n",
      "AAAGTCCG\n",
      "5\n",
      "T\n",
      "20:56388683:T:G\n",
      "-\n",
      "GCCGTCGA\n",
      "6\n",
      "C\n",
      "14:24441004:C:A\n",
      "-\n",
      "GAGATCGT\n",
      "5\n",
      "T\n",
      "14:24441767:T:G\n"
     ]
    },
    {
     "name": "stderr",
     "output_type": "stream",
     "text": [
      " 17%|█▋        | 127/727 [00:01<00:05, 102.85it/s]"
     ]
    },
    {
     "name": "stdout",
     "output_type": "stream",
     "text": [
      "-\n",
      "GCCGTCGA\n",
      "5\n",
      "G\n",
      "14:24441670:G:A\n",
      "+\n",
      "TTACAGAA\n",
      "1\n",
      "G\n",
      "14:96379755:G:A\n"
     ]
    },
    {
     "name": "stderr",
     "output_type": "stream",
     "text": [
      " 23%|██▎       | 164/727 [00:01<00:06, 89.12it/s] "
     ]
    },
    {
     "name": "stdout",
     "output_type": "stream",
     "text": [
      "+\n",
      "TGTCAGGT\n",
      "2\n",
      "G\n",
      "19:57492212:G:A\n"
     ]
    },
    {
     "name": "stderr",
     "output_type": "stream",
     "text": [
      " 25%|██▌       | 185/727 [00:01<00:05, 91.84it/s]"
     ]
    },
    {
     "name": "stdout",
     "output_type": "stream",
     "text": [
      "+\n",
      "TCACAGGC\n",
      "4\n",
      "G\n",
      "11:33655063:G:A\n"
     ]
    },
    {
     "name": "stderr",
     "output_type": "stream",
     "text": [
      " 31%|███       | 224/727 [00:02<00:06, 79.70it/s]"
     ]
    },
    {
     "name": "stdout",
     "output_type": "stream",
     "text": [
      "-\n",
      "AAAGTCGT\n",
      "2\n",
      "C\n",
      "2:177332141:C:T\n",
      "+\n",
      "CTCTAGCA\n",
      "6\n",
      "G\n",
      "1:117060566:G:T\n",
      "+\n",
      "TTTCAGGC\n",
      "0\n",
      "A\n",
      "1:99975068:A:G\n",
      "-\n",
      "GAGGTCCC\n",
      "7\n",
      "G\n",
      "14:74297633:G:A\n"
     ]
    },
    {
     "name": "stderr",
     "output_type": "stream",
     "text": [
      " 38%|███▊      | 277/727 [00:03<00:04, 109.95it/s]"
     ]
    },
    {
     "name": "stdout",
     "output_type": "stream",
     "text": [
      "+\n",
      "CCCTAGGT\n",
      "0\n",
      "G\n",
      "17:42288996:G:A\n",
      "+\n",
      "CTATAGTG\n",
      "0\n",
      "G\n",
      "17:4819581:G:A\n",
      "-\n",
      "AAAATCAA\n",
      "2\n",
      "C\n",
      "8:33513081:C:T\n"
     ]
    },
    {
     "name": "stderr",
     "output_type": "stream",
     "text": [
      " 44%|████▍     | 322/727 [00:03<00:03, 130.15it/s]"
     ]
    },
    {
     "name": "stdout",
     "output_type": "stream",
     "text": [
      "+\n",
      "TTCTAGGT\n",
      "7\n",
      "C\n",
      "14:91204873:C:T\n",
      "+\n",
      "TCCTAGGC\n",
      "2\n",
      "G\n",
      "11:47237713:G:C\n",
      "-\n",
      "TATGTCGG\n",
      "1\n",
      "G\n",
      "18:36781799:G:C\n"
     ]
    },
    {
     "name": "stderr",
     "output_type": "stream",
     "text": [
      " 48%|████▊     | 349/727 [00:03<00:03, 106.03it/s]"
     ]
    },
    {
     "name": "stdout",
     "output_type": "stream",
     "text": [
      "+\n",
      "CTATAGGA\n",
      "4\n",
      "T\n",
      "1:78628396:T:A\n",
      "+\n",
      "TTCTAGGA\n",
      "2\n",
      "G\n",
      "2:169584491:G:A\n",
      "-\n",
      "GGTGTCTA\n",
      "0\n",
      "T\n",
      "15:74837752:T:C\n",
      "-\n",
      "CAGGTCTG\n",
      "2\n",
      "C\n",
      "16:24929612:C:A\n"
     ]
    },
    {
     "name": "stderr",
     "output_type": "stream",
     "text": [
      " 58%|█████▊    | 424/727 [00:04<00:02, 135.31it/s]"
     ]
    },
    {
     "name": "stdout",
     "output_type": "stream",
     "text": [
      "-\n",
      "GACATCTA\n",
      "6\n",
      "C\n",
      "14:77457090:C:G\n",
      "+\n",
      "CTTTAGAA\n",
      "1\n",
      "G\n",
      "5:96740783:G:A\n",
      "+\n",
      "ATTTAGTG\n",
      "2\n",
      "G\n",
      "8:123142457:G:T\n"
     ]
    },
    {
     "name": "stderr",
     "output_type": "stream",
     "text": [
      " 66%|██████▋   | 483/727 [00:04<00:01, 129.27it/s]"
     ]
    },
    {
     "name": "stdout",
     "output_type": "stream",
     "text": [
      "+\n",
      "TCTCAGGA\n",
      "2\n",
      "G\n",
      "17:44708840:G:T\n",
      "+\n",
      "TTTTAGGG\n",
      "0\n",
      "G\n",
      "1:74733530:G:A\n",
      "+\n",
      "TCTCAGGT\n",
      "4\n",
      "G\n",
      "2:218697954:G:A\n"
     ]
    },
    {
     "name": "stderr",
     "output_type": "stream",
     "text": [
      " 70%|██████▉   | 508/727 [00:05<00:02, 79.36it/s] "
     ]
    },
    {
     "name": "stdout",
     "output_type": "stream",
     "text": [
      "-\n",
      "AAAGTCCC\n",
      "3\n",
      "A\n",
      "8:94529074:A:G\n",
      "+\n",
      "TTACAGTT\n",
      "1\n",
      "G\n",
      "7:128477173:G:A\n"
     ]
    },
    {
     "name": "stderr",
     "output_type": "stream",
     "text": [
      " 73%|███████▎  | 532/727 [00:05<00:02, 90.08it/s]"
     ]
    },
    {
     "name": "stdout",
     "output_type": "stream",
     "text": [
      "-\n",
      "AAAGTCCT\n",
      "1\n",
      "C\n",
      "18:74260915:C:T\n",
      "+\n",
      "TTACAGCC\n",
      "7\n",
      "G\n",
      "1:39026408:G:T\n"
     ]
    },
    {
     "name": "stderr",
     "output_type": "stream",
     "text": [
      " 77%|███████▋  | 563/727 [00:05<00:01, 112.78it/s]"
     ]
    },
    {
     "name": "stdout",
     "output_type": "stream",
     "text": [
      "+\n",
      "TTTAAGAT\n",
      "0\n",
      "G\n",
      "2:63842598:G:A\n",
      "+\n",
      "GCGCAGGC\n",
      "5\n",
      "A\n",
      "19:54200892:A:C\n",
      "+\n",
      "GCGCAGGC\n",
      "0\n",
      "A\n",
      "19:54200892:A:C\n",
      "-\n",
      "AAAATCCA\n",
      "0\n",
      "C\n",
      "10:45672399:C:T\n"
     ]
    },
    {
     "name": "stderr",
     "output_type": "stream",
     "text": [
      " 83%|████████▎ | 601/727 [00:06<00:01, 92.84it/s] "
     ]
    },
    {
     "name": "stdout",
     "output_type": "stream",
     "text": [
      "-\n",
      "AAGATCCT\n",
      "7\n",
      "A\n",
      "11:796037:A:G\n"
     ]
    },
    {
     "name": "stderr",
     "output_type": "stream",
     "text": [
      " 87%|████████▋ | 630/727 [00:06<00:00, 104.18it/s]"
     ]
    },
    {
     "name": "stdout",
     "output_type": "stream",
     "text": [
      "-\n",
      "AAGGTCGT\n",
      "6\n",
      "C\n",
      "12:132141098:C:T\n",
      "+\n",
      "TTTTAGAG\n",
      "0\n",
      "G\n",
      "14:103136303:G:A\n",
      "+\n",
      "TCGCAGAC\n",
      "3\n",
      "T\n",
      "6:26370605:T:G\n",
      "+\n",
      "TGACAGGT\n",
      "1\n",
      "A\n",
      "2:190195364:A:G\n",
      "+\n",
      "TTTAAGGC\n",
      "4\n",
      "C\n",
      "19:37507050:C:A\n"
     ]
    },
    {
     "name": "stderr",
     "output_type": "stream",
     "text": [
      " 92%|█████████▏| 668/727 [00:06<00:00, 140.31it/s]"
     ]
    },
    {
     "name": "stdout",
     "output_type": "stream",
     "text": [
      "+\n",
      "TTACAGCA\n",
      "2\n",
      "G\n",
      "1:207337251:G:A\n",
      "+\n",
      "GCACAGAT\n",
      "2\n",
      "G\n",
      "15:30937260:G:A\n",
      "-\n",
      "GGGGTCTG\n",
      "7\n",
      "A\n",
      "6:32949265:A:C\n"
     ]
    },
    {
     "name": "stderr",
     "output_type": "stream",
     "text": [
      "\r",
      " 94%|█████████▍| 683/727 [00:06<00:00, 89.28it/s] "
     ]
    },
    {
     "name": "stdout",
     "output_type": "stream",
     "text": [
      "-\n",
      "GGGGTCCT\n",
      "4\n",
      "C\n",
      "6:31592788:C:T\n",
      "-\n",
      "GTGGTCCG\n",
      "4\n",
      "C\n",
      "6:31592788:C:T\n",
      "-\n",
      "AAAGTCTA\n",
      "7\n",
      "G\n",
      "12:92432904:G:A\n",
      "-\n",
      "GATGTCTA\n",
      "7\n",
      "G\n",
      "12:92432904:G:A\n"
     ]
    },
    {
     "name": "stderr",
     "output_type": "stream",
     "text": [
      " 97%|█████████▋| 705/727 [00:07<00:00, 68.27it/s]"
     ]
    },
    {
     "name": "stdout",
     "output_type": "stream",
     "text": [
      "-\n",
      "AATGTCAA\n",
      "2\n",
      "C\n",
      "17:15999502:C:A\n"
     ]
    },
    {
     "name": "stderr",
     "output_type": "stream",
     "text": [
      "100%|██████████| 727/727 [00:07<00:00, 96.90it/s]"
     ]
    },
    {
     "name": "stdout",
     "output_type": "stream",
     "text": [
      "+\n",
      "TTTCAGGC\n",
      "0\n",
      "A\n",
      "1:99975068:A:G\n"
     ]
    },
    {
     "name": "stderr",
     "output_type": "stream",
     "text": [
      "\n"
     ]
    }
   ],
   "source": [
    "def get_splice_junctions(intron):\n",
    "    chrom, start, end, clu = intron.split(';')[1].split(':')\n",
    "    strand = clu.split('_')[-1]\n",
    "    \n",
    "    return int(start), int(end), strand\n",
    "\n",
    "\n",
    "def isSNPin5SS(snp, intron):\n",
    "    \n",
    "    snp_pos = int(snp.split(':')[1])\n",
    "    \n",
    "    start, end, strand = get_splice_junctions(intron)\n",
    "    \n",
    "    if strand == '+':\n",
    "        N1 = start -1\n",
    "        N2 = start\n",
    "        G = start + 1\n",
    "        T = start + 2\n",
    "        N3 = start + 3\n",
    "        N4 = start + 4\n",
    "        N5 = start + 5\n",
    "        N6 = start + 6\n",
    "    else:\n",
    "        N1 = end +1\n",
    "        N2 = end +0\n",
    "        G = end -1\n",
    "        T = end -2\n",
    "        N3 = end -3\n",
    "        N4 = end -4\n",
    "        N5 = end -5\n",
    "        N6 = end - 6\n",
    "        \n",
    "    seq = str(df.loc[intron].seq)\n",
    "    \n",
    "    count = 0\n",
    "    count_err = 0\n",
    "    if snp_pos == N1:\n",
    "#         print(intron)\n",
    "#         print(seq)\n",
    "        count += 1\n",
    "        x, count_err = mutate(seq, 0, snp, strand, count_err)\n",
    "#         print('')\n",
    "    if snp_pos == N2:\n",
    "#         print(intron)\n",
    "#         print(seq)\n",
    "        count += 1\n",
    "        x, count_err = mutate(seq, 1, snp, strand, count_err)\n",
    "#         print('')\n",
    "    if snp_pos == G:\n",
    "#         print(intron)\n",
    "#         print(seq)\n",
    "        count += 1\n",
    "        x, count_err = mutate(seq, 2, snp, strand, count_err)\n",
    "#         print('')\n",
    "    if snp_pos == T:\n",
    "#         print(intron)\n",
    "#         print(seq)\n",
    "        count += 1\n",
    "        x, count_err = mutate(seq, 3, snp, strand, count_err)\n",
    "#         print('')\n",
    "    if snp_pos == N3:\n",
    "#         print(intron)\n",
    "#         print(seq)\n",
    "        count += 1\n",
    "        x, count_err = mutate(seq, 4, snp, strand, count_err)\n",
    "#         print('')\n",
    "    if snp_pos == N4:\n",
    "#         print(intron)\n",
    "#         print(seq)\n",
    "        count += 1\n",
    "        x, count_err = mutate(seq, 5, snp, strand, count_err)\n",
    "#         print('')\n",
    "    if snp_pos == N5:\n",
    "#         print(intron)\n",
    "#         print(seq)\n",
    "        count += 1\n",
    "        x, count_err = mutate(seq, 6, snp, strand, count_err)\n",
    "#         print('')\n",
    "    if snp_pos == N6:\n",
    "#         print(intron)\n",
    "#         print(seq)\n",
    "        count += 1\n",
    "        x, count_err = mutate(seq, 7, snp, strand, count_err)\n",
    "#         print('')\n",
    "\n",
    "    return count, count_err\n",
    "        \n",
    "\n",
    "def mutate(seq, pos, snp, strand, err_count):\n",
    "    \n",
    "    chrom, position, original, new = snp.split(':')\n",
    "    \n",
    "    if len(original) > 1:\n",
    "        return 0,0\n",
    "    \n",
    "    if strand == '-':\n",
    "        seq = get_neg_nucleotide(seq)#[::-1]\n",
    "    \n",
    "#     if strand == '+':\n",
    "        \n",
    "#     print(seq)\n",
    "#     print(seq[pos])\n",
    "#     print(pos)\n",
    "#     print(original)\n",
    "#     print(snp)\n",
    "    if not seq[pos] == original:\n",
    "        err_count += 1\n",
    "        print(strand)\n",
    "        print(seq)\n",
    "        print(pos)\n",
    "        print(original)\n",
    "        print(snp)\n",
    "\n",
    "    nuc = list(seq)\n",
    "    nuc[pos] = new\n",
    "\n",
    "    mutated_seq = ''.join(nuc)\n",
    "        \n",
    "#     else:\n",
    "#         print(seq)\n",
    "#         print(seq[pos])\n",
    "#         print(pos)\n",
    "#         print(original)\n",
    "#         print(get_neg_nucleotide(original))\n",
    "#         print(snp)\n",
    "#         if not seq[pos] == get_neg_nucleotide(original):\n",
    "#             print('warning')\n",
    "        \n",
    "#         nuc = list(seq)\n",
    "#         nuc[pos] = get_neg_nucleotide(original[::-1])\n",
    "#         mutated_seq = ''.join(nuc)\n",
    "        \n",
    "    return mutated_seq, err_count\n",
    "        \n",
    "    \n",
    "def get_neg_nucleotide(S):\n",
    "    new_S = ''\n",
    "    for i in range(len(S)):\n",
    "        N = S[i]\n",
    "        if N == 'A':\n",
    "            new_S += 'T'\n",
    "        elif N == 'T':\n",
    "            new_S += 'A'\n",
    "        elif N == 'G':\n",
    "            new_S += 'C'\n",
    "        elif N == 'C':\n",
    "            new_S += 'G'\n",
    "    return new_S\n",
    "            \n",
    "\n",
    "\n",
    "\n",
    "def isClusterinSJ(data, snp_x):\n",
    "    snp_x_data = data.loc[data.snp_x == snp_x]\n",
    "    \n",
    "    token = False\n",
    "    \n",
    "    snps_sj_pr = []\n",
    "    snps_no_sj_pr = []\n",
    "    betas = []\n",
    "    p = []\n",
    "    \n",
    "    count = 0\n",
    "    count_err = 0\n",
    "    \n",
    "    for idx in snp_x_data.index:\n",
    "        intron = snp_x_data.loc[idx, 'phenotype_full']\n",
    "        snp_y = snp_x_data.loc[idx, 'snp_y']\n",
    "        locus = snp_x_data.loc[idx, 'Locus']\n",
    "        \n",
    "        x, y = isSNPin5SS(snp_y, intron)\n",
    "        \n",
    "        count += x\n",
    "        count_err += y\n",
    "    return count, count_err\n",
    "\n",
    "merged_splicing = merged_snps.loc[splicing_idx]\n",
    "\n",
    "count = 0\n",
    "count_err = 0\n",
    "\n",
    "for snp_x in tqdm(merged_splicing.snp_x.unique(), leave=True, position=0):\n",
    "    \n",
    "    x, y = isClusterinSJ(merged_splicing, snp_x)\n",
    "    \n",
    "    count += x\n",
    "    count_err += y\n",
    "    "
   ]
  },
  {
   "cell_type": "code",
   "execution_count": 76,
   "id": "90e2fd13",
   "metadata": {},
   "outputs": [
    {
     "data": {
      "text/plain": [
       "87"
      ]
     },
     "execution_count": 76,
     "metadata": {},
     "output_type": "execute_result"
    }
   ],
   "source": [
    "count"
   ]
  },
  {
   "cell_type": "code",
   "execution_count": 77,
   "id": "340daf8b",
   "metadata": {},
   "outputs": [
    {
     "data": {
      "text/plain": [
       "58"
      ]
     },
     "execution_count": 77,
     "metadata": {},
     "output_type": "execute_result"
    }
   ],
   "source": [
    "count_err"
   ]
  },
  {
   "cell_type": "code",
   "execution_count": 85,
   "id": "6606cf48",
   "metadata": {},
   "outputs": [],
   "source": [
    "df_extended = pd.read_csv('../../hyprcoloc_5ss.extended.sorted.tab', sep='\\t', names=['name', 'seq'])\n",
    "\n",
    "df_extended['seq'] = df_extended['seq'].apply(Seq)\n",
    "\n",
    "# m  = motifs.create(df_extended['seq'])\n",
    "# pwm = m.counts.normalize()\n",
    "# pssm = pwm.log_odds()\n",
    "\n",
    "# # pssm.calculate(m.consensus)\n",
    "# df_extended['score'] = df_extended['seq'].apply(pssm.calculate)"
   ]
  },
  {
   "cell_type": "code",
   "execution_count": 239,
   "id": "4a41d069",
   "metadata": {},
   "outputs": [
    {
     "data": {
      "text/html": [
       "<div>\n",
       "<style scoped>\n",
       "    .dataframe tbody tr th:only-of-type {\n",
       "        vertical-align: middle;\n",
       "    }\n",
       "\n",
       "    .dataframe tbody tr th {\n",
       "        vertical-align: top;\n",
       "    }\n",
       "\n",
       "    .dataframe thead th {\n",
       "        text-align: right;\n",
       "    }\n",
       "</style>\n",
       "<table border=\"1\" class=\"dataframe\">\n",
       "  <thead>\n",
       "    <tr style=\"text-align: right;\">\n",
       "      <th></th>\n",
       "      <th>name</th>\n",
       "      <th>seq</th>\n",
       "      <th>score</th>\n",
       "    </tr>\n",
       "  </thead>\n",
       "  <tbody>\n",
       "    <tr>\n",
       "      <th>0</th>\n",
       "      <td>polyA.Splicing.Subset_YRI;1:1228946:1231507:cl...</td>\n",
       "      <td>(A, C, C, G, C, G, T, G, G, A, C, C, C, T, C, ...</td>\n",
       "      <td>4.496214</td>\n",
       "    </tr>\n",
       "    <tr>\n",
       "      <th>1</th>\n",
       "      <td>polyA.Splicing.Subset_YRI;1:1228946:1231892:cl...</td>\n",
       "      <td>(C, C, G, A, G, C, G, C, G, G, G, G, A, G, G, ...</td>\n",
       "      <td>11.314877</td>\n",
       "    </tr>\n",
       "    <tr>\n",
       "      <th>2</th>\n",
       "      <td>polyA.Splicing.Subset_YRI;1:1703995:1704223:cl...</td>\n",
       "      <td>(G, A, G, C, C, A, C, G, C, C, G, G, C, A, T, ...</td>\n",
       "      <td>11.265045</td>\n",
       "    </tr>\n",
       "    <tr>\n",
       "      <th>3</th>\n",
       "      <td>polyA.Splicing.Subset_YRI;1:1704146:1704223:cl...</td>\n",
       "      <td>(G, A, G, C, C, A, C, G, C, C, G, G, C, A, T, ...</td>\n",
       "      <td>11.265045</td>\n",
       "    </tr>\n",
       "    <tr>\n",
       "      <th>4</th>\n",
       "      <td>polyA.Splicing.Subset_YRI;1:1721711:1722588:cl...</td>\n",
       "      <td>(T, T, T, G, T, A, C, T, T, C, C, A, A, A, T, ...</td>\n",
       "      <td>8.836535</td>\n",
       "    </tr>\n",
       "    <tr>\n",
       "      <th>...</th>\n",
       "      <td>...</td>\n",
       "      <td>...</td>\n",
       "      <td>...</td>\n",
       "    </tr>\n",
       "    <tr>\n",
       "      <th>1895</th>\n",
       "      <td>polyA.Splicing.Subset_YRI;9:133352142:13335244...</td>\n",
       "      <td>(A, T, C, T, T, C, A, T, T, G, A, T, G, C, C, ...</td>\n",
       "      <td>-0.513433</td>\n",
       "    </tr>\n",
       "    <tr>\n",
       "      <th>1896</th>\n",
       "      <td>polyA.Splicing.Subset_YRI;9:136362180:13636348...</td>\n",
       "      <td>(C, C, A, G, C, T, C, G, T, C, T, A, C, A, C, ...</td>\n",
       "      <td>9.002316</td>\n",
       "    </tr>\n",
       "    <tr>\n",
       "      <th>1897</th>\n",
       "      <td>polyA.Splicing.Subset_YRI;9:137111754:13711194...</td>\n",
       "      <td>(T, C, A, C, T, G, A, C, G, A, G, C, T, C, C, ...</td>\n",
       "      <td>2.439559</td>\n",
       "    </tr>\n",
       "    <tr>\n",
       "      <th>1898</th>\n",
       "      <td>polyA.Splicing.Subset_YRI;9:137728529:13774339...</td>\n",
       "      <td>(G, C, C, A, C, C, A, C, A, A, A, A, T, C, A, ...</td>\n",
       "      <td>7.242187</td>\n",
       "    </tr>\n",
       "    <tr>\n",
       "      <th>1899</th>\n",
       "      <td>polyA.Splicing.Subset_YRI;9:137738779:13774337...</td>\n",
       "      <td>(C, G, G, G, G, A, C, A, C, T, G, T, G, C, C, ...</td>\n",
       "      <td>6.087198</td>\n",
       "    </tr>\n",
       "  </tbody>\n",
       "</table>\n",
       "<p>1900 rows × 3 columns</p>\n",
       "</div>"
      ],
      "text/plain": [
       "                                                   name  \\\n",
       "0     polyA.Splicing.Subset_YRI;1:1228946:1231507:cl...   \n",
       "1     polyA.Splicing.Subset_YRI;1:1228946:1231892:cl...   \n",
       "2     polyA.Splicing.Subset_YRI;1:1703995:1704223:cl...   \n",
       "3     polyA.Splicing.Subset_YRI;1:1704146:1704223:cl...   \n",
       "4     polyA.Splicing.Subset_YRI;1:1721711:1722588:cl...   \n",
       "...                                                 ...   \n",
       "1895  polyA.Splicing.Subset_YRI;9:133352142:13335244...   \n",
       "1896  polyA.Splicing.Subset_YRI;9:136362180:13636348...   \n",
       "1897  polyA.Splicing.Subset_YRI;9:137111754:13711194...   \n",
       "1898  polyA.Splicing.Subset_YRI;9:137728529:13774339...   \n",
       "1899  polyA.Splicing.Subset_YRI;9:137738779:13774337...   \n",
       "\n",
       "                                                    seq      score  \n",
       "0     (A, C, C, G, C, G, T, G, G, A, C, C, C, T, C, ...   4.496214  \n",
       "1     (C, C, G, A, G, C, G, C, G, G, G, G, A, G, G, ...  11.314877  \n",
       "2     (G, A, G, C, C, A, C, G, C, C, G, G, C, A, T, ...  11.265045  \n",
       "3     (G, A, G, C, C, A, C, G, C, C, G, G, C, A, T, ...  11.265045  \n",
       "4     (T, T, T, G, T, A, C, T, T, C, C, A, A, A, T, ...   8.836535  \n",
       "...                                                 ...        ...  \n",
       "1895  (A, T, C, T, T, C, A, T, T, G, A, T, G, C, C, ...  -0.513433  \n",
       "1896  (C, C, A, G, C, T, C, G, T, C, T, A, C, A, C, ...   9.002316  \n",
       "1897  (T, C, A, C, T, G, A, C, G, A, G, C, T, C, C, ...   2.439559  \n",
       "1898  (G, C, C, A, C, C, A, C, A, A, A, A, T, C, A, ...   7.242187  \n",
       "1899  (C, G, G, G, G, A, C, A, C, T, G, T, G, C, C, ...   6.087198  \n",
       "\n",
       "[1900 rows x 3 columns]"
      ]
     },
     "execution_count": 239,
     "metadata": {},
     "output_type": "execute_result"
    }
   ],
   "source": [
    "df_extended"
   ]
  },
  {
   "cell_type": "code",
   "execution_count": 46,
   "id": "803764dc",
   "metadata": {},
   "outputs": [
    {
     "data": {
      "text/plain": [
       "<matplotlib.collections.PathCollection at 0x7f387adda100>"
      ]
     },
     "execution_count": 46,
     "metadata": {},
     "output_type": "execute_result"
    },
    {
     "data": {
      "image/png": "[encoded data removed]",
      "text/plain": [
       "<Figure size 432x288 with 1 Axes>"
      ]
     },
     "metadata": {
      "needs_background": "light"
     },
     "output_type": "display_data"
    }
   ],
   "source": [
    "plt.scatter(df.score, df_extended.score)"
   ]
  },
  {
   "cell_type": "code",
   "execution_count": 88,
   "id": "90777275",
   "metadata": {},
   "outputs": [
    {
     "name": "stderr",
     "output_type": "stream",
     "text": [
      "  4%|▎         | 26/727 [00:00<00:05, 128.58it/s]"
     ]
    },
    {
     "name": "stdout",
     "output_type": "stream",
     "text": [
      "11:3361740:T:G\n",
      "TGGTAATC\n",
      "4.9489336\n",
      "TGGTCATC\n",
      "0.81690526\n",
      "\n",
      "19:41585872:G:A\n",
      "AGGTAAGA\n",
      "10.571796\n",
      "AGATAAGA\n",
      "0.68153226\n",
      "\n",
      "17:51166498:G:A\n",
      "CGGTAAGG\n",
      "8.417029\n",
      "CGATAAGG\n",
      "-1.4732345\n",
      "\n",
      "17:51166498:G:A\n",
      "CGGTAAGG\n",
      "8.417029\n",
      "CGATAAGG\n",
      "-1.4732345\n",
      "\n"
     ]
    },
    {
     "name": "stderr",
     "output_type": "stream",
     "text": [
      "  7%|▋         | 48/727 [00:00<00:09, 68.95it/s] "
     ]
    },
    {
     "name": "stdout",
     "output_type": "stream",
     "text": [
      "4:25160758:G:T\n",
      "AGGTACGT\n",
      "9.274116\n",
      "AGGTACTT\n",
      "5.9686313\n",
      "\n",
      "10:100986746:C:T\n",
      "AGGTGCAA\n",
      "3.9750698\n",
      "AGGTACAA\n",
      "4.5423136\n",
      "\n",
      "10:100986746:C:T\n",
      "AGGTGCAA\n",
      "3.9750698\n",
      "AGGTACAA\n",
      "4.5423136\n",
      "\n",
      "10:100986746:C:T\n",
      "AGGTGCAA\n",
      "3.9750698\n",
      "AGGTACAA\n",
      "4.5423136\n",
      "\n"
     ]
    },
    {
     "name": "stderr",
     "output_type": "stream",
     "text": [
      "  9%|▉         | 66/727 [00:01<00:15, 41.31it/s]"
     ]
    },
    {
     "name": "stdout",
     "output_type": "stream",
     "text": [
      "\n",
      "this will fail\n",
      "A\n",
      "A\n",
      "6:30061395:A:AG\n",
      "7\n",
      "6:30061395:A:AG\n",
      "AGGCAGGA\n",
      "1.883791\n",
      "AGGCAGGA\n",
      "1.883791\n",
      "\n",
      "\n",
      "this will fail\n",
      "seriously\n",
      "C\n",
      "C\n",
      "GTCCACGCACG\n",
      "16:1772796:C:CACCT\n",
      "GCGTGCAC\n",
      "-3.3787844\n",
      "CCGCCCCT\n",
      "-12.653665\n",
      "\n",
      "\n",
      "this will fail\n",
      "seriously\n",
      "C\n",
      "C\n",
      "GTCCACGCACG\n",
      "16:1772796:C:CACCT\n",
      "AGGTGCGT\n",
      "8.706872\n",
      "CCGCAGGT\n",
      "-3.9102778\n",
      "\n"
     ]
    },
    {
     "name": "stderr",
     "output_type": "stream",
     "text": [
      " 11%|█▏        | 82/727 [00:01<00:13, 49.16it/s]"
     ]
    },
    {
     "name": "stdout",
     "output_type": "stream",
     "text": [
      "1:1231507:T:C\n",
      "CAGTTAGT\n",
      "2.6827025\n",
      "CGGTTAGT\n",
      "5.9507685\n",
      "\n"
     ]
    },
    {
     "name": "stderr",
     "output_type": "stream",
     "text": [
      " 13%|█▎        | 95/727 [00:01<00:12, 49.81it/s]"
     ]
    },
    {
     "name": "stdout",
     "output_type": "stream",
     "text": [
      "20:56388683:T:G\n",
      "AGGTGACT\n",
      "7.701\n",
      "AGGTGCCT\n",
      "4.8307805\n",
      "\n"
     ]
    },
    {
     "name": "stderr",
     "output_type": "stream",
     "text": [
      " 16%|█▌        | 117/727 [00:02<00:12, 48.25it/s]"
     ]
    },
    {
     "name": "stdout",
     "output_type": "stream",
     "text": [
      "14:24441004:C:A\n",
      "AGGTGAGG\n",
      "10.289836\n",
      "AGGTGATG\n",
      "6.9843516\n",
      "\n",
      "14:24441767:T:G\n",
      "AGGTAATC\n",
      "7.14036\n",
      "AGGTACTC\n",
      "4.27014\n",
      "\n",
      "14:24441768:T:A\n",
      "AGGTAATC\n",
      "7.14036\n",
      "AGGTTATC\n",
      "3.386843\n",
      "\n",
      "14:24441670:G:A\n",
      "AGGTACGC\n",
      "7.5756245\n",
      "AGGTATGC\n",
      "7.838659\n",
      "\n"
     ]
    },
    {
     "name": "stderr",
     "output_type": "stream",
     "text": [
      " 18%|█▊        | 134/727 [00:02<00:10, 57.45it/s]"
     ]
    },
    {
     "name": "stdout",
     "output_type": "stream",
     "text": [
      "14:96379755:G:A\n",
      "AGGTACTG\n",
      "4.681376\n",
      "AAGTACTG\n",
      "1.4133099\n",
      "\n"
     ]
    },
    {
     "name": "stderr",
     "output_type": "stream",
     "text": [
      " 22%|██▏       | 157/727 [00:02<00:11, 48.38it/s]"
     ]
    },
    {
     "name": "stdout",
     "output_type": "stream",
     "text": [
      "19:57492212:G:A\n",
      "AGGTAGTT\n",
      "6.703899\n",
      "AGATAGTT\n",
      "-3.1863654\n",
      "\n"
     ]
    },
    {
     "name": "stderr",
     "output_type": "stream",
     "text": [
      " 24%|██▍       | 173/727 [00:03<00:11, 49.50it/s]"
     ]
    },
    {
     "name": "stdout",
     "output_type": "stream",
     "text": [
      "7:43656029:C:T\n",
      "TGGTAGGG\n",
      "6.5307016\n",
      "TGGTAAGG\n",
      "8.665654\n",
      "\n",
      "7:43656029:C:T\n",
      "TGGTAGGG\n",
      "6.5307016\n",
      "TGGTAAGG\n",
      "8.665654\n",
      "\n",
      "11:33655063:G:A\n",
      "AAGTGAAG\n",
      "3.8625064\n",
      "AAGTAAAG\n",
      "4.4297504\n",
      "\n"
     ]
    },
    {
     "name": "stderr",
     "output_type": "stream",
     "text": [
      " 25%|██▌       | 185/727 [00:03<00:11, 47.36it/s]"
     ]
    },
    {
     "name": "stdout",
     "output_type": "stream",
     "text": [
      "\n",
      "this will fail\n",
      "TGGGTCAGAC\n",
      "TGGGTCAGAC\n",
      "12:6944654:TGGGTCAGAC:T\n",
      "3\n",
      "12:6944654:TGGGTCAGAC:T\n",
      "AGGTGGGT\n",
      "9.44214\n",
      "AGGTGCGG\n",
      "7.419616\n",
      "\n"
     ]
    },
    {
     "name": "stderr",
     "output_type": "stream",
     "text": [
      " 30%|██▉       | 216/727 [00:04<00:11, 45.90it/s]"
     ]
    },
    {
     "name": "stdout",
     "output_type": "stream",
     "text": [
      "2:177332141:C:T\n",
      "CTGTAAGT\n",
      "6.2033343\n",
      "CTATAAGT\n",
      "-3.68693\n",
      "\n",
      "1:117060566:G:T\n",
      "AGGTCTGG\n",
      "4.117866\n",
      "AGGTCTTG\n",
      "0.812382\n",
      "\n"
     ]
    },
    {
     "name": "stderr",
     "output_type": "stream",
     "text": [
      " 31%|███       | 227/727 [00:04<00:11, 42.92it/s]"
     ]
    },
    {
     "name": "stdout",
     "output_type": "stream",
     "text": [
      "1:99975068:A:G\n",
      "AAGTAGGT\n",
      "6.741317\n",
      "GAGTAGGT\n",
      "4.4399734\n",
      "\n",
      "14:74297633:G:A\n",
      "CCGTGAGC\n",
      "2.5119925\n",
      "CCGTGAGT\n",
      "4.210484\n",
      "\n",
      "14:73922205:T:C\n",
      "TGGTAAGA\n",
      "8.38037\n",
      "CGGTAAGA\n",
      "8.131746\n",
      "\n"
     ]
    },
    {
     "name": "stderr",
     "output_type": "stream",
     "text": [
      " 38%|███▊      | 277/727 [00:05<00:05, 79.31it/s]"
     ]
    },
    {
     "name": "stdout",
     "output_type": "stream",
     "text": [
      "17:42288996:G:A\n",
      "GGGTTGGA\n",
      "2.3819838\n",
      "AGGTTGGA\n",
      "4.6833277\n",
      "\n",
      "17:4819581:G:A\n",
      "GGGTAGAG\n",
      "3.2615204\n",
      "AGGTAGAG\n",
      "5.562864\n",
      "\n",
      "14:20345130:G:A\n",
      "TGGTAGGA\n",
      "6.245418\n",
      "TGGTAAGA\n",
      "8.38037\n",
      "\n",
      "14:20413368:T:C\n",
      "AGGTAGGG\n",
      "8.722128\n",
      "AGGTGGGG\n",
      "8.154883\n",
      "\n",
      "8:33513081:C:T\n",
      "AGGTACCT\n",
      "5.398024\n",
      "AGATACCT\n",
      "-4.49224\n",
      "\n"
     ]
    },
    {
     "name": "stderr",
     "output_type": "stream",
     "text": [
      " 41%|████▏     | 300/727 [00:05<00:04, 89.27it/s]"
     ]
    },
    {
     "name": "stdout",
     "output_type": "stream",
     "text": [
      "1:40041496:A:G\n",
      "AGGTATGT\n",
      "9.53715\n",
      "AGGTGTGT\n",
      "8.969906\n",
      "\n",
      "1:40041496:A:G\n",
      "AGGTATGT\n",
      "9.53715\n",
      "AGGTGTGT\n",
      "8.969906\n",
      "\n",
      "14:91204873:C:T\n",
      "GGGTGAGC\n",
      "7.577256\n",
      "GGGTGAGT\n",
      "9.275748\n",
      "\n"
     ]
    },
    {
     "name": "stderr",
     "output_type": "stream",
     "text": [
      " 44%|████▍     | 322/727 [00:05<00:04, 90.54it/s]"
     ]
    },
    {
     "name": "stdout",
     "output_type": "stream",
     "text": [
      "14:91170188:C:T\n",
      "AGGCGGGT\n",
      "2.889086\n",
      "AGGTGGGT\n",
      "9.44214\n",
      "\n",
      "11:47237713:G:C\n",
      "AGGTGTGA\n",
      "7.3973675\n",
      "AGCTGTGA\n",
      "-inf\n",
      "\n",
      "18:36781799:G:C\n",
      "CCGTAAGT\n",
      "4.7777276\n",
      "CGGTAAGT\n",
      "9.704286\n",
      "\n",
      "\n",
      "this will fail\n",
      "seriously\n",
      "CA\n",
      "CT\n",
      "TTTTTCATTCTT\n",
      "13:52143914:CT:C\n",
      "AAGTAAGA\n",
      "7.3037305\n",
      "ATTTTTTG\n",
      "-inf\n",
      "\n",
      "\n",
      "this will fail\n",
      "seriously\n",
      "CA\n",
      "CT\n",
      "TTTTTCATTCTT\n",
      "13:52143914:CT:C\n",
      "AAAGTAAG\n",
      "-20.089012\n",
      "ATTTTTGG\n",
      "-inf\n",
      "\n"
     ]
    },
    {
     "name": "stderr",
     "output_type": "stream",
     "text": [
      " 47%|████▋     | 343/727 [00:05<00:05, 72.05it/s]"
     ]
    },
    {
     "name": "stdout",
     "output_type": "stream",
     "text": [
      "1:78628396:T:A\n",
      "AGGTTTGT\n",
      "5.783633\n",
      "AGGTATGT\n",
      "9.53715\n",
      "\n",
      "2:169584491:G:A\n",
      "AGGTAAGT\n",
      "12.144336\n",
      "AGATAAGT\n",
      "2.254071\n",
      "\n"
     ]
    },
    {
     "name": "stderr",
     "output_type": "stream",
     "text": [
      " 50%|████▉     | 360/727 [00:06<00:05, 69.55it/s]"
     ]
    },
    {
     "name": "stdout",
     "output_type": "stream",
     "text": [
      "15:74837752:T:C\n",
      "AGGTCAAG\n",
      "3.565788\n",
      "AGGTCAGG\n",
      "6.7250514\n",
      "\n",
      "15:74837752:T:C\n",
      "AGGTGGGC\n",
      "7.7436476\n",
      "GGGTGGGC\n",
      "5.442304\n",
      "\n",
      "16:24929612:C:A\n",
      "AGGTCTGT\n",
      "5.405122\n",
      "AGTTCTGT\n",
      "-inf\n",
      "\n",
      "16:89909088:G:A\n",
      "AGGTGCGA\n",
      "7.134333\n",
      "AGGTGCAA\n",
      "3.9750698\n",
      "\n",
      "17:55787659:A:G\n",
      "CCGTGAAT\n",
      "1.0512204\n",
      "CCGTGAGT\n",
      "4.210484\n",
      "\n"
     ]
    },
    {
     "name": "stderr",
     "output_type": "stream",
     "text": [
      " 55%|█████▍    | 397/727 [00:06<00:03, 91.86it/s]"
     ]
    },
    {
     "name": "stdout",
     "output_type": "stream",
     "text": [
      "6:13307592:C:T\n",
      "AAGTAGGT\n",
      "6.741317\n",
      "AAGTAAGT\n",
      "8.876269\n",
      "\n",
      "14:77457090:C:G\n",
      "CAGTAGGT\n",
      "4.3012667\n",
      "CAGTAGCT\n",
      "0.42517546\n",
      "\n"
     ]
    },
    {
     "name": "stderr",
     "output_type": "stream",
     "text": [
      " 59%|█████▉    | 429/727 [00:06<00:03, 94.12it/s]"
     ]
    },
    {
     "name": "stdout",
     "output_type": "stream",
     "text": [
      "5:96740783:G:A\n",
      "CGGTGAGT\n",
      "9.137041\n",
      "CAGTGAGT\n",
      "5.8689756\n",
      "\n",
      "8:123142457:G:T\n",
      "AGGTAAAA\n",
      "7.4125333\n",
      "AGTTAAAA\n",
      "-inf\n",
      "\n"
     ]
    },
    {
     "name": "stderr",
     "output_type": "stream",
     "text": [
      " 65%|██████▌   | 476/727 [00:07<00:02, 102.21it/s]"
     ]
    },
    {
     "name": "stdout",
     "output_type": "stream",
     "text": [
      "17:44708840:G:T\n",
      "GGGTACGG\n",
      "5.6855164\n",
      "GGTTACGG\n",
      "-inf\n",
      "\n",
      "1:74733530:G:A\n",
      "GGGTGGTC\n",
      "2.1368198\n",
      "AGGTGGTC\n",
      "4.4381638\n",
      "\n",
      "2:218697954:G:A\n",
      "AGGTGTCT\n",
      "5.093815\n",
      "AGGTATCT\n",
      "5.661059\n",
      "\n"
     ]
    },
    {
     "name": "stderr",
     "output_type": "stream",
     "text": [
      " 70%|██████▉   | 506/727 [00:08<00:03, 61.21it/s] "
     ]
    },
    {
     "name": "stdout",
     "output_type": "stream",
     "text": [
      "8:94529074:A:G\n",
      "AGGTGAAG\n",
      "7.130573\n",
      "AGGCGAAG\n",
      "0.57751936\n",
      "\n",
      "7:128477173:G:A\n",
      "AGGTGCGC\n",
      "7.0083804\n",
      "AAGTGCGC\n",
      "3.7403145\n",
      "\n"
     ]
    },
    {
     "name": "stderr",
     "output_type": "stream",
     "text": [
      " 72%|███████▏  | 522/727 [00:08<00:03, 53.50it/s]"
     ]
    },
    {
     "name": "stdout",
     "output_type": "stream",
     "text": [
      "18:74260915:C:T\n",
      "CGGTAAGT\n",
      "9.704286\n",
      "CAGTAAGT\n",
      "6.436219\n",
      "\n",
      "19:52414373:A:G\n",
      "AGGTGTAT\n",
      "5.8106427\n",
      "AGGTGTGT\n",
      "8.969906\n",
      "\n",
      "17:5111073:T:A\n",
      "CTGTATGT\n",
      "3.5961492\n",
      "CTGTTTGT\n",
      "-0.1573676\n",
      "\n"
     ]
    },
    {
     "name": "stderr",
     "output_type": "stream",
     "text": [
      " 75%|███████▍  | 542/727 [00:08<00:02, 69.89it/s]"
     ]
    },
    {
     "name": "stdout",
     "output_type": "stream",
     "text": [
      "4:40235364:T:C\n",
      "AGGTGGGT\n",
      "9.44214\n",
      "AGGTGGGC\n",
      "7.7436476\n",
      "\n",
      "1:39026408:G:T\n",
      "AGGTAGGG\n",
      "8.722128\n",
      "AGGTAGGT\n",
      "10.009383\n",
      "\n",
      "5:131165058:A:C\n",
      "AGGTGGGT\n",
      "9.44214\n",
      "AGGGGGGT\n",
      "-1.4328421\n",
      "\n",
      "2:63842598:G:A\n",
      "GGGTGGGT\n",
      "7.140795\n",
      "AGGTGGGT\n",
      "9.44214\n",
      "\n",
      "19:54200892:A:C\n",
      "AGGTGAGG\n",
      "10.289836\n",
      "AGGTGCGG\n",
      "7.419616\n",
      "\n",
      "19:54200892:A:C\n",
      "AGGTGCGG\n",
      "7.419616\n",
      "CGGTGCGG\n",
      "4.9795666\n",
      "\n",
      "10:45672399:C:T\n",
      "GGGTACGC\n",
      "5.2742805\n",
      "AGGTACGC\n",
      "7.5756245\n",
      "\n"
     ]
    },
    {
     "name": "stderr",
     "output_type": "stream",
     "text": [
      " 81%|████████  | 586/727 [00:09<00:02, 68.03it/s]"
     ]
    },
    {
     "name": "stdout",
     "output_type": "stream",
     "text": [
      "8:85219234:A:T\n",
      "AGGTAAAA\n",
      "7.4125333\n",
      "AGGAAAAA\n",
      "-3.4624484\n",
      "\n",
      "11:796037:A:G\n",
      "CGGTGGGT\n",
      "7.002089\n",
      "CGGTGGGC\n",
      "5.303598\n",
      "\n"
     ]
    },
    {
     "name": "stderr",
     "output_type": "stream",
     "text": [
      " 85%|████████▌ | 620/727 [00:09<00:01, 82.41it/s]"
     ]
    },
    {
     "name": "stdout",
     "output_type": "stream",
     "text": [
      "14:92121194:A:G\n",
      "ATGTGCTT\n",
      "1.9004369\n",
      "ATGCGCTT\n",
      "-4.6526165\n",
      "\n",
      "12:132141098:C:T\n",
      "CAGTGCGT\n",
      "2.9987557\n",
      "CAGTGCAT\n",
      "-0.16050766\n",
      "\n",
      "14:103136303:G:A\n",
      "GGGTCAGA\n",
      "4.1384244\n",
      "AGGTCAGA\n",
      "6.4397683\n",
      "\n"
     ]
    },
    {
     "name": "stderr",
     "output_type": "stream",
     "text": [
      " 89%|████████▊ | 645/727 [00:09<00:00, 88.43it/s]"
     ]
    },
    {
     "name": "stdout",
     "output_type": "stream",
     "text": [
      "6:26370605:T:G\n",
      "AGGTCAGT\n",
      "8.012307\n",
      "AGGGCAGT\n",
      "-2.8626745\n",
      "\n",
      "2:190195364:A:G\n",
      "CAGTAAGA\n",
      "4.8636804\n",
      "CGGTAAGA\n",
      "8.131746\n",
      "\n",
      "19:14594687:G:A\n",
      "AGGTGAGA\n",
      "10.004553\n",
      "AGGTGAAA\n",
      "6.845289\n",
      "\n",
      "19:37507050:C:A\n",
      "CGGTCAAA\n",
      "0.8404547\n",
      "CGGTAAAA\n",
      "4.972483\n",
      "\n",
      "1:207337251:G:A\n",
      "ACGTAAGT\n",
      "7.2177777\n",
      "ACATAAGT\n",
      "-2.6724865\n",
      "\n"
     ]
    },
    {
     "name": "stderr",
     "output_type": "stream",
     "text": [
      " 92%|█████████▏| 671/727 [00:10<00:00, 104.28it/s]"
     ]
    },
    {
     "name": "stdout",
     "output_type": "stream",
     "text": [
      "15:30937260:G:A\n",
      "AGGTATGG\n",
      "8.249894\n",
      "AGATATGG\n",
      "-1.6403697\n",
      "\n",
      "6:32949265:A:C\n",
      "TGGTATGT\n",
      "7.345724\n",
      "TGGTATGG\n",
      "6.0584683\n",
      "\n",
      "6:31592788:C:T\n",
      "TAGTGAGT\n",
      "6.1175995\n",
      "TAGTAAGT\n",
      "6.684843\n",
      "\n",
      "6:31592788:C:T\n",
      "TAGTGAGT\n",
      "6.1175995\n",
      "TAGTAAGT\n",
      "6.684843\n",
      "\n",
      "12:92432904:G:A\n",
      "CTGTGAGC\n",
      "3.9375992\n",
      "CTGTGAGT\n",
      "5.6360908\n",
      "\n",
      "12:92432904:G:A\n",
      "CTGTGAGC\n",
      "3.9375992\n",
      "CTGTGAGT\n",
      "5.6360908\n",
      "\n"
     ]
    },
    {
     "name": "stderr",
     "output_type": "stream",
     "text": [
      " 95%|█████████▌| 692/727 [00:10<00:00, 44.91it/s] "
     ]
    },
    {
     "name": "stdout",
     "output_type": "stream",
     "text": [
      "17:15999502:C:A\n",
      "AGGTCGTG\n",
      "1.2846149\n",
      "AGGTCTTG\n",
      "0.812382\n",
      "\n",
      "17:15999502:C:A\n",
      "TCGTGTGT\n",
      "1.8519226\n",
      "TCTTGTGT\n",
      "-inf\n",
      "\n",
      "18:63953532:G:A\n",
      "AGGTACGT\n",
      "9.274116\n",
      "AGGTACAT\n",
      "6.1148524\n",
      "\n"
     ]
    },
    {
     "name": "stderr",
     "output_type": "stream",
     "text": [
      "100%|██████████| 727/727 [00:11<00:00, 62.46it/s]"
     ]
    },
    {
     "name": "stdout",
     "output_type": "stream",
     "text": [
      "1:99975068:A:G\n",
      "AAGTAGGT\n",
      "6.741317\n",
      "GAGTAGGT\n",
      "4.4399734\n",
      "\n"
     ]
    },
    {
     "name": "stderr",
     "output_type": "stream",
     "text": [
      "\n"
     ]
    }
   ],
   "source": [
    "def get_splice_junctions(intron):\n",
    "    chrom, start, end, clu = intron.split(';')[1].split(':')\n",
    "    strand = clu.split('_')[-1]\n",
    "    \n",
    "    return int(start), int(end), strand\n",
    "\n",
    "\n",
    "def isSNPin5SS(snp, intron, mut_diff):\n",
    "    \n",
    "    snp_pos = int(snp.split(':')[1])\n",
    "    \n",
    "    start, end, strand = get_splice_junctions(intron)\n",
    "    \n",
    "    seq = str(df.loc[intron].seq)\n",
    "    extended_seq = str(df_extended.loc[intron].seq)\n",
    "    \n",
    "    for i in range(8):\n",
    "        if strand == '+':\n",
    "            test_pos = start + i - 1\n",
    "        else:\n",
    "            test_pos = end - i + 1\n",
    "        \n",
    "        if snp_pos == test_pos:\n",
    "            mutated_seq = mutate(seq, extended_seq, i, snp, strand)\n",
    "            print(snp)\n",
    "            print(seq)\n",
    "            print(pssm.calculate(Seq(seq)))\n",
    "            print(mutated_seq)\n",
    "            print(pssm.calculate(Seq(mutated_seq)))\n",
    "            print('')\n",
    "            \n",
    "            mut_diff.append(np.max([pssm.calculate(Seq(mutated_seq)), -10]) - pssm.calculate(Seq(seq)))\n",
    "            \n",
    "            return mut_diff\n",
    "    return mut_diff\n",
    "        \n",
    "\n",
    "# def mutate(seq, extended_seq, pos, snp, strand):\n",
    "    \n",
    "#     chrom, position, original, new = snp.split(':')\n",
    "    \n",
    "#     if len(original) > 1:\n",
    "#         return 0\n",
    "    \n",
    "#     if strand == '-':\n",
    "#         seq = get_neg_nucleotide(seq)\n",
    "    \n",
    "\n",
    "#     assert seq[pos] == original:\n",
    "\n",
    "#     nuc = list(seq)\n",
    "#     nuc[pos] = new\n",
    "\n",
    "#     mutated_seq = ''.join(nuc)\n",
    "        \n",
    "#     if strand == '-':\n",
    "#         mutated_seq = get_neg_nucleotide(mutated_seq)\n",
    "        \n",
    "#     return mutated_seq\n",
    "        \n",
    "    \n",
    "# def get_neg_nucleotide(S):\n",
    "#     new_S = ''\n",
    "#     for i in range(len(S)):\n",
    "#         N = S[i]\n",
    "#         if N == 'A':\n",
    "#             new_S += 'T'\n",
    "#         elif N == 'T':\n",
    "#             new_S += 'A'\n",
    "#         elif N == 'G':\n",
    "#             new_S += 'C'\n",
    "#         elif N == 'C':\n",
    "#             new_S += 'G'\n",
    "#     return new_S\n",
    "            \n",
    "\n",
    "\n",
    "\n",
    "def isClusterinSJ(data, snp_x, mut_diff, beta):\n",
    "    snp_x_data = data.loc[data.snp_x == snp_x]\n",
    "    \n",
    "    token = False\n",
    "    \n",
    "    snps_sj_pr = []\n",
    "    snps_no_sj_pr = []\n",
    "    betas = []\n",
    "    p = []\n",
    "    \n",
    "    \n",
    "    \n",
    "    for idx in snp_x_data.index:\n",
    "        \n",
    "        l = len(mut_diff)\n",
    "        \n",
    "        intron = snp_x_data.loc[idx, 'phenotype_full']\n",
    "        snp_y = snp_x_data.loc[idx, 'snp_y']\n",
    "        locus = snp_x_data.loc[idx, 'Locus']\n",
    "        \n",
    "        mut_diff = isSNPin5SS(snp_y, intron, mut_diff)\n",
    "        \n",
    "        if l < len(mut_diff):\n",
    "            beta.append(snp_x_data.loc[idx, 'beta'])\n",
    "            \n",
    "    return mut_diff, beta\n",
    "        \n",
    "        \n",
    "\n",
    "merged_splicing = merged_snps.loc[splicing_idx]\n",
    "\n",
    "mut_diff = []\n",
    "beta = []\n",
    "\n",
    "for snp_x in tqdm(merged_splicing.snp_x.unique(), leave=True, position=0):\n",
    "    \n",
    "    mut_diff, beta = isClusterinSJ(merged_splicing, snp_x, mut_diff, beta)\n",
    "    "
   ]
  },
  {
   "cell_type": "code",
   "execution_count": 53,
   "id": "2ad3e21c",
   "metadata": {},
   "outputs": [
    {
     "ename": "ValueError",
     "evalue": "negative dimensions are not allowed",
     "output_type": "error",
     "traceback": [
      "\u001b[0;31m---------------------------------------------------------------------------\u001b[0m",
      "\u001b[0;31mValueError\u001b[0m                                Traceback (most recent call last)",
      "\u001b[0;32m<ipython-input-53-05b0107738ac>\u001b[0m in \u001b[0;36m<module>\u001b[0;34m\u001b[0m\n\u001b[0;32m----> 1\u001b[0;31m \u001b[0mpssm\u001b[0m\u001b[0;34m.\u001b[0m\u001b[0mcalculate\u001b[0m\u001b[0;34m(\u001b[0m\u001b[0mSeq\u001b[0m\u001b[0;34m(\u001b[0m\u001b[0;34m'TAGTAATC'\u001b[0m\u001b[0;34m)\u001b[0m\u001b[0;34m)\u001b[0m\u001b[0;34m\u001b[0m\u001b[0;34m\u001b[0m\u001b[0m\n\u001b[0m",
      "\u001b[0;32m/project2/yangili1/cfbuenabadn/anaconda3/lib/python3.8/site-packages/Bio/motifs/matrix.py\u001b[0m in \u001b[0;36mcalculate\u001b[0;34m(self, sequence)\u001b[0m\n\u001b[1;32m    369\u001b[0m         \u001b[0;31m# Create the numpy arrays here; the C module then does not rely on numpy\u001b[0m\u001b[0;34m\u001b[0m\u001b[0;34m\u001b[0m\u001b[0;34m\u001b[0m\u001b[0m\n\u001b[1;32m    370\u001b[0m         \u001b[0;31m# Use a float32 for the scores array to save space\u001b[0m\u001b[0;34m\u001b[0m\u001b[0;34m\u001b[0m\u001b[0;34m\u001b[0m\u001b[0m\n\u001b[0;32m--> 371\u001b[0;31m         \u001b[0mscores\u001b[0m \u001b[0;34m=\u001b[0m \u001b[0mnp\u001b[0m\u001b[0;34m.\u001b[0m\u001b[0mempty\u001b[0m\u001b[0;34m(\u001b[0m\u001b[0mn\u001b[0m \u001b[0;34m-\u001b[0m \u001b[0mm\u001b[0m \u001b[0;34m+\u001b[0m \u001b[0;36m1\u001b[0m\u001b[0;34m,\u001b[0m \u001b[0mnp\u001b[0m\u001b[0;34m.\u001b[0m\u001b[0mfloat32\u001b[0m\u001b[0;34m)\u001b[0m\u001b[0;34m\u001b[0m\u001b[0;34m\u001b[0m\u001b[0m\n\u001b[0m\u001b[1;32m    372\u001b[0m         logodds = np.array(\n\u001b[1;32m    373\u001b[0m             \u001b[0;34m[\u001b[0m\u001b[0;34m[\u001b[0m\u001b[0mself\u001b[0m\u001b[0;34m[\u001b[0m\u001b[0mletter\u001b[0m\u001b[0;34m]\u001b[0m\u001b[0;34m[\u001b[0m\u001b[0mi\u001b[0m\u001b[0;34m]\u001b[0m \u001b[0;32mfor\u001b[0m \u001b[0mletter\u001b[0m \u001b[0;32min\u001b[0m \u001b[0;34m\"ACGT\"\u001b[0m\u001b[0;34m]\u001b[0m \u001b[0;32mfor\u001b[0m \u001b[0mi\u001b[0m \u001b[0;32min\u001b[0m \u001b[0mrange\u001b[0m\u001b[0;34m(\u001b[0m\u001b[0mm\u001b[0m\u001b[0;34m)\u001b[0m\u001b[0;34m]\u001b[0m\u001b[0;34m,\u001b[0m \u001b[0mfloat\u001b[0m\u001b[0;34m\u001b[0m\u001b[0;34m\u001b[0m\u001b[0m\n",
      "\u001b[0;31mValueError\u001b[0m: negative dimensions are not allowed"
     ]
    }
   ],
   "source": [
    "pssm.calculate(Seq('TAGTAATC'))"
   ]
  },
  {
   "cell_type": "code",
   "execution_count": 333,
   "id": "eab6b5f9",
   "metadata": {},
   "outputs": [
    {
     "data": {
      "text/plain": [
       "True"
      ]
     },
     "execution_count": 333,
     "metadata": {},
     "output_type": "execute_result"
    }
   ],
   "source": [
    "pssm.calculate(Seq('AGCTGTGA')) < 10"
   ]
  },
  {
   "cell_type": "code",
   "execution_count": 315,
   "id": "a200c80c",
   "metadata": {},
   "outputs": [
    {
     "data": {
      "text/plain": [
       "<matplotlib.collections.PathCollection at 0x7f52299dd970>"
      ]
     },
     "execution_count": 315,
     "metadata": {},
     "output_type": "execute_result"
    },
    {
     "data": {
      "image/png": "[encoded data removed]",
      "text/plain": [
       "<Figure size 432x288 with 1 Axes>"
      ]
     },
     "metadata": {
      "needs_background": "light"
     },
     "output_type": "display_data"
    }
   ],
   "source": [
    "plt.scatter(merged_splicing.beta, merged_splicing.beta_se)"
   ]
  },
  {
   "cell_type": "code",
   "execution_count": 58,
   "id": "eeba5b16",
   "metadata": {},
   "outputs": [
    {
     "data": {
      "text/plain": [
       "Text(0.5, 1.0, \"5'Splice junction SNPs\")"
      ]
     },
     "execution_count": 58,
     "metadata": {},
     "output_type": "execute_result"
    },
    {
     "data": {
      "image/png": "[encoded data removed]",
      "text/plain": [
       "<Figure size 432x288 with 1 Axes>"
      ]
     },
     "metadata": {
      "needs_background": "light"
     },
     "output_type": "display_data"
    }
   ],
   "source": [
    "plt.scatter(mut_diff, beta, alpha = 0.5)\n",
    "plt.xlabel(r'$\\Delta$ PWM')\n",
    "plt.ylabel('Splicing beta')\n",
    "plt.title(\"5'Splice junction SNPs\")"
   ]
  },
  {
   "cell_type": "code",
   "execution_count": 348,
   "id": "d591abc7",
   "metadata": {},
   "outputs": [],
   "source": [
    "from scipy.stats import pearsonr, spearmanr"
   ]
  },
  {
   "cell_type": "code",
   "execution_count": 349,
   "id": "9a0da162",
   "metadata": {},
   "outputs": [
    {
     "data": {
      "text/plain": [
       "SpearmanrResult(correlation=0.5725028132546733, pvalue=6.89076385780522e-09)"
      ]
     },
     "execution_count": 349,
     "metadata": {},
     "output_type": "execute_result"
    }
   ],
   "source": [
    "spearmanr(mut_diff, beta)"
   ]
  },
  {
   "cell_type": "code",
   "execution_count": 350,
   "id": "ce0ed4ec",
   "metadata": {},
   "outputs": [
    {
     "data": {
      "text/plain": [
       "(0.47867311729205314, 2.736634385946772e-06)"
      ]
     },
     "execution_count": 350,
     "metadata": {},
     "output_type": "execute_result"
    }
   ],
   "source": [
    "pearsonr(mut_diff, beta)"
   ]
  },
  {
   "cell_type": "code",
   "execution_count": 344,
   "id": "5f4da696",
   "metadata": {},
   "outputs": [
    {
     "data": {
      "text/plain": [
       "[-4.132028341293335,\n",
       " -9.89026415348053,\n",
       " -9.89026391506195,\n",
       " -9.89026391506195,\n",
       " -3.3054842948913574,\n",
       " 0.5672438144683838,\n",
       " 0.5672438144683838,\n",
       " 0.5672438144683838,\n",
       " 0.0,\n",
       " -9.274880170822144,\n",
       " -12.617149829864502,\n",
       " 3.268065929412842,\n",
       " -2.8702197074890137,\n",
       " -3.3054842948913574,\n",
       " -2.8702197074890137,\n",
       " -3.753516912460327,\n",
       " 0.2630343437194824,\n",
       " -3.2680660486221313,\n",
       " -9.89026427268982,\n",
       " 2.1349525451660156,\n",
       " 2.1349525451660156,\n",
       " 0.5672440528869629,\n",
       " -2.0225234031677246,\n",
       " -9.89026427268982,\n",
       " -3.3054840564727783,\n",
       " -2.3013434410095215,\n",
       " 1.6984915733337402,\n",
       " -0.24862384796142578,\n",
       " 2.3013439178466797,\n",
       " 2.3013434410095215,\n",
       " 2.1349520683288574,\n",
       " -0.5672445297241211,\n",
       " -9.89026403427124,\n",
       " -0.5672445297241211,\n",
       " -0.5672445297241211,\n",
       " 1.6984920501708984,\n",
       " 6.553053617477417,\n",
       " -inf,\n",
       " 4.926558017730713,\n",
       " -inf,\n",
       " -inf,\n",
       " 3.7535171508789062,\n",
       " -9.890264749526978,\n",
       " 3.1592633724212646,\n",
       " -2.3013434410095215,\n",
       " -inf,\n",
       " -3.1592633724212646,\n",
       " 3.1592636108398438,\n",
       " 2.1349525451660156,\n",
       " -3.8760912120342255,\n",
       " -3.2680654525756836,\n",
       " -inf,\n",
       " -inf,\n",
       " 2.3013439178466797,\n",
       " 0.5672440528869629,\n",
       " -6.553053438663483,\n",
       " -3.268065929412842,\n",
       " -3.26806640625,\n",
       " 3.1592631340026855,\n",
       " -3.753516808152199,\n",
       " -1.6984920501708984,\n",
       " 1.2872552871704102,\n",
       " -10.874981760978699,\n",
       " 2.301344394683838,\n",
       " -2.8702197074890137,\n",
       " -2.440049648284912,\n",
       " 2.3013439178466797,\n",
       " -10.87498164176941,\n",
       " -1.698491096496582,\n",
       " -6.553053379058838,\n",
       " -3.1592633575201035,\n",
       " 2.3013439178466797,\n",
       " -10.87498164176941,\n",
       " 3.268065929412842,\n",
       " -3.1592636108398438,\n",
       " 4.1320284605026245,\n",
       " -9.89026427268982,\n",
       " -9.890263795852661,\n",
       " -1.2872557640075684,\n",
       " 0.5672435760498047,\n",
       " 0.5672435760498047,\n",
       " 1.6984915733337402,\n",
       " 1.6984915733337402,\n",
       " -0.4722329378128052,\n",
       " -inf,\n",
       " -3.1592631340026855,\n",
       " -2.3013434410095215]"
      ]
     },
     "execution_count": 344,
     "metadata": {},
     "output_type": "execute_result"
    }
   ],
   "source": [
    "mut_diff"
   ]
  },
  {
   "cell_type": "code",
   "execution_count": 87,
   "id": "585290ac",
   "metadata": {},
   "outputs": [],
   "source": [
    "def mutate(seq, extended_seq, pos, snp, strand):\n",
    "    \n",
    "    chrom, position, original, new = snp.split(':')\n",
    "    \n",
    "    if strand == '-':\n",
    "        seq = get_neg_nucleotide(seq)\n",
    "        extended_seq = get_neg_nucleotide(extended_seq)\n",
    "    \n",
    "    if (len(original) == 1) and (len(new)==1):\n",
    "    \n",
    "        assert seq[pos] == original\n",
    "\n",
    "        nuc = list(seq)\n",
    "        nuc[pos] = new\n",
    "\n",
    "        mutated_seq = ''.join(nuc)\n",
    "\n",
    "        if strand == '-':\n",
    "            mutated_seq = get_neg_nucleotide(mutated_seq)\n",
    "\n",
    "        return mutated_seq\n",
    "    \n",
    "    else:#if (len(original) > 1) and (len(new)==1):\n",
    "        \n",
    "#         print('')\n",
    "#         print('this might fail')\n",
    "#         print(seq[pos:(pos+len(original))])\n",
    "#         print(original)\n",
    "        \n",
    "#         assert seq[pos:(pos+len(original))] == original\n",
    "        print('')\n",
    "        print('this will fail')\n",
    "        \n",
    "        if strand == '+':\n",
    "            print(extended_seq[(pos+20):(pos+len(original)+20)])\n",
    "            print(original)\n",
    "            assert extended_seq[(pos+20):(pos+len(original)+20)] == original\n",
    "            \n",
    "            seq5 = extended_seq[:(pos+20)]\n",
    "            seq3 = extended_seq[(pos+len(original)+20):]\n",
    "\n",
    "            mutated_seq = seq5 + new + seq3\n",
    "            print(snp)\n",
    "            print(pos)\n",
    "            mutated_seq = mutated_seq[20:28]\n",
    "            \n",
    "        else:\n",
    "            print('seriously')\n",
    "            print(extended_seq[(pos+20):(pos+len(original)+20)])\n",
    "            print(original)\n",
    "            print(extended_seq[(pos+15):(pos+len(original)+25)])\n",
    "            assert extended_seq[(pos+21-len(original)):(pos+21)][::-1] == original\n",
    "            \n",
    "            seq5 = extended_seq[:(pos+21)][::-1]\n",
    "            seq3 = extended_seq[(pos+21-len(original)):][::-1]\n",
    "            \n",
    "            mutated_seq = seq5 + new + seq3\n",
    "            mutated_seq = get_neg_nucleotide(mutated_seq)[::-1][20:28]\n",
    "        \n",
    "        return mutated_seq\n",
    "        \n",
    "        \n",
    "    \n",
    "def get_neg_nucleotide(S):\n",
    "    new_S = ''\n",
    "    for i in range(len(S)):\n",
    "        N = S[i]\n",
    "        if N == 'A':\n",
    "            new_S += 'T'\n",
    "        elif N == 'T':\n",
    "            new_S += 'A'\n",
    "        elif N == 'G':\n",
    "            new_S += 'C'\n",
    "        elif N == 'C':\n",
    "            new_S += 'G'\n",
    "    return new_S#[::-1]\n",
    "        "
   ]
  },
  {
   "cell_type": "code",
   "execution_count": 79,
   "id": "f37adb44",
   "metadata": {},
   "outputs": [
    {
     "data": {
      "text/plain": [
       "'AT'"
      ]
     },
     "execution_count": 79,
     "metadata": {},
     "output_type": "execute_result"
    }
   ],
   "source": [
    "'ATGC'[:2]"
   ]
  },
  {
   "cell_type": "code",
   "execution_count": 272,
   "id": "fdf4c7af",
   "metadata": {},
   "outputs": [
    {
     "data": {
      "text/plain": [
       "'C'"
      ]
     },
     "execution_count": 272,
     "metadata": {},
     "output_type": "execute_result"
    }
   ],
   "source": [
    "'ATGC'[3:]"
   ]
  },
  {
   "cell_type": "code",
   "execution_count": null,
   "id": "56af0e16",
   "metadata": {},
   "outputs": [],
   "source": [
    "seq = str(df.loc[intron].seq)\n",
    "    extended_seq = str(df_extended.loc[intron].seq)"
   ]
  },
  {
   "cell_type": "code",
   "execution_count": 244,
   "id": "bee49146",
   "metadata": {},
   "outputs": [
    {
     "data": {
      "text/html": [
       "<div>\n",
       "<style scoped>\n",
       "    .dataframe tbody tr th:only-of-type {\n",
       "        vertical-align: middle;\n",
       "    }\n",
       "\n",
       "    .dataframe tbody tr th {\n",
       "        vertical-align: top;\n",
       "    }\n",
       "\n",
       "    .dataframe thead th {\n",
       "        text-align: right;\n",
       "    }\n",
       "</style>\n",
       "<table border=\"1\" class=\"dataframe\">\n",
       "  <thead>\n",
       "    <tr style=\"text-align: right;\">\n",
       "      <th></th>\n",
       "      <th>snp_x</th>\n",
       "      <th>beta</th>\n",
       "      <th>beta_se</th>\n",
       "      <th>p</th>\n",
       "      <th>Locus</th>\n",
       "      <th>phenotype_full</th>\n",
       "      <th>iteration</th>\n",
       "      <th>ColocPr</th>\n",
       "      <th>RegionalPr</th>\n",
       "      <th>TopSNPFinemapPr</th>\n",
       "      <th>snp_y</th>\n",
       "      <th>ColocalizedCluster</th>\n",
       "      <th>FinemapPr</th>\n",
       "    </tr>\n",
       "  </thead>\n",
       "  <tbody>\n",
       "    <tr>\n",
       "      <th>0</th>\n",
       "      <td>1:169950692:C:T</td>\n",
       "      <td>0.707955</td>\n",
       "      <td>0.109608</td>\n",
       "      <td>1.735140e-08</td>\n",
       "      <td>ENSG00000000457.14</td>\n",
       "      <td>MetabolicLabelled.30min;ENSG00000000457.14</td>\n",
       "      <td>1</td>\n",
       "      <td>0.8375</td>\n",
       "      <td>0.9621</td>\n",
       "      <td>0.4808</td>\n",
       "      <td>1:169950692:C:T</td>\n",
       "      <td>1</td>\n",
       "      <td>0.480820</td>\n",
       "    </tr>\n",
       "    <tr>\n",
       "      <th>1</th>\n",
       "      <td>1:169950692:C:T</td>\n",
       "      <td>0.707955</td>\n",
       "      <td>0.109608</td>\n",
       "      <td>1.735140e-08</td>\n",
       "      <td>ENSG00000000457.14</td>\n",
       "      <td>MetabolicLabelled.30min;ENSG00000000457.14</td>\n",
       "      <td>1</td>\n",
       "      <td>0.8375</td>\n",
       "      <td>0.9621</td>\n",
       "      <td>0.4808</td>\n",
       "      <td>1:169951871:ATAAT:A</td>\n",
       "      <td>1</td>\n",
       "      <td>0.480820</td>\n",
       "    </tr>\n",
       "    <tr>\n",
       "      <th>2</th>\n",
       "      <td>1:169950692:C:T</td>\n",
       "      <td>0.580269</td>\n",
       "      <td>0.114196</td>\n",
       "      <td>3.588590e-06</td>\n",
       "      <td>ENSG00000000457.14</td>\n",
       "      <td>MetabolicLabelled.60min;ENSG00000000457.14</td>\n",
       "      <td>1</td>\n",
       "      <td>0.8375</td>\n",
       "      <td>0.9621</td>\n",
       "      <td>0.4808</td>\n",
       "      <td>1:169950692:C:T</td>\n",
       "      <td>1</td>\n",
       "      <td>0.480820</td>\n",
       "    </tr>\n",
       "    <tr>\n",
       "      <th>3</th>\n",
       "      <td>1:169950692:C:T</td>\n",
       "      <td>0.580269</td>\n",
       "      <td>0.114196</td>\n",
       "      <td>3.588590e-06</td>\n",
       "      <td>ENSG00000000457.14</td>\n",
       "      <td>MetabolicLabelled.60min;ENSG00000000457.14</td>\n",
       "      <td>1</td>\n",
       "      <td>0.8375</td>\n",
       "      <td>0.9621</td>\n",
       "      <td>0.4808</td>\n",
       "      <td>1:169951871:ATAAT:A</td>\n",
       "      <td>1</td>\n",
       "      <td>0.480820</td>\n",
       "    </tr>\n",
       "    <tr>\n",
       "      <th>4</th>\n",
       "      <td>1:169692248:T:TA</td>\n",
       "      <td>-0.548874</td>\n",
       "      <td>0.087977</td>\n",
       "      <td>2.952800e-08</td>\n",
       "      <td>ENSG00000000460.17</td>\n",
       "      <td>H3K27AC;H3K27AC_peak_7161</td>\n",
       "      <td>1</td>\n",
       "      <td>0.3770</td>\n",
       "      <td>0.6895</td>\n",
       "      <td>0.2401</td>\n",
       "      <td>1:169692248:T:TA</td>\n",
       "      <td>1</td>\n",
       "      <td>0.240080</td>\n",
       "    </tr>\n",
       "    <tr>\n",
       "      <th>...</th>\n",
       "      <td>...</td>\n",
       "      <td>...</td>\n",
       "      <td>...</td>\n",
       "      <td>...</td>\n",
       "      <td>...</td>\n",
       "      <td>...</td>\n",
       "      <td>...</td>\n",
       "      <td>...</td>\n",
       "      <td>...</td>\n",
       "      <td>...</td>\n",
       "      <td>...</td>\n",
       "      <td>...</td>\n",
       "      <td>...</td>\n",
       "    </tr>\n",
       "    <tr>\n",
       "      <th>321739</th>\n",
       "      <td>11:57646470:C:G</td>\n",
       "      <td>1.013670</td>\n",
       "      <td>0.136558</td>\n",
       "      <td>2.102900e-10</td>\n",
       "      <td>ENSG00000288534.1</td>\n",
       "      <td>H3K27AC;H3K27AC_peak_16841</td>\n",
       "      <td>1</td>\n",
       "      <td>0.9258</td>\n",
       "      <td>0.9997</td>\n",
       "      <td>0.5275</td>\n",
       "      <td>11:57651876:G:T</td>\n",
       "      <td>1</td>\n",
       "      <td>0.472271</td>\n",
       "    </tr>\n",
       "    <tr>\n",
       "      <th>321740</th>\n",
       "      <td>11:57646470:C:G</td>\n",
       "      <td>1.058860</td>\n",
       "      <td>0.131536</td>\n",
       "      <td>1.478100e-11</td>\n",
       "      <td>ENSG00000288534.1</td>\n",
       "      <td>H3K27AC;H3K27AC_peak_16842</td>\n",
       "      <td>1</td>\n",
       "      <td>0.9258</td>\n",
       "      <td>0.9997</td>\n",
       "      <td>0.5275</td>\n",
       "      <td>11:57646470:C:G</td>\n",
       "      <td>1</td>\n",
       "      <td>0.527473</td>\n",
       "    </tr>\n",
       "    <tr>\n",
       "      <th>321741</th>\n",
       "      <td>11:57646470:C:G</td>\n",
       "      <td>1.058860</td>\n",
       "      <td>0.131536</td>\n",
       "      <td>1.478100e-11</td>\n",
       "      <td>ENSG00000288534.1</td>\n",
       "      <td>H3K27AC;H3K27AC_peak_16842</td>\n",
       "      <td>1</td>\n",
       "      <td>0.9258</td>\n",
       "      <td>0.9997</td>\n",
       "      <td>0.5275</td>\n",
       "      <td>11:57651876:G:T</td>\n",
       "      <td>1</td>\n",
       "      <td>0.472271</td>\n",
       "    </tr>\n",
       "    <tr>\n",
       "      <th>321742</th>\n",
       "      <td>11:57646470:C:G</td>\n",
       "      <td>0.770294</td>\n",
       "      <td>0.121887</td>\n",
       "      <td>2.117410e-08</td>\n",
       "      <td>ENSG00000288534.1</td>\n",
       "      <td>H3K4ME3;H3K4ME3_peak_9500</td>\n",
       "      <td>1</td>\n",
       "      <td>0.9258</td>\n",
       "      <td>0.9997</td>\n",
       "      <td>0.5275</td>\n",
       "      <td>11:57646470:C:G</td>\n",
       "      <td>1</td>\n",
       "      <td>0.527473</td>\n",
       "    </tr>\n",
       "    <tr>\n",
       "      <th>321743</th>\n",
       "      <td>11:57646470:C:G</td>\n",
       "      <td>0.770294</td>\n",
       "      <td>0.121887</td>\n",
       "      <td>2.117410e-08</td>\n",
       "      <td>ENSG00000288534.1</td>\n",
       "      <td>H3K4ME3;H3K4ME3_peak_9500</td>\n",
       "      <td>1</td>\n",
       "      <td>0.9258</td>\n",
       "      <td>0.9997</td>\n",
       "      <td>0.5275</td>\n",
       "      <td>11:57651876:G:T</td>\n",
       "      <td>1</td>\n",
       "      <td>0.472271</td>\n",
       "    </tr>\n",
       "  </tbody>\n",
       "</table>\n",
       "<p>321744 rows × 13 columns</p>\n",
       "</div>"
      ],
      "text/plain": [
       "                   snp_x      beta   beta_se             p  \\\n",
       "0        1:169950692:C:T  0.707955  0.109608  1.735140e-08   \n",
       "1        1:169950692:C:T  0.707955  0.109608  1.735140e-08   \n",
       "2        1:169950692:C:T  0.580269  0.114196  3.588590e-06   \n",
       "3        1:169950692:C:T  0.580269  0.114196  3.588590e-06   \n",
       "4       1:169692248:T:TA -0.548874  0.087977  2.952800e-08   \n",
       "...                  ...       ...       ...           ...   \n",
       "321739   11:57646470:C:G  1.013670  0.136558  2.102900e-10   \n",
       "321740   11:57646470:C:G  1.058860  0.131536  1.478100e-11   \n",
       "321741   11:57646470:C:G  1.058860  0.131536  1.478100e-11   \n",
       "321742   11:57646470:C:G  0.770294  0.121887  2.117410e-08   \n",
       "321743   11:57646470:C:G  0.770294  0.121887  2.117410e-08   \n",
       "\n",
       "                     Locus                              phenotype_full  \\\n",
       "0       ENSG00000000457.14  MetabolicLabelled.30min;ENSG00000000457.14   \n",
       "1       ENSG00000000457.14  MetabolicLabelled.30min;ENSG00000000457.14   \n",
       "2       ENSG00000000457.14  MetabolicLabelled.60min;ENSG00000000457.14   \n",
       "3       ENSG00000000457.14  MetabolicLabelled.60min;ENSG00000000457.14   \n",
       "4       ENSG00000000460.17                   H3K27AC;H3K27AC_peak_7161   \n",
       "...                    ...                                         ...   \n",
       "321739   ENSG00000288534.1                  H3K27AC;H3K27AC_peak_16841   \n",
       "321740   ENSG00000288534.1                  H3K27AC;H3K27AC_peak_16842   \n",
       "321741   ENSG00000288534.1                  H3K27AC;H3K27AC_peak_16842   \n",
       "321742   ENSG00000288534.1                   H3K4ME3;H3K4ME3_peak_9500   \n",
       "321743   ENSG00000288534.1                   H3K4ME3;H3K4ME3_peak_9500   \n",
       "\n",
       "        iteration  ColocPr  RegionalPr  TopSNPFinemapPr                snp_y  \\\n",
       "0               1   0.8375      0.9621           0.4808      1:169950692:C:T   \n",
       "1               1   0.8375      0.9621           0.4808  1:169951871:ATAAT:A   \n",
       "2               1   0.8375      0.9621           0.4808      1:169950692:C:T   \n",
       "3               1   0.8375      0.9621           0.4808  1:169951871:ATAAT:A   \n",
       "4               1   0.3770      0.6895           0.2401     1:169692248:T:TA   \n",
       "...           ...      ...         ...              ...                  ...   \n",
       "321739          1   0.9258      0.9997           0.5275      11:57651876:G:T   \n",
       "321740          1   0.9258      0.9997           0.5275      11:57646470:C:G   \n",
       "321741          1   0.9258      0.9997           0.5275      11:57651876:G:T   \n",
       "321742          1   0.9258      0.9997           0.5275      11:57646470:C:G   \n",
       "321743          1   0.9258      0.9997           0.5275      11:57651876:G:T   \n",
       "\n",
       "        ColocalizedCluster  FinemapPr  \n",
       "0                        1   0.480820  \n",
       "1                        1   0.480820  \n",
       "2                        1   0.480820  \n",
       "3                        1   0.480820  \n",
       "4                        1   0.240080  \n",
       "...                    ...        ...  \n",
       "321739                   1   0.472271  \n",
       "321740                   1   0.527473  \n",
       "321741                   1   0.472271  \n",
       "321742                   1   0.527473  \n",
       "321743                   1   0.472271  \n",
       "\n",
       "[321744 rows x 13 columns]"
      ]
     },
     "execution_count": 244,
     "metadata": {},
     "output_type": "execute_result"
    }
   ],
   "source": [
    "merged_snps"
   ]
  },
  {
   "cell_type": "code",
   "execution_count": 62,
   "id": "1d11957d",
   "metadata": {},
   "outputs": [],
   "source": [
    "df = pd.read_csv('../../hyprcoloc_3ss.sorted.tab', sep='\\t', names=['name', 'seq'])\n",
    "\n",
    "df['seq'] = df['seq'].apply(Seq)\n",
    "\n",
    "m  = motifs.create(df['seq'])\n",
    "pwm = m.counts.normalize()\n",
    "pssm = pwm.log_odds()\n",
    "\n",
    "# pssm.calculate(m.consensus)\n",
    "df['score'] = df['seq'].apply(pssm.calculate)\n",
    "\n",
    "df_extended = pd.read_csv('../../hyprcoloc_3ss.extended.sorted.tab', sep='\\t', names=['name', 'seq'])\n",
    "\n",
    "df_extended['seq'] = df_extended['seq'].apply(Seq)\n",
    "\n",
    "# m  = motifs.create(df_extended['seq'])\n",
    "# pwm = m.counts.normalize()\n",
    "# pssm = pwm.log_odds()\n",
    "\n",
    "# # pssm.calculate(m.consensus)\n",
    "# df_extended['score'] = df_extended['seq'].apply(pssm.calculate)"
   ]
  },
  {
   "cell_type": "code",
   "execution_count": 86,
   "id": "87571d83",
   "metadata": {},
   "outputs": [],
   "source": [
    "df.index = [df.name[i].split('::')[0] for i in range(len(df.name))]\n",
    "df_extended.index = [df_extended.name[i].split('::')[0] for i in range(len(df_extended.name))]"
   ]
  },
  {
   "cell_type": "code",
   "execution_count": 98,
   "id": "40fd48ad",
   "metadata": {},
   "outputs": [],
   "source": [
    "def mutate(seq, extended_seq, pos, snp, strand):\n",
    "    \n",
    "    chrom, position, original, new = snp.split(':')\n",
    "    \n",
    "    if strand == '-':\n",
    "        seq = get_neg_nucleotide(seq)\n",
    "        extended_seq = get_neg_nucleotide(extended_seq)\n",
    "    \n",
    "    if (len(original) == 1) and (len(new)==1):\n",
    "        \n",
    "        print(strand)\n",
    "    \n",
    "        print(seq[pos])\n",
    "        print(original)\n",
    "        print(seq)\n",
    "        print(pos)\n",
    "        assert seq[pos] == original\n",
    "\n",
    "        nuc = list(seq)\n",
    "        nuc[pos] = new\n",
    "\n",
    "        mutated_seq = ''.join(nuc)\n",
    "\n",
    "        if strand == '-':\n",
    "            mutated_seq = get_neg_nucleotide(mutated_seq)\n",
    "\n",
    "        return mutated_seq\n",
    "    \n",
    "    else:#if (len(original) > 1) and (len(new)==1):\n",
    "        \n",
    "#         print('')\n",
    "#         print('this might fail')\n",
    "#         print(seq[pos:(pos+len(original))])\n",
    "#         print(original)\n",
    "        \n",
    "#         assert seq[pos:(pos+len(original))] == original\n",
    "        print('')\n",
    "        print('this will fail')\n",
    "        \n",
    "        if strand == '+':\n",
    "            print(extended_seq[(pos+20):(pos+len(original)+20)])\n",
    "            print(original)\n",
    "            assert extended_seq[(pos+20):(pos+len(original)+20)] == original\n",
    "            \n",
    "            seq5 = extended_seq[:(pos+20)]\n",
    "            seq3 = extended_seq[(pos+len(original)+20):]\n",
    "\n",
    "            mutated_seq = seq5 + new + seq3\n",
    "            print(snp)\n",
    "            print(pos)\n",
    "            mutated_seq = mutated_seq[20:28]\n",
    "            \n",
    "        else:\n",
    "            print('seriously')\n",
    "            print(extended_seq[(pos+20):(pos+len(original)+20)])\n",
    "            print(original)\n",
    "            print(extended_seq[(pos+15):(pos+len(original)+25)])\n",
    "            assert extended_seq[(pos+21-len(original)):(pos+21)][::-1] == original\n",
    "            \n",
    "            seq5 = extended_seq[:(pos+21)][::-1]\n",
    "            seq3 = extended_seq[(pos+21-len(original)):][::-1]\n",
    "            \n",
    "            mutated_seq = seq5 + new + seq3\n",
    "            mutated_seq = get_neg_nucleotide(mutated_seq)[::-1][20:28]\n",
    "        \n",
    "        return mutated_seq\n",
    "        \n",
    "        \n",
    "    \n",
    "def get_neg_nucleotide(S):\n",
    "    new_S = ''\n",
    "    for i in range(len(S)):\n",
    "        N = S[i]\n",
    "        if N == 'A':\n",
    "            new_S += 'T'\n",
    "        elif N == 'T':\n",
    "            new_S += 'A'\n",
    "        elif N == 'G':\n",
    "            new_S += 'C'\n",
    "        elif N == 'C':\n",
    "            new_S += 'G'\n",
    "    return new_S#[::-1]\n",
    "        "
   ]
  },
  {
   "cell_type": "code",
   "execution_count": 99,
   "id": "f0ecf283",
   "metadata": {},
   "outputs": [],
   "source": [
    "merged_snps = colocalized.merge(snps, left_on='Locus', right_on='Locus')\n",
    "\n",
    "splicing_idx = merged_snps.loc[[y == 'polyA.Splicing.Subset_YRI' for y in [x.split(';')[0] for x in merged_snps.phenotype_full]]].index"
   ]
  },
  {
   "cell_type": "code",
   "execution_count": 100,
   "id": "8a120a2d",
   "metadata": {},
   "outputs": [
    {
     "name": "stderr",
     "output_type": "stream",
     "text": [
      "  1%|          | 5/727 [00:00<00:06, 110.60it/s]"
     ]
    },
    {
     "name": "stdout",
     "output_type": "stream",
     "text": [
      "+\n",
      "G\n",
      "G\n",
      "GGGTGAGT\n",
      "4\n",
      "2:201141373:G:A\n",
      "GGGTGAGT\n",
      "9.275748\n",
      "GGGTAAGT\n",
      "9.842992\n",
      "\n",
      "+\n",
      "A\n",
      "C\n",
      "CGGTAAGA\n",
      "5\n"
     ]
    },
    {
     "name": "stderr",
     "output_type": "stream",
     "text": [
      "\n"
     ]
    },
    {
     "ename": "AssertionError",
     "evalue": "",
     "output_type": "error",
     "traceback": [
      "\u001b[0;31m---------------------------------------------------------------------------\u001b[0m",
      "\u001b[0;31mAssertionError\u001b[0m                            Traceback (most recent call last)",
      "\u001b[0;32m<ipython-input-100-41e8b45b4fa0>\u001b[0m in \u001b[0;36m<module>\u001b[0;34m\u001b[0m\n\u001b[1;32m     72\u001b[0m \u001b[0;32mfor\u001b[0m \u001b[0msnp_x\u001b[0m \u001b[0;32min\u001b[0m \u001b[0mtqdm\u001b[0m\u001b[0;34m(\u001b[0m\u001b[0mmerged_splicing\u001b[0m\u001b[0;34m.\u001b[0m\u001b[0msnp_x\u001b[0m\u001b[0;34m.\u001b[0m\u001b[0munique\u001b[0m\u001b[0;34m(\u001b[0m\u001b[0;34m)\u001b[0m\u001b[0;34m,\u001b[0m \u001b[0mleave\u001b[0m\u001b[0;34m=\u001b[0m\u001b[0;32mTrue\u001b[0m\u001b[0;34m,\u001b[0m \u001b[0mposition\u001b[0m\u001b[0;34m=\u001b[0m\u001b[0;36m0\u001b[0m\u001b[0;34m)\u001b[0m\u001b[0;34m:\u001b[0m\u001b[0;34m\u001b[0m\u001b[0;34m\u001b[0m\u001b[0m\n\u001b[1;32m     73\u001b[0m \u001b[0;34m\u001b[0m\u001b[0m\n\u001b[0;32m---> 74\u001b[0;31m     \u001b[0mmut_diff\u001b[0m\u001b[0;34m,\u001b[0m \u001b[0mbeta\u001b[0m \u001b[0;34m=\u001b[0m \u001b[0misClusterinSJ\u001b[0m\u001b[0;34m(\u001b[0m\u001b[0mmerged_splicing\u001b[0m\u001b[0;34m,\u001b[0m \u001b[0msnp_x\u001b[0m\u001b[0;34m,\u001b[0m \u001b[0mmut_diff\u001b[0m\u001b[0;34m,\u001b[0m \u001b[0mbeta\u001b[0m\u001b[0;34m)\u001b[0m\u001b[0;34m\u001b[0m\u001b[0;34m\u001b[0m\u001b[0m\n\u001b[0m\u001b[1;32m     75\u001b[0m \u001b[0;34m\u001b[0m\u001b[0m\n",
      "\u001b[0;32m<ipython-input-100-41e8b45b4fa0>\u001b[0m in \u001b[0;36misClusterinSJ\u001b[0;34m(data, snp_x, mut_diff, beta)\u001b[0m\n\u001b[1;32m     56\u001b[0m         \u001b[0mlocus\u001b[0m \u001b[0;34m=\u001b[0m \u001b[0msnp_x_data\u001b[0m\u001b[0;34m.\u001b[0m\u001b[0mloc\u001b[0m\u001b[0;34m[\u001b[0m\u001b[0midx\u001b[0m\u001b[0;34m,\u001b[0m \u001b[0;34m'Locus'\u001b[0m\u001b[0;34m]\u001b[0m\u001b[0;34m\u001b[0m\u001b[0;34m\u001b[0m\u001b[0m\n\u001b[1;32m     57\u001b[0m \u001b[0;34m\u001b[0m\u001b[0m\n\u001b[0;32m---> 58\u001b[0;31m         \u001b[0mmut_diff\u001b[0m \u001b[0;34m=\u001b[0m \u001b[0misSNPin3SS\u001b[0m\u001b[0;34m(\u001b[0m\u001b[0msnp_y\u001b[0m\u001b[0;34m,\u001b[0m \u001b[0mintron\u001b[0m\u001b[0;34m,\u001b[0m \u001b[0mmut_diff\u001b[0m\u001b[0;34m)\u001b[0m\u001b[0;34m\u001b[0m\u001b[0;34m\u001b[0m\u001b[0m\n\u001b[0m\u001b[1;32m     59\u001b[0m \u001b[0;34m\u001b[0m\u001b[0m\n\u001b[1;32m     60\u001b[0m         \u001b[0;32mif\u001b[0m \u001b[0ml\u001b[0m \u001b[0;34m<\u001b[0m \u001b[0mlen\u001b[0m\u001b[0;34m(\u001b[0m\u001b[0mmut_diff\u001b[0m\u001b[0;34m)\u001b[0m\u001b[0;34m:\u001b[0m\u001b[0;34m\u001b[0m\u001b[0;34m\u001b[0m\u001b[0m\n",
      "\u001b[0;32m<ipython-input-100-41e8b45b4fa0>\u001b[0m in \u001b[0;36misSNPin3SS\u001b[0;34m(snp, intron, mut_diff)\u001b[0m\n\u001b[1;32m     22\u001b[0m \u001b[0;34m\u001b[0m\u001b[0m\n\u001b[1;32m     23\u001b[0m         \u001b[0;32mif\u001b[0m \u001b[0msnp_pos\u001b[0m \u001b[0;34m==\u001b[0m \u001b[0mtest_pos\u001b[0m\u001b[0;34m:\u001b[0m\u001b[0;34m\u001b[0m\u001b[0;34m\u001b[0m\u001b[0m\n\u001b[0;32m---> 24\u001b[0;31m             \u001b[0mmutated_seq\u001b[0m \u001b[0;34m=\u001b[0m \u001b[0mmutate\u001b[0m\u001b[0;34m(\u001b[0m\u001b[0mseq\u001b[0m\u001b[0;34m,\u001b[0m \u001b[0mextended_seq\u001b[0m\u001b[0;34m,\u001b[0m \u001b[0mi\u001b[0m\u001b[0;34m,\u001b[0m \u001b[0msnp\u001b[0m\u001b[0;34m,\u001b[0m \u001b[0mstrand\u001b[0m\u001b[0;34m)\u001b[0m\u001b[0;34m\u001b[0m\u001b[0;34m\u001b[0m\u001b[0m\n\u001b[0m\u001b[1;32m     25\u001b[0m             \u001b[0mprint\u001b[0m\u001b[0;34m(\u001b[0m\u001b[0msnp\u001b[0m\u001b[0;34m)\u001b[0m\u001b[0;34m\u001b[0m\u001b[0;34m\u001b[0m\u001b[0m\n\u001b[1;32m     26\u001b[0m             \u001b[0mprint\u001b[0m\u001b[0;34m(\u001b[0m\u001b[0mseq\u001b[0m\u001b[0;34m)\u001b[0m\u001b[0;34m\u001b[0m\u001b[0;34m\u001b[0m\u001b[0m\n",
      "\u001b[0;32m<ipython-input-98-43d45f41af3d>\u001b[0m in \u001b[0;36mmutate\u001b[0;34m(seq, extended_seq, pos, snp, strand)\u001b[0m\n\u001b[1;32m     15\u001b[0m         \u001b[0mprint\u001b[0m\u001b[0;34m(\u001b[0m\u001b[0mseq\u001b[0m\u001b[0;34m)\u001b[0m\u001b[0;34m\u001b[0m\u001b[0;34m\u001b[0m\u001b[0m\n\u001b[1;32m     16\u001b[0m         \u001b[0mprint\u001b[0m\u001b[0;34m(\u001b[0m\u001b[0mpos\u001b[0m\u001b[0;34m)\u001b[0m\u001b[0;34m\u001b[0m\u001b[0;34m\u001b[0m\u001b[0m\n\u001b[0;32m---> 17\u001b[0;31m         \u001b[0;32massert\u001b[0m \u001b[0mseq\u001b[0m\u001b[0;34m[\u001b[0m\u001b[0mpos\u001b[0m\u001b[0;34m]\u001b[0m \u001b[0;34m==\u001b[0m \u001b[0moriginal\u001b[0m\u001b[0;34m\u001b[0m\u001b[0;34m\u001b[0m\u001b[0m\n\u001b[0m\u001b[1;32m     18\u001b[0m \u001b[0;34m\u001b[0m\u001b[0m\n\u001b[1;32m     19\u001b[0m         \u001b[0mnuc\u001b[0m \u001b[0;34m=\u001b[0m \u001b[0mlist\u001b[0m\u001b[0;34m(\u001b[0m\u001b[0mseq\u001b[0m\u001b[0;34m)\u001b[0m\u001b[0;34m\u001b[0m\u001b[0;34m\u001b[0m\u001b[0m\n",
      "\u001b[0;31mAssertionError\u001b[0m: "
     ]
    }
   ],
   "source": [
    "def get_splice_junctions(intron):\n",
    "    chrom, start, end, clu = intron.split(';')[1].split(':')\n",
    "    strand = clu.split('_')[-1]\n",
    "    \n",
    "    return int(start), int(end), strand\n",
    "\n",
    "\n",
    "def isSNPin3SS(snp, intron, mut_diff):\n",
    "    \n",
    "    snp_pos = int(snp.split(':')[1])\n",
    "    \n",
    "    start, end, strand = get_splice_junctions(intron)\n",
    "    \n",
    "    seq = str(df.loc[intron].seq)\n",
    "    extended_seq = str(df_extended.loc[intron].seq)\n",
    "    \n",
    "    for i in range(8):\n",
    "        if strand == '+':\n",
    "            test_pos = end + i - 5\n",
    "        else:\n",
    "            test_pos = start - i + 5\n",
    "        \n",
    "        if snp_pos == test_pos:\n",
    "            mutated_seq = mutate(seq, extended_seq, i, snp, strand)\n",
    "            print(snp)\n",
    "            print(seq)\n",
    "            print(pssm.calculate(Seq(seq)))\n",
    "            print(mutated_seq)\n",
    "            print(pssm.calculate(Seq(mutated_seq)))\n",
    "            print('')\n",
    "            \n",
    "            mut_diff.append(np.max([pssm.calculate(Seq(mutated_seq)), -10]) - pssm.calculate(Seq(seq)))\n",
    "            \n",
    "            return mut_diff\n",
    "    return mut_diff\n",
    "        \n",
    "\n",
    "def isClusterinSJ(data, snp_x, mut_diff, beta):\n",
    "    snp_x_data = data.loc[data.snp_x == snp_x]\n",
    "    \n",
    "    token = False\n",
    "    \n",
    "    snps_sj_pr = []\n",
    "    snps_no_sj_pr = []\n",
    "    betas = []\n",
    "    p = []\n",
    "    \n",
    "    \n",
    "    \n",
    "    for idx in snp_x_data.index:\n",
    "        \n",
    "        l = len(mut_diff)\n",
    "        \n",
    "        intron = snp_x_data.loc[idx, 'phenotype_full']\n",
    "        snp_y = snp_x_data.loc[idx, 'snp_y']\n",
    "        locus = snp_x_data.loc[idx, 'Locus']\n",
    "        \n",
    "        mut_diff = isSNPin3SS(snp_y, intron, mut_diff)\n",
    "        \n",
    "        if l < len(mut_diff):\n",
    "            beta.append(snp_x_data.loc[idx, 'beta'])\n",
    "            \n",
    "    return mut_diff, beta\n",
    "        \n",
    "        \n",
    "\n",
    "merged_splicing = merged_snps.loc[splicing_idx]\n",
    "\n",
    "mut_diff = []\n",
    "beta = []\n",
    "\n",
    "for snp_x in tqdm(merged_splicing.snp_x.unique(), leave=True, position=0):\n",
    "    \n",
    "    mut_diff, beta = isClusterinSJ(merged_splicing, snp_x, mut_diff, beta)\n",
    "    "
   ]
  },
  {
   "cell_type": "code",
   "execution_count": 70,
   "id": "f8927861",
   "metadata": {},
   "outputs": [
    {
     "data": {
      "text/plain": [
       "Seq('AATGATGTGTCTGTGTCTCTCTGCAGACTGTGAGCTGCTTGTCCCCAT')"
      ]
     },
     "execution_count": 70,
     "metadata": {},
     "output_type": "execute_result"
    }
   ],
   "source": [
    "df_extended.iloc[0].seq"
   ]
  },
  {
   "cell_type": "code",
   "execution_count": 71,
   "id": "0e546720",
   "metadata": {},
   "outputs": [
    {
     "data": {
      "text/plain": [
       "Seq('CTGCAGAC')"
      ]
     },
     "execution_count": 71,
     "metadata": {},
     "output_type": "execute_result"
    }
   ],
   "source": [
    "df.iloc[0].seq"
   ]
  },
  {
   "cell_type": "code",
   "execution_count": 74,
   "id": "61511761",
   "metadata": {},
   "outputs": [
    {
     "data": {
      "text/plain": [
       "Seq('CTGCAGAC')"
      ]
     },
     "execution_count": 74,
     "metadata": {},
     "output_type": "execute_result"
    }
   ],
   "source": [
    "df_extended.iloc[0].seq[20:28]"
   ]
  },
  {
   "cell_type": "code",
   "execution_count": 97,
   "id": "74c4e72f",
   "metadata": {},
   "outputs": [
    {
     "data": {
      "text/html": [
       "<div>\n",
       "<style scoped>\n",
       "    .dataframe tbody tr th:only-of-type {\n",
       "        vertical-align: middle;\n",
       "    }\n",
       "\n",
       "    .dataframe tbody tr th {\n",
       "        vertical-align: top;\n",
       "    }\n",
       "\n",
       "    .dataframe thead th {\n",
       "        text-align: right;\n",
       "    }\n",
       "</style>\n",
       "<table border=\"1\" class=\"dataframe\">\n",
       "  <thead>\n",
       "    <tr style=\"text-align: right;\">\n",
       "      <th></th>\n",
       "      <th>name</th>\n",
       "      <th>seq</th>\n",
       "      <th>score</th>\n",
       "    </tr>\n",
       "  </thead>\n",
       "  <tbody>\n",
       "    <tr>\n",
       "      <th>polyA.Splicing.Subset_YRI;1:1228946:1231507:clu_43_-</th>\n",
       "      <td>polyA.Splicing.Subset_YRI;1:1228946:1231507:cl...</td>\n",
       "      <td>(C, A, G, T, T, A, G, T)</td>\n",
       "      <td>2.682703</td>\n",
       "    </tr>\n",
       "    <tr>\n",
       "      <th>polyA.Splicing.Subset_YRI;1:1228946:1231892:clu_43_-</th>\n",
       "      <td>polyA.Splicing.Subset_YRI;1:1228946:1231892:cl...</td>\n",
       "      <td>(C, G, G, T, G, A, G, T)</td>\n",
       "      <td>9.137041</td>\n",
       "    </tr>\n",
       "    <tr>\n",
       "      <th>polyA.Splicing.Subset_YRI;1:1703995:1704223:clu_79_-</th>\n",
       "      <td>polyA.Splicing.Subset_YRI;1:1703995:1704223:cl...</td>\n",
       "      <td>(A, G, G, T, G, A, G, C)</td>\n",
       "      <td>9.878600</td>\n",
       "    </tr>\n",
       "    <tr>\n",
       "      <th>polyA.Splicing.Subset_YRI;1:1704146:1704223:clu_79_-</th>\n",
       "      <td>polyA.Splicing.Subset_YRI;1:1704146:1704223:cl...</td>\n",
       "      <td>(A, G, G, T, G, A, G, C)</td>\n",
       "      <td>9.878600</td>\n",
       "    </tr>\n",
       "    <tr>\n",
       "      <th>polyA.Splicing.Subset_YRI;1:1721711:1722588:clu_88_-</th>\n",
       "      <td>polyA.Splicing.Subset_YRI;1:1721711:1722588:cl...</td>\n",
       "      <td>(A, G, G, T, G, A, G, C)</td>\n",
       "      <td>9.878600</td>\n",
       "    </tr>\n",
       "    <tr>\n",
       "      <th>...</th>\n",
       "      <td>...</td>\n",
       "      <td>...</td>\n",
       "      <td>...</td>\n",
       "    </tr>\n",
       "    <tr>\n",
       "      <th>polyA.Splicing.Subset_YRI;9:133352142:133352446:clu_19870_-</th>\n",
       "      <td>polyA.Splicing.Subset_YRI;9:133352142:13335244...</td>\n",
       "      <td>(C, C, G, T, A, C, G, T)</td>\n",
       "      <td>1.907508</td>\n",
       "    </tr>\n",
       "    <tr>\n",
       "      <th>polyA.Splicing.Subset_YRI;9:136362180:136363487:clu_19904_-</th>\n",
       "      <td>polyA.Splicing.Subset_YRI;9:136362180:13636348...</td>\n",
       "      <td>(A, G, G, T, A, G, G, C)</td>\n",
       "      <td>8.310891</td>\n",
       "    </tr>\n",
       "    <tr>\n",
       "      <th>polyA.Splicing.Subset_YRI;9:137111754:137111941:clu_19966_-</th>\n",
       "      <td>polyA.Splicing.Subset_YRI;9:137111754:13711194...</td>\n",
       "      <td>(C, G, G, T, A, C, T, G)</td>\n",
       "      <td>2.241326</td>\n",
       "    </tr>\n",
       "    <tr>\n",
       "      <th>polyA.Splicing.Subset_YRI;9:137728529:137743392:clu_20888_+</th>\n",
       "      <td>polyA.Splicing.Subset_YRI;9:137728529:13774339...</td>\n",
       "      <td>(A, G, G, T, A, A, A, G)</td>\n",
       "      <td>7.697816</td>\n",
       "    </tr>\n",
       "    <tr>\n",
       "      <th>polyA.Splicing.Subset_YRI;9:137738779:137743371:clu_20888_+</th>\n",
       "      <td>polyA.Splicing.Subset_YRI;9:137738779:13774337...</td>\n",
       "      <td>(A, A, G, T, A, A, G, T)</td>\n",
       "      <td>8.876269</td>\n",
       "    </tr>\n",
       "  </tbody>\n",
       "</table>\n",
       "<p>1900 rows × 3 columns</p>\n",
       "</div>"
      ],
      "text/plain": [
       "                                                                                                 name  \\\n",
       "polyA.Splicing.Subset_YRI;1:1228946:1231507:clu...  polyA.Splicing.Subset_YRI;1:1228946:1231507:cl...   \n",
       "polyA.Splicing.Subset_YRI;1:1228946:1231892:clu...  polyA.Splicing.Subset_YRI;1:1228946:1231892:cl...   \n",
       "polyA.Splicing.Subset_YRI;1:1703995:1704223:clu...  polyA.Splicing.Subset_YRI;1:1703995:1704223:cl...   \n",
       "polyA.Splicing.Subset_YRI;1:1704146:1704223:clu...  polyA.Splicing.Subset_YRI;1:1704146:1704223:cl...   \n",
       "polyA.Splicing.Subset_YRI;1:1721711:1722588:clu...  polyA.Splicing.Subset_YRI;1:1721711:1722588:cl...   \n",
       "...                                                                                               ...   \n",
       "polyA.Splicing.Subset_YRI;9:133352142:133352446...  polyA.Splicing.Subset_YRI;9:133352142:13335244...   \n",
       "polyA.Splicing.Subset_YRI;9:136362180:136363487...  polyA.Splicing.Subset_YRI;9:136362180:13636348...   \n",
       "polyA.Splicing.Subset_YRI;9:137111754:137111941...  polyA.Splicing.Subset_YRI;9:137111754:13711194...   \n",
       "polyA.Splicing.Subset_YRI;9:137728529:137743392...  polyA.Splicing.Subset_YRI;9:137728529:13774339...   \n",
       "polyA.Splicing.Subset_YRI;9:137738779:137743371...  polyA.Splicing.Subset_YRI;9:137738779:13774337...   \n",
       "\n",
       "                                                                         seq  \\\n",
       "polyA.Splicing.Subset_YRI;1:1228946:1231507:clu...  (C, A, G, T, T, A, G, T)   \n",
       "polyA.Splicing.Subset_YRI;1:1228946:1231892:clu...  (C, G, G, T, G, A, G, T)   \n",
       "polyA.Splicing.Subset_YRI;1:1703995:1704223:clu...  (A, G, G, T, G, A, G, C)   \n",
       "polyA.Splicing.Subset_YRI;1:1704146:1704223:clu...  (A, G, G, T, G, A, G, C)   \n",
       "polyA.Splicing.Subset_YRI;1:1721711:1722588:clu...  (A, G, G, T, G, A, G, C)   \n",
       "...                                                                      ...   \n",
       "polyA.Splicing.Subset_YRI;9:133352142:133352446...  (C, C, G, T, A, C, G, T)   \n",
       "polyA.Splicing.Subset_YRI;9:136362180:136363487...  (A, G, G, T, A, G, G, C)   \n",
       "polyA.Splicing.Subset_YRI;9:137111754:137111941...  (C, G, G, T, A, C, T, G)   \n",
       "polyA.Splicing.Subset_YRI;9:137728529:137743392...  (A, G, G, T, A, A, A, G)   \n",
       "polyA.Splicing.Subset_YRI;9:137738779:137743371...  (A, A, G, T, A, A, G, T)   \n",
       "\n",
       "                                                       score  \n",
       "polyA.Splicing.Subset_YRI;1:1228946:1231507:clu...  2.682703  \n",
       "polyA.Splicing.Subset_YRI;1:1228946:1231892:clu...  9.137041  \n",
       "polyA.Splicing.Subset_YRI;1:1703995:1704223:clu...  9.878600  \n",
       "polyA.Splicing.Subset_YRI;1:1704146:1704223:clu...  9.878600  \n",
       "polyA.Splicing.Subset_YRI;1:1721711:1722588:clu...  9.878600  \n",
       "...                                                      ...  \n",
       "polyA.Splicing.Subset_YRI;9:133352142:133352446...  1.907508  \n",
       "polyA.Splicing.Subset_YRI;9:136362180:136363487...  8.310891  \n",
       "polyA.Splicing.Subset_YRI;9:137111754:137111941...  2.241326  \n",
       "polyA.Splicing.Subset_YRI;9:137728529:137743392...  7.697816  \n",
       "polyA.Splicing.Subset_YRI;9:137738779:137743371...  8.876269  \n",
       "\n",
       "[1900 rows x 3 columns]"
      ]
     },
     "execution_count": 97,
     "metadata": {},
     "output_type": "execute_result"
    }
   ],
   "source": [
    "df"
   ]
  },
  {
   "cell_type": "code",
   "execution_count": null,
   "id": "f88eec47",
   "metadata": {},
   "outputs": [],
   "source": []
  }
 ],
 "metadata": {
  "kernelspec": {
   "display_name": "Python 3",
   "language": "python",
   "name": "python3"
  },
  "language_info": {
   "codemirror_mode": {
    "name": "ipython",
    "version": 3
   },
   "file_extension": ".py",
   "mimetype": "text/x-python",
   "name": "python",
   "nbconvert_exporter": "python",
   "pygments_lexer": "ipython3",
   "version": "3.8.8"
  }
 },
 "nbformat": 4,
 "nbformat_minor": 5
}
