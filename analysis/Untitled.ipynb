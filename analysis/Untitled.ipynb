{
 "cells": [
  {
   "cell_type": "code",
   "execution_count": 1,
   "id": "6ad0ae8e",
   "metadata": {},
   "outputs": [],
   "source": [
    "import numpy as np\n",
    "import pandas as pd\n",
    "from matplotlib import pyplot as plt\n",
    "import seaborn as sns\n",
    "\n",
    "import scipy.stats as st\n",
    "\n",
    "intron_annot = pd.read_csv('/project2/yangili1/bjf79/ChromatinSplicingQTLs/data/IntronAnnotationsFromYang.tsv.gz', sep='\\t')\n",
    "intron_annot['junction'] = intron_annot[['chrom', 'start', 'end', 'strand']].astype(str).agg(':'.join, axis=1)\n",
    "long_table = pd.read_csv(\n",
    "    '/project2/yangili1/bjf79/ChromatinSplicingQTLs/code/SplicingAnalysis/CombinedJuncTables/YRI.tsv.gz', sep='\\t'\n",
    ")\n",
    "\n",
    "long_table = long_table.loc[long_table.RepNumber == '1.junc'].drop_duplicates()\n",
    "long_table = long_table.loc[~((long_table.IndID == 'NA18855') & (long_table.Dataset == 'chRNA.Expression.Splicing'))]"
   ]
  },
  {
   "cell_type": "code",
   "execution_count": 2,
   "id": "ae7c6645",
   "metadata": {},
   "outputs": [],
   "source": [
    "# Adjustment needed to match the introns in Yang's annotation...\n",
    "long_table.stop += 1\n",
    "\n",
    "long_table = long_table.merge(intron_annot, left_on=['chrom', 'start', 'stop', 'strand'], \n",
    "                 right_on=['chrom', 'start', 'end', 'strand'])\n"
   ]
  },
  {
   "cell_type": "code",
   "execution_count": null,
   "id": "4a0327f1",
   "metadata": {},
   "outputs": [],
   "source": [
    "exons = pd.read_csv('../../EVENT_INFO-hg38.tab.gz', sep='\\t')[['EVENT', 'COMPLEX', 'CO_C1', 'CO_A', 'CO_C2', 'LE_n']].dropna()\n",
    "exons = exons.loc[~exons.COMPLEX.isin(['MIC_S', 'IR', 'Alt3', 'Alt5', 'MIC-M'])]\n",
    "\n",
    "exon = exons.EVENT\n",
    "LE = exons.LE_n\n",
    "c1 = exons.CO_C1.str.split('-', expand=True)\n",
    "chrom = c1[0].str.split(':', expand=True)[0]\n",
    "donor_c1 = c1[1].astype(int)\n",
    "\n",
    "ca = exons.CO_A.str.split('-', expand=True)\n",
    "receptor_c1 = ca[0].str.split(':', expand=True)[1].astype(int) - 1\n",
    "donor_c2 = ca[1].astype(int)\n",
    "\n",
    "c2 = exons.CO_C2.str.split('-', expand=True)\n",
    "receptor_c2 = c2[0].str.split(':', expand=True)[1].astype(int) - 1\n",
    "\n",
    "exon = exons.EVENT\n",
    "LE = exons.LE_n\n",
    "c1 = exons.CO_C1.str.split('-', expand=True)\n",
    "chrom = c1[0].str.split(':', expand=True)[0]\n",
    "donor_c1 = c1[1].astype(int)\n",
    "\n",
    "ca = exons.CO_A.str.split('-', expand=True)\n",
    "receptor_c1 = ca[0].str.split(':', expand=True)[1].astype(int) - 1\n",
    "donor_c2 = ca[1].astype(int)\n",
    "\n",
    "c2 = exons.CO_C2.str.split('-', expand=True)\n",
    "receptor_c2 = c2[0].str.split(':', expand=True)[1].astype(int) - 1"
   ]
  },
  {
   "cell_type": "code",
   "execution_count": null,
   "id": "c9ffba6f",
   "metadata": {},
   "outputs": [],
   "source": [
    "impact = pd.read_csv('../../PROT_IMPACT-hg38-v3.tab.gz', sep='\\t')\n",
    "impact.index = impact.EventID\n",
    "# cons = pd.read_csv('../../EVENT_CONSERVATION.tab.gz', sep='\\t')\n",
    "\n",
    "df = pd.DataFrame()\n",
    "df['event'] = list(exon)\n",
    "df['chrom'] = list(chrom)\n",
    "df['donor_c1'] = list(donor_c1)\n",
    "df['receptor_c1'] = list(receptor_c1)\n",
    "df['donor_c2'] = list(donor_c2)\n",
    "df['receptor_c2'] = list(receptor_c2)\n",
    "df['LE_n'] = list(LE)\n",
    "df = df.loc[[x[:5]=='HsaEX' for x in df.event]]\n",
    "df = df.loc[df.event.isin(impact.loc[~impact.ONTO.isin(['NonCoding', \"5' UTR\", \"3' UTR\"])].index)]\n"
   ]
  },
  {
   "cell_type": "code",
   "execution_count": null,
   "id": "aec5b857",
   "metadata": {},
   "outputs": [],
   "source": []
  }
 ],
 "metadata": {
  "kernelspec": {
   "display_name": "Python 3 (ipykernel)",
   "language": "python",
   "name": "python3"
  },
  "language_info": {
   "codemirror_mode": {
    "name": "ipython",
    "version": 3
   },
   "file_extension": ".py",
   "mimetype": "text/x-python",
   "name": "python",
   "nbconvert_exporter": "python",
   "pygments_lexer": "ipython3",
   "version": "3.8.8"
  }
 },
 "nbformat": 4,
 "nbformat_minor": 5
}
