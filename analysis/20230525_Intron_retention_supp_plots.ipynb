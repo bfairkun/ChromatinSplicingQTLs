{
 "cells": [
  {
   "cell_type": "code",
   "execution_count": 1,
   "id": "59b44895",
   "metadata": {},
   "outputs": [],
   "source": [
    "import numpy as np\n",
    "import pandas as pd\n",
    "import matplotlib.pyplot as plt\n",
    "import seaborn as sns\n",
    "\n",
    "chRNA_ratios = pd.read_csv(\"../code/QTLs/QTLTools/chRNA.IER/OnlyFirstReps.ratios.bed.gz\", sep='\\t')\n",
    "ml30_ratios = pd.read_csv(\"../code/QTLs/QTLTools/MetabolicLabelled.30min.IER/OnlyFirstReps.ratios.bed.gz\", sep='\\t')\n",
    "ml60_ratios = pd.read_csv(\"../code/QTLs/QTLTools/MetabolicLabelled.60min.IER/OnlyFirstReps.ratios.bed.gz\", sep='\\t')\n",
    "polyA_ratios = pd.read_csv(\"../code/QTLs/QTLTools/polyA.IER/OnlyFirstReps.ratios.bed.gz\", sep='\\t')"
   ]
  },
  {
   "cell_type": "code",
   "execution_count": 2,
   "id": "06280a3d",
   "metadata": {},
   "outputs": [],
   "source": [
    "chRNA_samples = [x for x in chRNA_ratios.columns if ((x[:2] == 'NA') and (x != 'NA18855'))]\n",
    "ml30_samples = [x for x in ml30_ratios.columns if (x[:2] == 'NA')]\n",
    "ml60_samples = [x for x in ml60_ratios.columns if (x[:2] == 'NA')]\n",
    "polyA_samples = [x for x in polyA_ratios.columns if (x[:2] == 'NA')]"
   ]
  },
  {
   "cell_type": "code",
   "execution_count": 3,
   "id": "6c032e78",
   "metadata": {},
   "outputs": [],
   "source": [
    "chRNA_X = chRNA_ratios[chRNA_samples].dropna()\n",
    "ml30_X = ml30_ratios[ml30_samples].dropna()\n",
    "ml60_X = ml60_ratios[ml60_samples].dropna()\n",
    "polyA_X = polyA_ratios[polyA_samples].dropna()\n"
   ]
  },
  {
   "cell_type": "code",
   "execution_count": 4,
   "id": "88381443",
   "metadata": {},
   "outputs": [],
   "source": [
    "def plot_cumulative(x):\n",
    "    cum_sum = []\n",
    "    for a in np.linspace(0, 1, 100):\n",
    "        cum_sum.append(get_percent_observed(x, a))\n",
    "    return cum_sum\n",
    "    \n",
    "def get_percent_observed(x, a):\n",
    "    percent_observed = (x <= a).mean()\n",
    "    return percent_observed"
   ]
  },
  {
   "cell_type": "code",
   "execution_count": 12,
   "id": "044c1605",
   "metadata": {},
   "outputs": [
    {
     "data": {
      "image/png": "[encoded data removed]",
      "text/plain": [
       "<Figure size 161.28x161.28 with 1 Axes>"
      ]
     },
     "metadata": {
      "needs_background": "light"
     },
     "output_type": "display_data"
    }
   ],
   "source": [
    "fig, ax = plt.subplots(figsize=(2.24, 2.24))\n",
    "\n",
    "col_list = plt.cm.tab10(range(10))\n",
    "\n",
    "for sample in chRNA_samples:\n",
    "    ax.plot(np.linspace(0, 1, 100), plot_cumulative(chRNA_X[sample]), c=col_list[0], alpha=0.1)\n",
    "    \n",
    "for sample in ml30_samples:\n",
    "    ax.plot(np.linspace(0, 1, 100), plot_cumulative(ml30_X[sample]), c=col_list[1], alpha=0.1)\n",
    "    \n",
    "# for sample in ml30_samples:\n",
    "#     ax.plot(np.linspace(0, 1, 100), plot_cumulative(ml30_X[sample]), c=col_list[1], alpha=0.2)\n",
    "    \n",
    "for sample in polyA_samples:\n",
    "    ax.plot(np.linspace(0, 1, 100), plot_cumulative(polyA_X[sample]), c=col_list[2], alpha=0.1)\n",
    "\n",
    "\n",
    "xlim = ax.get_xlim()\n",
    "ylim = ax.get_ylim()\n",
    "ax.plot([-1], [0], c=col_list[0], label='chRNA')\n",
    "ax.plot([-1], [-1], c=col_list[1], label='4sU RNA')\n",
    "ax.plot([-1], [-1], c=col_list[2], label='polyA')\n",
    "\n",
    "ax.set_xlim(xlim)\n",
    "ax.set_ylim(ylim)\n",
    "\n",
    "ax.tick_params(length=5, labelsize=12, width=1)\n",
    "\n",
    "\n",
    "# ax.set_ylabel('cumulative distribution',size=12)\n",
    "# ax.set_xlabel('splicing efficiency',size=12)\n",
    "\n",
    "ax.legend(frameon=False, fontsize=12)\n",
    "    \n",
    "ax.set_xlabel('Splicing efficiency (IER)', size=12)\n",
    "ax.set_ylabel('Cumulative distribution', size=12)\n",
    "\n",
    "# ax.spines['left'].set_linewidth(1)\n",
    "# ax.spines['bottom'].set_linewidth(1)\n",
    "ax.spines['right'].set_visible(False)\n",
    "ax.spines['top'].set_visible(False)\n",
    "\n",
    "figdir = '/project2/yangili1/carlos_and_ben_shared/polished_plots/'\n",
    "\n",
    "plt.savefig(figdir + 'Supp.SplicingEfficiency.pdf', dpi=300, bbox_inches='tight')\n",
    "plt.savefig(figdir + 'Supp.SplicingEfficiency.png', dpi=300, bbox_inches='tight')"
   ]
  },
  {
   "cell_type": "code",
   "execution_count": 9,
   "id": "c15b8f56",
   "metadata": {},
   "outputs": [
    {
     "data": {
      "text/plain": [
       "(-0.05, 1.05)"
      ]
     },
     "execution_count": 9,
     "metadata": {},
     "output_type": "execute_result"
    }
   ],
   "source": [
    "ax.get_xlim()"
   ]
  },
  {
   "cell_type": "code",
   "execution_count": 103,
   "id": "ad9ce8dc",
   "metadata": {},
   "outputs": [],
   "source": [
    "slopes = pd.read_csv('../code/IntronSlopes/IntronWindowCounts/NA18486.IntronWindows.bed.gz', sep='\\t',\n",
    "                     names = ['chrom', 'start', 'end', 'bin_name', 'score', 'strand', 'counts'])"
   ]
  },
  {
   "cell_type": "code",
   "execution_count": 104,
   "id": "1f11abb3-d90d-47f6-ae13-1dfba011e99f",
   "metadata": {},
   "outputs": [],
   "source": [
    "slopes[['gene', 'intron']] = slopes.bin_name.str.split('_', 1, expand=True)\n",
    "slopes[['intron_chr', 'intron_start', 'intron_end', 'intron_strand', 'bin_count']] = slopes.intron.str.split('_', expand=True)\n",
    "slopes['intron_id'] = slopes.intron_chr + '_' + slopes.intron_start + '_' + slopes.intron_end + '_' + slopes.intron_strand\n",
    "slopes['intron_len'] = slopes.intron_end.astype(int) - slopes.intron_start.astype(int)\n",
    "slopes_to_keep = slopes.groupby('intron_id').counts.sum().loc[slopes.groupby('intron_id').counts.sum() > 100].index\n",
    "slopes = slopes.loc[slopes.intron_id.isin(slopes_to_keep)]"
   ]
  },
  {
   "cell_type": "code",
   "execution_count": 110,
   "id": "8b9d34b4-0205-4e07-a8e7-800e35f91e88",
   "metadata": {},
   "outputs": [],
   "source": [
    "q1 = slopes.intron_len.quantile(0.25)\n",
    "q2 = slopes.intron_len.median()\n",
    "q3 = slopes.intron_len.quantile(0.75)"
   ]
  },
  {
   "cell_type": "code",
   "execution_count": 111,
   "id": "b5619e99-1bf3-4f7c-b6dd-787a5c1e5df4",
   "metadata": {},
   "outputs": [],
   "source": [
    "q1_slope = np.array(slopes.loc[(slopes.intron_len < q1)].groupby('bin_count').counts.mean().loc[[str(i) for i in range(2, 99)]])\n",
    "\n",
    "q2_slope = np.array(slopes.loc[(slopes.intron_len < q2) & (slopes.intron_len >= q1)\n",
    "                              ].groupby('bin_count').counts.mean().loc[[str(i) for i in range(2, 99)]])\n",
    "\n",
    "q3_slope = np.array(slopes.loc[(slopes.intron_len < q3) & (slopes.intron_len >= q2)\n",
    "                              ].groupby('bin_count').counts.mean().loc[[str(i) for i in range(2, 99)]])\n",
    "\n",
    "q4_slope = np.array(slopes.loc[(slopes.intron_len >= q3)\n",
    "                              ].groupby('bin_count').counts.mean().loc[[str(i) for i in range(2, 99)]])"
   ]
  },
  {
   "cell_type": "code",
   "execution_count": 143,
   "id": "41eb76f0-d552-4859-ab10-484aa012a559",
   "metadata": {},
   "outputs": [
    {
     "data": {
      "image/png": "[encoded data removed]",
      "text/plain": [
       "<Figure size 342.72x161.28 with 1 Axes>"
      ]
     },
     "metadata": {
      "needs_background": "light"
     },
     "output_type": "display_data"
    }
   ],
   "source": [
    "plt.rcParams['legend.title_fontsize'] = 12\n",
    "\n",
    "colores = sns.color_palette(\"Blues\", 4)\n",
    "figsize = (4.76, 2.24)\n",
    "\n",
    "fig, ax = plt.subplots(nrows=1, ncols=1, figsize=figsize, gridspec_kw={'hspace': 0.2})\n",
    "\n",
    "ax.plot(100*q1_slope/np.sum(q1_slope), c=colores[0], label='Q1')\n",
    "ax.plot(100*q2_slope/np.sum(q2_slope), c=colores[1], label='Q2')\n",
    "ax.plot(100*q3_slope/np.sum(q3_slope), c=colores[2], label='Q3')\n",
    "ax.plot(100*q4_slope/np.sum(q4_slope), c=colores[3], label='Q4')\n",
    "\n",
    "ax.tick_params(length=5, labelsize=12)\n",
    "\n",
    "ax.spines['right'].set_visible(False)\n",
    "ax.spines['top'].set_visible(False)\n",
    "\n",
    "ax.legend(loc='lower center', bbox_to_anchor=(0.5, -0.75), frameon=False, title='Intron length quartile', fontsize=12, ncol=4)\n",
    "\n",
    "ax.set_xlabel('Relative intronic position', size=12)\n",
    "ax.set_ylabel('Normalized\\nread coverage', size=12)\n",
    "\n",
    "ax.text(60, 1.25, 'NA18486', size=12)\n",
    "\n",
    "plt.savefig(figdir + 'Supp.IntronSlopes.pdf', dpi=300, bbox_inches='tight')\n",
    "plt.savefig(figdir + 'Supp.IntronSlopes.png', dpi=300, bbox_inches='tight')"
   ]
  },
  {
   "cell_type": "code",
   "execution_count": null,
   "id": "f4e6b110-55fb-4d8b-8f78-dacc27f675a8",
   "metadata": {},
   "outputs": [],
   "source": []
  }
 ],
 "metadata": {
  "kernelspec": {
   "display_name": "Python 3 (ipykernel)",
   "language": "python",
   "name": "python3"
  },
  "language_info": {
   "codemirror_mode": {
    "name": "ipython",
    "version": 3
   },
   "file_extension": ".py",
   "mimetype": "text/x-python",
   "name": "python",
   "nbconvert_exporter": "python",
   "pygments_lexer": "ipython3",
   "version": "3.8.8"
  }
 },
 "nbformat": 4,
 "nbformat_minor": 5
}
