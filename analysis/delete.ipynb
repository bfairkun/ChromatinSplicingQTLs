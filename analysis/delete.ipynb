{
 "cells": [
  {
   "cell_type": "code",
   "execution_count": 1,
   "id": "1a3891c0",
   "metadata": {},
   "outputs": [
    {
     "ename": "ModuleNotFoundError",
     "evalue": "No module named 'tensorflow'",
     "output_type": "error",
     "traceback": [
      "\u001b[0;31m---------------------------------------------------------------------------\u001b[0m",
      "\u001b[0;31mModuleNotFoundError\u001b[0m                       Traceback (most recent call last)",
      "Cell \u001b[0;32mIn[1], line 4\u001b[0m\n\u001b[1;32m      2\u001b[0m \u001b[38;5;28;01mimport\u001b[39;00m \u001b[38;5;21;01mmatplotlib\u001b[39;00m\u001b[38;5;21;01m.\u001b[39;00m\u001b[38;5;21;01mpyplot\u001b[39;00m \u001b[38;5;28;01mas\u001b[39;00m \u001b[38;5;21;01mplt\u001b[39;00m\n\u001b[1;32m      3\u001b[0m \u001b[38;5;28;01mimport\u001b[39;00m \u001b[38;5;21;01mscipy\u001b[39;00m\u001b[38;5;21;01m.\u001b[39;00m\u001b[38;5;21;01mstats\u001b[39;00m \u001b[38;5;28;01mas\u001b[39;00m \u001b[38;5;21;01mstats\u001b[39;00m\n\u001b[0;32m----> 4\u001b[0m \u001b[38;5;28;01mimport\u001b[39;00m \u001b[38;5;21;01mtensorflow\u001b[39;00m \u001b[38;5;28;01mas\u001b[39;00m \u001b[38;5;21;01mtf\u001b[39;00m\n\u001b[1;32m      5\u001b[0m \u001b[38;5;28;01mfrom\u001b[39;00m \u001b[38;5;21;01mtensorflow\u001b[39;00m \u001b[38;5;28;01mimport\u001b[39;00m keras\n\u001b[1;32m      7\u001b[0m \u001b[38;5;66;03m# Define the true distribution we want to approximate\u001b[39;00m\n",
      "\u001b[0;31mModuleNotFoundError\u001b[0m: No module named 'tensorflow'"
     ]
    }
   ],
   "source": [
    "import numpy as np\n",
    "import matplotlib.pyplot as plt\n",
    "import scipy.stats as stats\n",
    "import tensorflow as tf\n",
    "from tensorflow import keras\n",
    "\n",
    "# Define the true distribution we want to approximate\n",
    "true_dist = stats.beta(2, 5)\n",
    "\n",
    "# Generate some samples from the true distribution\n",
    "x_obs = true_dist.rvs(size=1000)\n",
    "\n",
    "# Define the variational distribution as a Gaussian with learnable parameters\n",
    "def q(x):\n",
    "    return keras.Sequential([\n",
    "        keras.layers.Dense(10, activation='relu'),\n",
    "        keras.layers.Dense(2),\n",
    "    ])(x)\n",
    "\n",
    "# Define the ELBO objective function\n",
    "def elbo(x_obs, q):\n",
    "    # Sample from the variational distribution\n",
    "    z = q(tf.cast(x_obs, dtype=tf.float32))\n",
    "\n",
    "    # Compute the log likelihood of the samples under the true distribution\n",
    "    log_likelihood = tf.reduce_sum(tf.math.log(true_dist.pdf(x_obs)))\n",
    "\n",
    "    # Compute the KL divergence between the variational and true distributions\n",
    "    kl_divergence = tf.reduce_sum(tf.math.log(z[:, 1]) - tf.math.log(z[:, 0]))\n",
    "\n",
    "    # Compute the ELBO as the sum of the log likelihood and negative KL divergence\n",
    "    return log_likelihood - kl_divergence\n",
    "\n",
    "# Define the optimizer and training loop\n",
    "optimizer = keras.optimizers.Adam(learning_rate=0.01)\n",
    "for step in range(1000):\n",
    "    with tf.GradientTape() as tape:\n",
    "        loss = -elbo(x_obs, q)\n",
    "    gradients = tape.gradient(loss, q.trainable_variables)\n",
    "    optimizer.apply_gradients(zip(gradients, q.trainable_variables))\n",
    "    if step % 100 == 0:\n",
    "        print(f'Step {step}: ELBO = {-loss:.2f}')\n",
    "\n",
    "# Plot the true distribution and the learned variational distribution\n",
    "x_grid = np.linspace(0, 1, 1000)\n",
    "plt.plot(x_grid, true_dist.pdf(x_grid), label='True distribution')\n",
    "plt.plot(x_grid, np.exp(q(tf.cast(x_grid, dtype=tf.float32))[:, 1]), label='Variational distribution')\n",
    "plt.legend()\n",
    "plt.show()\n"
   ]
  },
  {
   "cell_type": "code",
   "execution_count": null,
   "id": "bb851e0f",
   "metadata": {},
   "outputs": [],
   "source": []
  }
 ],
 "metadata": {
  "kernelspec": {
   "display_name": "Python 3 (ipykernel)",
   "language": "python",
   "name": "python3"
  },
  "language_info": {
   "codemirror_mode": {
    "name": "ipython",
    "version": 3
   },
   "file_extension": ".py",
   "mimetype": "text/x-python",
   "name": "python",
   "nbconvert_exporter": "python",
   "pygments_lexer": "ipython3",
   "version": "3.8.8"
  }
 },
 "nbformat": 4,
 "nbformat_minor": 5
}
