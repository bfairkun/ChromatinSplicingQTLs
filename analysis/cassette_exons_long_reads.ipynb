{
 "cells": [
  {
   "cell_type": "code",
   "execution_count": 10,
   "id": "5a218335",
   "metadata": {},
   "outputs": [],
   "source": [
    "import numpy as np\n",
    "import pandas as pd\n",
    "from matplotlib import pyplot as plt\n",
    "import seaborn as sns\n",
    "from tqdm import tqdm"
   ]
  },
  {
   "cell_type": "code",
   "execution_count": 19,
   "id": "767cd692",
   "metadata": {},
   "outputs": [],
   "source": [
    "ctrl1 = pd.read_csv('../code/LongReads/Exons/CTRL1_shRNA.SAMEA8691110.cassette_exons.tab.gz', sep='\\t', index_col=0)\n",
    "\n",
    "def get_gm_list(gm):\n",
    "    ctrl1_list = []\n",
    "    ctrl1_list.append(((gm.loc[(gm.PSI >= 0.01) & (gm.PSI < 0.05)].LE_n % 3) == 0).mean())\n",
    "    ctrl1_list.append(((gm.loc[(gm.PSI >= 0.05) & (gm.PSI < 0.1)].LE_n % 3) == 0).mean())\n",
    "    ctrl1_list.append(((gm.loc[(gm.PSI >= 0.1) & (gm.PSI < 0.25)].LE_n % 3) == 0).mean())\n",
    "    ctrl1_list.append(((gm.loc[(gm.PSI >= 0.25) & (gm.PSI < 0.75)].LE_n % 3) == 0).mean())\n",
    "    \n",
    "    return ctrl1_list"
   ]
  },
  {
   "cell_type": "code",
   "execution_count": 28,
   "id": "d6ceb789",
   "metadata": {},
   "outputs": [],
   "source": [
    "ctrl1 = pd.read_csv('../code/LongReads/Exons/CTRL1_shRNA.SAMEA8691110.cassette_exons.tab.gz', sep='\\t', index_col=0)\n",
    "ctrl1_list = get_gm_list(ctrl1)\n",
    "\n",
    "ctrl2 = pd.read_csv('../code/LongReads/Exons/CTRL2_shRNA.SAMEA8691111.cassette_exons.tab.gz', sep='\\t', index_col=0)\n",
    "ctrl2_list = get_gm_list(ctrl2)\n",
    "\n",
    "NMD_KD = pd.read_csv('../code/LongReads/Exons/SMG6_SMG7_shRNA.SAMEA8691113.cassette_exons.tab.gz', sep='\\t', index_col=0)\n",
    "NMD_KD_list = get_gm_list(NMD_KD)\n",
    "\n",
    "chRNA3 = pd.read_csv('../code/LongReads/Exons/K562_4sUchr_ONT_3.SAMN10505967.cassette_exons.tab.gz', sep='\\t', index_col=0)\n",
    "chRNA3_list = get_gm_list(chRNA3)\n",
    "\n",
    "chRNA4 = pd.read_csv('../code/LongReads/Exons/K562_4sUchr_ONT_4.SAMN12726878.cassette_exons.tab.gz', sep='\\t', index_col=0)\n",
    "chRNA4_list = get_gm_list(chRNA4)\n",
    "\n",
    "chRNA5a = pd.read_csv('../code/LongReads/Exons/K562_4sUchr_ONT_5a.SAMN12726877.cassette_exons.tab.gz', sep='\\t', index_col=0)\n",
    "chRNA5a_list = get_gm_list(chRNA5a)\n",
    "\n",
    "chRNA5b = pd.read_csv('../code/LongReads/Exons/K562_4sUchr_ONT_5b.SAMN12726876.cassette_exons.tab.gz', sep='\\t', index_col=0)\n",
    "chRNA5b_list = get_gm_list(chRNA5b)\n",
    "\n",
    "# ctrl2 = process_long_reads('CTRL2_shRNA.SAMEA8691111.junc.gz', df, split=True)\n",
    "\n",
    "# NMD_KD = process_long_reads('SMG6_SMG7_shRNA.SAMEA8691113.junc.gz', df)\n",
    "\n",
    "# chRNA3 = process_long_reads('K562_4sUchr_ONT_3.SAMN10505967.junc.gz', df)\n",
    "# chRNA4 = process_long_reads('K562_4sUchr_ONT_4.SAMN12726878.junc.gz', df)\n",
    "# chRNA5a = process_long_reads('K562_4sUchr_ONT_5a.SAMN12726877.junc.gz', df)\n",
    "# chRNA5b = process_long_reads('K562_4sUchr_ONT_5b.SAMN12726876.junc.gz', df)\n",
    "\n",
    "upf1 = pd.read_csv('../code/LongReads/Exons/UPF1_shRNA.SAMEA8691115.cassette_exons.tab.gz', sep='\\t', index_col=0)\n",
    "upf1_list = get_gm_list(upf1)"
   ]
  },
  {
   "cell_type": "code",
   "execution_count": 45,
   "id": "c831fb9f",
   "metadata": {},
   "outputs": [],
   "source": [
    "chRNA3.columns = ['skipped_3', 'included_3', 'PSI_3', 'LE_n_3']\n",
    "chRNA4.columns = ['skipped_4', 'included_4', 'PSI_4', 'LE_n_4']\n",
    "chRNA5a.columns = ['skipped_5a', 'included_5a', 'PSI_5a', 'LE_n_5a']\n",
    "chRNA5b.columns = ['skipped_5b', 'included_5b', 'PSI_5b', 'LE_n_5b']"
   ]
  },
  {
   "cell_type": "code",
   "execution_count": 48,
   "id": "bd13d6f0",
   "metadata": {},
   "outputs": [],
   "source": [
    "chRNA_merged = pd.merge(chRNA3, chRNA4, how='outer', left_on='exon', right_on='exon').fillna(0)\n",
    "chRNA_merged = pd.merge(chRNA_merged, chRNA5a, how='outer', left_on='exon', right_on='exon').fillna(0)\n",
    "chRNA_merged = pd.merge(chRNA_merged, chRNA5b, how='outer', left_on='exon', right_on='exon').fillna(0)"
   ]
  },
  {
   "cell_type": "code",
   "execution_count": 51,
   "id": "dfae17d8",
   "metadata": {},
   "outputs": [],
   "source": [
    "chRNA_merged['skipped'] = chRNA_merged.skipped_3 + chRNA_merged.skipped_4 + chRNA_merged.skipped_5a + chRNA_merged.skipped_5b\n",
    "chRNA_merged['included'] = chRNA_merged.included_3 + chRNA_merged.included_4 + chRNA_merged.included_5a + chRNA_merged.included_5b"
   ]
  },
  {
   "cell_type": "code",
   "execution_count": 60,
   "id": "04bd03ce",
   "metadata": {},
   "outputs": [],
   "source": [
    "chRNA_merged['LE_n'] = chRNA_merged[['LE_n_3', 'LE_n_4', 'LE_n_5a', 'LE_n_5b']].max(axis=1)"
   ]
  },
  {
   "cell_type": "code",
   "execution_count": 52,
   "id": "4354108e",
   "metadata": {},
   "outputs": [],
   "source": [
    "chRNA_merged['PSI'] = chRNA_merged.included/(chRNA_merged.included + chRNA_merged.skipped)"
   ]
  },
  {
   "cell_type": "code",
   "execution_count": 61,
   "id": "d39b2bc9",
   "metadata": {},
   "outputs": [
    {
     "data": {
      "text/plain": [
       "[1.0, 0.2857142857142857, 0.3157894736842105, 0.4]"
      ]
     },
     "execution_count": 61,
     "metadata": {},
     "output_type": "execute_result"
    }
   ],
   "source": [
    "get_gm_list(chRNA_merged)"
   ]
  },
  {
   "cell_type": "code",
   "execution_count": 29,
   "id": "a9156f39",
   "metadata": {},
   "outputs": [
    {
     "data": {
      "text/plain": [
       "[0.43529411764705883,\n",
       " 0.4632768361581921,\n",
       " 0.5263157894736842,\n",
       " 0.5174825174825175]"
      ]
     },
     "execution_count": 29,
     "metadata": {},
     "output_type": "execute_result"
    }
   ],
   "source": [
    "upf1_list"
   ]
  },
  {
   "cell_type": "code",
   "execution_count": 62,
   "id": "8b6a7d27",
   "metadata": {},
   "outputs": [
    {
     "data": {
      "text/plain": [
       "[<matplotlib.lines.Line2D at 0x7f382a35ec70>]"
      ]
     },
     "execution_count": 62,
     "metadata": {},
     "output_type": "execute_result"
    },
    {
     "data": {
      "image/png": "[encoded data removed]",
      "text/plain": [
       "<Figure size 640x480 with 1 Axes>"
      ]
     },
     "metadata": {},
     "output_type": "display_data"
    }
   ],
   "source": [
    "plt.plot([0.01, 0.05, 0.1, 0.25], ctrl1_list, c='blue')\n",
    "plt.plot([0.01, 0.05, 0.1, 0.25], ctrl2_list, c='blue')\n",
    "plt.plot([0.01, 0.05, 0.1, 0.25], NMD_KD_list, c='darkorange')"
   ]
  },
  {
   "cell_type": "code",
   "execution_count": 37,
   "id": "53572dca",
   "metadata": {},
   "outputs": [
    {
     "data": {
      "text/plain": [
       "exon\n",
       "HsaEX0013160     True\n",
       "HsaEX0018637     True\n",
       "HsaEX0024762    False\n",
       "HsaEX1042431    False\n",
       "HsaEX1039716    False\n",
       "HsaEX0030975     True\n",
       "HsaEX1027294    False\n",
       "HsaEX1037522     True\n",
       "HsaEX0045153    False\n",
       "HsaEX0055524     True\n",
       "Name: LE_n, dtype: bool"
      ]
     },
     "execution_count": 37,
     "metadata": {},
     "output_type": "execute_result"
    }
   ],
   "source": [
    "((chRNA3.loc[(chRNA3.PSI >= 0.01) & (chRNA3.PSI < 0.25)].LE_n % 3) == 0)#.mean()"
   ]
  },
  {
   "cell_type": "code",
   "execution_count": 2,
   "id": "891a2394-026b-4835-a0db-08baf4aec73a",
   "metadata": {},
   "outputs": [],
   "source": [
    "def process_long_reads(longreads_file, df):\n",
    "    gm = pd.read_csv('../code/LongReads/Junctions/' + longreads_file, sep='\\t', \n",
    "                  names = ['chrom', 'start', 'end', 'junction_id', 'read', 'strand'])\n",
    "    \n",
    "    gm.start = gm.start.astype(int)\n",
    "    gm.end = gm.end.astype(int)\n",
    "    \n",
    "    gm.end -= 1\n",
    "    \n",
    "    c1 = df.merge(gm, left_on=['chrom', 'donor_c1', 'receptor_c1'], right_on=['chrom', 'start', 'end'])\n",
    "    ca = df.merge(gm, left_on=['chrom', 'donor_c1', 'receptor_c2'], right_on=['chrom', 'start', 'end'])\n",
    "\n",
    "    shared_idx = c1.index.intersection(c2.index.intersection(ca.index))\n",
    "\n",
    "    df_ = c1.merge(gm, left_on=['chrom', 'donor_c2', 'receptor_c2'], right_on=['chrom', 'start', 'end'])\n",
    "    \n",
    "    df_SE = df_.loc[df_.read_x == df_.read_y]\n",
    "    \n",
    "    skipped = ca.groupby('event').size().reset_index()\n",
    "    skipped.columns = ['exon', 'skipped_juncs']\n",
    "\n",
    "    included = df_SE.groupby('event').size().reset_index()\n",
    "    included.columns = ['exon', 'included_juncs']\n",
    "    \n",
    "    exon_psi = pd.merge(skipped, included, how='outer', left_on='exon', right_on='exon').fillna(0)\n",
    "    exon_psi['PSI'] = exon_psi.included_juncs/(exon_psi.included_juncs + exon_psi.skipped_juncs)\n",
    "    exon_psi = exon_psi.set_index('exon')\n",
    "\n",
    "    df__ = df.set_index('event')\n",
    "    exon_psi['LE_n'] = df__.loc[exon_psi.index].LE_n\n",
    "\n",
    "    return exon_psi"
   ]
  },
  {
   "cell_type": "code",
   "execution_count": 23,
   "id": "cf07920f-4daf-406d-94a4-c60d14e1400d",
   "metadata": {},
   "outputs": [],
   "source": [
    "# def process_long_reads(longreads_file, df):\n",
    "#     gm = pd.read_csv('../code/LongReads/Junctions/' + longreads_file, sep='\\t', \n",
    "#                   names = ['chrom', 'start', 'end', 'junction_id', 'read', 'strand'])\n",
    "    \n",
    "#     gm.start = gm.start.astype(int)\n",
    "#     gm.end = gm.end.astype(int)\n",
    "    \n",
    "#     gm.end -= 1\n",
    "    \n",
    "#     c1_concat = []\n",
    "#     ca_concat = []\n",
    "    \n",
    "#     for idx, gm_ in tqdm(gm.groupby('read')):\n",
    "#         c1_ = df.merge(gm_, left_on=['chrom', 'donor_c1', 'receptor_c1'], right_on=['chrom', 'start', 'end'])\n",
    "#         ca_ = df.merge(gm_, left_on=['chrom', 'donor_c1', 'receptor_c2'], right_on=['chrom', 'start', 'end'])\n",
    "        \n",
    "#         c1_concat.append(c1_)\n",
    "#         c1_concat.append(ca_)\n",
    "    \n",
    "# #     c1 = df.merge(gm, left_on=['chrom', 'donor_c1', 'receptor_c1'], right_on=['chrom', 'start', 'end'])\n",
    "# #     ca = df.merge(gm, left_on=['chrom', 'donor_c1', 'receptor_c2'], right_on=['chrom', 'start', 'end'])\n",
    "    \n",
    "#     c1 = pd.concat(c1_concat)\n",
    "#     ca = pd.concat(ca_concat)\n",
    "    \n",
    "#     return c1, ca\n",
    "\n",
    "# #     shared_idx = c1.index.intersection(ca.index)\n",
    "\n",
    "# #     df_ = c1.merge(gm, left_on=['chrom', 'donor_c2', 'receptor_c2'], right_on=['chrom', 'start', 'end'])\n",
    "    \n",
    "# #     df_SE = df_.loc[df_.read_x == df_.read_y]\n",
    "    \n",
    "# #     skipped = ca.groupby('event').size().reset_index()\n",
    "# #     skipped.columns = ['exon', 'skipped_juncs']\n",
    "\n",
    "# #     included = df_SE.groupby('event').size().reset_index()\n",
    "# #     included.columns = ['exon', 'included_juncs']\n",
    "    \n",
    "# #     exon_psi = pd.merge(skipped, included, how='outer', left_on='exon', right_on='exon').fillna(0)\n",
    "# #     exon_psi['PSI'] = exon_psi.included_juncs/(exon_psi.included_juncs + exon_psi.skipped_juncs)\n",
    "# #     exon_psi = exon_psi.set_index('exon')\n",
    "\n",
    "# #     df__ = df.set_index('event')\n",
    "# #     exon_psi['LE_n'] = df__.loc[exon_psi.index].LE_n\n",
    "\n",
    "# #     return exon_psi"
   ]
  },
  {
   "cell_type": "code",
   "execution_count": 3,
   "id": "a06c51c5-ab24-413e-bc50-01d35326409d",
   "metadata": {},
   "outputs": [],
   "source": [
    "def process_long_reads(longreads_file, df):\n",
    "    gm = pd.read_csv('../code/LongReads/Junctions/' + longreads_file, sep='\\t', \n",
    "                  names = ['chrom', 'start', 'end', 'junction_id', 'read', 'strand'])\n",
    "    \n",
    "    gm.start = gm.start.astype(int)\n",
    "    gm.end = gm.end.astype(int)\n",
    "    \n",
    "    gm.end -= 1\n",
    "    \n",
    "    exon_psi_concat = []\n",
    "    \n",
    "    chroms = ['chr' + str(i) for i in range(1, 23)]\n",
    "    \n",
    "    for chrom in tqdm(chroms):\n",
    "        df_slice = df.loc[df.chrom == chrom]\n",
    "        gm_slice = gm.loc[gm.chrom == chrom]\n",
    "    \n",
    "        c1 = df_slice.merge(gm_slice, left_on=['chrom', 'donor_c1', 'receptor_c1'], right_on=['chrom', 'start', 'end'])\n",
    "        ca = df_slice.merge(gm_slice, left_on=['chrom', 'donor_c1', 'receptor_c2'], right_on=['chrom', 'start', 'end'])\n",
    "\n",
    "        df_ = c1.merge(gm, left_on=['chrom', 'donor_c2', 'receptor_c2'], right_on=['chrom', 'start', 'end'])\n",
    "    \n",
    "        df_SE = df_.loc[df_.read_x == df_.read_y]\n",
    "    \n",
    "        skipped = ca.groupby('event').size().reset_index()\n",
    "        skipped.columns = ['exon', 'skipped_juncs']\n",
    "\n",
    "        included = df_SE.groupby('event').size().reset_index()\n",
    "        included.columns = ['exon', 'included_juncs']\n",
    "\n",
    "        exon_psi = pd.merge(skipped, included, how='outer', left_on='exon', right_on='exon').fillna(0)\n",
    "        exon_psi['PSI'] = exon_psi.included_juncs/(exon_psi.included_juncs + exon_psi.skipped_juncs)\n",
    "        exon_psi = exon_psi.set_index('exon')\n",
    "\n",
    "        df__ = df.set_index('event')\n",
    "        exon_psi['LE_n'] = df__.loc[exon_psi.index].LE_n\n",
    "        \n",
    "        exon_psi_concat.append(exon_psi)\n",
    "        \n",
    "        print(exon_psi.shape)\n",
    "        \n",
    "    exon_psi = pd.concat(exon_psi_concat)\n",
    "\n",
    "    return exon_psi"
   ]
  },
  {
   "cell_type": "code",
   "execution_count": 4,
   "id": "eabf7c8d",
   "metadata": {},
   "outputs": [],
   "source": [
    "def merge_annot_longreads(df, gm, chrom, split=None):\n",
    "    \n",
    "    if split:\n",
    "        med_start = df.receptor_c2.median()\n",
    "        if split == 1:\n",
    "            df_slice = df.loc[(df.chrom == chrom) & (df.receptor_c2 < med_start)]\n",
    "        elif split == 2:\n",
    "            df_slice = df.loc[(df.chrom == chrom) & (df.receptor_c2 >= med_start)]\n",
    "            \n",
    "    else:\n",
    "        df_slice = df.loc[df.chrom == chrom]\n",
    "        \n",
    "    gm_slice = gm.loc[gm.chrom == chrom]\n",
    "\n",
    "    c1 = df_slice.merge(gm_slice, left_on=['chrom', 'donor_c1', 'receptor_c1'], right_on=['chrom', 'start', 'end'])\n",
    "    ca = df_slice.merge(gm_slice, left_on=['chrom', 'donor_c1', 'receptor_c2'], right_on=['chrom', 'start', 'end'])\n",
    "\n",
    "    df_ = c1.merge(gm, left_on=['chrom', 'donor_c2', 'receptor_c2'], right_on=['chrom', 'start', 'end'])\n",
    "\n",
    "    df_SE = df_.loc[df_.read_x == df_.read_y]\n",
    "\n",
    "    skipped = ca.groupby('event').size().reset_index()\n",
    "    skipped.columns = ['exon', 'skipped_juncs']\n",
    "\n",
    "    included = df_SE.groupby('event').size().reset_index()\n",
    "    included.columns = ['exon', 'included_juncs']\n",
    "\n",
    "    exon_psi = pd.merge(skipped, included, how='outer', left_on='exon', right_on='exon').fillna(0)\n",
    "    exon_psi['PSI'] = exon_psi.included_juncs/(exon_psi.included_juncs + exon_psi.skipped_juncs)\n",
    "    exon_psi = exon_psi.set_index('exon')\n",
    "\n",
    "    df__ = df.set_index('event')\n",
    "    exon_psi['LE_n'] = df__.loc[exon_psi.index].LE_n\n",
    "    \n",
    "    return exon_psi\n",
    "\n",
    "def process_long_reads(longreads_file, df, split=False):\n",
    "    gm = pd.read_csv('../code/LongReads/Junctions/' + longreads_file, sep='\\t', \n",
    "                  names = ['chrom', 'start', 'end', 'junction_id', 'read', 'strand'])\n",
    "    \n",
    "    gm.start = gm.start.astype(int)\n",
    "    gm.end = gm.end.astype(int)\n",
    "    \n",
    "    gm.end -= 1\n",
    "    \n",
    "    exon_psi_concat = []\n",
    "    \n",
    "    chroms = ['chr' + str(i) for i in range(1, 23)]\n",
    "    \n",
    "    for chrom in tqdm(chroms):\n",
    "        \n",
    "        if split:\n",
    "            exon_psi_1 = merge_annot_longreads(df, gm, chrom, split=1)\n",
    "            exon_psi_2 = merge_annot_longreads(df, gm, chrom, split=2)\n",
    "            exon_psi_concat.extend([exon_psi_1, exon_psi_2])\n",
    "            \n",
    "        else:\n",
    "            exon_psi = merge_annot_longreads(df, gm, chrom)\n",
    "        \n",
    "            exon_psi_concat.append(exon_psi)\n",
    "        \n",
    "            \n",
    "    exon_psi = pd.concat(exon_psi_concat)\n",
    "\n",
    "    return exon_psi"
   ]
  },
  {
   "cell_type": "code",
   "execution_count": null,
   "id": "413afb24",
   "metadata": {},
   "outputs": [],
   "source": []
  },
  {
   "cell_type": "code",
   "execution_count": 5,
   "id": "204ae423",
   "metadata": {},
   "outputs": [],
   "source": [
    "# gm = pd.read_csv('../code/LongReads/Junctions/GM8.junc.gz', sep='\\t', \n",
    "#                   names = ['chrom', 'start', 'end', 'junction_id', 'read', 'strand'])\n",
    "\n",
    "exons = pd.read_csv('../../EVENT_INFO-hg38.tab.gz', sep='\\t')[['EVENT', 'COMPLEX', 'CO_C1', 'CO_A', 'CO_C2', 'LE_n']].dropna()\n",
    "exons = exons.loc[~exons.COMPLEX.isin(['MIC_S', 'IR', 'Alt3', 'Alt5', 'MIC-M'])]\n",
    "exons = exons.set_index('EVENT')\n",
    "\n",
    "impact = pd.read_csv('../../PROT_IMPACT-hg38-v3.tab.gz', sep='\\t')\n",
    "impact = impact.set_index('EventID')\n",
    "impact = impact.loc[~impact.ONTO.isin(['NonCoding', \"5' UTR\", \"3' UTR\"])]"
   ]
  },
  {
   "cell_type": "code",
   "execution_count": 6,
   "id": "472eae00-eee6-49ab-bce5-2f9840a229bf",
   "metadata": {},
   "outputs": [],
   "source": [
    "\n",
    "exon = exons.index\n",
    "LE = exons.LE_n\n",
    "c1 = exons.CO_C1.str.split('-', expand=True)\n",
    "chrom = c1[0].str.split(':', expand=True)[0]\n",
    "donor_c1 = c1[1].astype(int)\n",
    "\n",
    "ca = exons.CO_A.str.split('-', expand=True)\n",
    "receptor_c1 = ca[0].str.split(':', expand=True)[1].astype(int) - 1\n",
    "donor_c2 = ca[1].astype(int)\n",
    "\n",
    "c2 = exons.CO_C2.str.split('-', expand=True)\n",
    "receptor_c2 = c2[0].str.split(':', expand=True)[1].astype(int) - 1\n",
    "\n",
    "exon = exons.index\n",
    "LE = exons.LE_n\n",
    "c1 = exons.CO_C1.str.split('-', expand=True)\n",
    "chrom = c1[0].str.split(':', expand=True)[0]\n",
    "donor_c1 = c1[1].astype(int)\n",
    "\n",
    "ca = exons.CO_A.str.split('-', expand=True)\n",
    "receptor_c1 = ca[0].str.split(':', expand=True)[1].astype(int) - 1\n",
    "donor_c2 = ca[1].astype(int)\n",
    "\n",
    "c2 = exons.CO_C2.str.split('-', expand=True)\n",
    "receptor_c2 = c2[0].str.split(':', expand=True)[1].astype(int) - 1\n",
    "\n"
   ]
  },
  {
   "cell_type": "code",
   "execution_count": 7,
   "id": "10b51972-24ad-402f-b9ed-9b956663eb99",
   "metadata": {},
   "outputs": [],
   "source": [
    "df = pd.DataFrame()\n",
    "df['event'] = list(exon)\n",
    "df['chrom'] = list(chrom)\n",
    "df['donor_c1'] = list(donor_c1)\n",
    "df['receptor_c1'] = list(receptor_c1)\n",
    "df['donor_c2'] = list(donor_c2)\n",
    "df['receptor_c2'] = list(receptor_c2)\n",
    "df['LE_n'] = list(LE)\n",
    "df = df.loc[[x[:5]=='HsaEX' for x in df.event]]\n",
    "df = df.loc[df.event.isin(impact.loc[~impact.ONTO.isin(['NonCoding', \"5' UTR\", \"3' UTR\"])].index)]\n",
    "\n",
    "# df = df.set_index('event')"
   ]
  },
  {
   "cell_type": "code",
   "execution_count": 36,
   "id": "56882c99-7a8f-470e-939c-27df49237a79",
   "metadata": {},
   "outputs": [],
   "source": [
    "gm1 = process_long_reads('GM1.junc.gz', df)\n",
    "gm2 = process_long_reads('GM2.junc.gz', df)\n",
    "gm3 = process_long_reads('GM3.junc.gz', df)\n",
    "gm4 = process_long_reads('GM4.junc.gz', df)\n",
    "gm5 = process_long_reads('GM5.junc.gz', df)\n",
    "gm6 = process_long_reads('GM6.junc.gz', df)\n",
    "gm7 = process_long_reads('GM7.junc.gz', df)\n",
    "gm8 = process_long_reads('GM8.junc.gz', df)\n",
    "gm9 = process_long_reads('GM9.junc.gz', df)\n",
    "gm10 = process_long_reads('GM10.junc.gz', df)"
   ]
  },
  {
   "cell_type": "code",
   "execution_count": 27,
   "id": "10686178-ad0b-4e5b-a9cb-23bbfd190c28",
   "metadata": {},
   "outputs": [],
   "source": [
    "gm = pd.read_csv('../code/LongReads/Junctions/CTRL1_shRNA.SAMEA8691110.junc.gz' , sep='\\t', \n",
    "                  names = ['chrom', 'start', 'end', 'junction_id', 'read', 'strand'])\n",
    "    \n",
    "gm.start = gm.start.astype(int)\n",
    "gm.end = gm.end.astype(int)\n",
    "\n",
    "gm.end -= 1"
   ]
  },
  {
   "cell_type": "code",
   "execution_count": 29,
   "id": "be57fa37-5c6e-4318-8c6a-262373b327e7",
   "metadata": {},
   "outputs": [
    {
     "data": {
      "text/html": [
       "<div>\n",
       "<style scoped>\n",
       "    .dataframe tbody tr th:only-of-type {\n",
       "        vertical-align: middle;\n",
       "    }\n",
       "\n",
       "    .dataframe tbody tr th {\n",
       "        vertical-align: top;\n",
       "    }\n",
       "\n",
       "    .dataframe thead th {\n",
       "        text-align: right;\n",
       "    }\n",
       "</style>\n",
       "<table border=\"1\" class=\"dataframe\">\n",
       "  <thead>\n",
       "    <tr style=\"text-align: right;\">\n",
       "      <th></th>\n",
       "      <th>event</th>\n",
       "      <th>chrom</th>\n",
       "      <th>donor_c1</th>\n",
       "      <th>receptor_c1</th>\n",
       "      <th>donor_c2</th>\n",
       "      <th>receptor_c2</th>\n",
       "      <th>LE_n</th>\n",
       "    </tr>\n",
       "  </thead>\n",
       "  <tbody>\n",
       "    <tr>\n",
       "      <th>7</th>\n",
       "      <td>HsaEX0000182</td>\n",
       "      <td>chr4</td>\n",
       "      <td>56371643</td>\n",
       "      <td>56355181</td>\n",
       "      <td>56355423</td>\n",
       "      <td>56354704</td>\n",
       "      <td>242</td>\n",
       "    </tr>\n",
       "    <tr>\n",
       "      <th>8</th>\n",
       "      <td>HsaEX0000217</td>\n",
       "      <td>chr9</td>\n",
       "      <td>104861800</td>\n",
       "      <td>104858521</td>\n",
       "      <td>104858698</td>\n",
       "      <td>104855565</td>\n",
       "      <td>177</td>\n",
       "    </tr>\n",
       "    <tr>\n",
       "      <th>9</th>\n",
       "      <td>HsaEX0000219</td>\n",
       "      <td>chr9</td>\n",
       "      <td>104858698</td>\n",
       "      <td>104845476</td>\n",
       "      <td>104845569</td>\n",
       "      <td>104840278</td>\n",
       "      <td>93</td>\n",
       "    </tr>\n",
       "    <tr>\n",
       "      <th>10</th>\n",
       "      <td>HsaEX0000226</td>\n",
       "      <td>chr9</td>\n",
       "      <td>104814475</td>\n",
       "      <td>104814117</td>\n",
       "      <td>104814231</td>\n",
       "      <td>104812573</td>\n",
       "      <td>114</td>\n",
       "    </tr>\n",
       "    <tr>\n",
       "      <th>11</th>\n",
       "      <td>HsaEX0000238</td>\n",
       "      <td>chr17</td>\n",
       "      <td>69174394</td>\n",
       "      <td>69164963</td>\n",
       "      <td>69165083</td>\n",
       "      <td>69164073</td>\n",
       "      <td>120</td>\n",
       "    </tr>\n",
       "    <tr>\n",
       "      <th>...</th>\n",
       "      <td>...</td>\n",
       "      <td>...</td>\n",
       "      <td>...</td>\n",
       "      <td>...</td>\n",
       "      <td>...</td>\n",
       "      <td>...</td>\n",
       "      <td>...</td>\n",
       "    </tr>\n",
       "    <tr>\n",
       "      <th>223160</th>\n",
       "      <td>HsaEX1024814</td>\n",
       "      <td>chr17</td>\n",
       "      <td>36513505</td>\n",
       "      <td>36512873</td>\n",
       "      <td>36512883</td>\n",
       "      <td>36511364</td>\n",
       "      <td>10</td>\n",
       "    </tr>\n",
       "    <tr>\n",
       "      <th>223161</th>\n",
       "      <td>HsaEX1024252</td>\n",
       "      <td>chr17</td>\n",
       "      <td>38320767</td>\n",
       "      <td>38321961</td>\n",
       "      <td>38321967</td>\n",
       "      <td>38322125</td>\n",
       "      <td>6</td>\n",
       "    </tr>\n",
       "    <tr>\n",
       "      <th>223162</th>\n",
       "      <td>HsaEX0050343</td>\n",
       "      <td>chr10</td>\n",
       "      <td>13587149</td>\n",
       "      <td>13614071</td>\n",
       "      <td>13614086</td>\n",
       "      <td>13616397</td>\n",
       "      <td>15</td>\n",
       "    </tr>\n",
       "    <tr>\n",
       "      <th>223163</th>\n",
       "      <td>HsaEX1033769</td>\n",
       "      <td>chr11</td>\n",
       "      <td>43556961</td>\n",
       "      <td>43576597</td>\n",
       "      <td>43576611</td>\n",
       "      <td>43584559</td>\n",
       "      <td>14</td>\n",
       "    </tr>\n",
       "    <tr>\n",
       "      <th>223164</th>\n",
       "      <td>HsaEX1035421</td>\n",
       "      <td>chr7</td>\n",
       "      <td>99392876</td>\n",
       "      <td>99393242</td>\n",
       "      <td>99393247</td>\n",
       "      <td>99394032</td>\n",
       "      <td>5</td>\n",
       "    </tr>\n",
       "  </tbody>\n",
       "</table>\n",
       "<p>190415 rows × 7 columns</p>\n",
       "</div>"
      ],
      "text/plain": [
       "               event  chrom   donor_c1  receptor_c1   donor_c2  receptor_c2  \\\n",
       "7       HsaEX0000182   chr4   56371643     56355181   56355423     56354704   \n",
       "8       HsaEX0000217   chr9  104861800    104858521  104858698    104855565   \n",
       "9       HsaEX0000219   chr9  104858698    104845476  104845569    104840278   \n",
       "10      HsaEX0000226   chr9  104814475    104814117  104814231    104812573   \n",
       "11      HsaEX0000238  chr17   69174394     69164963   69165083     69164073   \n",
       "...              ...    ...        ...          ...        ...          ...   \n",
       "223160  HsaEX1024814  chr17   36513505     36512873   36512883     36511364   \n",
       "223161  HsaEX1024252  chr17   38320767     38321961   38321967     38322125   \n",
       "223162  HsaEX0050343  chr10   13587149     13614071   13614086     13616397   \n",
       "223163  HsaEX1033769  chr11   43556961     43576597   43576611     43584559   \n",
       "223164  HsaEX1035421   chr7   99392876     99393242   99393247     99394032   \n",
       "\n",
       "        LE_n  \n",
       "7        242  \n",
       "8        177  \n",
       "9         93  \n",
       "10       114  \n",
       "11       120  \n",
       "...      ...  \n",
       "223160    10  \n",
       "223161     6  \n",
       "223162    15  \n",
       "223163    14  \n",
       "223164     5  \n",
       "\n",
       "[190415 rows x 7 columns]"
      ]
     },
     "execution_count": 29,
     "metadata": {},
     "output_type": "execute_result"
    }
   ],
   "source": [
    "df"
   ]
  },
  {
   "cell_type": "code",
   "execution_count": 28,
   "id": "a3dfc5a0-6e49-427d-bdfd-a60ea41a6f1e",
   "metadata": {},
   "outputs": [
    {
     "data": {
      "text/html": [
       "<div>\n",
       "<style scoped>\n",
       "    .dataframe tbody tr th:only-of-type {\n",
       "        vertical-align: middle;\n",
       "    }\n",
       "\n",
       "    .dataframe tbody tr th {\n",
       "        vertical-align: top;\n",
       "    }\n",
       "\n",
       "    .dataframe thead th {\n",
       "        text-align: right;\n",
       "    }\n",
       "</style>\n",
       "<table border=\"1\" class=\"dataframe\">\n",
       "  <thead>\n",
       "    <tr style=\"text-align: right;\">\n",
       "      <th></th>\n",
       "      <th>chrom</th>\n",
       "      <th>start</th>\n",
       "      <th>end</th>\n",
       "      <th>junction_id</th>\n",
       "      <th>read</th>\n",
       "      <th>strand</th>\n",
       "    </tr>\n",
       "  </thead>\n",
       "  <tbody>\n",
       "    <tr>\n",
       "      <th>0</th>\n",
       "      <td>chr1</td>\n",
       "      <td>14829</td>\n",
       "      <td>14969</td>\n",
       "      <td>LongRead.1:1</td>\n",
       "      <td>LongRead.1</td>\n",
       "      <td>+</td>\n",
       "    </tr>\n",
       "    <tr>\n",
       "      <th>1</th>\n",
       "      <td>chr1</td>\n",
       "      <td>15038</td>\n",
       "      <td>15795</td>\n",
       "      <td>LongRead.1:2</td>\n",
       "      <td>LongRead.1</td>\n",
       "      <td>+</td>\n",
       "    </tr>\n",
       "    <tr>\n",
       "      <th>2</th>\n",
       "      <td>chr1</td>\n",
       "      <td>15947</td>\n",
       "      <td>16606</td>\n",
       "      <td>LongRead.1:3</td>\n",
       "      <td>LongRead.1</td>\n",
       "      <td>+</td>\n",
       "    </tr>\n",
       "    <tr>\n",
       "      <th>3</th>\n",
       "      <td>chr1</td>\n",
       "      <td>16765</td>\n",
       "      <td>16857</td>\n",
       "      <td>LongRead.1:4</td>\n",
       "      <td>LongRead.1</td>\n",
       "      <td>+</td>\n",
       "    </tr>\n",
       "    <tr>\n",
       "      <th>4</th>\n",
       "      <td>chr1</td>\n",
       "      <td>17055</td>\n",
       "      <td>17605</td>\n",
       "      <td>LongRead.1:5</td>\n",
       "      <td>LongRead.1</td>\n",
       "      <td>+</td>\n",
       "    </tr>\n",
       "    <tr>\n",
       "      <th>...</th>\n",
       "      <td>...</td>\n",
       "      <td>...</td>\n",
       "      <td>...</td>\n",
       "      <td>...</td>\n",
       "      <td>...</td>\n",
       "      <td>...</td>\n",
       "    </tr>\n",
       "    <tr>\n",
       "      <th>7389071</th>\n",
       "      <td>chr22</td>\n",
       "      <td>50785293</td>\n",
       "      <td>50788749</td>\n",
       "      <td>LongRead.1487599:1</td>\n",
       "      <td>LongRead.1487599</td>\n",
       "      <td>+</td>\n",
       "    </tr>\n",
       "    <tr>\n",
       "      <th>7389072</th>\n",
       "      <td>chr22</td>\n",
       "      <td>50785293</td>\n",
       "      <td>50798654</td>\n",
       "      <td>LongRead.1487600:1</td>\n",
       "      <td>LongRead.1487600</td>\n",
       "      <td>-</td>\n",
       "    </tr>\n",
       "    <tr>\n",
       "      <th>7389073</th>\n",
       "      <td>chr22</td>\n",
       "      <td>50800362</td>\n",
       "      <td>50800926</td>\n",
       "      <td>LongRead.1487601:1</td>\n",
       "      <td>LongRead.1487601</td>\n",
       "      <td>+</td>\n",
       "    </tr>\n",
       "    <tr>\n",
       "      <th>7389074</th>\n",
       "      <td>chr22</td>\n",
       "      <td>50800079</td>\n",
       "      <td>50800538</td>\n",
       "      <td>LongRead.1487602:1</td>\n",
       "      <td>LongRead.1487602</td>\n",
       "      <td>-</td>\n",
       "    </tr>\n",
       "    <tr>\n",
       "      <th>7389075</th>\n",
       "      <td>chr22</td>\n",
       "      <td>50800356</td>\n",
       "      <td>50800910</td>\n",
       "      <td>LongRead.1487603:1</td>\n",
       "      <td>LongRead.1487603</td>\n",
       "      <td>-</td>\n",
       "    </tr>\n",
       "  </tbody>\n",
       "</table>\n",
       "<p>7389076 rows × 6 columns</p>\n",
       "</div>"
      ],
      "text/plain": [
       "         chrom     start       end         junction_id              read  \\\n",
       "0         chr1     14829     14969        LongRead.1:1        LongRead.1   \n",
       "1         chr1     15038     15795        LongRead.1:2        LongRead.1   \n",
       "2         chr1     15947     16606        LongRead.1:3        LongRead.1   \n",
       "3         chr1     16765     16857        LongRead.1:4        LongRead.1   \n",
       "4         chr1     17055     17605        LongRead.1:5        LongRead.1   \n",
       "...        ...       ...       ...                 ...               ...   \n",
       "7389071  chr22  50785293  50788749  LongRead.1487599:1  LongRead.1487599   \n",
       "7389072  chr22  50785293  50798654  LongRead.1487600:1  LongRead.1487600   \n",
       "7389073  chr22  50800362  50800926  LongRead.1487601:1  LongRead.1487601   \n",
       "7389074  chr22  50800079  50800538  LongRead.1487602:1  LongRead.1487602   \n",
       "7389075  chr22  50800356  50800910  LongRead.1487603:1  LongRead.1487603   \n",
       "\n",
       "        strand  \n",
       "0            +  \n",
       "1            +  \n",
       "2            +  \n",
       "3            +  \n",
       "4            +  \n",
       "...        ...  \n",
       "7389071      +  \n",
       "7389072      -  \n",
       "7389073      +  \n",
       "7389074      -  \n",
       "7389075      -  \n",
       "\n",
       "[7389076 rows x 6 columns]"
      ]
     },
     "execution_count": 28,
     "metadata": {},
     "output_type": "execute_result"
    }
   ],
   "source": [
    "gm"
   ]
  },
  {
   "cell_type": "code",
   "execution_count": 20,
   "id": "cb39f2a0-a212-4221-9207-709e210b0317",
   "metadata": {},
   "outputs": [
    {
     "data": {
      "text/html": [
       "<div>\n",
       "<style scoped>\n",
       "    .dataframe tbody tr th:only-of-type {\n",
       "        vertical-align: middle;\n",
       "    }\n",
       "\n",
       "    .dataframe tbody tr th {\n",
       "        vertical-align: top;\n",
       "    }\n",
       "\n",
       "    .dataframe thead th {\n",
       "        text-align: right;\n",
       "    }\n",
       "</style>\n",
       "<table border=\"1\" class=\"dataframe\">\n",
       "  <thead>\n",
       "    <tr style=\"text-align: right;\">\n",
       "      <th></th>\n",
       "      <th>event</th>\n",
       "      <th>chrom</th>\n",
       "      <th>donor_c1</th>\n",
       "      <th>receptor_c1</th>\n",
       "      <th>donor_c2</th>\n",
       "      <th>receptor_c2</th>\n",
       "      <th>LE_n</th>\n",
       "      <th>start</th>\n",
       "      <th>end</th>\n",
       "      <th>junction_id</th>\n",
       "      <th>read</th>\n",
       "      <th>strand</th>\n",
       "    </tr>\n",
       "  </thead>\n",
       "  <tbody>\n",
       "  </tbody>\n",
       "</table>\n",
       "</div>"
      ],
      "text/plain": [
       "Empty DataFrame\n",
       "Columns: [event, chrom, donor_c1, receptor_c1, donor_c2, receptor_c2, LE_n, start, end, junction_id, read, strand]\n",
       "Index: []"
      ]
     },
     "execution_count": 20,
     "metadata": {},
     "output_type": "execute_result"
    }
   ],
   "source": [
    "df.merge(gm_, left_on=['chrom', 'donor_c1', 'receptor_c1'], right_on=['chrom', 'start', 'end'])"
   ]
  },
  {
   "cell_type": "code",
   "execution_count": 8,
   "id": "a3e27b2a-798e-4403-a4dd-a81fa3ee4d05",
   "metadata": {},
   "outputs": [
    {
     "name": "stderr",
     "output_type": "stream",
     "text": [
      "100%|██████████████████████████████████████████████████████████████████████████████████████████████████████████████████████████████████████████████████████████| 22/22 [03:46<00:00, 10.31s/it]\n"
     ]
    }
   ],
   "source": [
    "ctrl1 = process_long_reads('CTRL1_shRNA.SAMEA8691110.junc.gz', df)\n",
    "# ctrl2 = process_long_reads('CTRL2_shRNA.SAMEA8691111.junc.gz', df, split=True)\n",
    "\n",
    "# NMD_KD = process_long_reads('SMG6_SMG7_shRNA.SAMEA8691113.junc.gz', df)\n",
    "\n",
    "# chRNA3 = process_long_reads('K562_4sUchr_ONT_3.SAMN10505967.junc.gz', df)\n",
    "# chRNA4 = process_long_reads('K562_4sUchr_ONT_4.SAMN12726878.junc.gz', df)\n",
    "# chRNA5a = process_long_reads('K562_4sUchr_ONT_5a.SAMN12726877.junc.gz', df)\n",
    "# chRNA5b = process_long_reads('K562_4sUchr_ONT_5b.SAMN12726876.junc.gz', df)"
   ]
  },
  {
   "cell_type": "code",
   "execution_count": 9,
   "id": "548ad351",
   "metadata": {},
   "outputs": [
    {
     "data": {
      "text/plain": [
       "(48479, 4)"
      ]
     },
     "execution_count": 9,
     "metadata": {},
     "output_type": "execute_result"
    }
   ],
   "source": [
    "ctrl1.shape"
   ]
  },
  {
   "cell_type": "code",
   "execution_count": 14,
   "id": "587776d2-8389-4af3-b253-53ddaeae80f4",
   "metadata": {},
   "outputs": [
    {
     "data": {
      "text/plain": [
       "0.3968871595330739"
      ]
     },
     "execution_count": 14,
     "metadata": {},
     "output_type": "execute_result"
    }
   ],
   "source": [
    "((ctrl1.loc[(ctrl1.PSI >= 0.01) & (ctrl1.PSI < 0.05)].LE_n % 3) == 0).mean()"
   ]
  },
  {
   "cell_type": "code",
   "execution_count": 15,
   "id": "b0e5e709-ab98-4efe-89bd-9929204a87ce",
   "metadata": {},
   "outputs": [
    {
     "data": {
      "text/plain": [
       "0.4620253164556962"
      ]
     },
     "execution_count": 15,
     "metadata": {},
     "output_type": "execute_result"
    }
   ],
   "source": [
    "((ctrl1.loc[(ctrl1.PSI >= 0.05) & (ctrl1.PSI < 0.1)].LE_n % 3) == 0).mean()"
   ]
  },
  {
   "cell_type": "code",
   "execution_count": 16,
   "id": "633517c5-6679-4205-a7d8-348583c04ecd",
   "metadata": {},
   "outputs": [
    {
     "data": {
      "text/plain": [
       "0.5240174672489083"
      ]
     },
     "execution_count": 16,
     "metadata": {},
     "output_type": "execute_result"
    }
   ],
   "source": [
    "((ctrl1.loc[(ctrl1.PSI >= 0.1) & (ctrl1.PSI < 0.25)].LE_n % 3) == 0).mean()"
   ]
  },
  {
   "cell_type": "code",
   "execution_count": 17,
   "id": "3c9bd4a8-6a07-429e-aa0b-5e3c01735583",
   "metadata": {},
   "outputs": [
    {
     "data": {
      "text/plain": [
       "0.5746478873239437"
      ]
     },
     "execution_count": 17,
     "metadata": {},
     "output_type": "execute_result"
    }
   ],
   "source": [
    "((ctrl1.loc[(ctrl1.PSI >= 0.25) & (ctrl1.PSI < 0.75)].LE_n % 3) == 0).mean()"
   ]
  },
  {
   "cell_type": "code",
   "execution_count": 40,
   "id": "9bbe9972-8a4c-40a6-8282-0d024941418e",
   "metadata": {},
   "outputs": [],
   "source": [
    "def get_symmetric(exon_psi):\n",
    "    gm1_ = []\n",
    "    gm1_.append(((gm1.loc[(exon_psi.PSI >= 0.01) & (gm1.PSI < 0.05)].LE_n % 3) == 0).mean())\n",
    "    gm1_.append(((gm1.loc[(exon_psi.PSI >= 0.05) & (gm1.PSI < 0.1)].LE_n % 3) == 0).mean())\n",
    "    gm1_.append(((gm1.loc[(exon_psi.PSI >= 0.1) & (gm1.PSI < 0.25)].LE_n % 3) == 0).mean())\n",
    "    gm1_.append(((gm1.loc[(exon_psi.PSI >= 0.25) & (gm1.PSI < 0.75)].LE_n % 3) == 0).mean())\n",
    "    \n",
    "    return gm1_\n",
    "\n"
   ]
  },
  {
   "cell_type": "code",
   "execution_count": 43,
   "id": "848912b0-7342-4bd7-aab8-1205b71ed8b7",
   "metadata": {},
   "outputs": [
    {
     "data": {
      "text/plain": [
       "[<matplotlib.lines.Line2D at 0x7f8bdc8e0b50>]"
      ]
     },
     "execution_count": 43,
     "metadata": {},
     "output_type": "execute_result"
    },
    {
     "data": {
      "image/png": "[encoded data removed]",
      "text/plain": [
       "<Figure size 432x288 with 1 Axes>"
      ]
     },
     "metadata": {
      "needs_background": "light"
     },
     "output_type": "display_data"
    }
   ],
   "source": [
    "plt.plot(get_symmetric(gm1), c='skyblue')\n",
    "plt.plot(get_symmetric(gm3), c='skyblue')\n",
    "plt.plot(get_symmetric(gm5), c='skyblue')\n",
    "plt.plot(get_symmetric(gm7), c='skyblue')\n",
    "plt.plot(get_symmetric(gm9), c='skyblue')\n",
    "\n",
    "plt.plot(get_symmetric(gm2), c='grey')\n",
    "plt.plot(get_symmetric(gm4), c='grey')\n",
    "plt.plot(get_symmetric(gm6), c='grey')\n",
    "plt.plot(get_symmetric(gm8), c='grey')\n",
    "plt.plot(get_symmetric(gm10), c='grey')"
   ]
  },
  {
   "cell_type": "code",
   "execution_count": 20,
   "id": "75eb0dfe-7d78-4642-8b18-138642862458",
   "metadata": {},
   "outputs": [],
   "source": [
    "gm_m1 = gm.copy()\n",
    "gm_m1.end -= 1"
   ]
  },
  {
   "cell_type": "code",
   "execution_count": 21,
   "id": "f0673d48-bcdc-4cc5-b28e-6cc7a8e1a7a1",
   "metadata": {},
   "outputs": [],
   "source": [
    "c1 = df.merge(gm_m1, left_on=['chrom', 'donor_c1', 'receptor_c1'], right_on=['chrom', 'start', 'end'])\n",
    "c2 = df.merge(gm_m1, left_on=['chrom', 'donor_c2', 'receptor_c2'], right_on=['chrom', 'start', 'end'])\n",
    "ca = df.merge(gm_m1, left_on=['chrom', 'donor_c1', 'receptor_c2'], right_on=['chrom', 'start', 'end'])\n",
    "\n",
    "# c1 = c1.set_index('event').dropna()\n",
    "# c2 = c2.set_index('event').dropna()\n",
    "# ca = ca.set_index('event').dropna()\n",
    "\n",
    "# samples = chRNA_psi.columns[6:]\n",
    "\n",
    "shared_idx = c1.index.intersection(c2.index.intersection(ca.index))\n",
    "# shared_idx = shared_idx[(c1.loc[shared_idx, samples] - c2.loc[shared_idx, samples]).abs().mean(axis=1) <= 0.333]\n",
    "\n",
    "# psi_c1 = c1.loc[shared_idx, samples]\n",
    "# psi_c2 = c2.loc[shared_idx, samples]\n",
    "# psi_ca = ca.loc[shared_idx, samples]\n",
    "\n",
    "# psi_chRNA = (psi_c1 + psi_c2)/(psi_c1 + psi_c2 + (2*psi_ca))\n"
   ]
  },
  {
   "cell_type": "code",
   "execution_count": 22,
   "id": "97a4f2ed-4e8b-43a4-9838-c2a855b172fa",
   "metadata": {},
   "outputs": [],
   "source": [
    "df_ = c1.merge(gm_m1, left_on=['chrom', 'donor_c2', 'receptor_c2'], right_on=['chrom', 'start', 'end'])"
   ]
  },
  {
   "cell_type": "code",
   "execution_count": 23,
   "id": "fb7481db-83e5-4e8b-8dbe-875c33b80491",
   "metadata": {},
   "outputs": [],
   "source": [
    "df_SE = df_.loc[df_.read_x == df_.read_y]"
   ]
  },
  {
   "cell_type": "code",
   "execution_count": 24,
   "id": "fd8cae04-bf7e-4fe7-b96e-330d50515361",
   "metadata": {},
   "outputs": [
    {
     "data": {
      "text/html": [
       "<div>\n",
       "<style scoped>\n",
       "    .dataframe tbody tr th:only-of-type {\n",
       "        vertical-align: middle;\n",
       "    }\n",
       "\n",
       "    .dataframe tbody tr th {\n",
       "        vertical-align: top;\n",
       "    }\n",
       "\n",
       "    .dataframe thead th {\n",
       "        text-align: right;\n",
       "    }\n",
       "</style>\n",
       "<table border=\"1\" class=\"dataframe\">\n",
       "  <thead>\n",
       "    <tr style=\"text-align: right;\">\n",
       "      <th></th>\n",
       "      <th>event</th>\n",
       "      <th>chrom</th>\n",
       "      <th>donor_c1</th>\n",
       "      <th>receptor_c1</th>\n",
       "      <th>donor_c2</th>\n",
       "      <th>receptor_c2</th>\n",
       "      <th>LE_n</th>\n",
       "      <th>start</th>\n",
       "      <th>end</th>\n",
       "      <th>junction_id</th>\n",
       "      <th>read</th>\n",
       "      <th>strand</th>\n",
       "    </tr>\n",
       "  </thead>\n",
       "  <tbody>\n",
       "    <tr>\n",
       "      <th>0</th>\n",
       "      <td>HsaEX0000803</td>\n",
       "      <td>chr19</td>\n",
       "      <td>2344424</td>\n",
       "      <td>2344552</td>\n",
       "      <td>2344652</td>\n",
       "      <td>2345252</td>\n",
       "      <td>100</td>\n",
       "      <td>2344424</td>\n",
       "      <td>2344552</td>\n",
       "      <td>LongRead.73379:11</td>\n",
       "      <td>LongRead.73379</td>\n",
       "      <td>+</td>\n",
       "    </tr>\n",
       "    <tr>\n",
       "      <th>1</th>\n",
       "      <td>HsaEX0000803</td>\n",
       "      <td>chr19</td>\n",
       "      <td>2344424</td>\n",
       "      <td>2344552</td>\n",
       "      <td>2344652</td>\n",
       "      <td>2345252</td>\n",
       "      <td>100</td>\n",
       "      <td>2344424</td>\n",
       "      <td>2344552</td>\n",
       "      <td>LongRead.73380:5</td>\n",
       "      <td>LongRead.73380</td>\n",
       "      <td>+</td>\n",
       "    </tr>\n",
       "    <tr>\n",
       "      <th>2</th>\n",
       "      <td>HsaEX0000803</td>\n",
       "      <td>chr19</td>\n",
       "      <td>2344424</td>\n",
       "      <td>2344552</td>\n",
       "      <td>2344652</td>\n",
       "      <td>2345252</td>\n",
       "      <td>100</td>\n",
       "      <td>2344424</td>\n",
       "      <td>2344552</td>\n",
       "      <td>LongRead.73382:10</td>\n",
       "      <td>LongRead.73382</td>\n",
       "      <td>+</td>\n",
       "    </tr>\n",
       "    <tr>\n",
       "      <th>3</th>\n",
       "      <td>HsaEX0000805</td>\n",
       "      <td>chr19</td>\n",
       "      <td>2345330</td>\n",
       "      <td>2351433</td>\n",
       "      <td>2351594</td>\n",
       "      <td>2352945</td>\n",
       "      <td>161</td>\n",
       "      <td>2345330</td>\n",
       "      <td>2351433</td>\n",
       "      <td>LongRead.73379:13</td>\n",
       "      <td>LongRead.73379</td>\n",
       "      <td>+</td>\n",
       "    </tr>\n",
       "    <tr>\n",
       "      <th>4</th>\n",
       "      <td>HsaEX0000805</td>\n",
       "      <td>chr19</td>\n",
       "      <td>2345330</td>\n",
       "      <td>2351433</td>\n",
       "      <td>2351594</td>\n",
       "      <td>2352945</td>\n",
       "      <td>161</td>\n",
       "      <td>2345330</td>\n",
       "      <td>2351433</td>\n",
       "      <td>LongRead.73380:7</td>\n",
       "      <td>LongRead.73380</td>\n",
       "      <td>+</td>\n",
       "    </tr>\n",
       "    <tr>\n",
       "      <th>...</th>\n",
       "      <td>...</td>\n",
       "      <td>...</td>\n",
       "      <td>...</td>\n",
       "      <td>...</td>\n",
       "      <td>...</td>\n",
       "      <td>...</td>\n",
       "      <td>...</td>\n",
       "      <td>...</td>\n",
       "      <td>...</td>\n",
       "      <td>...</td>\n",
       "      <td>...</td>\n",
       "      <td>...</td>\n",
       "    </tr>\n",
       "    <tr>\n",
       "      <th>293471</th>\n",
       "      <td>HsaEX0065810</td>\n",
       "      <td>chr3</td>\n",
       "      <td>44862116</td>\n",
       "      <td>44862357</td>\n",
       "      <td>44862360</td>\n",
       "      <td>44864196</td>\n",
       "      <td>3</td>\n",
       "      <td>44862116</td>\n",
       "      <td>44862357</td>\n",
       "      <td>LongRead.103326:1</td>\n",
       "      <td>LongRead.103326</td>\n",
       "      <td>+</td>\n",
       "    </tr>\n",
       "    <tr>\n",
       "      <th>293472</th>\n",
       "      <td>HsaEX1040805</td>\n",
       "      <td>chr10</td>\n",
       "      <td>49942300</td>\n",
       "      <td>49945031</td>\n",
       "      <td>49945037</td>\n",
       "      <td>49952125</td>\n",
       "      <td>6</td>\n",
       "      <td>49942300</td>\n",
       "      <td>49945031</td>\n",
       "      <td>LongRead.15787:1</td>\n",
       "      <td>LongRead.15787</td>\n",
       "      <td>+</td>\n",
       "    </tr>\n",
       "    <tr>\n",
       "      <th>293473</th>\n",
       "      <td>HsaEX1040805</td>\n",
       "      <td>chr10</td>\n",
       "      <td>49942300</td>\n",
       "      <td>49945031</td>\n",
       "      <td>49945037</td>\n",
       "      <td>49952125</td>\n",
       "      <td>6</td>\n",
       "      <td>49942300</td>\n",
       "      <td>49945031</td>\n",
       "      <td>LongRead.15789:1</td>\n",
       "      <td>LongRead.15789</td>\n",
       "      <td>+</td>\n",
       "    </tr>\n",
       "    <tr>\n",
       "      <th>293474</th>\n",
       "      <td>HsaEX1040805</td>\n",
       "      <td>chr10</td>\n",
       "      <td>49942300</td>\n",
       "      <td>49945031</td>\n",
       "      <td>49945037</td>\n",
       "      <td>49952125</td>\n",
       "      <td>6</td>\n",
       "      <td>49942300</td>\n",
       "      <td>49945031</td>\n",
       "      <td>LongRead.15790:1</td>\n",
       "      <td>LongRead.15790</td>\n",
       "      <td>+</td>\n",
       "    </tr>\n",
       "    <tr>\n",
       "      <th>293475</th>\n",
       "      <td>HsaEX1040805</td>\n",
       "      <td>chr10</td>\n",
       "      <td>49942300</td>\n",
       "      <td>49945031</td>\n",
       "      <td>49945037</td>\n",
       "      <td>49952125</td>\n",
       "      <td>6</td>\n",
       "      <td>49942300</td>\n",
       "      <td>49945031</td>\n",
       "      <td>LongRead.15791:1</td>\n",
       "      <td>LongRead.15791</td>\n",
       "      <td>+</td>\n",
       "    </tr>\n",
       "  </tbody>\n",
       "</table>\n",
       "<p>293476 rows × 12 columns</p>\n",
       "</div>"
      ],
      "text/plain": [
       "               event  chrom  donor_c1  receptor_c1  donor_c2  receptor_c2  \\\n",
       "0       HsaEX0000803  chr19   2344424      2344552   2344652      2345252   \n",
       "1       HsaEX0000803  chr19   2344424      2344552   2344652      2345252   \n",
       "2       HsaEX0000803  chr19   2344424      2344552   2344652      2345252   \n",
       "3       HsaEX0000805  chr19   2345330      2351433   2351594      2352945   \n",
       "4       HsaEX0000805  chr19   2345330      2351433   2351594      2352945   \n",
       "...              ...    ...       ...          ...       ...          ...   \n",
       "293471  HsaEX0065810   chr3  44862116     44862357  44862360     44864196   \n",
       "293472  HsaEX1040805  chr10  49942300     49945031  49945037     49952125   \n",
       "293473  HsaEX1040805  chr10  49942300     49945031  49945037     49952125   \n",
       "293474  HsaEX1040805  chr10  49942300     49945031  49945037     49952125   \n",
       "293475  HsaEX1040805  chr10  49942300     49945031  49945037     49952125   \n",
       "\n",
       "        LE_n     start       end        junction_id             read strand  \n",
       "0        100   2344424   2344552  LongRead.73379:11   LongRead.73379      +  \n",
       "1        100   2344424   2344552   LongRead.73380:5   LongRead.73380      +  \n",
       "2        100   2344424   2344552  LongRead.73382:10   LongRead.73382      +  \n",
       "3        161   2345330   2351433  LongRead.73379:13   LongRead.73379      +  \n",
       "4        161   2345330   2351433   LongRead.73380:7   LongRead.73380      +  \n",
       "...      ...       ...       ...                ...              ...    ...  \n",
       "293471     3  44862116  44862357  LongRead.103326:1  LongRead.103326      +  \n",
       "293472     6  49942300  49945031   LongRead.15787:1   LongRead.15787      +  \n",
       "293473     6  49942300  49945031   LongRead.15789:1   LongRead.15789      +  \n",
       "293474     6  49942300  49945031   LongRead.15790:1   LongRead.15790      +  \n",
       "293475     6  49942300  49945031   LongRead.15791:1   LongRead.15791      +  \n",
       "\n",
       "[293476 rows x 12 columns]"
      ]
     },
     "execution_count": 24,
     "metadata": {},
     "output_type": "execute_result"
    }
   ],
   "source": [
    "c1"
   ]
  },
  {
   "cell_type": "code",
   "execution_count": 25,
   "id": "3682c529-a0fe-4a95-a908-546e856c56e5",
   "metadata": {},
   "outputs": [],
   "source": [
    "skipped = ca.groupby('event').size().reset_index()\n",
    "skipped.columns = ['exon', 'skipped_juncs']\n",
    "# skipped.index = skipped.exon\n",
    "\n",
    "included = df_SE.groupby('event').size().reset_index()\n",
    "included.columns = ['exon', 'included_juncs']\n",
    "# included.index = included.exon"
   ]
  },
  {
   "cell_type": "code",
   "execution_count": 26,
   "id": "0c4e7608-1ec6-4fb3-94cc-a21bf9caddf8",
   "metadata": {},
   "outputs": [],
   "source": [
    "exon_psi = pd.merge(skipped, included, how='outer', left_on='exon', right_on='exon').fillna(0)\n",
    "exon_psi['PSI'] = exon_psi.included_juncs/(exon_psi.included_juncs + exon_psi.skipped_juncs)\n",
    "exon_psi = exon_psi.set_index('exon')\n",
    "# df__ = df.copy()\n",
    "df__ = df.set_index('event')\n",
    "exon_psi['LE_n'] = df__.loc[exon_psi.index].LE_n"
   ]
  },
  {
   "cell_type": "code",
   "execution_count": 27,
   "id": "856c0212-65f2-49a2-bb16-6afcf05c323d",
   "metadata": {},
   "outputs": [],
   "source": [
    "# ((exon_psi.loc[(exon_psi.PSI >= 0.001) & (exon_psi.PSI < 0.01)].LE_n % 3) == 0).mean()"
   ]
  },
  {
   "cell_type": "code",
   "execution_count": 31,
   "id": "25dbfb83-8986-4308-bb27-d3d4d4de5002",
   "metadata": {},
   "outputs": [
    {
     "data": {
      "text/plain": [
       "0.3902439024390244"
      ]
     },
     "execution_count": 31,
     "metadata": {},
     "output_type": "execute_result"
    }
   ],
   "source": [
    "((exon_psi.loc[(exon_psi.PSI >= 0.01) & (exon_psi.PSI < 0.05)].LE_n % 3) == 0).mean()"
   ]
  },
  {
   "cell_type": "code",
   "execution_count": 32,
   "id": "bec46847-448c-4e42-a89f-7c1314dd7f96",
   "metadata": {},
   "outputs": [
    {
     "data": {
      "text/plain": [
       "0.44642857142857145"
      ]
     },
     "execution_count": 32,
     "metadata": {},
     "output_type": "execute_result"
    }
   ],
   "source": [
    "((exon_psi.loc[(exon_psi.PSI >= 0.05) & (exon_psi.PSI < 0.1)].LE_n % 3) == 0).mean()"
   ]
  },
  {
   "cell_type": "code",
   "execution_count": 33,
   "id": "3a70c9d0-46dd-459a-bb89-8c36d450f7c0",
   "metadata": {},
   "outputs": [
    {
     "data": {
      "text/plain": [
       "0.5309734513274337"
      ]
     },
     "execution_count": 33,
     "metadata": {},
     "output_type": "execute_result"
    }
   ],
   "source": [
    "((exon_psi.loc[(exon_psi.PSI >= 0.1) & (exon_psi.PSI < 0.25)].LE_n % 3) == 0).mean()"
   ]
  },
  {
   "cell_type": "code",
   "execution_count": 34,
   "id": "6e5369ef-5a6e-427a-9c4b-dacde1ba0d71",
   "metadata": {},
   "outputs": [
    {
     "data": {
      "text/plain": [
       "0.4940898345153664"
      ]
     },
     "execution_count": 34,
     "metadata": {},
     "output_type": "execute_result"
    }
   ],
   "source": [
    "((exon_psi.loc[(exon_psi.PSI >= 0.25) & (exon_psi.PSI < 0.75)].LE_n % 3) == 0).mean()"
   ]
  },
  {
   "cell_type": "code",
   "execution_count": 19,
   "id": "304e1856-f316-4589-b1e4-5926dead994f",
   "metadata": {},
   "outputs": [
    {
     "data": {
      "text/plain": [
       "(197065, 12)"
      ]
     },
     "execution_count": 19,
     "metadata": {},
     "output_type": "execute_result"
    }
   ],
   "source": [
    "df.merge(gm_m1, left_on=['chrom', 'donor_c2', 'receptor_c2'], right_on=['chrom', 'start', 'end']).shape"
   ]
  },
  {
   "cell_type": "code",
   "execution_count": 22,
   "id": "4fe0bcba",
   "metadata": {},
   "outputs": [
    {
     "data": {
      "text/plain": [
       "(39572, 12)"
      ]
     },
     "execution_count": 22,
     "metadata": {},
     "output_type": "execute_result"
    }
   ],
   "source": [
    "df.merge(gm_m1, left_on=['chrom', 'donor_c1', 'receptor_c2'], right_on=['chrom', 'start', 'end']).shape"
   ]
  },
  {
   "cell_type": "code",
   "execution_count": null,
   "id": "a19a8e0f",
   "metadata": {},
   "outputs": [],
   "source": []
  }
 ],
 "metadata": {
  "kernelspec": {
   "display_name": "Python 3",
   "language": "python",
   "name": "python3"
  },
  "language_info": {
   "codemirror_mode": {
    "name": "ipython",
    "version": 3
   },
   "file_extension": ".py",
   "mimetype": "text/x-python",
   "name": "python",
   "nbconvert_exporter": "python",
   "pygments_lexer": "ipython3",
   "version": "3.8.8"
  }
 },
 "nbformat": 4,
 "nbformat_minor": 5
}
