{
 "cells": [
  {
   "cell_type": "code",
   "execution_count": 1,
   "id": "2aa1c5ea",
   "metadata": {},
   "outputs": [],
   "source": [
    "import numpy as np\n",
    "import pandas as pd\n",
    "from matplotlib import pyplot as plt\n",
    "\n",
    "intron_annot = pd.read_csv('../data/IntronAnnotationsFromYang.Updated.tsv.gz', sep='\\t')\n",
    "\n"
   ]
  },
  {
   "cell_type": "code",
   "execution_count": 2,
   "id": "8844908f",
   "metadata": {},
   "outputs": [],
   "source": [
    "def process_junc_file(sample, intron_annot):\n",
    "    gm = pd.read_csv('../code/LongReads/Junctions/{sample}.junc.gz'.format(sample=sample), sep='\\t', \n",
    "                  names = ['chrom', 'start', 'end', 'junction_id', 'read', 'strand'])\n",
    "    \n",
    "    gm = gm.merge(intron_annot, left_on=['chrom', 'start', 'end', 'strand'],\n",
    "          right_on=['chrom', 'start', 'end', 'strand'])\n",
    "\n",
    "    gm['junction_id'] = gm.chrom + ':' + gm.start.astype(str) + '-' + gm.end.astype(str) + ':' + gm.strand\n",
    "    \n",
    "    \n",
    "    NMD_annot = ['AnnotatedJunc_UnproductiveCodingGene', 'UnannotatedJunc_UnproductiveCodingGene']\n",
    "    pc_annot = ['AnnotatedJunc_ProductiveCodingGene', 'AnnotatedJunc_ProductiveCodingGene']\n",
    "    coding_gene = NMD_annot + pc_annot\n",
    "    gm['intron_count'] = [1]*len(gm)\n",
    "    gm['isNMD'] = gm.SuperAnnotation.isin(NMD_annot)\n",
    "    gm['isPC'] = gm.SuperAnnotation.isin(pc_annot)\n",
    "    gm['isCodingGene'] = gm.SuperAnnotation.isin(coding_gene)\n",
    "    \n",
    "    gm_by_read = gm.loc[gm.isCodingGene].groupby('read')[['intron_count', 'isPC', 'isNMD']].sum()\n",
    "    \n",
    "    sample_gm_array = sample_gm(gm_by_read)\n",
    "    \n",
    "    sample_gm_array = np.array(sample_gm_array)*100\n",
    "    \n",
    "    return gm, gm_by_read, sample_gm_array\n",
    "\n",
    "def sample_row(row, k, times = 100):\n",
    "    intron_count = int(row.intron_count)\n",
    "    nmd_count = int(row.isNMD)\n",
    "    \n",
    "    if nmd_count == 0:\n",
    "        nmd_sample_avg = 0\n",
    "        \n",
    "    else:\n",
    "    \n",
    "        juncs_population = ([1]*nmd_count) + ([0]*intron_count)\n",
    "\n",
    "        nmd_sample = []\n",
    "\n",
    "        for i in range(times):\n",
    "            sample = np.random.choice(juncs_population, k, replace=False).sum()\n",
    "\n",
    "            is_nmd = sample > 0\n",
    "            \n",
    "            nmd_sample.append(is_nmd)\n",
    "\n",
    "        nmd_sample_avg = np.mean(nmd_sample)\n",
    "    \n",
    "    return nmd_sample_avg\n",
    "    \n",
    "\n",
    "from tqdm import tqdm \n",
    "def sample_k(gm_by_read, k):\n",
    "    nmd_mean = []\n",
    "    for i in range(k, 16):\n",
    "        for idx, row in gm_by_read.loc[gm_by_read.intron_count == i].iterrows():\n",
    "            nmd_mean.append(np.mean(sample_row(row, k)))\n",
    "    return np.mean(nmd_mean)\n",
    "\n",
    "def sample_gm(gm_by_read):\n",
    "    k_list = []\n",
    "    for k in tqdm(range(1, 15)):\n",
    "        k_list.append(sample_k(gm_by_read, k))\n",
    "        \n",
    "    return k_list"
   ]
  },
  {
   "cell_type": "code",
   "execution_count": 3,
   "id": "873050cd",
   "metadata": {},
   "outputs": [
    {
     "name": "stderr",
     "output_type": "stream",
     "text": [
      "100%|██████████| 14/14 [02:58<00:00, 12.72s/it]\n",
      "100%|██████████| 14/14 [05:23<00:00, 23.11s/it]\n",
      "100%|██████████| 14/14 [02:46<00:00, 11.88s/it]\n",
      "100%|██████████| 14/14 [00:08<00:00,  1.68it/s]\n",
      "100%|██████████| 14/14 [00:04<00:00,  2.82it/s]\n",
      "100%|██████████| 14/14 [00:34<00:00,  2.44s/it]\n",
      "100%|██████████| 14/14 [00:52<00:00,  3.77s/it]\n",
      "100%|██████████| 14/14 [00:22<00:00,  1.59s/it]\n",
      "100%|██████████| 14/14 [00:22<00:00,  1.62s/it]\n"
     ]
    }
   ],
   "source": [
    "ctrl1, ctrl1_by_read, sample_ctrl1 = process_junc_file('CTRL1_shRNA.SAMEA8691110', intron_annot)\n",
    "ctrl2, ctrl2_by_read, sample_ctrl2 = process_junc_file('CTRL2_shRNA.SAMEA8691111', intron_annot)\n",
    "kdNMD, kdNMD_by_read, sample_kdNMD = process_junc_file('SMG6_SMG7_shRNA.SAMEA8691113', intron_annot)\n",
    "\n",
    "chRNA1, chRNA1_by_read, sample_chRNA1 = process_junc_file('K562_4sUchr_ONT_1.SAMN10505969', intron_annot)\n",
    "chRNA2, chRNA2_by_read, sample_chRNA2 = process_junc_file('K562_4sUchr_ONT_2.SAMN10505968', intron_annot)\n",
    "chRNA3, chRNA3_by_read, sample_chRNA3 = process_junc_file('K562_4sUchr_ONT_3.SAMN10505967', intron_annot)\n",
    "chRNA4, chRNA4_by_read, sample_chRNA4 = process_junc_file('K562_4sUchr_ONT_4.SAMN12726878', intron_annot)\n",
    "chRNA5, chRNA5_by_read, sample_chRNA5 = process_junc_file('K562_4sUchr_ONT_5a.SAMN12726877', intron_annot)\n",
    "chRNA5b, chRNA5b_by_read, sample_chRNA5b = process_junc_file('K562_4sUchr_ONT_5b.SAMN12726876', intron_annot)"
   ]
  },
  {
   "cell_type": "code",
   "execution_count": 4,
   "id": "e97a9942",
   "metadata": {},
   "outputs": [
    {
     "data": {
      "text/plain": [
       "7780"
      ]
     },
     "execution_count": 4,
     "metadata": {},
     "output_type": "execute_result"
    }
   ],
   "source": [
    "chRNA1.loc[chRNA1.isCodingGene].groupby('read').intron_count.sum().shape[0]"
   ]
  },
  {
   "cell_type": "code",
   "execution_count": 5,
   "id": "84ea3d13",
   "metadata": {},
   "outputs": [
    {
     "data": {
      "text/plain": [
       "3882"
      ]
     },
     "execution_count": 5,
     "metadata": {},
     "output_type": "execute_result"
    }
   ],
   "source": [
    "chRNA2.loc[chRNA2.isCodingGene].groupby('read').intron_count.sum().shape[0]"
   ]
  },
  {
   "cell_type": "code",
   "execution_count": 6,
   "id": "baed5d85",
   "metadata": {},
   "outputs": [
    {
     "data": {
      "text/plain": [
       "30319"
      ]
     },
     "execution_count": 6,
     "metadata": {},
     "output_type": "execute_result"
    }
   ],
   "source": [
    "chRNA3.loc[chRNA3.isCodingGene].groupby('read').intron_count.sum().shape[0]"
   ]
  },
  {
   "cell_type": "code",
   "execution_count": 7,
   "id": "a612239c",
   "metadata": {},
   "outputs": [
    {
     "data": {
      "text/plain": [
       "41706"
      ]
     },
     "execution_count": 7,
     "metadata": {},
     "output_type": "execute_result"
    }
   ],
   "source": [
    "chRNA4.loc[chRNA4.isCodingGene].groupby('read').intron_count.sum().shape[0]"
   ]
  },
  {
   "cell_type": "code",
   "execution_count": 8,
   "id": "0a1352f3",
   "metadata": {},
   "outputs": [
    {
     "data": {
      "text/plain": [
       "19188"
      ]
     },
     "execution_count": 8,
     "metadata": {},
     "output_type": "execute_result"
    }
   ],
   "source": [
    "chRNA5.loc[chRNA5.isCodingGene].groupby('read').intron_count.sum().shape[0]"
   ]
  },
  {
   "cell_type": "code",
   "execution_count": 9,
   "id": "42e92c6f",
   "metadata": {},
   "outputs": [
    {
     "data": {
      "text/plain": [
       "19018"
      ]
     },
     "execution_count": 9,
     "metadata": {},
     "output_type": "execute_result"
    }
   ],
   "source": [
    "chRNA5b.loc[chRNA5b.isCodingGene].groupby('read').intron_count.sum().shape[0]"
   ]
  },
  {
   "cell_type": "code",
   "execution_count": 10,
   "id": "52e775e5",
   "metadata": {},
   "outputs": [],
   "source": [
    "# sample_chRNA3 = np.array(sample_chRNA3)*100\n",
    "# sample_chRNA4 = np.array(sample_chRNA4)*100\n",
    "# sample_chRNA5 = np.array(sample_chRNA5)*100\n",
    "# sample_chRNA5b = np.array(sample_chRNA5b)*100\n",
    "\n",
    "# sample_kdNMD = np.array(sample_kdNMD)*100\n",
    "\n",
    "# sample_ctrl1 = np.array(sample_ctrl1)*100\n",
    "# sample_ctrl2 = np.array(sample_ctrl2)*100"
   ]
  },
  {
   "cell_type": "code",
   "execution_count": 11,
   "id": "3c306923",
   "metadata": {},
   "outputs": [
    {
     "data": {
      "image/png": "[encoded data removed]",
      "text/plain": [
       "<Figure size 342.72x161.28 with 1 Axes>"
      ]
     },
     "metadata": {
      "needs_background": "light"
     },
     "output_type": "display_data"
    }
   ],
   "source": [
    "from scipy.stats import binom\n",
    "\n",
    "figsize = (4.76, 2.24)\n",
    "fig, ax = plt.subplots(nrows=1, ncols=1, figsize=figsize, gridspec_kw={'hspace': 0.2})\n",
    "\n",
    "chRNA_median = [np.mean([sample_chRNA3[i], sample_chRNA4[i], sample_chRNA5[i], sample_chRNA5b[i]]) for i in range(14)]\n",
    "\n",
    "ax.plot(range(1, 15), chRNA_median, c='#1e7cff')\n",
    "\n",
    "ax.scatter(range(1, 15), sample_kdNMD, edgecolor='forestgreen', facecolor=\"None\", label ='Total RNA, NMD KD', zorder=2)\n",
    "ax.plot(range(1, 15), sample_kdNMD, c='forestgreen', zorder=2)\n",
    "\n",
    "ax.scatter(range(1, 15), sample_ctrl1, edgecolor='darkorange', facecolor=\"None\", zorder=2, \n",
    "           label='Total RNA, control')\n",
    "ax.scatter(range(1, 15), sample_ctrl2, edgecolor='darkorange', facecolor=\"None\", zorder=2)\n",
    "\n",
    "ctrl_median = [np.mean([sample_ctrl1[i], sample_ctrl2[i]]) for i in range(14)]\n",
    "\n",
    "ax.plot(range(1, 15), ctrl_median, c='darkorange', zorder=2)\n",
    "\n",
    "x = np.arange(1, 15)\n",
    "\n",
    "\n",
    "ax.scatter(range(1, 15), sample_chRNA3, edgecolor='#1e7cff', facecolor=\"None\", label ='Nascent RNA', zorder=2)\n",
    "ax.scatter(range(1, 15), sample_chRNA4, edgecolor='#1e7cff', facecolor=\"None\", zorder=2)\n",
    "ax.scatter(range(1, 15), sample_chRNA5, edgecolor='#1e7cff', facecolor=\"None\", zorder=2)\n",
    "ax.scatter(range(1, 15), sample_chRNA5b, edgecolor='#1e7cff', facecolor=\"None\", zorder=2)\n",
    "\n",
    "\n",
    "\n",
    "ax.fill_between(range(1, 15), 100*(1-binom.pmf(0, x, 0.015)), 100*(1-binom.pmf(0, x, 0.025)), color='tab:blue', \n",
    "                alpha=0.15, zorder=1)\n",
    "\n",
    "ax.fill_between(range(1, 15), 100*(1-binom.pmf(0, x, 0.002)), 100*(1-binom.pmf(0, x, 0.007)), color='tab:orange', \n",
    "                alpha=0.15, zorder=1)\n",
    "\n",
    "ax.legend(frameon=False,fontsize=12)\n",
    "\n",
    "\n",
    "ax.set_ylabel('Pct. of reads predicted\\nas NMD substrates', size=12)\n",
    "\n",
    "ax.spines['right'].set_visible(False)\n",
    "ax.spines['top'].set_visible(False)\n",
    "# ax.spines['bottom'].set_linewidth(0.5)\n",
    "# ax.spines['left'].set_linewidth(0.5)\n",
    "ax.set_xticks([2, 4, 6, 8, 10, 12, 14])\n",
    "ax.tick_params(labelsize=12, size=5)\n",
    "\n",
    "ax.set_xlabel('No. of junctions in long read', size=12)\n",
    "\n",
    "figdir = '/project2/yangili1/carlos_and_ben_shared/polished_plots/'\n",
    "\n",
    "\n",
    "plt.savefig(figdir + 'Percent_NMD_transcripts_ONT.pdf', dpi=300, bbox_inches='tight')\n",
    "plt.savefig(figdir + 'Percent_NMD_transcripts_ONT.png', dpi=300, bbox_inches='tight')"
   ]
  },
  {
   "cell_type": "code",
   "execution_count": 14,
   "id": "fa04543b",
   "metadata": {},
   "outputs": [
    {
     "name": "stderr",
     "output_type": "stream",
     "text": [
      "100%|██████████| 14/14 [03:01<00:00, 12.99s/it]\n",
      "100%|██████████| 14/14 [03:07<00:00, 13.41s/it]\n",
      "100%|██████████| 14/14 [02:23<00:00, 10.26s/it]\n",
      "100%|██████████| 14/14 [03:07<00:00, 13.39s/it]\n",
      "100%|██████████| 14/14 [02:17<00:00,  9.85s/it]\n",
      "100%|██████████| 14/14 [03:15<00:00, 13.98s/it]\n",
      "100%|██████████| 14/14 [02:42<00:00, 11.62s/it]\n",
      "100%|██████████| 14/14 [03:16<00:00, 14.02s/it]\n",
      "100%|██████████| 14/14 [02:20<00:00, 10.01s/it]\n",
      "100%|██████████| 14/14 [02:52<00:00, 12.35s/it]\n"
     ]
    }
   ],
   "source": [
    "gm1, gm1_by_read, sample_gm1 = process_junc_file('GM1', intron_annot)\n",
    "gm2, gm2_by_read, sample_gm2 = process_junc_file('GM2', intron_annot)\n",
    "gm3, gm3_by_read, sample_gm3 = process_junc_file('GM3', intron_annot)\n",
    "gm4, gm4_by_read, sample_gm4 = process_junc_file('GM4', intron_annot)\n",
    "gm5, gm5_by_read, sample_gm5 = process_junc_file('GM5', intron_annot)\n",
    "gm6, gm6_by_read, sample_gm6 = process_junc_file('GM6', intron_annot)\n",
    "gm7, gm7_by_read, sample_gm7 = process_junc_file('GM7', intron_annot)\n",
    "gm8, gm8_by_read, sample_gm8 = process_junc_file('GM8', intron_annot)\n",
    "gm9, gm9_by_read, sample_gm9 = process_junc_file('GM9', intron_annot)\n",
    "gm10, gm10_by_read, sample_gm10 = process_junc_file('GM10', intron_annot)\n"
   ]
  },
  {
   "cell_type": "code",
   "execution_count": 21,
   "id": "87865795",
   "metadata": {},
   "outputs": [
    {
     "data": {
      "image/png": "[encoded data removed]",
      "text/plain": [
       "<Figure size 342.72x161.28 with 1 Axes>"
      ]
     },
     "metadata": {
      "needs_background": "light"
     },
     "output_type": "display_data"
    }
   ],
   "source": [
    "from scipy.stats import binom\n",
    "\n",
    "figsize = (4.76, 2.24)\n",
    "\n",
    "fig, ax = plt.subplots(nrows=1, ncols=1, figsize=figsize, gridspec_kw={'hspace': 0.2})\n",
    "\n",
    "\n",
    "ax.scatter(range(1, 15), sample_gm1, edgecolor='#1e7cff', facecolor=\"None\", label ='Nuclear RNA', zorder=2)\n",
    "ax.scatter(range(1, 15), sample_gm3, edgecolor='#1e7cff', facecolor=\"None\", zorder=2)\n",
    "ax.scatter(range(1, 15), sample_gm5, edgecolor='#1e7cff', facecolor=\"None\", zorder=2)\n",
    "ax.scatter(range(1, 15), sample_gm7, edgecolor='#1e7cff', facecolor=\"None\", zorder=2)\n",
    "ax.scatter(range(1, 15), sample_gm9, edgecolor='#1e7cff', facecolor=\"None\", zorder=2)\n",
    "\n",
    "nuclear_median = [np.mean([sample_gm1[i], sample_gm3[i], sample_gm5[i], sample_gm7[i], sample_gm9[i]]) for i in range(14)]\n",
    "ax.plot(range(1, 15), nuclear_median, c='#1e7cff')\n",
    "\n",
    "ax.scatter(range(1, 15), sample_gm2, edgecolor='darkorange', facecolor=\"None\", label ='Total RNA', zorder=2)\n",
    "ax.scatter(range(1, 15), sample_gm4, edgecolor='darkorange', facecolor=\"None\", zorder=2)\n",
    "ax.scatter(range(1, 15), sample_gm6, edgecolor='darkorange', facecolor=\"None\", zorder=2)\n",
    "ax.scatter(range(1, 15), sample_gm8, edgecolor='darkorange', facecolor=\"None\", zorder=2)\n",
    "ax.scatter(range(1, 15), sample_gm10, edgecolor='darkorange', facecolor=\"None\", zorder=2)\n",
    "\n",
    "total_median = [np.mean([sample_gm2[i], sample_gm4[i], sample_gm6[i], sample_gm8[i], sample_gm10[i]]) for i in range(14)]\n",
    "ax.plot(range(1, 15), total_median, c='darkorange')\n",
    "\n",
    "x = np.arange(1, 15)\n",
    "\n",
    "\n",
    "\n",
    "ax.set_ylabel('Pct. of reads predicted\\nas NMD substrates', size=12)\n",
    "\n",
    "ax.spines['right'].set_visible(False)\n",
    "ax.spines['top'].set_visible(False)\n",
    "# ax.spines['bottom'].set_linewidth(0.5)\n",
    "# ax.spines['left'].set_linewidth(0.5)\n",
    "ax.set_xticks([2, 4, 6, 8, 10, 12, 14])\n",
    "ax.set_yticks([0, 5, 10, 15])\n",
    "ax.tick_params(labelsize=12, size=5)\n",
    "\n",
    "ax.set_xlabel('No. of junctions in long read', size=12)\n",
    "\n",
    "ax.fill_between(range(1, 15), 100*(1-binom.pmf(0, x, 0.0075)), 100*(1-binom.pmf(0, x, 0.015)), color='tab:blue', \n",
    "                alpha=0.15, zorder=1)\n",
    "\n",
    "ax.fill_between(range(1, 15), 100*(1-binom.pmf(0, x, 0.002)), 100*(1-binom.pmf(0, x, 0.007)), color='tab:orange', \n",
    "                alpha=0.15, zorder=1)\n",
    "\n",
    "ax.legend(frameon=False,fontsize=12)\n",
    "\n",
    "\n",
    "plt.savefig(figdir + 'Percent_NMD_transcripts_isoseq.pdf', dpi=300, bbox_inches='tight',)\n",
    "plt.savefig(figdir + 'Percent_NMD_transcripts_isoseq.png', dpi=300, bbox_inches='tight',)"
   ]
  },
  {
   "cell_type": "code",
   "execution_count": null,
   "id": "e28b3e5e",
   "metadata": {},
   "outputs": [],
   "source": []
  }
 ],
 "metadata": {
  "kernelspec": {
   "display_name": "Python 3 (ipykernel)",
   "language": "python",
   "name": "python3"
  },
  "language_info": {
   "codemirror_mode": {
    "name": "ipython",
    "version": 3
   },
   "file_extension": ".py",
   "mimetype": "text/x-python",
   "name": "python",
   "nbconvert_exporter": "python",
   "pygments_lexer": "ipython3",
   "version": "3.8.8"
  }
 },
 "nbformat": 4,
 "nbformat_minor": 5
}
