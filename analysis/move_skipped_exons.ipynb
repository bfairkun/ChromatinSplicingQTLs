{
 "cells": [
  {
   "cell_type": "code",
   "execution_count": 1,
   "id": "e1d8944b",
   "metadata": {},
   "outputs": [],
   "source": [
    "import numpy as np\n",
    "import pandas as pd\n",
    "from matplotlib import pyplot as plt\n",
    "import seaborn as sns"
   ]
  },
  {
   "cell_type": "code",
   "execution_count": 2,
   "id": "295c6d01",
   "metadata": {},
   "outputs": [
    {
     "name": "stderr",
     "output_type": "stream",
     "text": [
      "/tmp/ipykernel_89846/1355143005.py:7: FutureWarning: Indexing with multiple keys (implicitly converted to a tuple of keys) will be deprecated, use a list instead.\n",
      "  polyA = long_table.loc[long_table.Dataset.isin(\n",
      "/tmp/ipykernel_89846/1355143005.py:11: FutureWarning: Indexing with multiple keys (implicitly converted to a tuple of keys) will be deprecated, use a list instead.\n",
      "  chRNA = long_table.loc[long_table.Dataset.isin(\n"
     ]
    }
   ],
   "source": [
    "# long_table = pd.read_csv(\n",
    "#     '/project2/yangili1/bjf79/ChromatinSplicingQTLs/code/SplicingAnalysis/CombinedJuncTables/YRI.tsv.gz', sep='\\t'\n",
    "# )\n",
    "\n",
    "# long_table['intron_count'] = [1]*len(long_table)\n",
    "\n",
    "# polyA = long_table.loc[long_table.Dataset.isin(\n",
    "#     ['Expression.Splicing']) & (long_table.RepNumber == '1.junc')\n",
    "#                       ].groupby(['chrom', 'start', 'stop', 'strand'])['Count', 'intron_count'].sum().reset_index()\n",
    "\n",
    "# chRNA = long_table.loc[long_table.Dataset.isin(\n",
    "#     ['chRNA.Expression.Splicing']) & (long_table.RepNumber == '1.junc')\n",
    "#                       ].groupby(['chrom', 'start', 'stop', 'strand'])['Count', 'intron_count'].sum().reset_index()\n",
    "\n",
    "# del long_table"
   ]
  },
  {
   "cell_type": "code",
   "execution_count": 3,
   "id": "8ee05c7e",
   "metadata": {},
   "outputs": [
    {
     "data": {
      "text/html": [
       "<div>\n",
       "<style scoped>\n",
       "    .dataframe tbody tr th:only-of-type {\n",
       "        vertical-align: middle;\n",
       "    }\n",
       "\n",
       "    .dataframe tbody tr th {\n",
       "        vertical-align: top;\n",
       "    }\n",
       "\n",
       "    .dataframe thead th {\n",
       "        text-align: right;\n",
       "    }\n",
       "</style>\n",
       "<table border=\"1\" class=\"dataframe\">\n",
       "  <thead>\n",
       "    <tr style=\"text-align: right;\">\n",
       "      <th></th>\n",
       "      <th>chrom</th>\n",
       "      <th>start</th>\n",
       "      <th>stop</th>\n",
       "      <th>strand</th>\n",
       "      <th>Count</th>\n",
       "      <th>intron_count</th>\n",
       "    </tr>\n",
       "  </thead>\n",
       "  <tbody>\n",
       "    <tr>\n",
       "      <th>0</th>\n",
       "      <td>chr1</td>\n",
       "      <td>12721</td>\n",
       "      <td>13220</td>\n",
       "      <td>+</td>\n",
       "      <td>5</td>\n",
       "      <td>3</td>\n",
       "    </tr>\n",
       "    <tr>\n",
       "      <th>1</th>\n",
       "      <td>chr1</td>\n",
       "      <td>14695</td>\n",
       "      <td>185174</td>\n",
       "      <td>-</td>\n",
       "      <td>1</td>\n",
       "      <td>1</td>\n",
       "    </tr>\n",
       "    <tr>\n",
       "      <th>2</th>\n",
       "      <td>chr1</td>\n",
       "      <td>14829</td>\n",
       "      <td>15020</td>\n",
       "      <td>-</td>\n",
       "      <td>1</td>\n",
       "      <td>1</td>\n",
       "    </tr>\n",
       "    <tr>\n",
       "      <th>3</th>\n",
       "      <td>chr1</td>\n",
       "      <td>15038</td>\n",
       "      <td>15795</td>\n",
       "      <td>-</td>\n",
       "      <td>251</td>\n",
       "      <td>61</td>\n",
       "    </tr>\n",
       "    <tr>\n",
       "      <th>4</th>\n",
       "      <td>chr1</td>\n",
       "      <td>15561</td>\n",
       "      <td>15795</td>\n",
       "      <td>-</td>\n",
       "      <td>1</td>\n",
       "      <td>1</td>\n",
       "    </tr>\n",
       "    <tr>\n",
       "      <th>...</th>\n",
       "      <td>...</td>\n",
       "      <td>...</td>\n",
       "      <td>...</td>\n",
       "      <td>...</td>\n",
       "      <td>...</td>\n",
       "      <td>...</td>\n",
       "    </tr>\n",
       "    <tr>\n",
       "      <th>898317</th>\n",
       "      <td>chr9</td>\n",
       "      <td>138278829</td>\n",
       "      <td>138279387</td>\n",
       "      <td>-</td>\n",
       "      <td>2</td>\n",
       "      <td>2</td>\n",
       "    </tr>\n",
       "    <tr>\n",
       "      <th>898318</th>\n",
       "      <td>chr9</td>\n",
       "      <td>138281016</td>\n",
       "      <td>138281772</td>\n",
       "      <td>+</td>\n",
       "      <td>1</td>\n",
       "      <td>1</td>\n",
       "    </tr>\n",
       "    <tr>\n",
       "      <th>898319</th>\n",
       "      <td>chr9</td>\n",
       "      <td>138284022</td>\n",
       "      <td>138286247</td>\n",
       "      <td>+</td>\n",
       "      <td>1</td>\n",
       "      <td>1</td>\n",
       "    </tr>\n",
       "    <tr>\n",
       "      <th>898320</th>\n",
       "      <td>chr9</td>\n",
       "      <td>138286416</td>\n",
       "      <td>138287377</td>\n",
       "      <td>+</td>\n",
       "      <td>2</td>\n",
       "      <td>2</td>\n",
       "    </tr>\n",
       "    <tr>\n",
       "      <th>898321</th>\n",
       "      <td>chr9</td>\n",
       "      <td>138286416</td>\n",
       "      <td>138307290</td>\n",
       "      <td>+</td>\n",
       "      <td>5</td>\n",
       "      <td>4</td>\n",
       "    </tr>\n",
       "  </tbody>\n",
       "</table>\n",
       "<p>898322 rows × 6 columns</p>\n",
       "</div>"
      ],
      "text/plain": [
       "       chrom      start       stop strand  Count  intron_count\n",
       "0       chr1      12721      13220      +      5             3\n",
       "1       chr1      14695     185174      -      1             1\n",
       "2       chr1      14829      15020      -      1             1\n",
       "3       chr1      15038      15795      -    251            61\n",
       "4       chr1      15561      15795      -      1             1\n",
       "...      ...        ...        ...    ...    ...           ...\n",
       "898317  chr9  138278829  138279387      -      2             2\n",
       "898318  chr9  138281016  138281772      +      1             1\n",
       "898319  chr9  138284022  138286247      +      1             1\n",
       "898320  chr9  138286416  138287377      +      2             2\n",
       "898321  chr9  138286416  138307290      +      5             4\n",
       "\n",
       "[898322 rows x 6 columns]"
      ]
     },
     "execution_count": 3,
     "metadata": {},
     "output_type": "execute_result"
    }
   ],
   "source": [
    "polyA"
   ]
  },
  {
   "cell_type": "code",
   "execution_count": 8,
   "id": "592b3543",
   "metadata": {},
   "outputs": [
    {
     "data": {
      "text/html": [
       "<div>\n",
       "<style scoped>\n",
       "    .dataframe tbody tr th:only-of-type {\n",
       "        vertical-align: middle;\n",
       "    }\n",
       "\n",
       "    .dataframe tbody tr th {\n",
       "        vertical-align: top;\n",
       "    }\n",
       "\n",
       "    .dataframe thead th {\n",
       "        text-align: right;\n",
       "    }\n",
       "</style>\n",
       "<table border=\"1\" class=\"dataframe\">\n",
       "  <thead>\n",
       "    <tr style=\"text-align: right;\">\n",
       "      <th></th>\n",
       "      <th>chrom</th>\n",
       "      <th>start</th>\n",
       "      <th>stop</th>\n",
       "      <th>strand</th>\n",
       "      <th>Count</th>\n",
       "    </tr>\n",
       "  </thead>\n",
       "  <tbody>\n",
       "    <tr>\n",
       "      <th>0</th>\n",
       "      <td>chr1</td>\n",
       "      <td>12721</td>\n",
       "      <td>13220</td>\n",
       "      <td>+</td>\n",
       "      <td>5</td>\n",
       "    </tr>\n",
       "    <tr>\n",
       "      <th>1</th>\n",
       "      <td>chr1</td>\n",
       "      <td>14695</td>\n",
       "      <td>185174</td>\n",
       "      <td>-</td>\n",
       "      <td>1</td>\n",
       "    </tr>\n",
       "    <tr>\n",
       "      <th>2</th>\n",
       "      <td>chr1</td>\n",
       "      <td>14829</td>\n",
       "      <td>15020</td>\n",
       "      <td>-</td>\n",
       "      <td>1</td>\n",
       "    </tr>\n",
       "    <tr>\n",
       "      <th>3</th>\n",
       "      <td>chr1</td>\n",
       "      <td>15038</td>\n",
       "      <td>15795</td>\n",
       "      <td>-</td>\n",
       "      <td>251</td>\n",
       "    </tr>\n",
       "    <tr>\n",
       "      <th>4</th>\n",
       "      <td>chr1</td>\n",
       "      <td>15561</td>\n",
       "      <td>15795</td>\n",
       "      <td>-</td>\n",
       "      <td>1</td>\n",
       "    </tr>\n",
       "    <tr>\n",
       "      <th>...</th>\n",
       "      <td>...</td>\n",
       "      <td>...</td>\n",
       "      <td>...</td>\n",
       "      <td>...</td>\n",
       "      <td>...</td>\n",
       "    </tr>\n",
       "    <tr>\n",
       "      <th>898317</th>\n",
       "      <td>chr9</td>\n",
       "      <td>138278829</td>\n",
       "      <td>138279387</td>\n",
       "      <td>-</td>\n",
       "      <td>2</td>\n",
       "    </tr>\n",
       "    <tr>\n",
       "      <th>898318</th>\n",
       "      <td>chr9</td>\n",
       "      <td>138281016</td>\n",
       "      <td>138281772</td>\n",
       "      <td>+</td>\n",
       "      <td>1</td>\n",
       "    </tr>\n",
       "    <tr>\n",
       "      <th>898319</th>\n",
       "      <td>chr9</td>\n",
       "      <td>138284022</td>\n",
       "      <td>138286247</td>\n",
       "      <td>+</td>\n",
       "      <td>1</td>\n",
       "    </tr>\n",
       "    <tr>\n",
       "      <th>898320</th>\n",
       "      <td>chr9</td>\n",
       "      <td>138286416</td>\n",
       "      <td>138287377</td>\n",
       "      <td>+</td>\n",
       "      <td>2</td>\n",
       "    </tr>\n",
       "    <tr>\n",
       "      <th>898321</th>\n",
       "      <td>chr9</td>\n",
       "      <td>138286416</td>\n",
       "      <td>138307290</td>\n",
       "      <td>+</td>\n",
       "      <td>5</td>\n",
       "    </tr>\n",
       "  </tbody>\n",
       "</table>\n",
       "<p>898322 rows × 5 columns</p>\n",
       "</div>"
      ],
      "text/plain": [
       "       chrom      start       stop strand  Count\n",
       "0       chr1      12721      13220      +      5\n",
       "1       chr1      14695     185174      -      1\n",
       "2       chr1      14829      15020      -      1\n",
       "3       chr1      15038      15795      -    251\n",
       "4       chr1      15561      15795      -      1\n",
       "...      ...        ...        ...    ...    ...\n",
       "898317  chr9  138278829  138279387      -      2\n",
       "898318  chr9  138281016  138281772      +      1\n",
       "898319  chr9  138284022  138286247      +      1\n",
       "898320  chr9  138286416  138287377      +      2\n",
       "898321  chr9  138286416  138307290      +      5\n",
       "\n",
       "[898322 rows x 5 columns]"
      ]
     },
     "execution_count": 8,
     "metadata": {},
     "output_type": "execute_result"
    }
   ],
   "source": [
    "long_table.groupby(['chrom', 'start', 'stop', 'strand']).Count.sum().reset_index()"
   ]
  },
  {
   "cell_type": "code",
   "execution_count": 14,
   "id": "6d998fec",
   "metadata": {},
   "outputs": [],
   "source": [
    "exons = pd.read_csv('../../EVENT_INFO-hg38.tab.gz', sep='\\t')[['EVENT', 'COMPLEX', 'CO_C1', 'CO_A', 'CO_C2', 'LE_n']].dropna()"
   ]
  },
  {
   "cell_type": "code",
   "execution_count": 3,
   "id": "1b68d457",
   "metadata": {},
   "outputs": [],
   "source": [
    "impact = pd.read_csv('../../PROT_IMPACT-hg38-v3.tab.gz', sep='\\t')\n",
    "cons = pd.read_csv('../../EVENT_CONSERVATION.tab.gz', sep='\\t')"
   ]
  },
  {
   "cell_type": "code",
   "execution_count": 4,
   "id": "6fd3bae6",
   "metadata": {},
   "outputs": [
    {
     "name": "stderr",
     "output_type": "stream",
     "text": [
      "\n",
      "KeyboardInterrupt\n",
      "\n"
     ]
    }
   ],
   "source": []
  },
  {
   "cell_type": "code",
   "execution_count": 6,
   "id": "917666e7",
   "metadata": {},
   "outputs": [],
   "source": [
    "exon = exons.EVENT\n",
    "LE = exons.LE_n\n",
    "c1 = exons.CO_C1.str.split('-', expand=True)\n",
    "chrom = c1[0].str.split(':', expand=True)[0]\n",
    "donor_c1 = c1[1].astype(int)\n",
    "\n",
    "ca = exons.CO_A.str.split('-', expand=True)\n",
    "receptor_c1 = ca[0].str.split(':', expand=True)[1].astype(int) - 1\n",
    "donor_c2 = ca[1].astype(int)\n",
    "\n",
    "c2 = exons.CO_C2.str.split('-', expand=True)\n",
    "receptor_c2 = c2[0].str.split(':', expand=True)[1].astype(int) - 1"
   ]
  },
  {
   "cell_type": "code",
   "execution_count": 40,
   "id": "a84cf4bc",
   "metadata": {},
   "outputs": [],
   "source": [
    "df = pd.DataFrame()\n",
    "df['event'] = list(exon)\n",
    "df['chrom'] = list(chrom)\n",
    "df['donor_c1'] = list(donor_c1)\n",
    "df['receptor_c1'] = list(receptor_c1)\n",
    "df['donor_c2'] = list(donor_c2)\n",
    "df['receptor_c2'] = list(receptor_c2)\n",
    "df['LE_n'] = list(LE)\n",
    "\n",
    "df = df.merge(polyA, left_on = ['chrom', 'donor_c1', 'receptor_c1'], right_on=['chrom', 'start', 'stop'], how='left')\n",
    "df = df.merge(polyA, left_on = ['chrom', 'donor_c2', 'receptor_c2'], right_on=['chrom', 'start', 'stop'], how='left')\n",
    "df = df.merge(polyA, left_on = ['chrom', 'donor_c1', 'receptor_c2'], right_on=['chrom', 'start', 'stop'], how='left')\n",
    "\n",
    "df = df.fillna(0)\n",
    "df['PSI'] = (df.Count + df.Count_x)/((df.Count + df.Count_x)+ (2*df.Count_y))\n",
    "df['PSI_c1'] = (df.Count)/(df.Count + df.Count_x + df.Count_y)\n",
    "df['PSI_c2'] = (df.Count_x)/(df.Count + df.Count_x + df.Count_y)\n",
    "df = df.loc[~df.PSI.isna()]\n",
    "df = df.loc[df.event.isin(impact.loc[~impact.ONTO.isin(['NonCoding', \"5' UTR\", \"3' UTR\"])].EventID)]\n",
    "\n",
    "# df = df.loc[((df.PSI_c1 - df.PSI_c2).abs() < 0.9) | ((df.Count + df.Count_x)<10)]"
   ]
  },
  {
   "cell_type": "code",
   "execution_count": 47,
   "id": "cb39da1a",
   "metadata": {},
   "outputs": [],
   "source": [
    "# df = df.loc[ ([x[:5]=='HsaEX' for x in df.event])]\n",
    "df = df.loc[(((df.intron_count > 50) & (df.intron_count_x > 50)) | (df.intron_count_y > 100)) & ([x[:5]=='HsaEX' for x in df.event])]"
   ]
  },
  {
   "cell_type": "code",
   "execution_count": 50,
   "id": "d2b52443",
   "metadata": {},
   "outputs": [],
   "source": [
    "df = df.loc[((df.PSI_c1 - df.PSI_c2).abs() < 0.1) | ((df.Count + df.Count_x)>100)]"
   ]
  },
  {
   "cell_type": "code",
   "execution_count": 42,
   "id": "c81871e8",
   "metadata": {},
   "outputs": [],
   "source": [
    "x = np.linspace(0.333, 1, 3)"
   ]
  },
  {
   "cell_type": "code",
   "execution_count": 48,
   "id": "e82dc63f",
   "metadata": {},
   "outputs": [
    {
     "data": {
      "text/plain": [
       "array([0.333 , 0.6665, 1.    ])"
      ]
     },
     "execution_count": 48,
     "metadata": {},
     "output_type": "execute_result"
    }
   ],
   "source": [
    "x"
   ]
  },
  {
   "cell_type": "code",
   "execution_count": 49,
   "id": "6693f222",
   "metadata": {},
   "outputs": [],
   "source": [
    "polyA_ = []\n",
    "for i in x:\n",
    "    polyA_.append((df.loc[(df.PSI>i-0.333) & (df.PSI<=i)].LE_n%3==0).mean())"
   ]
  },
  {
   "cell_type": "code",
   "execution_count": 50,
   "id": "6dcda71f",
   "metadata": {},
   "outputs": [
    {
     "data": {
      "text/plain": [
       "[0.47265625, 0.5488599348534202, 0.43991416309012876]"
      ]
     },
     "execution_count": 50,
     "metadata": {},
     "output_type": "execute_result"
    }
   ],
   "source": [
    "polyA_"
   ]
  },
  {
   "cell_type": "code",
   "execution_count": 51,
   "id": "a75d416f",
   "metadata": {},
   "outputs": [
    {
     "data": {
      "text/plain": [
       "Text(0.5, 1.0, 'polyA data')"
      ]
     },
     "execution_count": 51,
     "metadata": {},
     "output_type": "execute_result"
    },
    {
     "data": {
      "image/png": "[encoded data removed]",
      "text/plain": [
       "<Figure size 640x480 with 1 Axes>"
      ]
     },
     "metadata": {},
     "output_type": "display_data"
    }
   ],
   "source": [
    "plt.bar(range(1, 4), np.array(polyA_)/0.333)\n",
    "plt.ylabel('Enrichment of symmetric exons in bin')\n",
    "plt.xlabel('% PSI bin')\n",
    "plt.xticks(x, ['33', '67', '100'])\n",
    "plt.title('polyA data')"
   ]
  },
  {
   "cell_type": "code",
   "execution_count": 181,
   "id": "fe362862",
   "metadata": {},
   "outputs": [
    {
     "data": {
      "text/plain": [
       "[<matplotlib.lines.Line2D at 0x7f9c33a120a0>]"
      ]
     },
     "execution_count": 181,
     "metadata": {},
     "output_type": "execute_result"
    },
    {
     "data": {
      "image/png": "[encoded data removed]",
      "text/plain": [
       "<Figure size 640x480 with 1 Axes>"
      ]
     },
     "metadata": {},
     "output_type": "display_data"
    }
   ],
   "source": [
    "plt.bar(range(1, 11), 100*np.array(polyA_))\n",
    "plt.ylabel('Pct symmetric exons in bin')\n",
    "plt.xlabel('% PSI bin')\n",
    "plt.xticks(x*10, ['10', '20', '30', '40', '50', '60', '70', '80', '90', '100'])\n",
    "plt.title('polyA data')\n",
    "plt.plot([0.5, 10.5], [33.333, 33.333], 'r--')"
   ]
  },
  {
   "cell_type": "code",
   "execution_count": 83,
   "id": "e3ecadc9",
   "metadata": {},
   "outputs": [
    {
     "data": {
      "text/plain": [
       "0.3638480139946491"
      ]
     },
     "execution_count": 83,
     "metadata": {},
     "output_type": "execute_result"
    }
   ],
   "source": [
    "(df.LE_n%3==0).mean()"
   ]
  },
  {
   "cell_type": "code",
   "execution_count": 482,
   "id": "d5ba0f62",
   "metadata": {},
   "outputs": [],
   "source": [
    "metrics = pd.read_csv('../../EVENT_METRICS-hg38.tab.gz', sep='\\t')"
   ]
  },
  {
   "cell_type": "code",
   "execution_count": 127,
   "id": "6cbafa6c",
   "metadata": {},
   "outputs": [],
   "source": [
    "exons_ = exons.merge(metrics, left_on='EVENT', right_on='EVENT')"
   ]
  },
  {
   "cell_type": "code",
   "execution_count": 141,
   "id": "ca5f024f",
   "metadata": {},
   "outputs": [
    {
     "data": {
      "text/plain": [
       "0.3544753691362864"
      ]
     },
     "execution_count": 141,
     "metadata": {},
     "output_type": "execute_result"
    }
   ],
   "source": [
    "(exons_.loc[exons_.Average < 0.1].LE_n%3==0).mean()"
   ]
  },
  {
   "cell_type": "code",
   "execution_count": 139,
   "id": "fdd48f0e",
   "metadata": {},
   "outputs": [
    {
     "data": {
      "text/plain": [
       "0.3666946225081668"
      ]
     },
     "execution_count": 139,
     "metadata": {},
     "output_type": "execute_result"
    }
   ],
   "source": [
    "(exons_.LE_n%3 == 0).mean()"
   ]
  },
  {
   "cell_type": "code",
   "execution_count": 479,
   "id": "7c662ed5",
   "metadata": {},
   "outputs": [],
   "source": [
    "exons_ = exons.merge(metrics, left_on='EVENT', right_on='EVENT')\n",
    "db_ = []\n",
    "for i in x:\n",
    "    db_.append((exons_.loc[(exons_.Average>i-0.1) & (exons_.Average<=i)].LE_n%3==0).mean())"
   ]
  },
  {
   "cell_type": "code",
   "execution_count": 480,
   "id": "4ad0b899",
   "metadata": {},
   "outputs": [
    {
     "data": {
      "text/plain": [
       "Text(0.5, 1.0, 'VastDB data')"
      ]
     },
     "execution_count": 480,
     "metadata": {},
     "output_type": "execute_result"
    },
    {
     "data": {
      "image/png": "[encoded data removed]",
      "text/plain": [
       "<Figure size 640x480 with 1 Axes>"
      ]
     },
     "metadata": {},
     "output_type": "display_data"
    }
   ],
   "source": [
    "plt.bar(range(1, 11), np.array(db_)/0.333)\n",
    "plt.ylabel('Enrichment of symmetric exons in bin')\n",
    "plt.xlabel('% PSI bin')\n",
    "plt.xticks(x*10, ['10', '20', '30', '40', '50', '60', '70', '80', '90', '100'])\n",
    "plt.title('VastDB data')"
   ]
  },
  {
   "cell_type": "code",
   "execution_count": 150,
   "id": "1bad9e2a",
   "metadata": {},
   "outputs": [],
   "source": [
    "impact = pd.read_csv('../../PROT_IMPACT-hg38-v3.tab.gz', sep='\\t')"
   ]
  },
  {
   "cell_type": "code",
   "execution_count": 165,
   "id": "b7bc4d77",
   "metadata": {},
   "outputs": [
    {
     "data": {
      "text/html": [
       "<div>\n",
       "<style scoped>\n",
       "    .dataframe tbody tr th:only-of-type {\n",
       "        vertical-align: middle;\n",
       "    }\n",
       "\n",
       "    .dataframe tbody tr th {\n",
       "        vertical-align: top;\n",
       "    }\n",
       "\n",
       "    .dataframe thead th {\n",
       "        text-align: right;\n",
       "    }\n",
       "</style>\n",
       "<table border=\"1\" class=\"dataframe\">\n",
       "  <thead>\n",
       "    <tr style=\"text-align: right;\">\n",
       "      <th></th>\n",
       "      <th>event</th>\n",
       "      <th>chrom</th>\n",
       "      <th>donor_c1</th>\n",
       "      <th>receptor_c1</th>\n",
       "      <th>donor_c2</th>\n",
       "      <th>receptor_c2</th>\n",
       "      <th>LE_n</th>\n",
       "      <th>start_x</th>\n",
       "      <th>stop_x</th>\n",
       "      <th>strand_x</th>\n",
       "      <th>...</th>\n",
       "      <th>stop_y</th>\n",
       "      <th>strand_y</th>\n",
       "      <th>Count_y</th>\n",
       "      <th>start</th>\n",
       "      <th>stop</th>\n",
       "      <th>strand</th>\n",
       "      <th>Count</th>\n",
       "      <th>PSI</th>\n",
       "      <th>PSI_c1</th>\n",
       "      <th>PSI_c2</th>\n",
       "    </tr>\n",
       "  </thead>\n",
       "  <tbody>\n",
       "    <tr>\n",
       "      <th>14</th>\n",
       "      <td>HsaEX0000301</td>\n",
       "      <td>chr19</td>\n",
       "      <td>1042176</td>\n",
       "      <td>1042314</td>\n",
       "      <td>1042397</td>\n",
       "      <td>1042745</td>\n",
       "      <td>83</td>\n",
       "      <td>1042176.0</td>\n",
       "      <td>1042314.0</td>\n",
       "      <td>+</td>\n",
       "      <td>...</td>\n",
       "      <td>1042745.0</td>\n",
       "      <td>+</td>\n",
       "      <td>467.0</td>\n",
       "      <td>0.0</td>\n",
       "      <td>0.0</td>\n",
       "      <td>0</td>\n",
       "      <td>0.0</td>\n",
       "      <td>0.390339</td>\n",
       "      <td>0.00000</td>\n",
       "      <td>0.561502</td>\n",
       "    </tr>\n",
       "    <tr>\n",
       "      <th>15</th>\n",
       "      <td>HsaEX0000317</td>\n",
       "      <td>chr19</td>\n",
       "      <td>1058059</td>\n",
       "      <td>1058145</td>\n",
       "      <td>1058269</td>\n",
       "      <td>1058617</td>\n",
       "      <td>124</td>\n",
       "      <td>1058059.0</td>\n",
       "      <td>1058145.0</td>\n",
       "      <td>+</td>\n",
       "      <td>...</td>\n",
       "      <td>1058617.0</td>\n",
       "      <td>+</td>\n",
       "      <td>1989.0</td>\n",
       "      <td>0.0</td>\n",
       "      <td>0.0</td>\n",
       "      <td>0</td>\n",
       "      <td>0.0</td>\n",
       "      <td>0.333222</td>\n",
       "      <td>0.00000</td>\n",
       "      <td>0.499874</td>\n",
       "    </tr>\n",
       "    <tr>\n",
       "      <th>18</th>\n",
       "      <td>HsaEX0000537</td>\n",
       "      <td>chr1</td>\n",
       "      <td>94478315</td>\n",
       "      <td>94480463</td>\n",
       "      <td>94480606</td>\n",
       "      <td>94483169</td>\n",
       "      <td>143</td>\n",
       "      <td>94478315.0</td>\n",
       "      <td>94480463.0</td>\n",
       "      <td>+</td>\n",
       "      <td>...</td>\n",
       "      <td>94483169.0</td>\n",
       "      <td>+</td>\n",
       "      <td>2764.0</td>\n",
       "      <td>0.0</td>\n",
       "      <td>0.0</td>\n",
       "      <td>0</td>\n",
       "      <td>0.0</td>\n",
       "      <td>0.316265</td>\n",
       "      <td>0.00000</td>\n",
       "      <td>0.480549</td>\n",
       "    </tr>\n",
       "    <tr>\n",
       "      <th>19</th>\n",
       "      <td>HsaEX0000578</td>\n",
       "      <td>chr11</td>\n",
       "      <td>119154915</td>\n",
       "      <td>119156328</td>\n",
       "      <td>119156452</td>\n",
       "      <td>119156563</td>\n",
       "      <td>124</td>\n",
       "      <td>0.0</td>\n",
       "      <td>0.0</td>\n",
       "      <td>0</td>\n",
       "      <td>...</td>\n",
       "      <td>119156563.0</td>\n",
       "      <td>+</td>\n",
       "      <td>2.0</td>\n",
       "      <td>0.0</td>\n",
       "      <td>0.0</td>\n",
       "      <td>0</td>\n",
       "      <td>0.0</td>\n",
       "      <td>0.000000</td>\n",
       "      <td>0.00000</td>\n",
       "      <td>0.000000</td>\n",
       "    </tr>\n",
       "    <tr>\n",
       "      <th>20</th>\n",
       "      <td>HsaEX0000758</td>\n",
       "      <td>chr3</td>\n",
       "      <td>127677843</td>\n",
       "      <td>127679572</td>\n",
       "      <td>127679679</td>\n",
       "      <td>127679984</td>\n",
       "      <td>107</td>\n",
       "      <td>127677843.0</td>\n",
       "      <td>127679572.0</td>\n",
       "      <td>+</td>\n",
       "      <td>...</td>\n",
       "      <td>127679984.0</td>\n",
       "      <td>+</td>\n",
       "      <td>20.0</td>\n",
       "      <td>127677843.0</td>\n",
       "      <td>127679984.0</td>\n",
       "      <td>+</td>\n",
       "      <td>1084.0</td>\n",
       "      <td>0.964664</td>\n",
       "      <td>0.97482</td>\n",
       "      <td>0.007194</td>\n",
       "    </tr>\n",
       "    <tr>\n",
       "      <th>...</th>\n",
       "      <td>...</td>\n",
       "      <td>...</td>\n",
       "      <td>...</td>\n",
       "      <td>...</td>\n",
       "      <td>...</td>\n",
       "      <td>...</td>\n",
       "      <td>...</td>\n",
       "      <td>...</td>\n",
       "      <td>...</td>\n",
       "      <td>...</td>\n",
       "      <td>...</td>\n",
       "      <td>...</td>\n",
       "      <td>...</td>\n",
       "      <td>...</td>\n",
       "      <td>...</td>\n",
       "      <td>...</td>\n",
       "      <td>...</td>\n",
       "      <td>...</td>\n",
       "      <td>...</td>\n",
       "      <td>...</td>\n",
       "      <td>...</td>\n",
       "    </tr>\n",
       "    <tr>\n",
       "      <th>594250</th>\n",
       "      <td>HsaEX1014146</td>\n",
       "      <td>chr8</td>\n",
       "      <td>93705010</td>\n",
       "      <td>93709759</td>\n",
       "      <td>93709767</td>\n",
       "      <td>93709770</td>\n",
       "      <td>8</td>\n",
       "      <td>0.0</td>\n",
       "      <td>0.0</td>\n",
       "      <td>0</td>\n",
       "      <td>...</td>\n",
       "      <td>0.0</td>\n",
       "      <td>0</td>\n",
       "      <td>0.0</td>\n",
       "      <td>93705010.0</td>\n",
       "      <td>93709770.0</td>\n",
       "      <td>+</td>\n",
       "      <td>4.0</td>\n",
       "      <td>1.000000</td>\n",
       "      <td>1.00000</td>\n",
       "      <td>0.000000</td>\n",
       "    </tr>\n",
       "    <tr>\n",
       "      <th>594254</th>\n",
       "      <td>HsaEX1024660</td>\n",
       "      <td>chr12</td>\n",
       "      <td>101595095</td>\n",
       "      <td>101607550</td>\n",
       "      <td>101607553</td>\n",
       "      <td>101614495</td>\n",
       "      <td>3</td>\n",
       "      <td>0.0</td>\n",
       "      <td>0.0</td>\n",
       "      <td>0</td>\n",
       "      <td>...</td>\n",
       "      <td>0.0</td>\n",
       "      <td>0</td>\n",
       "      <td>0.0</td>\n",
       "      <td>101595095.0</td>\n",
       "      <td>101614495.0</td>\n",
       "      <td>+</td>\n",
       "      <td>2.0</td>\n",
       "      <td>1.000000</td>\n",
       "      <td>1.00000</td>\n",
       "      <td>0.000000</td>\n",
       "    </tr>\n",
       "    <tr>\n",
       "      <th>594269</th>\n",
       "      <td>HsaEX6059108</td>\n",
       "      <td>chr3</td>\n",
       "      <td>150603499</td>\n",
       "      <td>150614572</td>\n",
       "      <td>150614583</td>\n",
       "      <td>150622384</td>\n",
       "      <td>11</td>\n",
       "      <td>0.0</td>\n",
       "      <td>0.0</td>\n",
       "      <td>0</td>\n",
       "      <td>...</td>\n",
       "      <td>0.0</td>\n",
       "      <td>0</td>\n",
       "      <td>0.0</td>\n",
       "      <td>150603499.0</td>\n",
       "      <td>150622384.0</td>\n",
       "      <td>+</td>\n",
       "      <td>14432.0</td>\n",
       "      <td>1.000000</td>\n",
       "      <td>1.00000</td>\n",
       "      <td>0.000000</td>\n",
       "    </tr>\n",
       "    <tr>\n",
       "      <th>594270</th>\n",
       "      <td>HsaEX1039457</td>\n",
       "      <td>chr1</td>\n",
       "      <td>226596981</td>\n",
       "      <td>226601994</td>\n",
       "      <td>226601999</td>\n",
       "      <td>226602005</td>\n",
       "      <td>5</td>\n",
       "      <td>0.0</td>\n",
       "      <td>0.0</td>\n",
       "      <td>0</td>\n",
       "      <td>...</td>\n",
       "      <td>0.0</td>\n",
       "      <td>0</td>\n",
       "      <td>0.0</td>\n",
       "      <td>226596981.0</td>\n",
       "      <td>226602005.0</td>\n",
       "      <td>+</td>\n",
       "      <td>13.0</td>\n",
       "      <td>1.000000</td>\n",
       "      <td>1.00000</td>\n",
       "      <td>0.000000</td>\n",
       "    </tr>\n",
       "    <tr>\n",
       "      <th>594277</th>\n",
       "      <td>HsaEX0016640</td>\n",
       "      <td>chr3</td>\n",
       "      <td>130643023</td>\n",
       "      <td>130644990</td>\n",
       "      <td>130645002</td>\n",
       "      <td>130649068</td>\n",
       "      <td>12</td>\n",
       "      <td>0.0</td>\n",
       "      <td>0.0</td>\n",
       "      <td>0</td>\n",
       "      <td>...</td>\n",
       "      <td>130649068.0</td>\n",
       "      <td>+</td>\n",
       "      <td>1.0</td>\n",
       "      <td>0.0</td>\n",
       "      <td>0.0</td>\n",
       "      <td>0</td>\n",
       "      <td>0.0</td>\n",
       "      <td>0.000000</td>\n",
       "      <td>0.00000</td>\n",
       "      <td>0.000000</td>\n",
       "    </tr>\n",
       "  </tbody>\n",
       "</table>\n",
       "<p>206048 rows × 22 columns</p>\n",
       "</div>"
      ],
      "text/plain": [
       "               event  chrom   donor_c1  receptor_c1   donor_c2  receptor_c2  \\\n",
       "14      HsaEX0000301  chr19    1042176      1042314    1042397      1042745   \n",
       "15      HsaEX0000317  chr19    1058059      1058145    1058269      1058617   \n",
       "18      HsaEX0000537   chr1   94478315     94480463   94480606     94483169   \n",
       "19      HsaEX0000578  chr11  119154915    119156328  119156452    119156563   \n",
       "20      HsaEX0000758   chr3  127677843    127679572  127679679    127679984   \n",
       "...              ...    ...        ...          ...        ...          ...   \n",
       "594250  HsaEX1014146   chr8   93705010     93709759   93709767     93709770   \n",
       "594254  HsaEX1024660  chr12  101595095    101607550  101607553    101614495   \n",
       "594269  HsaEX6059108   chr3  150603499    150614572  150614583    150622384   \n",
       "594270  HsaEX1039457   chr1  226596981    226601994  226601999    226602005   \n",
       "594277  HsaEX0016640   chr3  130643023    130644990  130645002    130649068   \n",
       "\n",
       "        LE_n      start_x       stop_x strand_x  ...       stop_y  strand_y  \\\n",
       "14        83    1042176.0    1042314.0        +  ...    1042745.0         +   \n",
       "15       124    1058059.0    1058145.0        +  ...    1058617.0         +   \n",
       "18       143   94478315.0   94480463.0        +  ...   94483169.0         +   \n",
       "19       124          0.0          0.0        0  ...  119156563.0         +   \n",
       "20       107  127677843.0  127679572.0        +  ...  127679984.0         +   \n",
       "...      ...          ...          ...      ...  ...          ...       ...   \n",
       "594250     8          0.0          0.0        0  ...          0.0         0   \n",
       "594254     3          0.0          0.0        0  ...          0.0         0   \n",
       "594269    11          0.0          0.0        0  ...          0.0         0   \n",
       "594270     5          0.0          0.0        0  ...          0.0         0   \n",
       "594277    12          0.0          0.0        0  ...  130649068.0         +   \n",
       "\n",
       "        Count_y        start         stop  strand    Count       PSI   PSI_c1  \\\n",
       "14        467.0          0.0          0.0       0      0.0  0.390339  0.00000   \n",
       "15       1989.0          0.0          0.0       0      0.0  0.333222  0.00000   \n",
       "18       2764.0          0.0          0.0       0      0.0  0.316265  0.00000   \n",
       "19          2.0          0.0          0.0       0      0.0  0.000000  0.00000   \n",
       "20         20.0  127677843.0  127679984.0       +   1084.0  0.964664  0.97482   \n",
       "...         ...          ...          ...     ...      ...       ...      ...   \n",
       "594250      0.0   93705010.0   93709770.0       +      4.0  1.000000  1.00000   \n",
       "594254      0.0  101595095.0  101614495.0       +      2.0  1.000000  1.00000   \n",
       "594269      0.0  150603499.0  150622384.0       +  14432.0  1.000000  1.00000   \n",
       "594270      0.0  226596981.0  226602005.0       +     13.0  1.000000  1.00000   \n",
       "594277      1.0          0.0          0.0       0      0.0  0.000000  0.00000   \n",
       "\n",
       "          PSI_c2  \n",
       "14      0.561502  \n",
       "15      0.499874  \n",
       "18      0.480549  \n",
       "19      0.000000  \n",
       "20      0.007194  \n",
       "...          ...  \n",
       "594250  0.000000  \n",
       "594254  0.000000  \n",
       "594269  0.000000  \n",
       "594270  0.000000  \n",
       "594277  0.000000  \n",
       "\n",
       "[206048 rows x 22 columns]"
      ]
     },
     "execution_count": 165,
     "metadata": {},
     "output_type": "execute_result"
    }
   ],
   "source": [
    "df.loc[df.event.isin(impact.loc[~impact.ONTO.isin(['NonCoding', \"5' UTR\", \"3' UTR\"])].EventID)]\n",
    "# impact.loc[~impact.ONTO.isin(['NonCoding', \"5' UTR\", \"3' UTR\"])]"
   ]
  },
  {
   "cell_type": "code",
   "execution_count": 166,
   "id": "836cddae",
   "metadata": {},
   "outputs": [
    {
     "data": {
      "text/plain": [
       "(233232, 22)"
      ]
     },
     "execution_count": 166,
     "metadata": {},
     "output_type": "execute_result"
    }
   ],
   "source": [
    "df.shape"
   ]
  },
  {
   "cell_type": "code",
   "execution_count": 157,
   "id": "9c1ad6fd",
   "metadata": {},
   "outputs": [
    {
     "data": {
      "text/html": [
       "<div>\n",
       "<style scoped>\n",
       "    .dataframe tbody tr th:only-of-type {\n",
       "        vertical-align: middle;\n",
       "    }\n",
       "\n",
       "    .dataframe tbody tr th {\n",
       "        vertical-align: top;\n",
       "    }\n",
       "\n",
       "    .dataframe thead th {\n",
       "        text-align: right;\n",
       "    }\n",
       "</style>\n",
       "<table border=\"1\" class=\"dataframe\">\n",
       "  <thead>\n",
       "    <tr style=\"text-align: right;\">\n",
       "      <th></th>\n",
       "      <th>EventID</th>\n",
       "      <th>ONTO</th>\n",
       "    </tr>\n",
       "  </thead>\n",
       "  <tbody>\n",
       "    <tr>\n",
       "      <th>0</th>\n",
       "      <td>HsaEX0000026</td>\n",
       "      <td>NonCoding</td>\n",
       "    </tr>\n",
       "    <tr>\n",
       "      <th>1</th>\n",
       "      <td>HsaEX0000056</td>\n",
       "      <td>NonCoding</td>\n",
       "    </tr>\n",
       "    <tr>\n",
       "      <th>2</th>\n",
       "      <td>HsaEX0000064</td>\n",
       "      <td>NonCoding</td>\n",
       "    </tr>\n",
       "    <tr>\n",
       "      <th>3</th>\n",
       "      <td>HsaEX0000080</td>\n",
       "      <td>NonCoding</td>\n",
       "    </tr>\n",
       "    <tr>\n",
       "      <th>4</th>\n",
       "      <td>HsaEX0000090</td>\n",
       "      <td>NonCoding</td>\n",
       "    </tr>\n",
       "    <tr>\n",
       "      <th>...</th>\n",
       "      <td>...</td>\n",
       "      <td>...</td>\n",
       "    </tr>\n",
       "    <tr>\n",
       "      <th>721639</th>\n",
       "      <td>HsaINT0085241</td>\n",
       "      <td>ORF disruption upon sequence inclusion</td>\n",
       "    </tr>\n",
       "    <tr>\n",
       "      <th>721640</th>\n",
       "      <td>HsaINT0085242</td>\n",
       "      <td>ORF disruption upon sequence inclusion</td>\n",
       "    </tr>\n",
       "    <tr>\n",
       "      <th>721641</th>\n",
       "      <td>HsaINT0085243</td>\n",
       "      <td>ORF disruption upon sequence inclusion</td>\n",
       "    </tr>\n",
       "    <tr>\n",
       "      <th>721642</th>\n",
       "      <td>HsaINT0085244</td>\n",
       "      <td>ORF disruption upon sequence inclusion</td>\n",
       "    </tr>\n",
       "    <tr>\n",
       "      <th>721643</th>\n",
       "      <td>HsaINT0085245</td>\n",
       "      <td>Alternative protein isoforms</td>\n",
       "    </tr>\n",
       "  </tbody>\n",
       "</table>\n",
       "<p>721644 rows × 2 columns</p>\n",
       "</div>"
      ],
      "text/plain": [
       "              EventID                                    ONTO\n",
       "0        HsaEX0000026                               NonCoding\n",
       "1        HsaEX0000056                               NonCoding\n",
       "2        HsaEX0000064                               NonCoding\n",
       "3        HsaEX0000080                               NonCoding\n",
       "4        HsaEX0000090                               NonCoding\n",
       "...               ...                                     ...\n",
       "721639  HsaINT0085241  ORF disruption upon sequence inclusion\n",
       "721640  HsaINT0085242  ORF disruption upon sequence inclusion\n",
       "721641  HsaINT0085243  ORF disruption upon sequence inclusion\n",
       "721642  HsaINT0085244  ORF disruption upon sequence inclusion\n",
       "721643  HsaINT0085245            Alternative protein isoforms\n",
       "\n",
       "[721644 rows x 2 columns]"
      ]
     },
     "execution_count": 157,
     "metadata": {},
     "output_type": "execute_result"
    }
   ],
   "source": [
    "impact"
   ]
  },
  {
   "cell_type": "code",
   "execution_count": 158,
   "id": "525fbb13",
   "metadata": {},
   "outputs": [
    {
     "data": {
      "text/html": [
       "<div>\n",
       "<style scoped>\n",
       "    .dataframe tbody tr th:only-of-type {\n",
       "        vertical-align: middle;\n",
       "    }\n",
       "\n",
       "    .dataframe tbody tr th {\n",
       "        vertical-align: top;\n",
       "    }\n",
       "\n",
       "    .dataframe thead th {\n",
       "        text-align: right;\n",
       "    }\n",
       "</style>\n",
       "<table border=\"1\" class=\"dataframe\">\n",
       "  <thead>\n",
       "    <tr style=\"text-align: right;\">\n",
       "      <th></th>\n",
       "      <th>event</th>\n",
       "      <th>chrom</th>\n",
       "      <th>donor_c1</th>\n",
       "      <th>receptor_c1</th>\n",
       "      <th>donor_c2</th>\n",
       "      <th>receptor_c2</th>\n",
       "      <th>LE_n</th>\n",
       "      <th>start_x</th>\n",
       "      <th>stop_x</th>\n",
       "      <th>strand_x</th>\n",
       "      <th>...</th>\n",
       "      <th>stop_y</th>\n",
       "      <th>strand_y</th>\n",
       "      <th>Count_y</th>\n",
       "      <th>start</th>\n",
       "      <th>stop</th>\n",
       "      <th>strand</th>\n",
       "      <th>Count</th>\n",
       "      <th>PSI</th>\n",
       "      <th>PSI_c1</th>\n",
       "      <th>PSI_c2</th>\n",
       "    </tr>\n",
       "  </thead>\n",
       "  <tbody>\n",
       "    <tr>\n",
       "      <th>0</th>\n",
       "      <td>HsaEX0000026</td>\n",
       "      <td>chr12</td>\n",
       "      <td>120209934</td>\n",
       "      <td>120210929</td>\n",
       "      <td>120211106</td>\n",
       "      <td>120212374</td>\n",
       "      <td>177</td>\n",
       "      <td>120209934.0</td>\n",
       "      <td>120210929.0</td>\n",
       "      <td>+</td>\n",
       "      <td>...</td>\n",
       "      <td>120212374.0</td>\n",
       "      <td>+</td>\n",
       "      <td>179.0</td>\n",
       "      <td>120209934.0</td>\n",
       "      <td>120212374.0</td>\n",
       "      <td>+</td>\n",
       "      <td>1299.0</td>\n",
       "      <td>0.829035</td>\n",
       "      <td>0.678329</td>\n",
       "      <td>0.228198</td>\n",
       "    </tr>\n",
       "    <tr>\n",
       "      <th>1</th>\n",
       "      <td>HsaEX0000056</td>\n",
       "      <td>chr14</td>\n",
       "      <td>28832060</td>\n",
       "      <td>28837252</td>\n",
       "      <td>28837330</td>\n",
       "      <td>28841803</td>\n",
       "      <td>78</td>\n",
       "      <td>28832060.0</td>\n",
       "      <td>28837252.0</td>\n",
       "      <td>+</td>\n",
       "      <td>...</td>\n",
       "      <td>28841803.0</td>\n",
       "      <td>+</td>\n",
       "      <td>1.0</td>\n",
       "      <td>28832060.0</td>\n",
       "      <td>28841803.0</td>\n",
       "      <td>+</td>\n",
       "      <td>1.0</td>\n",
       "      <td>0.900000</td>\n",
       "      <td>0.052632</td>\n",
       "      <td>0.894737</td>\n",
       "    </tr>\n",
       "    <tr>\n",
       "      <th>14</th>\n",
       "      <td>HsaEX0000301</td>\n",
       "      <td>chr19</td>\n",
       "      <td>1042176</td>\n",
       "      <td>1042314</td>\n",
       "      <td>1042397</td>\n",
       "      <td>1042745</td>\n",
       "      <td>83</td>\n",
       "      <td>1042176.0</td>\n",
       "      <td>1042314.0</td>\n",
       "      <td>+</td>\n",
       "      <td>...</td>\n",
       "      <td>1042745.0</td>\n",
       "      <td>+</td>\n",
       "      <td>467.0</td>\n",
       "      <td>0.0</td>\n",
       "      <td>0.0</td>\n",
       "      <td>0</td>\n",
       "      <td>0.0</td>\n",
       "      <td>0.390339</td>\n",
       "      <td>0.000000</td>\n",
       "      <td>0.561502</td>\n",
       "    </tr>\n",
       "    <tr>\n",
       "      <th>15</th>\n",
       "      <td>HsaEX0000317</td>\n",
       "      <td>chr19</td>\n",
       "      <td>1058059</td>\n",
       "      <td>1058145</td>\n",
       "      <td>1058269</td>\n",
       "      <td>1058617</td>\n",
       "      <td>124</td>\n",
       "      <td>1058059.0</td>\n",
       "      <td>1058145.0</td>\n",
       "      <td>+</td>\n",
       "      <td>...</td>\n",
       "      <td>1058617.0</td>\n",
       "      <td>+</td>\n",
       "      <td>1989.0</td>\n",
       "      <td>0.0</td>\n",
       "      <td>0.0</td>\n",
       "      <td>0</td>\n",
       "      <td>0.0</td>\n",
       "      <td>0.333222</td>\n",
       "      <td>0.000000</td>\n",
       "      <td>0.499874</td>\n",
       "    </tr>\n",
       "    <tr>\n",
       "      <th>18</th>\n",
       "      <td>HsaEX0000537</td>\n",
       "      <td>chr1</td>\n",
       "      <td>94478315</td>\n",
       "      <td>94480463</td>\n",
       "      <td>94480606</td>\n",
       "      <td>94483169</td>\n",
       "      <td>143</td>\n",
       "      <td>94478315.0</td>\n",
       "      <td>94480463.0</td>\n",
       "      <td>+</td>\n",
       "      <td>...</td>\n",
       "      <td>94483169.0</td>\n",
       "      <td>+</td>\n",
       "      <td>2764.0</td>\n",
       "      <td>0.0</td>\n",
       "      <td>0.0</td>\n",
       "      <td>0</td>\n",
       "      <td>0.0</td>\n",
       "      <td>0.316265</td>\n",
       "      <td>0.000000</td>\n",
       "      <td>0.480549</td>\n",
       "    </tr>\n",
       "    <tr>\n",
       "      <th>...</th>\n",
       "      <td>...</td>\n",
       "      <td>...</td>\n",
       "      <td>...</td>\n",
       "      <td>...</td>\n",
       "      <td>...</td>\n",
       "      <td>...</td>\n",
       "      <td>...</td>\n",
       "      <td>...</td>\n",
       "      <td>...</td>\n",
       "      <td>...</td>\n",
       "      <td>...</td>\n",
       "      <td>...</td>\n",
       "      <td>...</td>\n",
       "      <td>...</td>\n",
       "      <td>...</td>\n",
       "      <td>...</td>\n",
       "      <td>...</td>\n",
       "      <td>...</td>\n",
       "      <td>...</td>\n",
       "      <td>...</td>\n",
       "      <td>...</td>\n",
       "    </tr>\n",
       "    <tr>\n",
       "      <th>594254</th>\n",
       "      <td>HsaEX1024660</td>\n",
       "      <td>chr12</td>\n",
       "      <td>101595095</td>\n",
       "      <td>101607550</td>\n",
       "      <td>101607553</td>\n",
       "      <td>101614495</td>\n",
       "      <td>3</td>\n",
       "      <td>0.0</td>\n",
       "      <td>0.0</td>\n",
       "      <td>0</td>\n",
       "      <td>...</td>\n",
       "      <td>0.0</td>\n",
       "      <td>0</td>\n",
       "      <td>0.0</td>\n",
       "      <td>101595095.0</td>\n",
       "      <td>101614495.0</td>\n",
       "      <td>+</td>\n",
       "      <td>2.0</td>\n",
       "      <td>1.000000</td>\n",
       "      <td>1.000000</td>\n",
       "      <td>0.000000</td>\n",
       "    </tr>\n",
       "    <tr>\n",
       "      <th>594268</th>\n",
       "      <td>HsaEX1036423</td>\n",
       "      <td>chr3</td>\n",
       "      <td>150603499</td>\n",
       "      <td>150608699</td>\n",
       "      <td>150608702</td>\n",
       "      <td>150622384</td>\n",
       "      <td>3</td>\n",
       "      <td>0.0</td>\n",
       "      <td>0.0</td>\n",
       "      <td>0</td>\n",
       "      <td>...</td>\n",
       "      <td>0.0</td>\n",
       "      <td>0</td>\n",
       "      <td>0.0</td>\n",
       "      <td>150603499.0</td>\n",
       "      <td>150622384.0</td>\n",
       "      <td>+</td>\n",
       "      <td>14432.0</td>\n",
       "      <td>1.000000</td>\n",
       "      <td>1.000000</td>\n",
       "      <td>0.000000</td>\n",
       "    </tr>\n",
       "    <tr>\n",
       "      <th>594269</th>\n",
       "      <td>HsaEX6059108</td>\n",
       "      <td>chr3</td>\n",
       "      <td>150603499</td>\n",
       "      <td>150614572</td>\n",
       "      <td>150614583</td>\n",
       "      <td>150622384</td>\n",
       "      <td>11</td>\n",
       "      <td>0.0</td>\n",
       "      <td>0.0</td>\n",
       "      <td>0</td>\n",
       "      <td>...</td>\n",
       "      <td>0.0</td>\n",
       "      <td>0</td>\n",
       "      <td>0.0</td>\n",
       "      <td>150603499.0</td>\n",
       "      <td>150622384.0</td>\n",
       "      <td>+</td>\n",
       "      <td>14432.0</td>\n",
       "      <td>1.000000</td>\n",
       "      <td>1.000000</td>\n",
       "      <td>0.000000</td>\n",
       "    </tr>\n",
       "    <tr>\n",
       "      <th>594270</th>\n",
       "      <td>HsaEX1039457</td>\n",
       "      <td>chr1</td>\n",
       "      <td>226596981</td>\n",
       "      <td>226601994</td>\n",
       "      <td>226601999</td>\n",
       "      <td>226602005</td>\n",
       "      <td>5</td>\n",
       "      <td>0.0</td>\n",
       "      <td>0.0</td>\n",
       "      <td>0</td>\n",
       "      <td>...</td>\n",
       "      <td>0.0</td>\n",
       "      <td>0</td>\n",
       "      <td>0.0</td>\n",
       "      <td>226596981.0</td>\n",
       "      <td>226602005.0</td>\n",
       "      <td>+</td>\n",
       "      <td>13.0</td>\n",
       "      <td>1.000000</td>\n",
       "      <td>1.000000</td>\n",
       "      <td>0.000000</td>\n",
       "    </tr>\n",
       "    <tr>\n",
       "      <th>594277</th>\n",
       "      <td>HsaEX0016640</td>\n",
       "      <td>chr3</td>\n",
       "      <td>130643023</td>\n",
       "      <td>130644990</td>\n",
       "      <td>130645002</td>\n",
       "      <td>130649068</td>\n",
       "      <td>12</td>\n",
       "      <td>0.0</td>\n",
       "      <td>0.0</td>\n",
       "      <td>0</td>\n",
       "      <td>...</td>\n",
       "      <td>130649068.0</td>\n",
       "      <td>+</td>\n",
       "      <td>1.0</td>\n",
       "      <td>0.0</td>\n",
       "      <td>0.0</td>\n",
       "      <td>0</td>\n",
       "      <td>0.0</td>\n",
       "      <td>0.000000</td>\n",
       "      <td>0.000000</td>\n",
       "      <td>0.000000</td>\n",
       "    </tr>\n",
       "  </tbody>\n",
       "</table>\n",
       "<p>233232 rows × 22 columns</p>\n",
       "</div>"
      ],
      "text/plain": [
       "               event  chrom   donor_c1  receptor_c1   donor_c2  receptor_c2  \\\n",
       "0       HsaEX0000026  chr12  120209934    120210929  120211106    120212374   \n",
       "1       HsaEX0000056  chr14   28832060     28837252   28837330     28841803   \n",
       "14      HsaEX0000301  chr19    1042176      1042314    1042397      1042745   \n",
       "15      HsaEX0000317  chr19    1058059      1058145    1058269      1058617   \n",
       "18      HsaEX0000537   chr1   94478315     94480463   94480606     94483169   \n",
       "...              ...    ...        ...          ...        ...          ...   \n",
       "594254  HsaEX1024660  chr12  101595095    101607550  101607553    101614495   \n",
       "594268  HsaEX1036423   chr3  150603499    150608699  150608702    150622384   \n",
       "594269  HsaEX6059108   chr3  150603499    150614572  150614583    150622384   \n",
       "594270  HsaEX1039457   chr1  226596981    226601994  226601999    226602005   \n",
       "594277  HsaEX0016640   chr3  130643023    130644990  130645002    130649068   \n",
       "\n",
       "        LE_n      start_x       stop_x strand_x  ...       stop_y  strand_y  \\\n",
       "0        177  120209934.0  120210929.0        +  ...  120212374.0         +   \n",
       "1         78   28832060.0   28837252.0        +  ...   28841803.0         +   \n",
       "14        83    1042176.0    1042314.0        +  ...    1042745.0         +   \n",
       "15       124    1058059.0    1058145.0        +  ...    1058617.0         +   \n",
       "18       143   94478315.0   94480463.0        +  ...   94483169.0         +   \n",
       "...      ...          ...          ...      ...  ...          ...       ...   \n",
       "594254     3          0.0          0.0        0  ...          0.0         0   \n",
       "594268     3          0.0          0.0        0  ...          0.0         0   \n",
       "594269    11          0.0          0.0        0  ...          0.0         0   \n",
       "594270     5          0.0          0.0        0  ...          0.0         0   \n",
       "594277    12          0.0          0.0        0  ...  130649068.0         +   \n",
       "\n",
       "        Count_y        start         stop  strand    Count       PSI  \\\n",
       "0         179.0  120209934.0  120212374.0       +   1299.0  0.829035   \n",
       "1           1.0   28832060.0   28841803.0       +      1.0  0.900000   \n",
       "14        467.0          0.0          0.0       0      0.0  0.390339   \n",
       "15       1989.0          0.0          0.0       0      0.0  0.333222   \n",
       "18       2764.0          0.0          0.0       0      0.0  0.316265   \n",
       "...         ...          ...          ...     ...      ...       ...   \n",
       "594254      0.0  101595095.0  101614495.0       +      2.0  1.000000   \n",
       "594268      0.0  150603499.0  150622384.0       +  14432.0  1.000000   \n",
       "594269      0.0  150603499.0  150622384.0       +  14432.0  1.000000   \n",
       "594270      0.0  226596981.0  226602005.0       +     13.0  1.000000   \n",
       "594277      1.0          0.0          0.0       0      0.0  0.000000   \n",
       "\n",
       "          PSI_c1    PSI_c2  \n",
       "0       0.678329  0.228198  \n",
       "1       0.052632  0.894737  \n",
       "14      0.000000  0.561502  \n",
       "15      0.000000  0.499874  \n",
       "18      0.000000  0.480549  \n",
       "...          ...       ...  \n",
       "594254  1.000000  0.000000  \n",
       "594268  1.000000  0.000000  \n",
       "594269  1.000000  0.000000  \n",
       "594270  1.000000  0.000000  \n",
       "594277  0.000000  0.000000  \n",
       "\n",
       "[233232 rows x 22 columns]"
      ]
     },
     "execution_count": 158,
     "metadata": {},
     "output_type": "execute_result"
    }
   ],
   "source": [
    "df.merge()"
   ]
  },
  {
   "cell_type": "code",
   "execution_count": 160,
   "id": "4b10d1ee",
   "metadata": {},
   "outputs": [
    {
     "data": {
      "text/html": [
       "<div>\n",
       "<style scoped>\n",
       "    .dataframe tbody tr th:only-of-type {\n",
       "        vertical-align: middle;\n",
       "    }\n",
       "\n",
       "    .dataframe tbody tr th {\n",
       "        vertical-align: top;\n",
       "    }\n",
       "\n",
       "    .dataframe thead th {\n",
       "        text-align: right;\n",
       "    }\n",
       "</style>\n",
       "<table border=\"1\" class=\"dataframe\">\n",
       "  <thead>\n",
       "    <tr style=\"text-align: right;\">\n",
       "      <th></th>\n",
       "      <th>chrom</th>\n",
       "      <th>start</th>\n",
       "      <th>stop</th>\n",
       "      <th>strand</th>\n",
       "      <th>Count</th>\n",
       "    </tr>\n",
       "  </thead>\n",
       "  <tbody>\n",
       "    <tr>\n",
       "      <th>0</th>\n",
       "      <td>chr1</td>\n",
       "      <td>12721</td>\n",
       "      <td>13220</td>\n",
       "      <td>+</td>\n",
       "      <td>5</td>\n",
       "    </tr>\n",
       "    <tr>\n",
       "      <th>1</th>\n",
       "      <td>chr1</td>\n",
       "      <td>14695</td>\n",
       "      <td>185174</td>\n",
       "      <td>-</td>\n",
       "      <td>1</td>\n",
       "    </tr>\n",
       "    <tr>\n",
       "      <th>2</th>\n",
       "      <td>chr1</td>\n",
       "      <td>14829</td>\n",
       "      <td>15020</td>\n",
       "      <td>-</td>\n",
       "      <td>1</td>\n",
       "    </tr>\n",
       "    <tr>\n",
       "      <th>3</th>\n",
       "      <td>chr1</td>\n",
       "      <td>15038</td>\n",
       "      <td>15795</td>\n",
       "      <td>-</td>\n",
       "      <td>251</td>\n",
       "    </tr>\n",
       "    <tr>\n",
       "      <th>4</th>\n",
       "      <td>chr1</td>\n",
       "      <td>15561</td>\n",
       "      <td>15795</td>\n",
       "      <td>-</td>\n",
       "      <td>1</td>\n",
       "    </tr>\n",
       "    <tr>\n",
       "      <th>...</th>\n",
       "      <td>...</td>\n",
       "      <td>...</td>\n",
       "      <td>...</td>\n",
       "      <td>...</td>\n",
       "      <td>...</td>\n",
       "    </tr>\n",
       "    <tr>\n",
       "      <th>898317</th>\n",
       "      <td>chr9</td>\n",
       "      <td>138278829</td>\n",
       "      <td>138279387</td>\n",
       "      <td>-</td>\n",
       "      <td>2</td>\n",
       "    </tr>\n",
       "    <tr>\n",
       "      <th>898318</th>\n",
       "      <td>chr9</td>\n",
       "      <td>138281016</td>\n",
       "      <td>138281772</td>\n",
       "      <td>+</td>\n",
       "      <td>1</td>\n",
       "    </tr>\n",
       "    <tr>\n",
       "      <th>898319</th>\n",
       "      <td>chr9</td>\n",
       "      <td>138284022</td>\n",
       "      <td>138286247</td>\n",
       "      <td>+</td>\n",
       "      <td>1</td>\n",
       "    </tr>\n",
       "    <tr>\n",
       "      <th>898320</th>\n",
       "      <td>chr9</td>\n",
       "      <td>138286416</td>\n",
       "      <td>138287377</td>\n",
       "      <td>+</td>\n",
       "      <td>2</td>\n",
       "    </tr>\n",
       "    <tr>\n",
       "      <th>898321</th>\n",
       "      <td>chr9</td>\n",
       "      <td>138286416</td>\n",
       "      <td>138307290</td>\n",
       "      <td>+</td>\n",
       "      <td>5</td>\n",
       "    </tr>\n",
       "  </tbody>\n",
       "</table>\n",
       "<p>898322 rows × 5 columns</p>\n",
       "</div>"
      ],
      "text/plain": [
       "       chrom      start       stop strand  Count\n",
       "0       chr1      12721      13220      +      5\n",
       "1       chr1      14695     185174      -      1\n",
       "2       chr1      14829      15020      -      1\n",
       "3       chr1      15038      15795      -    251\n",
       "4       chr1      15561      15795      -      1\n",
       "...      ...        ...        ...    ...    ...\n",
       "898317  chr9  138278829  138279387      -      2\n",
       "898318  chr9  138281016  138281772      +      1\n",
       "898319  chr9  138284022  138286247      +      1\n",
       "898320  chr9  138286416  138287377      +      2\n",
       "898321  chr9  138286416  138307290      +      5\n",
       "\n",
       "[898322 rows x 5 columns]"
      ]
     },
     "execution_count": 160,
     "metadata": {},
     "output_type": "execute_result"
    }
   ],
   "source": [
    "polyA"
   ]
  },
  {
   "cell_type": "code",
   "execution_count": 202,
   "id": "481a4a52",
   "metadata": {},
   "outputs": [
    {
     "data": {
      "text/plain": [
       "0.26776478751084126"
      ]
     },
     "execution_count": 202,
     "metadata": {},
     "output_type": "execute_result"
    }
   ],
   "source": [
    "(exons.COMPLEX == 'IR').mean()"
   ]
  },
  {
   "cell_type": "code",
   "execution_count": 192,
   "id": "f0866044",
   "metadata": {},
   "outputs": [
    {
     "data": {
      "text/plain": [
       "array(['A_S', 'A_C3', 'A_C1', 'A_C2', 'A_NA', 'ANN', 'C3', 'S', 'C1',\n",
       "       'C1*', 'S*', 'C3*', 'C2', 'C2*', 'ME(1-2[100=96])',\n",
       "       'ME(13_22-14_23[100=100])', 'ME(29_31-30_32[100=100])',\n",
       "       'ME(4-5[100=98])', 'ME(57_45-58_44[100=100])',\n",
       "       'ME(53_45-54_44[100=100])', 'ME(1-2[96=100])',\n",
       "       'ME(25_28-26_29[98=93])', 'ME(34_30-35_31[100=98])',\n",
       "       'ME(2-3[99=98])', 'ME(13-14[100=100])', 'MIC-S',\n",
       "       'ME(226_176-227_177[100=100])', 'ME(4-5[100=100])',\n",
       "       'ME(2-3[95=100])', 'ME(1-3[100=100])', 'ME(1-2[100=100])',\n",
       "       'ME(14_28-15_27[100=100])', 'ME(30_31-31_32[100=96])',\n",
       "       'ME(14-15[99=99])', 'ME(1-2[97=92])', 'ME(1-2[95=97])',\n",
       "       'ME(1-2[100=100];2-3[98=100])', 'ME(34_26-35_25[100=100])',\n",
       "       'ME(23_26-24_27[100=100])', 'ME(30_37-31_38[100=100])',\n",
       "       'ME(1-2[99=100];2-3[99=100])', 'ME(1-3[100=100];2-3[99=100])',\n",
       "       'ME(10-11[92=100])', 'ME(33_29-34_28[100=100])', 'ME(5-6[100=97])',\n",
       "       'ME(2-3[100=100])', 'ME(10-11[99=96])', 'ME(1-2[95=100])',\n",
       "       'ME(3-4[100=99])', 'ME(1-2[100=99])', 'ME(2-3[98=100])',\n",
       "       'ME(1-2[98=100])', 'ME(7_10-9_9[100=100])', 'ME(2-4[100=96])',\n",
       "       'ME(2-4[99=100])', 'ME(4-5[100=99])', 'ME(10-11[100=100])',\n",
       "       'ME(1-2[91=100])', 'ME(2-3[100=96])', 'ME(33_47-34_46[100=100])',\n",
       "       'ME(11_11-13_12[100=100])', 'ME(5-6[100=100])',\n",
       "       'ME(11-12[100=86])', 'ME(1-2[100=100];1-3[100=100])',\n",
       "       'ME(2-5[94=100];2-6[99=100])', 'ME(31_29-32_28[100=100])',\n",
       "       'ME(3-4[100=100])', 'ME(1-2[98=99])',\n",
       "       'ME(2-5[97=100];4-5[99=100])', 'ME(3-6[99=100])', 'ME(4-5[99=98])',\n",
       "       'ME(1-2[97=100])', 'ME(2-4[100=99])', 'ME(18_22-19_21[100=99])',\n",
       "       'ME(15_17-16_14[100=100])', 'ME(1-3[95=100])', 'ME(2-4[97=84])',\n",
       "       'ME(13-14[100=83])', 'ME(11-12[100=96])',\n",
       "       'ME(19_23-20_21[100=99])', 'ME(5-6[100=99])',\n",
       "       'ME(19_20-20_19[100=100])', 'ME(6-7[100=98])', 'ME(9-11[100=100])',\n",
       "       'ME(26_20-30_19[100=100])', 'ME(1-3[99=100])',\n",
       "       'ME(8_16-9_14[100=100])', 'ME(3-4[99=99])', 'ME(1-3[96=100])',\n",
       "       'ME(13_18-16_19[100=97])', 'ME(39_37-40_34[100=100])',\n",
       "       'ME(1-2[98=100];2-3[96=100])', 'ME(1-2[92=100])',\n",
       "       'ME(1-3[98=100])', 'ME(3_7-4_4[100=91])', 'ME(1-2[94=100])',\n",
       "       'ME(10_13-9_14[100=100])', 'ME(6-7[93=99])', 'ME(2-5[100=100])',\n",
       "       'ME(7-8[100=100])', 'ME(1-4[98=100])', 'ME(16-17[100=94])',\n",
       "       'ME(6_7-7_8[100=94])', 'ME(3-4[99=100])', 'ME(2-3[100=81])',\n",
       "       'ME(5-9[100=87])', 'ME(3-4[100=87])', 'ME(17_21-18_20[100=94])',\n",
       "       'ME(8-9[100=100])', 'ME(3-4[100=91])',\n",
       "       'ME(1-2[98=100];1-6[100=100])', 'ME(44_51-45_50[100=99])',\n",
       "       'ME(2-3[100=99])', 'ME(30_23-31_24[100=100])', 'ME(1-2[100=94])',\n",
       "       'ME(1-3[97=100];1-4[100=100])', 'ME(1-3[97=100])',\n",
       "       'ME(1-2[98=98])', 'ME(2-3[95=94])', 'ME(1-2[99=100])',\n",
       "       'ME(10_8-9_9[100=100])', 'ME(19_19-20_21[100=100])',\n",
       "       'ME(3-4[100=98])', 'ME(1-5[98=100])', 'ME(1_2-3_1[100=100])',\n",
       "       'ME(6-7[100=99])', 'ME(4-5[96=100])', 'ME(43_39-45_38[100=99])',\n",
       "       'ME(1-3[100=100];1-5[99=100])', 'ME(1-3[93=100])',\n",
       "       'ME(3-5[100=100])', 'ME(1-3[97=100];1-4[99=100])',\n",
       "       'ME(1-4[99=100])', 'ME(50_48-51_47[100=100])', 'ME(1-2[99=96])',\n",
       "       'ME(24_17-25_18[100=100])', 'ME(4-5[97=99])', 'ME(8-9[99=100])',\n",
       "       'ME(1-2[100=97])', 'ME(6-7[100=100])', 'ME(1-2[100=98])',\n",
       "       'ME(10_17-9_16[100=100])', 'ME(1-4[100=100])',\n",
       "       'ME(1-5[100=100];1-6[100=100];1-7[99=100])', 'ME(2-6[99=100])',\n",
       "       'ME(3-5[96=100];3-6[98=100];3-7[98=100])',\n",
       "       'ME(1-6[100=100];2-6[99=100];3-6[98=100];4-6[98=100];6-7[96=100])',\n",
       "       'ME(1-3[100=96])', 'ME(87_81-88_82[100=100])',\n",
       "       'ME(4_5-5_3[100=95])', 'ME(2-3[96=95])',\n",
       "       'ME(100_96-101_95[100=100])', 'ME(1-2[96=94])', 'ME(1-4[95=100])',\n",
       "       'ME(127_132-128_133[100=100])', 'ME(2-3[99=100])',\n",
       "       'ME(4-8[96=100])', 'ME(1-2[93=100])', 'ME(1-6[96=100])',\n",
       "       'ME(1-6[100=100])', 'ME(1-2[98=100];1-3[100=100])',\n",
       "       'ME(2_3-3_2[100=99])', 'ME(1-2[99=92])', 'ME(9-10[100=92])',\n",
       "       'ME(1-2[100=91])', 'ME(2-3[98=96])', 'ME(51_47-52_48[100=99])',\n",
       "       'ME(1-2[100=100];1-3[99=100])', 'ME(27_32-29_29[100=100])',\n",
       "       'ME(2-3[94=100])', 'ME(5_5-6_6[100=100])',\n",
       "       'ME(23_21-24_20[100=100])', 'ME(1-5[99=100];1-6[94=100])',\n",
       "       'ME(1-6[94=100])', 'ME(2_4-3_8[93=100])', 'ME(1-4[91=100])',\n",
       "       'ME(1-5[99=100])', 'ME(2_3-3_4[100=100])', 'ME(0_1-1_3[100=100])',\n",
       "       'ME(1_4-2_5[99=95])', 'ME(1_2-3_1[100=99])',\n",
       "       'ME(1-2[100=100];1-3[99=100];1-4[94=100];1-5[100=100])',\n",
       "       'ME(1-2[100=100];2-4[100=100];2-5[97=100])',\n",
       "       'ME(1-3[99=100];3-5[98=100])', 'ME(1-4[94=100];2-4[100=100])',\n",
       "       'ME(1-5[100=100];2-5[97=100];3-5[98=100])', 'ME(3-5[100=89])',\n",
       "       'ME(1-3[100=100];2-3[98=100])', 'ME(3-5[94=100])',\n",
       "       'ME(3-4[99=81])', 'ME(7-8[96=98])', 'ME(2-3[100=88])',\n",
       "       'ME(1-5[100=100])', 'ME(4-5[100=100];4-6[100=99])',\n",
       "       'ME(4-5[100=100];5-6[100=100])', 'ME(4-6[100=99];5-6[100=100])',\n",
       "       'ME(1-3[91=100])', 'ME(2-4[99=100];3-4[100=100])',\n",
       "       'ME(2-3[93=99])', 'ME(2-4[99=100];3-4[99=100])',\n",
       "       'ME(1-3[100=100];1-4[100=100])', 'ME(3-4[100=96])',\n",
       "       'ME(5-7[98=90])', 'ME(9-10[100=94])', 'ME(1-3[94=100])',\n",
       "       'ME(1-3[97=100];1-4[98=100])', 'ME(1-3[100=100];2-3[100=100])',\n",
       "       'ME(1-2[98=100];2-3[100=100])', 'ME(1-2[99=100];1-3[100=100])',\n",
       "       nan, 'ME(2-3[99=97])', 'ME(1-3[99=100];2-3[100=100])', 'NA*',\n",
       "       'ME(3-5[98=100])', 'ME(1-2[96=100];1-3[97=100])',\n",
       "       'ME(1-2[100=100];1-3[98=100])', 'ME(1-3[98=100];2-3[98=100])',\n",
       "       'ME(11-13[100=99])', 'ME(11-12[100=99])',\n",
       "       'ME(11-12[100=99];11-13[100=99];11-15[100=99])', 'ME(5-8[100=93])',\n",
       "       'ME(1-3[99=100];1-4[96=100])', 'ME(1-4[96=100])',\n",
       "       'ME(4-5[99=100];4-6[98=100];4-7[96=100])',\n",
       "       'ME(1-5[100=100];3-5[96=100];4-5[99=100];5-7[94=100])',\n",
       "       'ME(13-14[99=100])', 'ME(1-3[95=100];1-4[100=100])',\n",
       "       'ME(1-3[95=100];3-4[100=100])', 'ME(1-4[100=100];3-4[100=100])',\n",
       "       'ME(6-7[100=86])', 'ME(1-2[99=100];1-3[96=100])',\n",
       "       'ME(1-4[100=98])', 'ME(1-5[95=100];2-5[94=100])',\n",
       "       'ME(2-3[96=100])', 'ME(2-3[96=100];2-5[94=100])',\n",
       "       'ME(1-5[95=100])', 'ME(11-12[100=100])',\n",
       "       'ME(1-4[96=100];3-4[100=100])', 'ME(1-3[98=100];2-3[99=100])',\n",
       "       'ME(2-5[94=100])', 'ME(1-2[93=100];1-3[99=100];1-4[98=100])',\n",
       "       'ME(1-2[93=100];2-3[99=100];2-4[99=100])',\n",
       "       'ME(1-3[99=100];2-3[99=100])', 'ME(1-4[98=100];2-4[99=100])',\n",
       "       'ME(1-3[99=100];2-3[98=100])', 'ME(1-6[99=100])',\n",
       "       'ME(1-6[99=100];1-9[100=100])',\n",
       "       'ME(1-4[100=100];2-4[100=100];3-4[95=100])', 'ME(3-4[95=100])',\n",
       "       'ME(2-4[100=100])', 'ME(1-2[100=100];2-3[96=100])',\n",
       "       'ME(1-2[99=99])', 'ME(1-2[98=89])', 'ME(1-3[98=100];2-3[96=100])',\n",
       "       'ME(1-2[98=100];1-3[98=100])', 'ME(1-3[97=98])', 'ME(1-3[92=100])',\n",
       "       'ME(2-3[100=100];2-4[98=100])', 'ME(1-4[99=100];2-4[98=100])',\n",
       "       'ME(9-10[100=100])', 'ME(1-4[94=100])', 'ME(1-3[100=99])',\n",
       "       'ME(2-3[97=100])', 'ME(3-5[95=100])', 'ME(4-5[98=100])',\n",
       "       'ME(3-5[95=100];4-5[98=100])', 'ME(4-5[96=91])',\n",
       "       'ME(1-6[100=100];4-6[93=100])', 'ME(1-4[97=100];4-6[93=100])',\n",
       "       'ME(1-4[97=100];1-6[100=100])',\n",
       "       'ME(3-5[99=100];3-6[99=100];3-7[100=100])', 'ME(3-5[99=100])',\n",
       "       'ME(3-7[100=100])', 'ME(1-4[97=100];1-6[96=100])',\n",
       "       'ME(1-4[97=100])', 'ME(9-12[99=100])',\n",
       "       'ME(2-4[99=100];2-5[98=100];2-6[100=100])',\n",
       "       'ME(3-4[97=100];3-5[100=100];3-6[100=100])',\n",
       "       'ME(2-4[99=100];3-4[97=100];4-5[98=100];4-6[100=100])',\n",
       "       'ME(2-5[98=100];3-5[100=100];4-5[98=100];5-6[99=100])',\n",
       "       'ME(2-6[100=100];3-6[100=100];4-6[100=100];5-6[99=100])',\n",
       "       'ME(3-4[95=96])', 'ME(2-3[100=97])', 'ME(1-3[96=100];1-6[96=100])',\n",
       "       'ME(6-8[95=100])', 'ME(5-7[100=100])',\n",
       "       'ME(1-6[100=100];2-6[99=100];3-6[99=100])',\n",
       "       'ME(1-5[100=100];2-5[99=100];3-5[98=100])',\n",
       "       'ME(1-3[99=100];2-3[97=100];3-5[98=100];3-6[99=100])',\n",
       "       'ME(1-2[95=100];2-3[97=100];2-5[99=100];2-6[99=100])',\n",
       "       'ME(2-4[97=100])', 'ME(2-3[98=100];2-4[97=100])', 'ME(4-5[97=97])',\n",
       "       'ME(1-2[98=100];1-3[99=100])', 'ME(1-2[100=100];1-3[97=100])',\n",
       "       'ME(5-8[100=100])',\n",
       "       'ME(1-2[100=100];1-3[99=100];1-4[100=100];1-6[100=100];1-8[99=100])',\n",
       "       'ME(1-3[99=100];3-4[98=100];3-6[100=100];3-8[99=100])',\n",
       "       'ME(1-4[100=100];3-4[98=100])',\n",
       "       'ME(1-6[100=100];3-6[100=100];6-8[97=100])',\n",
       "       'ME(1-8[99=100];3-8[99=100];6-8[97=100])', 'ME(2-3[96=85])',\n",
       "       'ME(1-3[99=100];1-4[99=100])', 'ME(2-3[100=100];2-4[99=100])',\n",
       "       'ME(1-4[99=100];2-4[99=100])', 'ME(1-4[93=100];2-4[95=100])',\n",
       "       'ME(2-4[95=100])', 'ME(2-5[99=92])', 'ME(11-12[98=100])',\n",
       "       'ME(3-6[98=100])', 'ME(1-6[100=100];3-6[98=100])',\n",
       "       'ME(1-4[99=100];2-4[96=100])', 'ME(1-2[100=100];2-4[96=100])',\n",
       "       'ME(1-2[100=100];1-3[100=100];1-4[99=100])',\n",
       "       'ME(2-6[100=100];4-6[99=100];5-6[99=100])',\n",
       "       'ME(2-5[99=100];5-6[99=100])', 'ME(4-6[99=100])',\n",
       "       'ME(2-5[99=100];2-6[100=100])', 'ME(5-7[100=95])',\n",
       "       'ME(1-3[100=100];2-3[95=100])', 'ME(3-4[98=99])',\n",
       "       'ME(1-4[100=100];2-4[99=100])', 'ME(1-2[100=100];2-4[99=100])',\n",
       "       'ME(1-2[100=100];1-3[100=100];1-4[100=100])', 'ME(3-4[95=94])',\n",
       "       'ME(7-9[100=100])', 'ME(4-5[99=100])',\n",
       "       'ME(2-4[100=100];4-5[99=100])', 'ME(2-4[100=100];2-5[97=100])',\n",
       "       'ME(2-4[99=85])', 'ME(1-3[100=100];2-3[97=100])',\n",
       "       'ME(7-9[99=100])', 'ME(1-2[90=100])', 'ME(21-22[95=99])',\n",
       "       'ME(1-2[98=100];1-3[97=100])', 'ME(1-2[98=100];2-3[99=100])',\n",
       "       'ME(1-3[97=100];2-3[99=100])', 'ME(1-2[100=100];1-4[98=100])',\n",
       "       'ME(6-7[99=100])', 'ME(2-5[100=95])', 'ME(2-8[95=100])',\n",
       "       'ME(1-2[100=100];2-3[100=100])', 'ME(3-4[98=100])',\n",
       "       'ME(1-4[100=100];1-5[98=100])',\n",
       "       'ME(1-6[99=100];2-6[97=100];4-6[98=100])', 'ME(4-6[98=100])',\n",
       "       'ME(1-2[98=100];2-6[97=100])', 'ME(1-2[98=100];1-6[99=100])',\n",
       "       'ME(2-4[98=100])', 'ME(1-3[95=100];2-3[95=100])',\n",
       "       'ME(1-4[99=100];2-4[98=100];3-4[96=100])',\n",
       "       'ME(1-3[99=100];2-3[92=100];3-4[96=100])',\n",
       "       'ME(1-2[91=100];2-3[92=100];2-4[98=100])',\n",
       "       'ME(1-2[91=100];1-3[99=100];1-4[99=100])',\n",
       "       'ME(35_35-36_36[100=100])', 'ME(23_24-24_25[100=100])',\n",
       "       'ME(6_6-7_7[100=95])', 'MIC_S', 'IR', 'Alt3', 'Alt5', 'MIC-M'],\n",
       "      dtype=object)"
      ]
     },
     "execution_count": 192,
     "metadata": {},
     "output_type": "execute_result"
    }
   ],
   "source": [
    "exons.COMPLEX.unique()"
   ]
  },
  {
   "cell_type": "code",
   "execution_count": 219,
   "id": "012aa67b",
   "metadata": {},
   "outputs": [
    {
     "data": {
      "text/plain": [
       "0.3698152216048585"
      ]
     },
     "execution_count": 219,
     "metadata": {},
     "output_type": "execute_result"
    }
   ],
   "source": [
    "((exons.loc[exons.COMPLEX=='A_C1'].LE_n%3)==0).mean()"
   ]
  },
  {
   "cell_type": "code",
   "execution_count": 221,
   "id": "d34aa1ac",
   "metadata": {},
   "outputs": [
    {
     "name": "stderr",
     "output_type": "stream",
     "text": [
      "/project2/mstephens/cfbuenabadn/anaconda3/envs/jnotebook/lib/python3.8/site-packages/IPython/core/interactiveshell.py:3266: DtypeWarning: Columns (4,5) have mixed types.Specify dtype option on import or set low_memory=False.\n",
      "  has_raised = await self.run_ast_nodes(code_ast.body, cell_name,\n"
     ]
    }
   ],
   "source": [
    "cons = pd.read_csv('../../EVENT_CONSERVATION.tab.gz', sep='\\t')"
   ]
  },
  {
   "cell_type": "code",
   "execution_count": 224,
   "id": "6136e425",
   "metadata": {},
   "outputs": [],
   "source": [
    "cons = cons.loc[cons.Ass1 == 'hg38']"
   ]
  },
  {
   "cell_type": "code",
   "execution_count": 246,
   "id": "7dbce3d3",
   "metadata": {},
   "outputs": [
    {
     "data": {
      "text/plain": [
       "array(['ALTERNATIVE', '\\\\N', 'HIGH PSI', 'LOW PSI'], dtype=object)"
      ]
     },
     "execution_count": 246,
     "metadata": {},
     "output_type": "execute_result"
    }
   ],
   "source": [
    "cons.Type.unique()"
   ]
  },
  {
   "cell_type": "code",
   "execution_count": 434,
   "id": "c51e4bca",
   "metadata": {},
   "outputs": [],
   "source": [
    "exon = exons.loc[exons.COMPLEX.isin(['S', 'A_S'])].EVENT\n",
    "LE = exons.loc[exons.COMPLEX.isin(['S', 'A_S'])].LE_n\n",
    "c1 = exons.loc[exons.COMPLEX.isin(['S', 'A_S'])].CO_C1.str.split('-', expand=True)\n",
    "chrom = c1[0].str.split(':', expand=True)[0]\n",
    "donor_c1 = c1[1].astype(int)\n",
    "\n",
    "ca = exons.loc[exons.COMPLEX.isin(['S', 'A_S'])].CO_A.str.split('-', expand=True)\n",
    "receptor_c1 = ca[0].str.split(':', expand=True)[1].astype(int) - 1\n",
    "donor_c2 = ca[1].astype(int)\n",
    "\n",
    "c2 = exons.loc[exons.COMPLEX.isin(['S', 'A_S'])].CO_C2.str.split('-', expand=True)\n",
    "receptor_c2 = c2[0].str.split(':', expand=True)[1].astype(int) - 1"
   ]
  },
  {
   "cell_type": "code",
   "execution_count": 387,
   "id": "19143c3b",
   "metadata": {},
   "outputs": [],
   "source": [
    "exon = exons.loc[~exons.COMPLEX.isin(['MIC_S', 'IR', 'Alt3', 'Alt5', 'MIC-M'])].dropna().EVENT\n",
    "LE = exons.loc[~exons.COMPLEX.isin(['MIC_S', 'IR', 'Alt3', 'Alt5', 'MIC-M'])].dropna().LE_n\n",
    "c1 = exons.loc[~exons.COMPLEX.isin(['MIC_S', 'IR', 'Alt3', 'Alt5', 'MIC-M'])].dropna().CO_C1.str.split('-', expand=True)\n",
    "chrom = c1[0].str.split(':', expand=True)[0]\n",
    "donor_c1 = c1[1].astype(int)\n",
    "\n",
    "ca = exons.loc[~exons.COMPLEX.isin(['MIC_S', 'IR', 'Alt3', 'Alt5', 'MIC-M'])].dropna().CO_A.str.split('-', expand=True)\n",
    "receptor_c1 = ca[0].str.split(':', expand=True)[1].astype(int) - 1\n",
    "donor_c2 = ca[1].astype(int)\n",
    "\n",
    "c2 = exons.loc[~exons.COMPLEX.isin(['MIC_S', 'IR', 'Alt3', 'Alt5', 'MIC-M'])].dropna().CO_C2.str.split('-', expand=True)\n",
    "receptor_c2 = c2[0].str.split(':', expand=True)[1].astype(int) - 1"
   ]
  },
  {
   "cell_type": "code",
   "execution_count": 457,
   "id": "9a4b299c",
   "metadata": {},
   "outputs": [],
   "source": [
    "df = pd.DataFrame()\n",
    "df['event'] = list(exon)\n",
    "df['chrom'] = list(chrom)\n",
    "df['donor_c1'] = list(donor_c1)\n",
    "df['receptor_c1'] = list(receptor_c1)\n",
    "df['donor_c2'] = list(donor_c2)\n",
    "df['receptor_c2'] = list(receptor_c2)\n",
    "df['LE_n'] = list(LE)\n",
    "\n",
    "df = df.merge(chRNA, left_on = ['chrom', 'donor_c1', 'receptor_c1'], right_on=['chrom', 'start', 'stop'], how='left')\n",
    "df = df.merge(chRNA, left_on = ['chrom', 'donor_c2', 'receptor_c2'], right_on=['chrom', 'start', 'stop'], how='left')\n",
    "df = df.merge(chRNA, left_on = ['chrom', 'donor_c1', 'receptor_c2'], right_on=['chrom', 'start', 'stop'], how='left')\n",
    "\n",
    "df = df.fillna(0)\n",
    "df['PSI'] = (df.Count + df.Count_x)/((df.Count + df.Count_x)+ (2*df.Count_y))\n",
    "df['PSI_c1'] = (df.Count)/(df.Count + df.Count_x + df.Count_y)\n",
    "df['PSI_c2'] = (df.Count_x)/(df.Count + df.Count_x + df.Count_y)\n",
    "df = df.loc[~df.PSI.isna()]\n",
    "df = df.loc[df.event.isin(impact.loc[~impact.ONTO.isin(['NonCoding', \"5' UTR\", \"3' UTR\"])].EventID)]\n",
    "\n",
    "# df = df.loc[((df.PSI_c1 - df.PSI_c2).abs() < 0.9) | ((df.Count + df.Count_x)<10)]"
   ]
  },
  {
   "cell_type": "code",
   "execution_count": 458,
   "id": "59a54644",
   "metadata": {},
   "outputs": [],
   "source": [
    "df_ = df.loc[df.event.isin(cons.loc[cons.Type == 'ALTERNATIVE'].EventID) & (\n",
    "    (df.PSI_c1 - df.PSI_c2).abs()<0.9) & ((df.Count + df.Count_x + df.Count_y)>500)]"
   ]
  },
  {
   "cell_type": "code",
   "execution_count": 436,
   "id": "6797f7d2",
   "metadata": {},
   "outputs": [],
   "source": [
    "df_ = df.loc[(\n",
    "    (df.PSI_c1 - df.PSI_c2).abs()<0.9) & ((df.Count + df.Count_x + df.Count_y)>500)]"
   ]
  },
  {
   "cell_type": "code",
   "execution_count": 459,
   "id": "6e0550f0",
   "metadata": {},
   "outputs": [],
   "source": [
    "polyA_ = []\n",
    "for i in x:\n",
    "    polyA_.append(((df_.loc[(df_.PSI>i-0.1) & (df_.PSI<=i)].LE_n%3)==0).mean())"
   ]
  },
  {
   "cell_type": "code",
   "execution_count": 460,
   "id": "e0ee4c93",
   "metadata": {},
   "outputs": [
    {
     "data": {
      "text/plain": [
       "[<matplotlib.lines.Line2D at 0x7f9b634699a0>]"
      ]
     },
     "execution_count": 460,
     "metadata": {},
     "output_type": "execute_result"
    },
    {
     "data": {
      "image/png": "[encoded data removed]",
      "text/plain": [
       "<Figure size 640x480 with 1 Axes>"
      ]
     },
     "metadata": {},
     "output_type": "display_data"
    }
   ],
   "source": [
    "plt.bar(range(1, 11), 100*np.array(polyA_))\n",
    "plt.ylabel('Pct symmetric exons in bin')\n",
    "plt.xlabel('% PSI bin')\n",
    "plt.xticks(x*10, ['10', '20', '30', '40', '50', '60', '70', '80', '90', '100'])\n",
    "plt.title('polyA data, ALTERNATIVE conserved exons')\n",
    "plt.plot([0.5, 10.5], [33.333, 33.333], 'r--')"
   ]
  },
  {
   "cell_type": "code",
   "execution_count": 296,
   "id": "e4338709",
   "metadata": {},
   "outputs": [
    {
     "data": {
      "text/plain": [
       "0          1915.0\n",
       "1            19.0\n",
       "14         1065.0\n",
       "15         3977.0\n",
       "18         5321.0\n",
       "           ...   \n",
       "594254        2.0\n",
       "594268    14432.0\n",
       "594269    14432.0\n",
       "594270       13.0\n",
       "594277        1.0\n",
       "Length: 233232, dtype: float64"
      ]
     },
     "execution_count": 296,
     "metadata": {},
     "output_type": "execute_result"
    }
   ],
   "source": [
    "df.Count + df.Count_x + df.Count_y"
   ]
  },
  {
   "cell_type": "code",
   "execution_count": 445,
   "id": "4a59272d",
   "metadata": {},
   "outputs": [
    {
     "data": {
      "text/html": [
       "<div>\n",
       "<style scoped>\n",
       "    .dataframe tbody tr th:only-of-type {\n",
       "        vertical-align: middle;\n",
       "    }\n",
       "\n",
       "    .dataframe tbody tr th {\n",
       "        vertical-align: top;\n",
       "    }\n",
       "\n",
       "    .dataframe thead th {\n",
       "        text-align: right;\n",
       "    }\n",
       "</style>\n",
       "<table border=\"1\" class=\"dataframe\">\n",
       "  <thead>\n",
       "    <tr style=\"text-align: right;\">\n",
       "      <th></th>\n",
       "      <th>EventID</th>\n",
       "      <th>ONTO</th>\n",
       "    </tr>\n",
       "  </thead>\n",
       "  <tbody>\n",
       "    <tr>\n",
       "      <th>0</th>\n",
       "      <td>HsaEX0000026</td>\n",
       "      <td>NonCoding</td>\n",
       "    </tr>\n",
       "    <tr>\n",
       "      <th>1</th>\n",
       "      <td>HsaEX0000056</td>\n",
       "      <td>NonCoding</td>\n",
       "    </tr>\n",
       "    <tr>\n",
       "      <th>2</th>\n",
       "      <td>HsaEX0000064</td>\n",
       "      <td>NonCoding</td>\n",
       "    </tr>\n",
       "    <tr>\n",
       "      <th>3</th>\n",
       "      <td>HsaEX0000080</td>\n",
       "      <td>NonCoding</td>\n",
       "    </tr>\n",
       "    <tr>\n",
       "      <th>4</th>\n",
       "      <td>HsaEX0000090</td>\n",
       "      <td>NonCoding</td>\n",
       "    </tr>\n",
       "    <tr>\n",
       "      <th>...</th>\n",
       "      <td>...</td>\n",
       "      <td>...</td>\n",
       "    </tr>\n",
       "    <tr>\n",
       "      <th>721639</th>\n",
       "      <td>HsaINT0085241</td>\n",
       "      <td>ORF disruption upon sequence inclusion</td>\n",
       "    </tr>\n",
       "    <tr>\n",
       "      <th>721640</th>\n",
       "      <td>HsaINT0085242</td>\n",
       "      <td>ORF disruption upon sequence inclusion</td>\n",
       "    </tr>\n",
       "    <tr>\n",
       "      <th>721641</th>\n",
       "      <td>HsaINT0085243</td>\n",
       "      <td>ORF disruption upon sequence inclusion</td>\n",
       "    </tr>\n",
       "    <tr>\n",
       "      <th>721642</th>\n",
       "      <td>HsaINT0085244</td>\n",
       "      <td>ORF disruption upon sequence inclusion</td>\n",
       "    </tr>\n",
       "    <tr>\n",
       "      <th>721643</th>\n",
       "      <td>HsaINT0085245</td>\n",
       "      <td>Alternative protein isoforms</td>\n",
       "    </tr>\n",
       "  </tbody>\n",
       "</table>\n",
       "<p>721644 rows × 2 columns</p>\n",
       "</div>"
      ],
      "text/plain": [
       "              EventID                                    ONTO\n",
       "0        HsaEX0000026                               NonCoding\n",
       "1        HsaEX0000056                               NonCoding\n",
       "2        HsaEX0000064                               NonCoding\n",
       "3        HsaEX0000080                               NonCoding\n",
       "4        HsaEX0000090                               NonCoding\n",
       "...               ...                                     ...\n",
       "721639  HsaINT0085241  ORF disruption upon sequence inclusion\n",
       "721640  HsaINT0085242  ORF disruption upon sequence inclusion\n",
       "721641  HsaINT0085243  ORF disruption upon sequence inclusion\n",
       "721642  HsaINT0085244  ORF disruption upon sequence inclusion\n",
       "721643  HsaINT0085245            Alternative protein isoforms\n",
       "\n",
       "[721644 rows x 2 columns]"
      ]
     },
     "execution_count": 445,
     "metadata": {},
     "output_type": "execute_result"
    }
   ],
   "source": [
    "metrics"
   ]
  },
  {
   "cell_type": "code",
   "execution_count": 564,
   "id": "2c8101e6",
   "metadata": {},
   "outputs": [],
   "source": [
    "exons_ = exons.merge(metrics, left_on='EVENT', right_on='EVENT')\n",
    "# db_ = []\n",
    "# for i in x:\n",
    "#     db_.append((exons_.loc[(exons_.Average>i-0.1) & (exons_.Average<=i)].LE_n%3==0).mean())"
   ]
  },
  {
   "cell_type": "code",
   "execution_count": 544,
   "id": "d595e892",
   "metadata": {},
   "outputs": [],
   "source": [
    "exons_ = exons_.loc[exons_.EVENT.isin(\n",
    "    impact.loc[~impact.ONTO.isin(['NonCoding', \"5' UTR\", \"3' UTR\"])].EventID)]"
   ]
  },
  {
   "cell_type": "code",
   "execution_count": 465,
   "id": "a49e61c9",
   "metadata": {},
   "outputs": [
    {
     "data": {
      "text/plain": [
       "0.4030436273422215"
      ]
     },
     "execution_count": 465,
     "metadata": {},
     "output_type": "execute_result"
    }
   ],
   "source": [
    "((exons_.loc[(exons_.Average > 90) & (exons_.Average < 900)].LE_n%3)==0).mean()"
   ]
  },
  {
   "cell_type": "code",
   "execution_count": 565,
   "id": "c452ccae",
   "metadata": {},
   "outputs": [
    {
     "data": {
      "text/plain": [
       "[<matplotlib.lines.Line2D at 0x7f9b6c7fd1c0>]"
      ]
     },
     "execution_count": 565,
     "metadata": {},
     "output_type": "execute_result"
    },
    {
     "data": {
      "image/png": "[encoded data removed]",
      "text/plain": [
       "<Figure size 640x480 with 1 Axes>"
      ]
     },
     "metadata": {},
     "output_type": "display_data"
    }
   ],
   "source": [
    "# exons_ = exons.merge(metrics, left_on='EVENT', right_on='EVENT')\n",
    "x_ = np.linspace(0.1, 1, 10)\n",
    "db_ = []\n",
    "for i in x_:\n",
    "    db_.append((exons_.loc[(exons_.Average>i-0.1) & (exons_.Average<=i)].LE_n%3==0).mean())\n",
    "    \n",
    "plt.bar(range(1, 11), np.array(db_)*100)\n",
    "plt.ylabel('% symmetric exons in bin')\n",
    "plt.xlabel('% PSI bin')\n",
    "plt.xticks(x*10, ['0.1', '0.2', '0.3', '0.4', '0.5', '0.6', '0.7', '0.8', '0.9', '1'])\n",
    "plt.title('VastDB data')\n",
    "plt.plot([0.5, 10.5], [33.333, 33.333], 'r--')"
   ]
  },
  {
   "cell_type": "code",
   "execution_count": 566,
   "id": "70231a7f",
   "metadata": {},
   "outputs": [
    {
     "data": {
      "text/plain": [
       "[<matplotlib.lines.Line2D at 0x7f9b6cb0c640>]"
      ]
     },
     "execution_count": 566,
     "metadata": {},
     "output_type": "execute_result"
    },
    {
     "data": {
      "image/png": "[encoded data removed]",
      "text/plain": [
       "<Figure size 640x480 with 1 Axes>"
      ]
     },
     "metadata": {},
     "output_type": "display_data"
    }
   ],
   "source": [
    "# exons_ = exons.merge(metrics, left_on='EVENT', right_on='EVENT')\n",
    "x_ = np.linspace(0.1, 1, 10)*100\n",
    "db_ = []\n",
    "for i in x_:\n",
    "    db_.append((exons_.loc[(exons_.Average>i-10) & (exons_.Average<=i)].LE_n%3==0).mean())\n",
    "    \n",
    "plt.bar(range(1, 11), np.array(db_)*100)\n",
    "plt.ylabel('% symmetric exons in bin')\n",
    "plt.xlabel('% PSI bin')\n",
    "plt.xticks(x*10, ['0.1', '0.2', '0.3', '0.4', '0.5', '0.6', '0.7', '0.8', '0.9', '1'])\n",
    "plt.title('VastDB data')\n",
    "plt.plot([0.5, 10.5], [33.333, 33.333], 'r--')"
   ]
  },
  {
   "cell_type": "code",
   "execution_count": 494,
   "id": "98fbb017",
   "metadata": {},
   "outputs": [
    {
     "data": {
      "text/plain": [
       "606         80\n",
       "1292       121\n",
       "2005        11\n",
       "2320        73\n",
       "2474      1476\n",
       "          ... \n",
       "200557      85\n",
       "200648      91\n",
       "200752      59\n",
       "201220     140\n",
       "201275     101\n",
       "Name: LE_n, Length: 2184, dtype: int64"
      ]
     },
     "execution_count": 494,
     "metadata": {},
     "output_type": "execute_result"
    }
   ],
   "source": [
    "exons_.loc[(exons_.Average>0.1-0.1) & (exons_.Average<=0.1)].LE_n"
   ]
  },
  {
   "cell_type": "code",
   "execution_count": 530,
   "id": "19ec06f4",
   "metadata": {},
   "outputs": [
    {
     "data": {
      "text/plain": [
       "array([0.1, 0.2, 0.3, 0.4, 0.5, 0.6, 0.7, 0.8, 0.9, 1. ])"
      ]
     },
     "execution_count": 530,
     "metadata": {},
     "output_type": "execute_result"
    }
   ],
   "source": [
    "x"
   ]
  },
  {
   "cell_type": "code",
   "execution_count": 235,
   "id": "c517b6bd",
   "metadata": {},
   "outputs": [],
   "source": [
    "polyA_psi = pd.read_csv('../code/QTLs/QTLTools/polyA.Splicing/OnlyFirstReps.PSI.bed.gz', sep='\\t')\n",
    "chRNA_psi = pd.read_csv('../code/QTLs/QTLTools/chRNA.Splicing/OnlyFirstReps.PSI.bed.gz', sep='\\t')"
   ]
  },
  {
   "cell_type": "code",
   "execution_count": 236,
   "id": "af6d1160",
   "metadata": {},
   "outputs": [],
   "source": [
    "exons = exons.loc[~exons.COMPLEX.isin(['MIC_S', 'IR', 'Alt3', 'Alt5', 'MIC-M'])]"
   ]
  },
  {
   "cell_type": "code",
   "execution_count": 237,
   "id": "dd77a6ce",
   "metadata": {},
   "outputs": [],
   "source": [
    "df = pd.DataFrame()\n",
    "df['event'] = list(exon)\n",
    "df['chrom'] = list(chrom)\n",
    "df['donor_c1'] = list(donor_c1)\n",
    "df['receptor_c1'] = list(receptor_c1)\n",
    "df['donor_c2'] = list(donor_c2)\n",
    "df['receptor_c2'] = list(receptor_c2)\n",
    "df['LE_n'] = list(LE)\n",
    "df = df.loc[[x[:5]=='HsaEX' for x in df.event]]\n",
    "df = df.loc[df.event.isin(impact.loc[~impact.ONTO.isin(['NonCoding', \"5' UTR\", \"3' UTR\"])].EventID)]"
   ]
  },
  {
   "cell_type": "code",
   "execution_count": 238,
   "id": "82213db7",
   "metadata": {},
   "outputs": [],
   "source": [
    "polyA_psi.end -= 1"
   ]
  },
  {
   "cell_type": "code",
   "execution_count": 239,
   "id": "99fb440a",
   "metadata": {},
   "outputs": [],
   "source": [
    "samples = polyA_psi.columns[6:]"
   ]
  },
  {
   "cell_type": "code",
   "execution_count": 240,
   "id": "126e2fcb",
   "metadata": {},
   "outputs": [],
   "source": [
    "c1 = df.merge(polyA_psi, left_on=['chrom', 'donor_c1', 'receptor_c1'], right_on=['#Chr', 'start', 'end'])\n",
    "c2 = df.merge(polyA_psi, left_on=['chrom', 'donor_c2', 'receptor_c2'], right_on=['#Chr', 'start', 'end'])\n",
    "ca = df.merge(polyA_psi, left_on=['chrom', 'donor_c1', 'receptor_c2'], right_on=['#Chr', 'start', 'end'])\n",
    "\n",
    "c1 = c1.set_index('event').dropna()\n",
    "c2 = c2.set_index('event').dropna()\n",
    "ca = ca.set_index('event').dropna()\n",
    "\n",
    "shared_idx = c1.index.intersection(c2.index.intersection(ca.index))\n",
    "shared_idx = shared_idx[(c1.loc[shared_idx, samples] - c2.loc[shared_idx, samples]).abs().mean(axis=1) <= 0.333]"
   ]
  },
  {
   "cell_type": "code",
   "execution_count": 241,
   "id": "ce5e15a3",
   "metadata": {},
   "outputs": [],
   "source": [
    "psi_c1 = c1.loc[shared_idx, samples]\n",
    "psi_c2 = c2.loc[shared_idx, samples]\n",
    "psi_ca = ca.loc[shared_idx, samples]\n",
    "\n",
    "psi = (psi_c1 + psi_c2)/(psi_c1 + psi_c2 + (2*psi_ca))"
   ]
  },
  {
   "cell_type": "code",
   "execution_count": 242,
   "id": "e5dcea2a",
   "metadata": {},
   "outputs": [],
   "source": [
    "df = df.set_index('event')"
   ]
  },
  {
   "cell_type": "code",
   "execution_count": 158,
   "id": "77f6b8d5",
   "metadata": {},
   "outputs": [],
   "source": [
    "polyA_ = [((df.loc[psi.loc[(psi.mean(axis=1) < 0.333) & (psi.mean(axis=1) >= 0.1)].index].LE_n%3)==0).mean(),\n",
    "    ((df.loc[psi.loc[(psi.mean(axis=1) < 0.667) & (psi.mean(axis=1) >= 0.333)].index].LE_n%3)==0).mean(),\n",
    "          ((df.loc[psi.loc[(psi.mean(axis=1) >= 0.667) & (psi.mean(axis=1) <= 0.9)].index].LE_n%3)==0).mean()]"
   ]
  },
  {
   "cell_type": "code",
   "execution_count": 159,
   "id": "64830bee",
   "metadata": {},
   "outputs": [
    {
     "data": {
      "text/plain": [
       "[0.4056603773584906, 0.46963562753036436, 0.3566137566137566]"
      ]
     },
     "execution_count": 159,
     "metadata": {},
     "output_type": "execute_result"
    }
   ],
   "source": [
    "polyA_"
   ]
  },
  {
   "cell_type": "code",
   "execution_count": 138,
   "id": "ff9e470e",
   "metadata": {},
   "outputs": [
    {
     "data": {
      "text/plain": [
       "Text(0.5, 1.0, 'polyA data')"
      ]
     },
     "execution_count": 138,
     "metadata": {},
     "output_type": "execute_result"
    },
    {
     "data": {
      "image/png": "[encoded data removed]",
      "text/plain": [
       "<Figure size 640x480 with 1 Axes>"
      ]
     },
     "metadata": {},
     "output_type": "display_data"
    }
   ],
   "source": [
    "plt.bar(range(1, 4), np.array(polyA_))\n",
    "plt.ylabel('Enrichment of symmetric exons in bin')\n",
    "plt.xlabel('% PSI bin')\n",
    "plt.xticks(range(1, 4), ['10-33', '33-67', '67-90'])\n",
    "plt.title('polyA data')"
   ]
  },
  {
   "cell_type": "code",
   "execution_count": 161,
   "id": "0f8bba7f",
   "metadata": {},
   "outputs": [
    {
     "data": {
      "text/plain": [
       "Text(0.5, 1.0, 'chRNA data')"
      ]
     },
     "execution_count": 161,
     "metadata": {},
     "output_type": "execute_result"
    },
    {
     "data": {
      "image/png": "[encoded data removed]",
      "text/plain": [
       "<Figure size 640x480 with 1 Axes>"
      ]
     },
     "metadata": {},
     "output_type": "display_data"
    }
   ],
   "source": [
    "plt.bar(range(1, 4), np.array(polyA_))\n",
    "plt.ylabel('Enrichment of symmetric exons in bin')\n",
    "plt.xlabel('% PSI bin')\n",
    "plt.xticks(range(1, 4), ['10-33', '33-67', '67-90'])\n",
    "plt.title('chRNA data')"
   ]
  },
  {
   "cell_type": "code",
   "execution_count": 194,
   "id": "d1067ae8",
   "metadata": {},
   "outputs": [],
   "source": [
    "x = np.linspace(0.2, 0.9, 8)\n",
    "chRNA_ = [((df.loc[psi.loc[(psi.mean(axis=1) < i) & (psi.mean(axis=1) >= i- 0.1)].index].LE_n%3)==0).mean() for i in x]\n"
   ]
  },
  {
   "cell_type": "code",
   "execution_count": 195,
   "id": "2ac91669",
   "metadata": {},
   "outputs": [
    {
     "data": {
      "text/plain": [
       "Text(0.5, 1.0, 'chRNA data')"
      ]
     },
     "execution_count": 195,
     "metadata": {},
     "output_type": "execute_result"
    },
    {
     "data": {
      "image/png": "[encoded data removed]",
      "text/plain": [
       "<Figure size 640x480 with 1 Axes>"
      ]
     },
     "metadata": {},
     "output_type": "display_data"
    }
   ],
   "source": [
    "plt.bar(x*10, np.array(chRNA_))\n",
    "plt.ylabel('Enrichment of symmetric exons in bin')\n",
    "plt.xlabel('% PSI bin')\n",
    "plt.xticks(range(2, 10), [str((x-1)*10) + '-' + str(x*10) for x in range(2, 10)])\n",
    "plt.title('chRNA data')"
   ]
  },
  {
   "cell_type": "code",
   "execution_count": 185,
   "id": "b242891e",
   "metadata": {},
   "outputs": [
    {
     "data": {
      "text/plain": [
       "Text(0.5, 1.0, 'polyA data')"
      ]
     },
     "execution_count": 185,
     "metadata": {},
     "output_type": "execute_result"
    },
    {
     "data": {
      "image/png": "[encoded data removed]",
      "text/plain": [
       "<Figure size 640x480 with 1 Axes>"
      ]
     },
     "metadata": {},
     "output_type": "display_data"
    }
   ],
   "source": [
    "x = np.linspace(0.2, 0.9, 8)\n",
    "polyA_ = [((df.loc[psi.loc[(psi.mean(axis=1) < i) & (psi.mean(axis=1) >= i- 0.1)].index].LE_n%3)==0).mean() for i in x]\n",
    "    \n",
    "plt.bar(x*10, np.array(polyA_))\n",
    "plt.ylabel('Enrichment of symmetric exons in bin')\n",
    "plt.xlabel('% PSI bin')\n",
    "plt.xticks(range(2, 10), [str((x-1)*10) + '-' + str(x*10) for x in range(2, 10)])\n",
    "plt.title('polyA data')"
   ]
  },
  {
   "cell_type": "code",
   "execution_count": 222,
   "id": "7e01fd1a",
   "metadata": {},
   "outputs": [
    {
     "data": {
      "text/plain": [
       "<matplotlib.legend.Legend at 0x7f1f5d5d2df0>"
      ]
     },
     "execution_count": 222,
     "metadata": {},
     "output_type": "execute_result"
    },
    {
     "data": {
      "image/png": "[encoded data removed]",
      "text/plain": [
       "<Figure size 640x480 with 1 Axes>"
      ]
     },
     "metadata": {},
     "output_type": "display_data"
    }
   ],
   "source": [
    "plt.bar(x*30, np.array(polyA_), label='polyA')\n",
    "\n",
    "plt.bar(x*30+1, np.array(chRNA_), label='chRNA')\n",
    "\n",
    "plt.ylabel('Enrichment of symmetric exons in bin')\n",
    "plt.xlabel('% PSI bin')\n",
    "plt.xticks(np.arange(2, 10)*3+0.5, [str((x-1)*10) + '-' + str(x*10) for x in range(2, 10)])\n",
    "plt.plot([6, 28], [0.333, 0.333], 'r--')\n",
    "# plt.title('polyA data')\n",
    "plt.legend(frameon=False)"
   ]
  },
  {
   "cell_type": "code",
   "execution_count": 243,
   "id": "dddcd72d",
   "metadata": {},
   "outputs": [
    {
     "data": {
      "text/plain": [
       "0.41379310344827586"
      ]
     },
     "execution_count": 243,
     "metadata": {},
     "output_type": "execute_result"
    }
   ],
   "source": [
    "((df.loc[psi.loc[(psi.mean(axis=1) < 0.5) & (psi.mean(axis=1) >= 0.4)].index].LE_n%3)==0).mean()"
   ]
  },
  {
   "cell_type": "code",
   "execution_count": 248,
   "id": "c8faf6ed",
   "metadata": {},
   "outputs": [
    {
     "data": {
      "text/html": [
       "<div>\n",
       "<style scoped>\n",
       "    .dataframe tbody tr th:only-of-type {\n",
       "        vertical-align: middle;\n",
       "    }\n",
       "\n",
       "    .dataframe tbody tr th {\n",
       "        vertical-align: top;\n",
       "    }\n",
       "\n",
       "    .dataframe thead th {\n",
       "        text-align: right;\n",
       "    }\n",
       "</style>\n",
       "<table border=\"1\" class=\"dataframe\">\n",
       "  <thead>\n",
       "    <tr style=\"text-align: right;\">\n",
       "      <th></th>\n",
       "      <th>chrom</th>\n",
       "      <th>donor_c1</th>\n",
       "      <th>receptor_c1</th>\n",
       "      <th>donor_c2</th>\n",
       "      <th>receptor_c2</th>\n",
       "      <th>LE_n</th>\n",
       "    </tr>\n",
       "    <tr>\n",
       "      <th>event</th>\n",
       "      <th></th>\n",
       "      <th></th>\n",
       "      <th></th>\n",
       "      <th></th>\n",
       "      <th></th>\n",
       "      <th></th>\n",
       "    </tr>\n",
       "  </thead>\n",
       "  <tbody>\n",
       "    <tr>\n",
       "      <th>HsaEX0015619</th>\n",
       "      <td>chr12</td>\n",
       "      <td>9692931</td>\n",
       "      <td>9693033</td>\n",
       "      <td>9693115</td>\n",
       "      <td>9694759</td>\n",
       "      <td>82</td>\n",
       "    </tr>\n",
       "    <tr>\n",
       "      <th>HsaEX0036393</th>\n",
       "      <td>chr12</td>\n",
       "      <td>25052956</td>\n",
       "      <td>25061591</td>\n",
       "      <td>25061653</td>\n",
       "      <td>25062819</td>\n",
       "      <td>62</td>\n",
       "    </tr>\n",
       "    <tr>\n",
       "      <th>HsaEX0057280</th>\n",
       "      <td>chr2</td>\n",
       "      <td>241315982</td>\n",
       "      <td>241316421</td>\n",
       "      <td>241316540</td>\n",
       "      <td>241317498</td>\n",
       "      <td>119</td>\n",
       "    </tr>\n",
       "    <tr>\n",
       "      <th>HsaEX7010174</th>\n",
       "      <td>chr20</td>\n",
       "      <td>45814470</td>\n",
       "      <td>45815389</td>\n",
       "      <td>45815540</td>\n",
       "      <td>45815853</td>\n",
       "      <td>151</td>\n",
       "    </tr>\n",
       "    <tr>\n",
       "      <th>HsaEX0005757</th>\n",
       "      <td>chr6</td>\n",
       "      <td>157174117</td>\n",
       "      <td>157174846</td>\n",
       "      <td>157175005</td>\n",
       "      <td>157180968</td>\n",
       "      <td>159</td>\n",
       "    </tr>\n",
       "    <tr>\n",
       "      <th>HsaEX0035661</th>\n",
       "      <td>chr12</td>\n",
       "      <td>51049185</td>\n",
       "      <td>51052091</td>\n",
       "      <td>51052207</td>\n",
       "      <td>51056349</td>\n",
       "      <td>116</td>\n",
       "    </tr>\n",
       "    <tr>\n",
       "      <th>HsaEX0010150</th>\n",
       "      <td>chr1</td>\n",
       "      <td>16367308</td>\n",
       "      <td>16391374</td>\n",
       "      <td>16391424</td>\n",
       "      <td>16393227</td>\n",
       "      <td>50</td>\n",
       "    </tr>\n",
       "    <tr>\n",
       "      <th>HsaEX0027841</th>\n",
       "      <td>chr20</td>\n",
       "      <td>58895684</td>\n",
       "      <td>58898940</td>\n",
       "      <td>58898985</td>\n",
       "      <td>58903530</td>\n",
       "      <td>45</td>\n",
       "    </tr>\n",
       "    <tr>\n",
       "      <th>HsaEX0036952</th>\n",
       "      <td>chr19</td>\n",
       "      <td>40614446</td>\n",
       "      <td>40617099</td>\n",
       "      <td>40617225</td>\n",
       "      <td>40619346</td>\n",
       "      <td>126</td>\n",
       "    </tr>\n",
       "    <tr>\n",
       "      <th>HsaEX0013780</th>\n",
       "      <td>chr3</td>\n",
       "      <td>112333224</td>\n",
       "      <td>112340901</td>\n",
       "      <td>112340983</td>\n",
       "      <td>112344961</td>\n",
       "      <td>82</td>\n",
       "    </tr>\n",
       "    <tr>\n",
       "      <th>HsaEX0070300</th>\n",
       "      <td>chr6</td>\n",
       "      <td>43778918</td>\n",
       "      <td>43781955</td>\n",
       "      <td>43782087</td>\n",
       "      <td>43784540</td>\n",
       "      <td>132</td>\n",
       "    </tr>\n",
       "    <tr>\n",
       "      <th>HsaEX0005941</th>\n",
       "      <td>chr3</td>\n",
       "      <td>138187599</td>\n",
       "      <td>138188454</td>\n",
       "      <td>138188530</td>\n",
       "      <td>138209816</td>\n",
       "      <td>76</td>\n",
       "    </tr>\n",
       "    <tr>\n",
       "      <th>HsaEX0044962</th>\n",
       "      <td>chr1</td>\n",
       "      <td>51750195</td>\n",
       "      <td>51756319</td>\n",
       "      <td>51756358</td>\n",
       "      <td>51760689</td>\n",
       "      <td>39</td>\n",
       "    </tr>\n",
       "    <tr>\n",
       "      <th>HsaEX0040725</th>\n",
       "      <td>chr5</td>\n",
       "      <td>7870923</td>\n",
       "      <td>7873372</td>\n",
       "      <td>7873526</td>\n",
       "      <td>7875257</td>\n",
       "      <td>154</td>\n",
       "    </tr>\n",
       "    <tr>\n",
       "      <th>HsaEX0056909</th>\n",
       "      <td>chr4</td>\n",
       "      <td>109473186</td>\n",
       "      <td>109481676</td>\n",
       "      <td>109481781</td>\n",
       "      <td>109491326</td>\n",
       "      <td>105</td>\n",
       "    </tr>\n",
       "    <tr>\n",
       "      <th>HsaEX0003303</th>\n",
       "      <td>chr6</td>\n",
       "      <td>143333445</td>\n",
       "      <td>143334077</td>\n",
       "      <td>143334095</td>\n",
       "      <td>143335050</td>\n",
       "      <td>18</td>\n",
       "    </tr>\n",
       "    <tr>\n",
       "      <th>HsaEX0064065</th>\n",
       "      <td>chr11</td>\n",
       "      <td>124625903</td>\n",
       "      <td>124626472</td>\n",
       "      <td>124626609</td>\n",
       "      <td>124626903</td>\n",
       "      <td>137</td>\n",
       "    </tr>\n",
       "    <tr>\n",
       "      <th>HsaEX0038779</th>\n",
       "      <td>chr22</td>\n",
       "      <td>41781845</td>\n",
       "      <td>41784338</td>\n",
       "      <td>41784420</td>\n",
       "      <td>41793828</td>\n",
       "      <td>82</td>\n",
       "    </tr>\n",
       "    <tr>\n",
       "      <th>HsaEX0045590</th>\n",
       "      <td>chr3</td>\n",
       "      <td>122621611</td>\n",
       "      <td>122626826</td>\n",
       "      <td>122627033</td>\n",
       "      <td>122632085</td>\n",
       "      <td>207</td>\n",
       "    </tr>\n",
       "    <tr>\n",
       "      <th>HsaEX0050364</th>\n",
       "      <td>chr14</td>\n",
       "      <td>45109780</td>\n",
       "      <td>45109893</td>\n",
       "      <td>45109993</td>\n",
       "      <td>45110093</td>\n",
       "      <td>100</td>\n",
       "    </tr>\n",
       "    <tr>\n",
       "      <th>HsaEX0032206</th>\n",
       "      <td>chr12</td>\n",
       "      <td>43768272</td>\n",
       "      <td>43771219</td>\n",
       "      <td>43771365</td>\n",
       "      <td>43772179</td>\n",
       "      <td>146</td>\n",
       "    </tr>\n",
       "    <tr>\n",
       "      <th>HsaEX0028969</th>\n",
       "      <td>chr7</td>\n",
       "      <td>74716950</td>\n",
       "      <td>74718878</td>\n",
       "      <td>74718941</td>\n",
       "      <td>74728785</td>\n",
       "      <td>63</td>\n",
       "    </tr>\n",
       "    <tr>\n",
       "      <th>HsaEX0046788</th>\n",
       "      <td>chr11</td>\n",
       "      <td>3808315</td>\n",
       "      <td>3823612</td>\n",
       "      <td>3823740</td>\n",
       "      <td>3823882</td>\n",
       "      <td>128</td>\n",
       "    </tr>\n",
       "    <tr>\n",
       "      <th>HsaEX0065426</th>\n",
       "      <td>chr11</td>\n",
       "      <td>85628688</td>\n",
       "      <td>85631144</td>\n",
       "      <td>85631316</td>\n",
       "      <td>85631686</td>\n",
       "      <td>172</td>\n",
       "    </tr>\n",
       "    <tr>\n",
       "      <th>HsaEX1004126</th>\n",
       "      <td>chr17</td>\n",
       "      <td>35657791</td>\n",
       "      <td>35670856</td>\n",
       "      <td>35670898</td>\n",
       "      <td>35671753</td>\n",
       "      <td>42</td>\n",
       "    </tr>\n",
       "    <tr>\n",
       "      <th>HsaEX0031555</th>\n",
       "      <td>chr19</td>\n",
       "      <td>10683970</td>\n",
       "      <td>10684415</td>\n",
       "      <td>10684476</td>\n",
       "      <td>10687345</td>\n",
       "      <td>61</td>\n",
       "    </tr>\n",
       "    <tr>\n",
       "      <th>HsaEX0045155</th>\n",
       "      <td>chr20</td>\n",
       "      <td>44938191</td>\n",
       "      <td>44952642</td>\n",
       "      <td>44952704</td>\n",
       "      <td>44958336</td>\n",
       "      <td>62</td>\n",
       "    </tr>\n",
       "    <tr>\n",
       "      <th>HsaEX0025813</th>\n",
       "      <td>chr4</td>\n",
       "      <td>53391139</td>\n",
       "      <td>53391429</td>\n",
       "      <td>53391498</td>\n",
       "      <td>53399729</td>\n",
       "      <td>69</td>\n",
       "    </tr>\n",
       "    <tr>\n",
       "      <th>HsaEX0030583</th>\n",
       "      <td>chr6</td>\n",
       "      <td>122423686</td>\n",
       "      <td>122427902</td>\n",
       "      <td>122427956</td>\n",
       "      <td>122431429</td>\n",
       "      <td>54</td>\n",
       "    </tr>\n",
       "  </tbody>\n",
       "</table>\n",
       "</div>"
      ],
      "text/plain": [
       "              chrom   donor_c1  receptor_c1   donor_c2  receptor_c2  LE_n\n",
       "event                                                                    \n",
       "HsaEX0015619  chr12    9692931      9693033    9693115      9694759    82\n",
       "HsaEX0036393  chr12   25052956     25061591   25061653     25062819    62\n",
       "HsaEX0057280   chr2  241315982    241316421  241316540    241317498   119\n",
       "HsaEX7010174  chr20   45814470     45815389   45815540     45815853   151\n",
       "HsaEX0005757   chr6  157174117    157174846  157175005    157180968   159\n",
       "HsaEX0035661  chr12   51049185     51052091   51052207     51056349   116\n",
       "HsaEX0010150   chr1   16367308     16391374   16391424     16393227    50\n",
       "HsaEX0027841  chr20   58895684     58898940   58898985     58903530    45\n",
       "HsaEX0036952  chr19   40614446     40617099   40617225     40619346   126\n",
       "HsaEX0013780   chr3  112333224    112340901  112340983    112344961    82\n",
       "HsaEX0070300   chr6   43778918     43781955   43782087     43784540   132\n",
       "HsaEX0005941   chr3  138187599    138188454  138188530    138209816    76\n",
       "HsaEX0044962   chr1   51750195     51756319   51756358     51760689    39\n",
       "HsaEX0040725   chr5    7870923      7873372    7873526      7875257   154\n",
       "HsaEX0056909   chr4  109473186    109481676  109481781    109491326   105\n",
       "HsaEX0003303   chr6  143333445    143334077  143334095    143335050    18\n",
       "HsaEX0064065  chr11  124625903    124626472  124626609    124626903   137\n",
       "HsaEX0038779  chr22   41781845     41784338   41784420     41793828    82\n",
       "HsaEX0045590   chr3  122621611    122626826  122627033    122632085   207\n",
       "HsaEX0050364  chr14   45109780     45109893   45109993     45110093   100\n",
       "HsaEX0032206  chr12   43768272     43771219   43771365     43772179   146\n",
       "HsaEX0028969   chr7   74716950     74718878   74718941     74728785    63\n",
       "HsaEX0046788  chr11    3808315      3823612    3823740      3823882   128\n",
       "HsaEX0065426  chr11   85628688     85631144   85631316     85631686   172\n",
       "HsaEX1004126  chr17   35657791     35670856   35670898     35671753    42\n",
       "HsaEX0031555  chr19   10683970     10684415   10684476     10687345    61\n",
       "HsaEX0045155  chr20   44938191     44952642   44952704     44958336    62\n",
       "HsaEX0025813   chr4   53391139     53391429   53391498     53399729    69\n",
       "HsaEX0030583   chr6  122423686    122427902  122427956    122431429    54"
      ]
     },
     "execution_count": 248,
     "metadata": {},
     "output_type": "execute_result"
    }
   ],
   "source": [
    "df.loc[psi.loc[(psi.mean(axis=1) < 0.5) & (psi.mean(axis=1) >= 0.4)].index]#.shape"
   ]
  },
  {
   "cell_type": "code",
   "execution_count": null,
   "id": "d63fea5f",
   "metadata": {},
   "outputs": [],
   "source": []
  }
 ],
 "metadata": {
  "kernelspec": {
   "display_name": "Python 3 (ipykernel)",
   "language": "python",
   "name": "python3"
  },
  "language_info": {
   "codemirror_mode": {
    "name": "ipython",
    "version": 3
   },
   "file_extension": ".py",
   "mimetype": "text/x-python",
   "name": "python",
   "nbconvert_exporter": "python",
   "pygments_lexer": "ipython3",
   "version": "3.8.8"
  }
 },
 "nbformat": 4,
 "nbformat_minor": 5
}
