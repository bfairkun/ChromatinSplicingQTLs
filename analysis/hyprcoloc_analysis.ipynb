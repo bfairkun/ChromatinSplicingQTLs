{
 "cells": [
  {
   "cell_type": "code",
   "execution_count": 1,
   "id": "4bbfaee4",
   "metadata": {},
   "outputs": [],
   "source": [
    "import numpy as np\n",
    "import pandas as pd\n",
    "from tqdm import tqdm\n",
    "from matplotlib import pyplot as plt\n",
    "\n",
    "import sys\n",
    "from Bio import motifs\n",
    "from Bio.Seq import Seq\n",
    "\n",
    "from scipy.stats import pearsonr, spearmanr"
   ]
  },
  {
   "cell_type": "code",
   "execution_count": 4,
   "id": "b5c83c26",
   "metadata": {},
   "outputs": [],
   "source": [
    "snps = pd.read_csv('../../hyprcoloc_results_old/ForColoc/snpscores.txt.gz', sep='\\t')\n",
    "hyprcoloc = pd.read_csv('../../hyprcoloc_results_old/ForColoc/hyprcoloc.results.txt.gz', sep='\\t')\n",
    "colocalized = pd.read_csv('../../hyprcoloc_results_old/ForColoc/hyprcoloc.results.OnlyColocalized.Stats.txt.gz', sep='\\t')\n",
    "\n"
   ]
  },
  {
   "cell_type": "code",
   "execution_count": 2,
   "id": "e86c68a4",
   "metadata": {},
   "outputs": [],
   "source": [
    "def get_intron_SJ(intron):\n",
    "    intron_ = intron.split(';')[1]\n",
    "    chrom, start, end, cluster = intron_.split(':')\n",
    "    strand = cluster.split('_')[-1]\n",
    "    \n",
    "    if strand == '+':\n",
    "        ss5 = (int(start)-2, int(start)+6)\n",
    "        ss3 = (int(end)-7, int(end)+1)\n",
    "        \n",
    "    else:\n",
    "        ss5 = (int(end)-7, int(end)+1)\n",
    "        ss3 = (int(start)-2, int(start)+6)\n",
    "        \n",
    "    return chrom, strand, ss5, ss3\n",
    "\n",
    "\n",
    "def get_SJ_bed(intron_list, phenotype):\n",
    "    \n",
    "    fh_5ss = open('../../' + phenotype + '.hyprcoloc_5ss.bed', 'w')\n",
    "    fh_3ss = open('../../' + phenotype + '.hyprcoloc_3ss.bed', 'w')\n",
    "    \n",
    "    for intron in intron_list:\n",
    "        \n",
    "        chrom, strand, ss5, ss3 = get_intron_SJ(intron)\n",
    "        \n",
    "        ss5_row = '\\t'.join(['chr' + chrom, str(ss5[0]), str(ss5[1]), intron, '.', strand]) + '\\n'\n",
    "        ss3_row = '\\t'.join(['chr' + chrom, str(ss3[0]), str(ss3[1]), intron, '.', strand]) + '\\n'\n",
    "        \n",
    "        fh_5ss.write(ss5_row)\n",
    "        fh_3ss.write(ss3_row)\n",
    "    \n",
    "        \n",
    "def get_intron_SJ_extended(intron):\n",
    "    intron_ = intron.split(';')[1]\n",
    "    chrom, start, end, cluster = intron_.split(':')\n",
    "    strand = cluster.split('_')[-1]\n",
    "    \n",
    "    if strand == '+':\n",
    "        ss5 = (int(start)-22, int(start)+26)\n",
    "        ss3 = (int(end)-27, int(end)+21)\n",
    "        \n",
    "    else:\n",
    "        ss5 = (int(end)-27, int(end)+21)\n",
    "        ss3 = (int(start)-22, int(start)+26)\n",
    "        \n",
    "    return chrom, strand, ss5, ss3\n",
    "\n",
    "\n",
    "def get_SJ_bed_extended(intron_list, phenotype):\n",
    "    \n",
    "    fh_5ss = open('../../' + phenotype + '.hyprcoloc_5ss.extended.bed', 'w')\n",
    "    fh_3ss = open('../../' + phenotype + '.hyprcoloc_3ss.extended.bed', 'w')\n",
    "    \n",
    "    for intron in intron_list:\n",
    "        \n",
    "        chrom, strand, ss5, ss3 = get_intron_SJ_extended(intron)\n",
    "        \n",
    "        ss5_row = '\\t'.join(['chr' + chrom, str(ss5[0]), str(ss5[1]), intron, '.', strand]) + '\\n'\n",
    "        ss3_row = '\\t'.join(['chr' + chrom, str(ss3[0]), str(ss3[1]), intron, '.', strand]) + '\\n'\n",
    "        \n",
    "        fh_5ss.write(ss5_row)\n",
    "        fh_3ss.write(ss3_row)\n",
    "    \n",
    "        \n",
    "    "
   ]
  },
  {
   "cell_type": "code",
   "execution_count": null,
   "id": "213b3025",
   "metadata": {},
   "outputs": [],
   "source": [
    "splicing_coloc_idx = colocalized.loc[\n",
    "    [y == 'polyA.Splicing.Subset_YRI' for y in [x.split(';')[0] for x in colocalized.phenotype_full]]\n",
    "].index"
   ]
  },
  {
   "cell_type": "code",
   "execution_count": 53,
   "id": "7ffa1af1",
   "metadata": {},
   "outputs": [
    {
     "data": {
      "text/plain": [
       "Int64Index([], dtype='int64')"
      ]
     },
     "execution_count": 53,
     "metadata": {},
     "output_type": "execute_result"
    }
   ],
   "source": [
    "colocaliz"
   ]
  },
  {
   "cell_type": "code",
   "execution_count": 56,
   "id": "a43da667",
   "metadata": {},
   "outputs": [],
   "source": [
    "splicing_coloc_idx = colocalized.loc[\n",
    "    [y == 'polyA.Splicing.Subset_YRI' for y in [x.split(';')[0] for x in colocalized.phenotype_full]]\n",
    "].index\n",
    "\n",
    "get_SJ_bed(list(colocalized.loc[splicing_coloc_idx].phenotype_full.unique()), 'polyA.Splicing')\n",
    "get_SJ_bed_extended(list(colocalized.loc[splicing_coloc_idx].phenotype_full.unique()), 'polyA.Splicing')\n",
    "\n",
    "splicing_coloc_idx = colocalized.loc[\n",
    "    [y == 'chRNA.Splicing' for y in [x.split(';')[0] for x in colocalized.phenotype_full]]\n",
    "].index\n",
    "\n",
    "get_SJ_bed(list(colocalized.loc[splicing_coloc_idx].phenotype_full.unique()), 'chRNA.Splicing')\n",
    "get_SJ_bed_extended(list(colocalized.loc[splicing_coloc_idx].phenotype_full.unique()), 'chRNA.Splicing')"
   ]
  },
  {
   "cell_type": "markdown",
   "id": "b9f970d3",
   "metadata": {},
   "source": [
    "bedtools sort -i polyA.Splicing.hyprcoloc_5ss.bed | bedtools getfasta -s -tab -name+ -fi ChromatinSplicingQTLs/code/ReferenceGenome/Fasta/GRCh38.primary_assembly.genome.fa -bed - > polyA.Splicing.hyprcoloc_5ss.sorted.tab\n",
    "\n",
    "bedtools sort -i polyA.Splicing.hyprcoloc_5ss.extended.bed | bedtools getfasta -s -tab -name+ -fi ChromatinSplicingQTLs/code/ReferenceGenome/Fasta/GRCh38.primary_assembly.genome.fa -bed - > polyA.Splicing.hyprcoloc_5ss.extended.sorted.tab\n",
    "\n",
    "bedtools sort -i polyA.Splicing.hyprcoloc_3ss.bed | bedtools getfasta -s -tab -name+ -fi ChromatinSplicingQTLs/code/ReferenceGenome/Fasta/GRCh38.primary_assembly.genome.fa -bed - > polyA.Splicing.hyprcoloc_3ss.sorted.tab\n",
    "\n",
    "bedtools sort -i polyA.Splicing.hyprcoloc_3ss.extended.bed | bedtools getfasta -s -tab -name+ -fi ChromatinSplicingQTLs/code/ReferenceGenome/Fasta/GRCh38.primary_assembly.genome.fa -bed - > polyA.Splicing.hyprcoloc_3ss.extended.sorted.tab\n",
    "\n",
    "\n",
    "bedtools sort -i chRNA.Splicing.hyprcoloc_5ss.bed | bedtools getfasta -s -tab -name+ -fi ChromatinSplicingQTLs/code/ReferenceGenome/Fasta/GRCh38.primary_assembly.genome.fa -bed - > chRNA.Splicing.hyprcoloc_5ss.sorted.tab\n",
    "\n",
    "bedtools sort -i chRNA.Splicing.hyprcoloc_5ss.extended.bed | bedtools getfasta -s -tab -name+ -fi ChromatinSplicingQTLs/code/ReferenceGenome/Fasta/GRCh38.primary_assembly.genome.fa -bed - > chRNA.Splicing.hyprcoloc_5ss.extended.sorted.tab\n",
    "\n",
    "bedtools sort -i chRNA.Splicing.hyprcoloc_3ss.bed | bedtools getfasta -s -tab -name+ -fi ChromatinSplicingQTLs/code/ReferenceGenome/Fasta/GRCh38.primary_assembly.genome.fa -bed - > chRNA.Splicing.hyprcoloc_3ss.sorted.tab\n",
    "\n",
    "bedtools sort -i chRNA.Splicing.hyprcoloc_3ss.extended.bed | bedtools getfasta -s -tab -name+ -fi ChromatinSplicingQTLs/code/ReferenceGenome/Fasta/GRCh38.primary_assembly.genome.fa -bed - > chRNA.Splicing.hyprcoloc_3ss.extended.sorted.tab"
   ]
  },
  {
   "cell_type": "code",
   "execution_count": 39,
   "id": "e616995d",
   "metadata": {},
   "outputs": [
    {
     "data": {
      "text/plain": [
       "Int64Index([   11,    12,    13,    14,    15,    16,    41,    42,    78,\n",
       "               79,\n",
       "            ...\n",
       "            25754, 25764, 25765, 25776, 25777, 25778, 25779, 25780, 25784,\n",
       "            25785],\n",
       "           dtype='int64', length=2712)"
      ]
     },
     "execution_count": 39,
     "metadata": {},
     "output_type": "execute_result"
    }
   ],
   "source": [
    "splicing_coloc_idx"
   ]
  },
  {
   "cell_type": "code",
   "execution_count": 5,
   "id": "39a24c74",
   "metadata": {},
   "outputs": [],
   "source": [
    "df = pd.read_csv('../../chRNA.Splicing.hyprcoloc_5ss.sorted.tab', sep='\\t', names=['name', 'seq'])\n",
    "\n",
    "df['seq'] = df['seq'].apply(Seq)\n",
    "\n",
    "m  = motifs.create(df['seq'])\n",
    "pwm = m.counts.normalize()\n",
    "pssm = pwm.log_odds()\n",
    "\n",
    "df['score'] = df['seq'].apply(pssm.calculate)\n",
    "\n",
    "\n",
    "df_extended = pd.read_csv('../../chRNA.Splicing.hyprcoloc_5ss.extended.sorted.tab', sep='\\t', names=['name', 'seq'])\n",
    "df_extended['seq'] = df_extended['seq'].apply(Seq)\n",
    "\n",
    "me  = motifs.create(df_extended['seq'])\n",
    "pwme = me.counts.normalize()\n",
    "pssme = pwme.log_odds()\n",
    "\n",
    "# pssm.calculate(m.consensus)\n",
    "df_extended['score'] = df_extended['seq'].apply(pssme.calculate)\n",
    "\n",
    "df.index = [df.name[i].split('::')[0] for i in range(len(df.name))]\n",
    "df_extended.index = [df_extended.name[i].split('::')[0] for i in range(len(df_extended.name))]\n",
    "\n",
    "merged_snps = colocalized.merge(snps, left_on='Locus', right_on='Locus')\n",
    "\n",
    "splicing_idx = merged_snps.loc[\n",
    "    [y == 'chRNA.Splicing' for y in [x.split(';')[0] for x in merged_snps.phenotype_full]]\n",
    "].index"
   ]
  },
  {
   "cell_type": "code",
   "execution_count": 20,
   "id": "606bc690",
   "metadata": {
    "scrolled": true
   },
   "outputs": [
    {
     "name": "stderr",
     "output_type": "stream",
     "text": [
      "  1%|          | 14/1150 [00:00<00:18, 59.80it/s]"
     ]
    },
    {
     "name": "stdout",
     "output_type": "stream",
     "text": [
      "19:41585872:G:A\n",
      "chRNA.Splicing;19:41585871:41586464:clu_45477_+\n",
      "-11.352595388889313\n",
      "-1.01411\n",
      "\n",
      "19:41585872:G:A\n",
      "chRNA.Splicing;19:41585871:41586154:clu_45477_+\n",
      "-11.352595388889313\n",
      "1.1343\n",
      "\n",
      "17:51166498:G:A\n",
      "chRNA.Splicing;17:51166497:51166827:clu_41841_+\n",
      "-11.352595090866089\n",
      "-1.69604\n",
      "\n",
      "17:51166498:G:A\n",
      "chRNA.Splicing;17:51166497:51166827:clu_41841_+\n",
      "-11.352595090866089\n",
      "-1.69604\n",
      "\n"
     ]
    },
    {
     "name": "stderr",
     "output_type": "stream",
     "text": [
      "  6%|▋         | 72/1150 [00:01<00:17, 62.41it/s]"
     ]
    },
    {
     "name": "stdout",
     "output_type": "stream",
     "text": [
      "4:13578908:A:G\n",
      "chRNA.Splicing;4:13577631:13578912:clu_12688_-\n",
      "-0.4296841621398926\n",
      "1.38841\n",
      "\n",
      "5:113559932:T:C\n",
      "chRNA.Splicing;5:113559930:113561080:clu_14141_+\n",
      "-7.343185901641846\n",
      "-0.467784\n",
      "\n"
     ]
    },
    {
     "name": "stderr",
     "output_type": "stream",
     "text": [
      "\r",
      "  7%|▋         | 80/1150 [00:01<00:16, 65.19it/s]"
     ]
    },
    {
     "name": "stdout",
     "output_type": "stream",
     "text": [
      "10:100986746:C:T\n",
      "chRNA.Splicing;10:100984074:100986749:clu_26545_-\n",
      "0.506690502166748\n",
      "0.622264\n",
      "\n",
      "10:100986746:C:T\n",
      "chRNA.Splicing;10:100983817:100986749:clu_26545_-\n",
      "0.506690502166748\n",
      "1.06575\n",
      "\n",
      "16:2924954:G:A\n",
      "chRNA.Splicing;16:2924955:2929613:clu_38141_+\n",
      "2.445356607437134\n",
      "2.09572\n",
      "\n",
      "16:2924954:G:A\n",
      "chRNA.Splicing;16:2924955:2928824:clu_38141_+\n",
      "2.445356607437134\n",
      "2.12357\n",
      "\n"
     ]
    },
    {
     "name": "stderr",
     "output_type": "stream",
     "text": [
      " 10%|█         | 116/1150 [00:01<00:13, 76.76it/s]"
     ]
    },
    {
     "name": "stdout",
     "output_type": "stream",
     "text": [
      "5:150486024:G:C\n",
      "chRNA.Splicing;5:150486023:150520868:clu_14435_+\n",
      "-20.748722076416016\n",
      "-1.17196\n",
      "\n",
      "16:1772796:C:CACCT\n",
      "chRNA.Splicing;16:1772646:1772799:clu_36877_-\n",
      "-13.830820560455322\n",
      "-0.697932\n",
      "\n",
      "16:1772796:C:CACCT\n",
      "chRNA.Splicing;16:1772646:1772795:clu_36877_-\n",
      "-6.81601881980896\n",
      "1.07521\n",
      "\n"
     ]
    },
    {
     "name": "stderr",
     "output_type": "stream",
     "text": [
      " 12%|█▏        | 133/1150 [00:02<00:14, 71.27it/s]"
     ]
    },
    {
     "name": "stdout",
     "output_type": "stream",
     "text": [
      "19:7623728:T:C\n",
      "chRNA.Splicing;19:7623289:7623731:clu_43398_-\n",
      "-0.506690502166748\n",
      "-0.722072\n",
      "\n",
      "1:1231507:T:C\n",
      "chRNA.Splicing;1:1228946:1231507:clu_53_-\n",
      "3.184239387512207\n",
      "0.894126\n",
      "\n"
     ]
    },
    {
     "name": "stderr",
     "output_type": "stream",
     "text": [
      " 13%|█▎        | 150/1150 [00:02<00:14, 71.04it/s]"
     ]
    },
    {
     "name": "stdout",
     "output_type": "stream",
     "text": [
      "5:69368820:T:C\n",
      "chRNA.Splicing;5:69366595:69368825:clu_15003_-\n",
      "2.8544366359710693\n",
      "0.963961\n",
      "\n",
      "5:69368820:T:C\n",
      "chRNA.Splicing;5:69366595:69368825:clu_15003_-\n",
      "2.8544366359710693\n",
      "0.963961\n",
      "\n",
      "4:2798927:G:A\n",
      "chRNA.Splicing;4:2798928:2820614:clu_11648_+\n",
      "2.4453558921813965\n",
      "0.847507\n",
      "\n",
      "20:56388683:T:G\n",
      "chRNA.Splicing;20:56388202:56388687:clu_46475_-\n",
      "-2.7620668411254883\n",
      "-1.08254\n",
      "\n"
     ]
    },
    {
     "name": "stderr",
     "output_type": "stream",
     "text": [
      " 15%|█▌        | 174/1150 [00:02<00:15, 64.75it/s]"
     ]
    },
    {
     "name": "stdout",
     "output_type": "stream",
     "text": [
      "22:45171154:C:T\n",
      "chRNA.Splicing;22:45171152:45171600:clu_48485_+\n",
      "7.343185663223267\n",
      "1.27196\n",
      "\n",
      "22:50424341:T:C\n",
      "chRNA.Splicing;22:50424337:50424509:clu_48595_+\n",
      "-0.4296846389770508\n",
      "-0.814647\n",
      "\n",
      "22:50424341:T:C\n",
      "chRNA.Splicing;22:50424337:50424376:clu_48595_+\n",
      "-0.4296846389770508\n",
      "0.900123\n",
      "\n",
      "22:50424341:T:C\n",
      "chRNA.Splicing;22:50424337:50424471:clu_48595_+\n",
      "-0.4296846389770508\n",
      "-0.663108\n",
      "\n"
     ]
    },
    {
     "name": "stderr",
     "output_type": "stream",
     "text": [
      "\r",
      " 16%|█▌        | 183/1150 [00:02<00:14, 68.25it/s]"
     ]
    },
    {
     "name": "stdout",
     "output_type": "stream",
     "text": [
      "14:24441004:C:A\n",
      "chRNA.Splicing;14:24440926:24441009:clu_34292_-\n",
      "-2.887226104736328\n",
      "-1.43027\n",
      "\n",
      "14:24441670:G:A\n",
      "chRNA.Splicing;14:24440926:24441674:clu_34292_-\n",
      "0.4296836853027344\n",
      "0.661651\n",
      "\n",
      "14:24441767:T:G\n",
      "chRNA.Splicing;14:24440926:24441771:clu_34292_-\n",
      "-2.7620668411254883\n",
      "-0.657226\n",
      "\n",
      "14:24441768:T:A\n",
      "chRNA.Splicing;14:24440926:24441771:clu_34292_-\n",
      "-3.87446928024292\n",
      "-0.657226\n",
      "\n",
      "14:24441767:T:G\n",
      "chRNA.Splicing;14:24441138:24441771:clu_34292_-\n",
      "-2.7620668411254883\n",
      "-0.643084\n",
      "\n",
      "14:24441768:T:A\n",
      "chRNA.Splicing;14:24441138:24441771:clu_34292_-\n",
      "-3.87446928024292\n",
      "-0.643084\n",
      "\n",
      "14:24441670:G:A\n",
      "chRNA.Splicing;14:24441138:24441674:clu_34292_-\n",
      "0.4296836853027344\n",
      "0.671081\n",
      "\n"
     ]
    },
    {
     "name": "stderr",
     "output_type": "stream",
     "text": [
      " 18%|█▊        | 206/1150 [00:03<00:20, 46.57it/s]"
     ]
    },
    {
     "name": "stdout",
     "output_type": "stream",
     "text": [
      "14:96379755:G:A\n",
      "chRNA.Splicing;14:96379755:96382247:clu_33974_+\n",
      "-3.184239625930786\n",
      "-1.42227\n",
      "\n",
      "20:62956963:G:T\n",
      "chRNA.Splicing;20:62956962:62957441:clu_47169_+\n",
      "-15.724429607391357\n",
      "-3.19864\n",
      "\n",
      "20:62956964:T:C\n",
      "chRNA.Splicing;20:62956962:62957441:clu_47169_+\n",
      "-7.343185782432556\n",
      "-3.19864\n",
      "\n"
     ]
    },
    {
     "name": "stderr",
     "output_type": "stream",
     "text": [
      " 19%|█▉        | 223/1150 [00:03<00:15, 57.94it/s]"
     ]
    },
    {
     "name": "stdout",
     "output_type": "stream",
     "text": [
      "16:536144:T:C\n",
      "chRNA.Splicing;16:536142:537134:clu_37958_+\n",
      "-7.3431854248046875\n",
      "-0.889825\n",
      "\n",
      "16:536144:T:C\n",
      "chRNA.Splicing;16:536142:546817:clu_37958_+\n",
      "-7.3431854248046875\n",
      "-0.635366\n",
      "\n",
      "16:14878837:A:G\n",
      "chRNA.Splicing;16:14878834:14880015:clu_38292_+\n",
      "-0.5066900253295898\n",
      "-1.51134\n",
      "\n",
      "8:98193384:C:T\n",
      "chRNA.Splicing;8:98193090:98193385:clu_21407_-\n",
      "-11.35259498655796\n",
      "-0.639738\n",
      "\n"
     ]
    },
    {
     "name": "stderr",
     "output_type": "stream",
     "text": [
      " 22%|██▏       | 251/1150 [00:04<00:11, 76.77it/s]"
     ]
    },
    {
     "name": "stdout",
     "output_type": "stream",
     "text": [
      "19:57492212:G:A\n",
      "chRNA.Splicing;19:57492211:57492856:clu_45947_+\n",
      "-11.352595329284668\n",
      "1.08176\n",
      "\n"
     ]
    },
    {
     "name": "stderr",
     "output_type": "stream",
     "text": [
      "\r",
      " 23%|██▎       | 260/1150 [00:04<00:12, 69.39it/s]"
     ]
    },
    {
     "name": "stdout",
     "output_type": "stream",
     "text": [
      "7:43656029:C:T\n",
      "chRNA.Splicing;7:43648652:43656033:clu_18759_-\n",
      "2.132650852203369\n",
      "2.52457\n",
      "\n",
      "7:43656029:C:T\n",
      "chRNA.Splicing;7:43650712:43656033:clu_18759_-\n",
      "2.132650852203369\n",
      "2.54445\n",
      "\n",
      "9:127872148:T:C\n",
      "chRNA.Splicing;9:127871939:127872153:clu_23480_-\n",
      "2.8544366359710693\n",
      "2.3431\n",
      "\n",
      "9:127872148:T:C\n",
      "chRNA.Splicing;9:127871939:127872153:clu_23480_-\n",
      "2.8544366359710693\n",
      "2.3431\n",
      "\n"
     ]
    },
    {
     "name": "stderr",
     "output_type": "stream",
     "text": [
      " 27%|██▋       | 316/1150 [00:05<00:16, 49.68it/s]"
     ]
    },
    {
     "name": "stdout",
     "output_type": "stream",
     "text": [
      "2:177332141:C:T\n",
      "chRNA.Splicing;2:177323396:177332142:clu_6311_-\n",
      "-11.35259485244751\n",
      "-1.14958\n",
      "\n",
      "1:117060566:G:T\n",
      "chRNA.Splicing;1:117060561:117062387:clu_3837_+\n",
      "-2.8872264623641968\n",
      "-0.990619\n",
      "\n"
     ]
    },
    {
     "name": "stderr",
     "output_type": "stream",
     "text": [
      "\r",
      " 28%|██▊       | 322/1150 [00:05<00:32, 25.13it/s]"
     ]
    },
    {
     "name": "stdout",
     "output_type": "stream",
     "text": [
      "1:99975068:A:G\n",
      "chRNA.Splicing;1:99975069:99993537:clu_3649_+\n",
      "-2.4453563690185547\n",
      "-1.15249\n",
      "\n",
      "1:99975068:A:G\n",
      "chRNA.Splicing;1:99975069:99993537:clu_3649_+\n",
      "-2.4453563690185547\n",
      "-1.15249\n",
      "\n"
     ]
    },
    {
     "name": "stderr",
     "output_type": "stream",
     "text": [
      " 29%|██▉       | 333/1150 [00:06<00:31, 26.12it/s]"
     ]
    },
    {
     "name": "stdout",
     "output_type": "stream",
     "text": [
      "18:63392121:G:A\n",
      "chRNA.Splicing;18:63391076:63392120:clu_43050_-\n",
      "0.3437952995300293\n",
      "-1.0218\n",
      "\n",
      "14:74297633:G:A\n",
      "chRNA.Splicing;14:74296449:74297639:clu_34647_-\n",
      "1.5636937618255615\n",
      "1.37928\n",
      "\n",
      "14:74297633:G:A\n",
      "chRNA.Splicing;14:74296449:74297639:clu_34647_-\n",
      "1.5636937618255615\n",
      "1.37928\n",
      "\n",
      "14:74297633:G:A\n",
      "chRNA.Splicing;14:74296449:74297639:clu_34647_-\n",
      "1.5636937618255615\n",
      "1.37928\n",
      "\n"
     ]
    },
    {
     "name": "stderr",
     "output_type": "stream",
     "text": [
      " 30%|███       | 346/1150 [00:06<00:33, 24.22it/s]"
     ]
    },
    {
     "name": "stdout",
     "output_type": "stream",
     "text": [
      "14:73922205:T:C\n",
      "chRNA.Splicing;14:73922206:73923395:clu_33802_+\n",
      "-0.3437952995300293\n",
      "0.849299\n",
      "\n"
     ]
    },
    {
     "name": "stderr",
     "output_type": "stream",
     "text": [
      " 31%|███       | 356/1150 [00:07<00:28, 27.70it/s]"
     ]
    },
    {
     "name": "stdout",
     "output_type": "stream",
     "text": [
      "13:19675459:C:CACTT\n",
      "chRNA.Splicing;13:19674984:19675462:clu_32350_-\n",
      "-8.563755869865417\n",
      "2.16613\n",
      "\n"
     ]
    },
    {
     "name": "stderr",
     "output_type": "stream",
     "text": [
      " 33%|███▎      | 375/1150 [00:07<00:17, 45.36it/s]"
     ]
    },
    {
     "name": "stdout",
     "output_type": "stream",
     "text": [
      "5:65788274:A:G\n",
      "chRNA.Splicing;5:65788274:65792454:clu_13783_+\n",
      "3.1842395067214966\n",
      "0.931841\n",
      "\n",
      "12:57476865:A:G\n",
      "chRNA.Splicing;12:57476651:57476871:clu_30193_-\n",
      "-1.5636940002441406\n",
      "-1.1317\n",
      "\n",
      "4:8236431:A:G\n",
      "chRNA.Splicing;4:8236428:8237474:clu_11722_+\n",
      "-0.5066900253295898\n",
      "-1.57465\n",
      "\n"
     ]
    },
    {
     "name": "stderr",
     "output_type": "stream",
     "text": [
      " 35%|███▌      | 408/1150 [00:08<00:11, 66.79it/s]"
     ]
    },
    {
     "name": "stdout",
     "output_type": "stream",
     "text": [
      "19:49665670:A:C\n",
      "chRNA.Splicing;19:49664846:49665672:clu_44253_-\n",
      "-11.343185901641846\n",
      "-0.980185\n",
      "\n",
      "17:42288996:G:A\n",
      "chRNA.Splicing;17:42288997:42289402:clu_41587_+\n",
      "2.445356607437134\n",
      "1.73622\n",
      "\n",
      "7:91970511:A:C\n",
      "chRNA.Splicing;7:91970508:91973711:clu_20304_+\n",
      "-3.5405678749084473\n",
      "-1.0514\n",
      "\n"
     ]
    },
    {
     "name": "stderr",
     "output_type": "stream",
     "text": [
      " 37%|███▋      | 423/1150 [00:08<00:10, 66.21it/s]"
     ]
    },
    {
     "name": "stdout",
     "output_type": "stream",
     "text": [
      "15:40564790:C:T\n",
      "chRNA.Splicing;15:40563027:40564791:clu_35123_-\n",
      "-11.352595567703247\n",
      "1.50217\n",
      "\n",
      "14:20345130:G:A\n",
      "chRNA.Splicing;14:20345126:20345394:clu_33295_+\n",
      "2.132650852203369\n",
      "1.89399\n",
      "\n",
      "14:20413368:T:C\n",
      "chRNA.Splicing;14:20408463:20413371:clu_34150_-\n",
      "-0.5066909790039062\n",
      "-1.39421\n",
      "\n"
     ]
    },
    {
     "name": "stderr",
     "output_type": "stream",
     "text": [
      " 38%|███▊      | 439/1150 [00:08<00:09, 71.41it/s]"
     ]
    },
    {
     "name": "stdout",
     "output_type": "stream",
     "text": [
      "1:40041496:A:G\n",
      "chRNA.Splicing;1:40041493:40059337:clu_3153_+\n",
      "-0.5066900253295898\n",
      "-1.25793\n",
      "\n"
     ]
    },
    {
     "name": "stderr",
     "output_type": "stream",
     "text": [
      " 39%|███▉      | 454/1150 [00:08<00:11, 58.29it/s]"
     ]
    },
    {
     "name": "stdout",
     "output_type": "stream",
     "text": [
      "14:91170188:C:T\n",
      "chRNA.Splicing;14:91170186:91173289:clu_33911_+\n",
      "7.343185782432556\n",
      "2.03122\n",
      "\n",
      "18:36781799:G:C\n",
      "chRNA.Splicing;18:36780188:36781799:clu_42940_-\n",
      "5.010210037231445\n",
      "1.48678\n",
      "\n"
     ]
    },
    {
     "name": "stderr",
     "output_type": "stream",
     "text": [
      " 41%|████      | 474/1150 [00:09<00:13, 49.12it/s]"
     ]
    },
    {
     "name": "stdout",
     "output_type": "stream",
     "text": [
      "1:183128821:G:GTTA\n",
      "chRNA.Splicing;1:183128820:183130344:clu_4488_+\n",
      "-2.887226104736328\n",
      "-0.747835\n",
      "\n",
      "13:52143914:CT:C\n",
      "chRNA.Splicing;13:52136902:52143916:clu_32611_-\n",
      "11.860204696655273\n",
      "-1.12232\n",
      "\n",
      "13:52143914:CT:C\n",
      "chRNA.Splicing;13:52141069:52143915:clu_32611_-\n",
      "-17.407576084136963\n",
      "1.15183\n",
      "\n"
     ]
    },
    {
     "name": "stderr",
     "output_type": "stream",
     "text": [
      " 43%|████▎     | 490/1150 [00:09<00:12, 53.18it/s]"
     ]
    },
    {
     "name": "stdout",
     "output_type": "stream",
     "text": [
      "11:73136417:G:A\n",
      "chRNA.Splicing;11:73134657:73136423:clu_27598_-\n",
      "1.5636935234069824\n",
      "1.04858\n",
      "\n",
      "11:73136417:G:A\n",
      "chRNA.Splicing;11:73083740:73136423:clu_27598_-\n",
      "1.5636935234069824\n",
      "1.46924\n",
      "\n",
      "1:78628396:T:A\n",
      "chRNA.Splicing;1:78628393:78628951:clu_3539_+\n",
      "3.8744688034057617\n",
      "1.42619\n",
      "\n"
     ]
    },
    {
     "name": "stderr",
     "output_type": "stream",
     "text": [
      " 44%|████▎     | 503/1150 [00:09<00:13, 48.75it/s]"
     ]
    },
    {
     "name": "stdout",
     "output_type": "stream",
     "text": [
      "12:11829229:A:G\n",
      "chRNA.Splicing;12:11829229:11839140:clu_31139_+\n",
      "3.1842397451400757\n",
      "0.963119\n",
      "\n"
     ]
    },
    {
     "name": "stderr",
     "output_type": "stream",
     "text": [
      " 45%|████▌     | 521/1150 [00:10<00:10, 59.02it/s]"
     ]
    },
    {
     "name": "stdout",
     "output_type": "stream",
     "text": [
      "15:100570360:C:T\n",
      "chRNA.Splicing;15:100570117:100570361:clu_35906_-\n",
      "-11.352595329284668\n",
      "-1.16724\n",
      "\n",
      "15:74837752:T:C\n",
      "chRNA.Splicing;15:74837435:74837757:clu_35661_-\n",
      "2.8544363975524902\n",
      "1.66075\n",
      "\n",
      "15:74837752:T:C\n",
      "chRNA.Splicing;15:74837435:74837751:clu_35661_-\n",
      "-2.4453563690185547\n",
      "-2.30696\n",
      "\n",
      "17:2372791:G:T\n",
      "chRNA.Splicing;17:2372786:2372953:clu_40936_+\n",
      "-2.8872265219688416\n",
      "-0.733573\n",
      "\n",
      "17:82458516:G:A\n",
      "chRNA.Splicing;17:82458517:82459992:clu_42310_+\n",
      "2.4453563690185547\n",
      "0.672564\n",
      "\n",
      "17:82458523:C:G\n",
      "chRNA.Splicing;17:82458517:82459992:clu_42310_+\n",
      "0.35394287109375\n",
      "0.672564\n",
      "\n",
      "11:293001:A:AG\n",
      "chRNA.Splicing;11:292997:293163:clu_28063_+\n",
      "0.0\n",
      "-0.876713\n",
      "\n"
     ]
    },
    {
     "name": "stderr",
     "output_type": "stream",
     "text": [
      " 49%|████▉     | 562/1150 [00:10<00:08, 67.72it/s]"
     ]
    },
    {
     "name": "stdout",
     "output_type": "stream",
     "text": [
      "3:11844891:T:C\n",
      "chRNA.Splicing;3:11844211:11844891:clu_8691_-\n",
      "3.184239387512207\n",
      "1.48577\n",
      "\n"
     ]
    },
    {
     "name": "stderr",
     "output_type": "stream",
     "text": [
      " 52%|█████▏    | 595/1150 [00:11<00:06, 86.50it/s]"
     ]
    },
    {
     "name": "stdout",
     "output_type": "stream",
     "text": [
      "10:93701718:C:T\n",
      "chRNA.Splicing;10:93700106:93701719:clu_26416_-\n",
      "-11.352595329284668\n",
      "-0.838556\n",
      "\n",
      "11:113364697:A:G\n",
      "chRNA.Splicing;11:113364694:113364835:clu_29210_+\n",
      "-0.506690502166748\n",
      "-0.818922\n",
      "\n",
      "2:9543693:T:C\n",
      "chRNA.Splicing;2:9543285:9543696:clu_5086_-\n",
      "-0.506690502166748\n",
      "-0.562082\n",
      "\n"
     ]
    },
    {
     "name": "stderr",
     "output_type": "stream",
     "text": [
      " 54%|█████▎    | 618/1150 [00:11<00:10, 51.32it/s]"
     ]
    },
    {
     "name": "stdout",
     "output_type": "stream",
     "text": [
      "18:45953254:C:A\n",
      "chRNA.Splicing;18:45952643:45953255:clu_42954_-\n",
      "-20.591815948486328\n",
      "-0.984233\n",
      "\n",
      "5:96740783:G:A\n",
      "chRNA.Splicing;5:96740783:96741266:clu_14044_+\n",
      "-3.1842398643493652\n",
      "-1.69836\n",
      "\n"
     ]
    },
    {
     "name": "stderr",
     "output_type": "stream",
     "text": [
      " 55%|█████▌    | 635/1150 [00:11<00:08, 62.23it/s]"
     ]
    },
    {
     "name": "stdout",
     "output_type": "stream",
     "text": [
      "7:55517653:C:T\n",
      "chRNA.Splicing;7:55497690:55517658:clu_18837_-\n",
      "-2.8544363975524902\n",
      "0.817402\n",
      "\n",
      "8:123142457:G:T\n",
      "chRNA.Splicing;8:123142456:123144717:clu_22513_+\n",
      "-17.73737907409668\n",
      "-0.859449\n",
      "\n"
     ]
    },
    {
     "name": "stderr",
     "output_type": "stream",
     "text": [
      " 57%|█████▋    | 658/1150 [00:12<00:10, 46.60it/s]"
     ]
    },
    {
     "name": "stdout",
     "output_type": "stream",
     "text": [
      "1:205627742:T:C\n",
      "chRNA.Splicing;1:205623891:205627742:clu_2103_-\n",
      "3.184239387512207\n",
      "1.42724\n",
      "\n"
     ]
    },
    {
     "name": "stderr",
     "output_type": "stream",
     "text": [
      " 61%|██████    | 700/1150 [00:13<00:07, 59.25it/s]"
     ]
    },
    {
     "name": "stdout",
     "output_type": "stream",
     "text": [
      "1:74733530:G:A\n",
      "chRNA.Splicing;1:74733531:74736542:clu_3515_+\n",
      "2.4453561305999756\n",
      "1.54848\n",
      "\n",
      "1:228107668:C:T\n",
      "chRNA.Splicing;1:228106918:228107668:clu_2284_-\n",
      "-3.184239387512207\n",
      "-1.98368\n",
      "\n",
      "2:108786919:A:C\n",
      "chRNA.Splicing;2:108786915:108788032:clu_7589_+\n",
      "-2.7620668411254883\n",
      "-1.74327\n",
      "\n"
     ]
    },
    {
     "name": "stderr",
     "output_type": "stream",
     "text": [
      " 62%|██████▏   | 714/1150 [00:13<00:08, 50.31it/s]"
     ]
    },
    {
     "name": "stdout",
     "output_type": "stream",
     "text": [
      "3:69009632:C:T\n",
      "chRNA.Splicing;3:69008528:69009637:clu_9310_-\n",
      "-2.8544363975524902\n",
      "-0.946535\n",
      "\n"
     ]
    },
    {
     "name": "stderr",
     "output_type": "stream",
     "text": [
      " 63%|██████▎   | 726/1150 [00:13<00:08, 49.96it/s]"
     ]
    },
    {
     "name": "stdout",
     "output_type": "stream",
     "text": [
      "3:45985149:G:T\n",
      "chRNA.Splicing;3:45985022:45985152:clu_8924_-\n",
      "3.5405683517456055\n",
      "1.80031\n",
      "\n",
      "4:1347503:A:G\n",
      "chRNA.Splicing;4:1347503:1348090:clu_11620_+\n",
      "3.184239625930786\n",
      "1.18722\n",
      "\n"
     ]
    },
    {
     "name": "stderr",
     "output_type": "stream",
     "text": [
      " 64%|██████▍   | 739/1150 [00:14<00:09, 42.70it/s]"
     ]
    },
    {
     "name": "stdout",
     "output_type": "stream",
     "text": [
      "5:158790031:T:C\n",
      "chRNA.Splicing;5:158777539:158790035:clu_15556_-\n",
      "-2.132650852203369\n",
      "-0.680418\n",
      "\n",
      "5:74772422:G:GT\n",
      "chRNA.Splicing;5:74772421:74773868:clu_13883_+\n",
      "-9.564616680145264\n",
      "-0.721236\n",
      "\n",
      "7:128477173:G:A\n",
      "chRNA.Splicing;7:128477173:128479158:clu_20634_+\n",
      "-3.184239625930786\n",
      "-2.15525\n",
      "\n"
     ]
    },
    {
     "name": "stderr",
     "output_type": "stream",
     "text": [
      " 68%|██████▊   | 784/1150 [00:14<00:05, 67.54it/s]"
     ]
    },
    {
     "name": "stdout",
     "output_type": "stream",
     "text": [
      "17:29568510:T:C\n",
      "chRNA.Splicing;17:29568508:29569018:clu_41346_+\n",
      "-7.343185603618622\n",
      "-1.10368\n",
      "\n",
      "19:52414373:A:G\n",
      "chRNA.Splicing;19:52414368:52414939:clu_45810_+\n",
      "2.8544363975524902\n",
      "0.51691\n",
      "\n",
      "17:5111073:T:A\n",
      "chRNA.Splicing;17:5109868:5111076:clu_39434_-\n",
      "-3.8744691908359528\n",
      "-1.22627\n",
      "\n",
      "17:78133555:T:C\n",
      "chRNA.Splicing;17:78133553:78133853:clu_42178_+\n",
      "-7.343185663223267\n",
      "-0.973645\n",
      "\n",
      "1:39026408:G:T\n",
      "chRNA.Splicing;1:39026402:39028723:clu_3130_+\n",
      "1.2097501754760742\n",
      "1.53076\n",
      "\n"
     ]
    },
    {
     "name": "stderr",
     "output_type": "stream",
     "text": [
      " 70%|██████▉   | 800/1150 [00:15<00:05, 60.07it/s]"
     ]
    },
    {
     "name": "stdout",
     "output_type": "stream",
     "text": [
      "11:28122185:A:G\n",
      "chRNA.Splicing;11:28122180:28211062:clu_28348_+\n",
      "2.8544368743896484\n",
      "0.757786\n",
      "\n",
      "11:28122185:A:G\n",
      "chRNA.Splicing;11:28122180:28123862:clu_28348_+\n",
      "2.8544368743896484\n",
      "0.681685\n",
      "\n",
      "5:131165058:A:C\n",
      "chRNA.Splicing;5:131162676:131165060:clu_15297_-\n",
      "-11.343185663223267\n",
      "-0.886082\n",
      "\n",
      "2:48346756:G:C\n",
      "chRNA.Splicing;2:48346751:48359047:clu_7152_+\n",
      "-3.620512008666992\n",
      "-1.45781\n",
      "\n",
      "19:54200892:A:C\n",
      "chRNA.Splicing;19:54200888:54201160:clu_45853_+\n",
      "-2.76206636428833\n",
      "0.803529\n",
      "\n",
      "19:54200892:A:C\n",
      "chRNA.Splicing;19:54200893:54201160:clu_45853_+\n",
      "-2.6135315895080566\n",
      "-0.754894\n",
      "\n"
     ]
    },
    {
     "name": "stderr",
     "output_type": "stream",
     "text": [
      " 71%|███████▏  | 822/1150 [00:15<00:04, 70.15it/s]"
     ]
    },
    {
     "name": "stdout",
     "output_type": "stream",
     "text": [
      "15:45401939:C:G\n",
      "chRNA.Splicing;15:45399595:45401939:clu_35285_-\n",
      "-5.010210037231445\n",
      "-0.987429\n",
      "\n",
      "10:45672399:C:T\n",
      "chRNA.Splicing;10:45663842:45672398:clu_26083_-\n",
      "2.4453563690185547\n",
      "1.59893\n",
      "\n",
      "19:21360602:C:T\n",
      "chRNA.Splicing;19:21360596:21361766:clu_45148_+\n",
      "1.5636935234069824\n",
      "0.849753\n",
      "\n"
     ]
    },
    {
     "name": "stderr",
     "output_type": "stream",
     "text": [
      " 73%|███████▎  | 840/1150 [00:15<00:04, 63.83it/s]"
     ]
    },
    {
     "name": "stdout",
     "output_type": "stream",
     "text": [
      "3:122721654:G:A\n",
      "chRNA.Splicing;3:122721653:122727812:clu_11028_+\n",
      "-11.352595329284668\n",
      "-0.778955\n",
      "\n",
      "1:241849237:T:G\n",
      "chRNA.Splicing;1:241849237:241850409:clu_4966_+\n",
      "3.492361843585968\n",
      "1.52247\n",
      "\n"
     ]
    },
    {
     "name": "stderr",
     "output_type": "stream",
     "text": [
      " 74%|███████▍  | 856/1150 [00:16<00:04, 68.35it/s]"
     ]
    },
    {
     "name": "stdout",
     "output_type": "stream",
     "text": [
      "11:66003074:G:A\n",
      "chRNA.Splicing;11:66003070:66003235:clu_28774_+\n",
      "2.13265061378479\n",
      "0.967272\n",
      "\n",
      "5:94941849:A:T\n",
      "chRNA.Splicing;5:94940195:94941852:clu_15163_-\n",
      "3.8744688034057617\n",
      "0.930968\n",
      "\n",
      "17:82188213:G:A\n",
      "chRNA.Splicing;17:82183932:82188219:clu_40863_-\n",
      "1.5636940002441406\n",
      "1.61507\n",
      "\n"
     ]
    },
    {
     "name": "stderr",
     "output_type": "stream",
     "text": [
      " 76%|███████▌  | 870/1150 [00:18<00:17, 15.70it/s]"
     ]
    },
    {
     "name": "stdout",
     "output_type": "stream",
     "text": [
      "14:100397259:A:G\n",
      "chRNA.Splicing;14:100397259:100468021:clu_33996_+\n",
      "3.1842398643493652\n",
      "0.827452\n",
      "\n",
      "8:85219234:A:T\n",
      "chRNA.Splicing;8:85217502:85219236:clu_21345_-\n",
      "-11.343185424804688\n",
      "-1.68671\n",
      "\n"
     ]
    },
    {
     "name": "stderr",
     "output_type": "stream",
     "text": [
      " 77%|███████▋  | 882/1150 [00:18<00:13, 19.42it/s]"
     ]
    },
    {
     "name": "stdout",
     "output_type": "stream",
     "text": [
      "11:796037:A:G\n",
      "chRNA.Splicing;11:795169:796043:clu_26844_-\n",
      "-1.5636940002441406\n",
      "-1.17578\n",
      "\n"
     ]
    },
    {
     "name": "stderr",
     "output_type": "stream",
     "text": [
      " 80%|████████  | 921/1150 [00:19<00:05, 44.75it/s]"
     ]
    },
    {
     "name": "stdout",
     "output_type": "stream",
     "text": [
      "15:42548697:C:T\n",
      "chRNA.Splicing;15:42548456:42548700:clu_35195_-\n",
      "0.506690502166748\n",
      "1.90642\n",
      "\n",
      "15:88621800:T:A\n",
      "chRNA.Splicing;15:88621797:88626146:clu_36624_+\n",
      "3.874469041824341\n",
      "0.834783\n",
      "\n"
     ]
    },
    {
     "name": "stderr",
     "output_type": "stream",
     "text": [
      " 83%|████████▎ | 953/1150 [00:19<00:03, 62.82it/s]"
     ]
    },
    {
     "name": "stdout",
     "output_type": "stream",
     "text": [
      "12:132141098:C:T\n",
      "chRNA.Splicing;12:132141020:132141103:clu_30883_-\n",
      "-2.854436434805393\n",
      "-1.05303\n",
      "\n",
      "14:103136303:G:A\n",
      "chRNA.Splicing;14:103136304:103136882:clu_34034_+\n",
      "2.445356845855713\n",
      "0.738773\n",
      "\n",
      "14:103136303:G:A\n",
      "chRNA.Splicing;14:103136304:103136405:clu_34034_+\n",
      "2.445356845855713\n",
      "1.20199\n",
      "\n"
     ]
    },
    {
     "name": "stderr",
     "output_type": "stream",
     "text": [
      " 85%|████████▌ | 983/1150 [00:20<00:02, 64.98it/s]"
     ]
    },
    {
     "name": "stdout",
     "output_type": "stream",
     "text": [
      "2:190195364:A:G\n",
      "chRNA.Splicing;2:190195364:190199697:clu_8087_+\n",
      "3.1842398643493652\n",
      "0.889616\n",
      "\n",
      "19:14594687:G:A\n",
      "chRNA.Splicing;19:14594682:14594759:clu_44949_+\n",
      "-2.854435920715332\n",
      "-1.5187\n",
      "\n",
      "19:37507050:C:A\n",
      "chRNA.Splicing;19:37507047:37508265:clu_45369_+\n",
      "3.540568232536316\n",
      "1.16181\n",
      "\n"
     ]
    },
    {
     "name": "stderr",
     "output_type": "stream",
     "text": [
      " 89%|████████▊ | 1019/1150 [00:20<00:01, 74.13it/s]"
     ]
    },
    {
     "name": "stdout",
     "output_type": "stream",
     "text": [
      "19:37108287:T:C\n",
      "chRNA.Splicing;19:37107695:37108287:clu_43923_-\n",
      "3.184239387512207\n",
      "0.747724\n",
      "\n",
      "1:89525357:G:A\n",
      "chRNA.Splicing;1:89525358:89526962:clu_3590_+\n",
      "2.4453563690185547\n",
      "0.910608\n",
      "\n",
      "15:90811800:GGT:G\n",
      "chRNA.Splicing;15:90811800:90815102:clu_36680_+\n",
      "-1.0570034980773926\n",
      "1.24734\n",
      "\n"
     ]
    },
    {
     "name": "stderr",
     "output_type": "stream",
     "text": [
      " 91%|█████████ | 1049/1150 [00:21<00:01, 60.79it/s]"
     ]
    },
    {
     "name": "stdout",
     "output_type": "stream",
     "text": [
      "15:30937260:G:A\n",
      "chRNA.Splicing;15:30937259:30941566:clu_36033_+\n",
      "-11.352595806121826\n",
      "-1.99913\n",
      "\n"
     ]
    },
    {
     "name": "stderr",
     "output_type": "stream",
     "text": [
      "\r",
      " 92%|█████████▏| 1056/1150 [00:21<00:01, 61.83it/s]"
     ]
    },
    {
     "name": "stdout",
     "output_type": "stream",
     "text": [
      "6:32949265:A:C\n",
      "chRNA.Splicing;6:32948868:32949271:clu_17515_-\n",
      "-1.2097511291503906\n",
      "-2.28781\n",
      "\n",
      "6:29723526:G:A\n",
      "chRNA.Splicing;6:29723527:29723683:clu_16008_+\n",
      "2.4453563690185547\n",
      "0.321727\n",
      "\n"
     ]
    },
    {
     "name": "stderr",
     "output_type": "stream",
     "text": [
      " 94%|█████████▍| 1079/1150 [00:22<00:02, 27.37it/s]"
     ]
    },
    {
     "name": "stdout",
     "output_type": "stream",
     "text": [
      "3:113293950:G:A\n",
      "chRNA.Splicing;3:113291748:113293952:clu_9464_-\n",
      "7.343185782432556\n",
      "1.15308\n",
      "\n"
     ]
    },
    {
     "name": "stderr",
     "output_type": "stream",
     "text": [
      " 94%|█████████▍| 1086/1150 [00:22<00:03, 18.90it/s]"
     ]
    },
    {
     "name": "stdout",
     "output_type": "stream",
     "text": [
      "15:42343410:A:G\n",
      "chRNA.Splicing;15:42343411:42345758:clu_36157_+\n",
      "-2.4453563690185547\n",
      "1.45269\n",
      "\n"
     ]
    },
    {
     "name": "stderr",
     "output_type": "stream",
     "text": [
      "\r",
      " 95%|█████████▍| 1089/1150 [00:23<00:04, 12.79it/s]"
     ]
    },
    {
     "name": "stdout",
     "output_type": "stream",
     "text": [
      "15:42346618:T:A\n",
      "chRNA.Splicing;15:42346614:42348103:clu_36158_+\n",
      "2.3323826789855957\n",
      "2.15268\n",
      "\n",
      "15:42346618:T:A\n",
      "chRNA.Splicing;15:42346614:42348103:clu_36158_+\n",
      "2.3323826789855957\n",
      "2.15268\n",
      "\n"
     ]
    },
    {
     "name": "stderr",
     "output_type": "stream",
     "text": [
      " 96%|█████████▋| 1109/1150 [00:23<00:01, 31.91it/s]"
     ]
    },
    {
     "name": "stdout",
     "output_type": "stream",
     "text": [
      "18:63953532:G:A\n",
      "chRNA.Splicing;18:63953527:63954408:clu_42666_+\n",
      "-2.8544368743896484\n",
      "-1.25733\n",
      "\n",
      "2:97701308:C:A\n",
      "chRNA.Splicing;2:97701304:97702669:clu_7506_+\n",
      "2.762066602706909\n",
      "0.704594\n",
      "\n",
      "11:5620681:C:A\n",
      "chRNA.Splicing;11:5595350:5620687:clu_26906_-\n",
      "1.2097511291503906\n",
      "0.79137\n",
      "\n"
     ]
    },
    {
     "name": "stderr",
     "output_type": "stream",
     "text": [
      "100%|██████████| 1150/1150 [00:24<00:00, 46.51it/s]"
     ]
    },
    {
     "name": "stdout",
     "output_type": "stream",
     "text": [
      "15:30648368:T:G\n",
      "chRNA.Splicing;15:30648368:30716220:clu_36018_+\n",
      "3.4923620223999023\n",
      "2.11043\n",
      "\n"
     ]
    },
    {
     "name": "stderr",
     "output_type": "stream",
     "text": [
      "\n"
     ]
    }
   ],
   "source": [
    "def mutate(seq, extended_seq, pos, snp, strand):\n",
    "    \n",
    "    chrom, position, original, new = snp.split(':')\n",
    "    \n",
    "    if strand == '-':\n",
    "        seq = get_neg_nucleotide(seq)\n",
    "        extended_seq = get_neg_nucleotide(extended_seq)\n",
    "    \n",
    "    if (len(original) == 1) and (len(new)==1):\n",
    "        \n",
    "        assert seq[pos] == original\n",
    "\n",
    "        nuc = list(seq)\n",
    "        nuc[pos] = new\n",
    "\n",
    "        mutated_seq = ''.join(nuc)\n",
    "\n",
    "        if strand == '-':\n",
    "            mutated_seq = get_neg_nucleotide(mutated_seq)\n",
    "\n",
    "        return mutated_seq\n",
    "    \n",
    "    else:\n",
    "        \n",
    "        if strand == '+':\n",
    "\n",
    "            assert extended_seq[(pos+20):(pos+len(original)+20)] == original\n",
    "            \n",
    "            seq5 = extended_seq[:(pos+20)]\n",
    "            seq3 = extended_seq[(pos+len(original)+20):]\n",
    "\n",
    "            mutated_seq = seq5 + new + seq3\n",
    "            mutated_seq = mutated_seq[20:28]\n",
    "            \n",
    "        else:\n",
    "            \n",
    "            assert extended_seq[(pos+21-len(original)):(pos+21)][::-1] == original\n",
    "            \n",
    "            seq5 = extended_seq[:(pos+21)][::-1]\n",
    "            seq3 = extended_seq[(pos+21-len(original)):][::-1]\n",
    "            \n",
    "            mutated_seq = seq5 + new + seq3\n",
    "            mutated_seq = get_neg_nucleotide(mutated_seq)[::-1][20:28]\n",
    "        \n",
    "        return mutated_seq\n",
    "        \n",
    "        \n",
    "    \n",
    "def get_neg_nucleotide(S):\n",
    "    new_S = ''\n",
    "    for i in range(len(S)):\n",
    "        N = S[i]\n",
    "        if N == 'A':\n",
    "            new_S += 'T'\n",
    "        elif N == 'T':\n",
    "            new_S += 'A'\n",
    "        elif N == 'G':\n",
    "            new_S += 'C'\n",
    "        elif N == 'C':\n",
    "            new_S += 'G'\n",
    "    return new_S#[::-1]\n",
    "        \n",
    "\n",
    "def get_splice_junctions(intron):\n",
    "    chrom, start, end, clu = intron.split(';')[1].split(':')\n",
    "    strand = clu.split('_')[-1]\n",
    "    \n",
    "    return int(start), int(end), strand\n",
    "\n",
    "\n",
    "def isSNPin5SS(snp, intron, mut_diff):\n",
    "    \n",
    "    snp_pos = int(snp.split(':')[1])\n",
    "    \n",
    "    start, end, strand = get_splice_junctions(intron)\n",
    "    \n",
    "    seq = str(df.loc[intron].seq)\n",
    "    extended_seq = str(df_extended.loc[intron].seq)\n",
    "    \n",
    "    for i in range(8):\n",
    "        if strand == '+':\n",
    "            test_pos = start + i - 1\n",
    "        else:\n",
    "            test_pos = end - i + 1\n",
    "        \n",
    "        if snp_pos == test_pos:\n",
    "            mutated_seq = mutate(seq, extended_seq, i, snp, strand)\n",
    "            mut_diff.append(np.max([pssm.calculate(Seq(mutated_seq)), -10]) - pssm.calculate(Seq(seq)))\n",
    "            \n",
    "            return mut_diff\n",
    "    return mut_diff\n",
    "\n",
    "\n",
    "def isClusterinSJ(data, snp_x, mut_diff, beta):\n",
    "    snp_x_data = data.loc[data.snp_x == snp_x]\n",
    "    \n",
    "    token = False\n",
    "    \n",
    "    snps_sj_pr = []\n",
    "    snps_no_sj_pr = []\n",
    "    betas = []\n",
    "    p = []\n",
    "    \n",
    "    df_list = []\n",
    "    \n",
    "    for idx in snp_x_data.index:\n",
    "        \n",
    "        l = len(mut_diff)\n",
    "        \n",
    "        intron = snp_x_data.loc[idx, 'phenotype_full']\n",
    "        snp_y = snp_x_data.loc[idx, 'snp_y']\n",
    "        locus = snp_x_data.loc[idx, 'Locus']\n",
    "        \n",
    "        mut_diff = isSNPin5SS(snp_y, intron, mut_diff)\n",
    "        \n",
    "        \n",
    "        \n",
    "        if l < len(mut_diff):\n",
    "            beta.append(snp_x_data.loc[idx, 'beta'])\n",
    "            \n",
    "            df_list.append([snp_y, intron, mut_diff[-1], snp_x_data.loc[idx, 'beta']])\n",
    "            \n",
    "            print(snp_y)\n",
    "            print(intron)\n",
    "            print(mut_diff[-1])\n",
    "            print(snp_x_data.loc[idx, 'beta'])\n",
    "            print('')\n",
    "            \n",
    "            \n",
    "            \n",
    "    return mut_diff, beta, df_list\n",
    "        \n",
    "        \n",
    "\n",
    "merged_splicing = merged_snps.loc[splicing_idx]\n",
    "\n",
    "mut_diff = []\n",
    "beta = []\n",
    "sig_snp = []\n",
    "\n",
    "df_out = []\n",
    "\n",
    "for snp_x in tqdm(merged_splicing.snp_x.unique(), leave=True, position=0):\n",
    "    l = len(mut_diff)\n",
    "    mut_diff, beta, df_list = isClusterinSJ(merged_splicing, snp_x, mut_diff, beta)\n",
    "    if len(mut_diff) > l:\n",
    "        sig_snp.append(snp_x)\n",
    "        df_out.extend(df_list)"
   ]
  },
  {
   "cell_type": "code",
   "execution_count": 16,
   "id": "7fe584c4",
   "metadata": {},
   "outputs": [
    {
     "data": {
      "text/plain": [
       "(-3.0, 3.0)"
      ]
     },
     "execution_count": 16,
     "metadata": {},
     "output_type": "execute_result"
    },
    {
     "data": {
      "image/png": "[encoded data removed]",
      "text/plain": [
       "<Figure size 432x288 with 1 Axes>"
      ]
     },
     "metadata": {
      "needs_background": "light"
     },
     "output_type": "display_data"
    }
   ],
   "source": [
    "plt.plot([0, 0], [-5, 5], linestyle='--', alpha=0.3, c='gray')\n",
    "plt.plot([-20, 20], [0, 0], linestyle='--', alpha=0.3, c='gray')\n",
    "plt.scatter(mut_diff, beta, alpha = 0.5)\n",
    "plt.xlabel(r'$\\Delta$ PWM')\n",
    "plt.ylabel('chRNA splicing beta')\n",
    "plt.title(\"5'Splice junction SNPs\")\n",
    "plt.xlim([-20, 12])\n",
    "plt.ylim([-3, 3])"
   ]
  },
  {
   "cell_type": "code",
   "execution_count": 28,
   "id": "c467838e",
   "metadata": {},
   "outputs": [],
   "source": [
    "df_5ss = pd.DataFrame(df_out).drop_duplicates()\n",
    "df_5ss.columns = ['SNP', 'Intron', 'DeltaPWM', \"Beta\"]\n",
    "df_5ss.to_csv('chRNA.5SS.tab', sep='\\t', index=False, header=True)"
   ]
  },
  {
   "cell_type": "code",
   "execution_count": 10,
   "id": "a7b950eb",
   "metadata": {},
   "outputs": [
    {
     "data": {
      "text/html": [
       "<div>\n",
       "<style scoped>\n",
       "    .dataframe tbody tr th:only-of-type {\n",
       "        vertical-align: middle;\n",
       "    }\n",
       "\n",
       "    .dataframe tbody tr th {\n",
       "        vertical-align: top;\n",
       "    }\n",
       "\n",
       "    .dataframe thead th {\n",
       "        text-align: right;\n",
       "    }\n",
       "</style>\n",
       "<table border=\"1\" class=\"dataframe\">\n",
       "  <thead>\n",
       "    <tr style=\"text-align: right;\">\n",
       "      <th></th>\n",
       "      <th>snp_x</th>\n",
       "      <th>beta</th>\n",
       "      <th>beta_se</th>\n",
       "      <th>p</th>\n",
       "      <th>Locus</th>\n",
       "      <th>phenotype_full</th>\n",
       "      <th>iteration</th>\n",
       "      <th>ColocPr</th>\n",
       "      <th>RegionalPr</th>\n",
       "      <th>TopSNPFinemapPr</th>\n",
       "      <th>snp_y</th>\n",
       "      <th>ColocalizedCluster</th>\n",
       "      <th>FinemapPr</th>\n",
       "    </tr>\n",
       "  </thead>\n",
       "  <tbody>\n",
       "    <tr>\n",
       "      <th>2763</th>\n",
       "      <td>19:41586462:A:T</td>\n",
       "      <td>-0.817893</td>\n",
       "      <td>0.119582</td>\n",
       "      <td>1.145110e-09</td>\n",
       "      <td>ENSG00000007129.18</td>\n",
       "      <td>chRNA.Splicing;19:41586195:41586464:clu_45477_+</td>\n",
       "      <td>1</td>\n",
       "      <td>0.5223</td>\n",
       "      <td>0.5853</td>\n",
       "      <td>1.0</td>\n",
       "      <td>19:41586462:A:T</td>\n",
       "      <td>1</td>\n",
       "      <td>1.000000</td>\n",
       "    </tr>\n",
       "    <tr>\n",
       "      <th>2764</th>\n",
       "      <td>19:41586462:A:T</td>\n",
       "      <td>-0.817893</td>\n",
       "      <td>0.119582</td>\n",
       "      <td>1.145110e-09</td>\n",
       "      <td>ENSG00000007129.18</td>\n",
       "      <td>chRNA.Splicing;19:41586195:41586464:clu_45477_+</td>\n",
       "      <td>1</td>\n",
       "      <td>0.5223</td>\n",
       "      <td>0.5853</td>\n",
       "      <td>1.0</td>\n",
       "      <td>19:41585872:G:A</td>\n",
       "      <td>2</td>\n",
       "      <td>1.000000</td>\n",
       "    </tr>\n",
       "    <tr>\n",
       "      <th>2765</th>\n",
       "      <td>19:41586462:A:T</td>\n",
       "      <td>-0.817893</td>\n",
       "      <td>0.119582</td>\n",
       "      <td>1.145110e-09</td>\n",
       "      <td>ENSG00000007129.18</td>\n",
       "      <td>chRNA.Splicing;19:41586195:41586464:clu_45477_+</td>\n",
       "      <td>1</td>\n",
       "      <td>0.5223</td>\n",
       "      <td>0.5853</td>\n",
       "      <td>1.0</td>\n",
       "      <td>19:41565563:C:CACAG</td>\n",
       "      <td>3</td>\n",
       "      <td>0.999082</td>\n",
       "    </tr>\n",
       "    <tr>\n",
       "      <th>2766</th>\n",
       "      <td>19:41586462:A:T</td>\n",
       "      <td>-1.014110</td>\n",
       "      <td>0.126437</td>\n",
       "      <td>5.143880e-12</td>\n",
       "      <td>ENSG00000007129.18</td>\n",
       "      <td>chRNA.Splicing;19:41585871:41586464:clu_45477_+</td>\n",
       "      <td>1</td>\n",
       "      <td>0.5223</td>\n",
       "      <td>0.5853</td>\n",
       "      <td>1.0</td>\n",
       "      <td>19:41586462:A:T</td>\n",
       "      <td>1</td>\n",
       "      <td>1.000000</td>\n",
       "    </tr>\n",
       "    <tr>\n",
       "      <th>2767</th>\n",
       "      <td>19:41586462:A:T</td>\n",
       "      <td>-1.014110</td>\n",
       "      <td>0.126437</td>\n",
       "      <td>5.143880e-12</td>\n",
       "      <td>ENSG00000007129.18</td>\n",
       "      <td>chRNA.Splicing;19:41585871:41586464:clu_45477_+</td>\n",
       "      <td>1</td>\n",
       "      <td>0.5223</td>\n",
       "      <td>0.5853</td>\n",
       "      <td>1.0</td>\n",
       "      <td>19:41585872:G:A</td>\n",
       "      <td>2</td>\n",
       "      <td>1.000000</td>\n",
       "    </tr>\n",
       "    <tr>\n",
       "      <th>2768</th>\n",
       "      <td>19:41586462:A:T</td>\n",
       "      <td>-1.014110</td>\n",
       "      <td>0.126437</td>\n",
       "      <td>5.143880e-12</td>\n",
       "      <td>ENSG00000007129.18</td>\n",
       "      <td>chRNA.Splicing;19:41585871:41586464:clu_45477_+</td>\n",
       "      <td>1</td>\n",
       "      <td>0.5223</td>\n",
       "      <td>0.5853</td>\n",
       "      <td>1.0</td>\n",
       "      <td>19:41565563:C:CACAG</td>\n",
       "      <td>3</td>\n",
       "      <td>0.999082</td>\n",
       "    </tr>\n",
       "    <tr>\n",
       "      <th>2769</th>\n",
       "      <td>19:41586462:A:T</td>\n",
       "      <td>1.134300</td>\n",
       "      <td>0.136305</td>\n",
       "      <td>1.271760e-12</td>\n",
       "      <td>ENSG00000007129.18</td>\n",
       "      <td>chRNA.Splicing;19:41585871:41586154:clu_45477_+</td>\n",
       "      <td>1</td>\n",
       "      <td>0.5223</td>\n",
       "      <td>0.5853</td>\n",
       "      <td>1.0</td>\n",
       "      <td>19:41586462:A:T</td>\n",
       "      <td>1</td>\n",
       "      <td>1.000000</td>\n",
       "    </tr>\n",
       "    <tr>\n",
       "      <th>2770</th>\n",
       "      <td>19:41586462:A:T</td>\n",
       "      <td>1.134300</td>\n",
       "      <td>0.136305</td>\n",
       "      <td>1.271760e-12</td>\n",
       "      <td>ENSG00000007129.18</td>\n",
       "      <td>chRNA.Splicing;19:41585871:41586154:clu_45477_+</td>\n",
       "      <td>1</td>\n",
       "      <td>0.5223</td>\n",
       "      <td>0.5853</td>\n",
       "      <td>1.0</td>\n",
       "      <td>19:41585872:G:A</td>\n",
       "      <td>2</td>\n",
       "      <td>1.000000</td>\n",
       "    </tr>\n",
       "    <tr>\n",
       "      <th>2771</th>\n",
       "      <td>19:41586462:A:T</td>\n",
       "      <td>1.134300</td>\n",
       "      <td>0.136305</td>\n",
       "      <td>1.271760e-12</td>\n",
       "      <td>ENSG00000007129.18</td>\n",
       "      <td>chRNA.Splicing;19:41585871:41586154:clu_45477_+</td>\n",
       "      <td>1</td>\n",
       "      <td>0.5223</td>\n",
       "      <td>0.5853</td>\n",
       "      <td>1.0</td>\n",
       "      <td>19:41565563:C:CACAG</td>\n",
       "      <td>3</td>\n",
       "      <td>0.999082</td>\n",
       "    </tr>\n",
       "    <tr>\n",
       "      <th>2778</th>\n",
       "      <td>19:41586462:A:T</td>\n",
       "      <td>0.646264</td>\n",
       "      <td>0.146786</td>\n",
       "      <td>3.091370e-05</td>\n",
       "      <td>ENSG00000007129.18</td>\n",
       "      <td>chRNA.Splicing;19:41585495:41585840:clu_45477_+</td>\n",
       "      <td>1</td>\n",
       "      <td>0.5223</td>\n",
       "      <td>0.5853</td>\n",
       "      <td>1.0</td>\n",
       "      <td>19:41586462:A:T</td>\n",
       "      <td>1</td>\n",
       "      <td>1.000000</td>\n",
       "    </tr>\n",
       "    <tr>\n",
       "      <th>2779</th>\n",
       "      <td>19:41586462:A:T</td>\n",
       "      <td>0.646264</td>\n",
       "      <td>0.146786</td>\n",
       "      <td>3.091370e-05</td>\n",
       "      <td>ENSG00000007129.18</td>\n",
       "      <td>chRNA.Splicing;19:41585495:41585840:clu_45477_+</td>\n",
       "      <td>1</td>\n",
       "      <td>0.5223</td>\n",
       "      <td>0.5853</td>\n",
       "      <td>1.0</td>\n",
       "      <td>19:41585872:G:A</td>\n",
       "      <td>2</td>\n",
       "      <td>1.000000</td>\n",
       "    </tr>\n",
       "    <tr>\n",
       "      <th>2780</th>\n",
       "      <td>19:41586462:A:T</td>\n",
       "      <td>0.646264</td>\n",
       "      <td>0.146786</td>\n",
       "      <td>3.091370e-05</td>\n",
       "      <td>ENSG00000007129.18</td>\n",
       "      <td>chRNA.Splicing;19:41585495:41585840:clu_45477_+</td>\n",
       "      <td>1</td>\n",
       "      <td>0.5223</td>\n",
       "      <td>0.5853</td>\n",
       "      <td>1.0</td>\n",
       "      <td>19:41565563:C:CACAG</td>\n",
       "      <td>3</td>\n",
       "      <td>0.999082</td>\n",
       "    </tr>\n",
       "  </tbody>\n",
       "</table>\n",
       "</div>"
      ],
      "text/plain": [
       "                snp_x      beta   beta_se             p               Locus  \\\n",
       "2763  19:41586462:A:T -0.817893  0.119582  1.145110e-09  ENSG00000007129.18   \n",
       "2764  19:41586462:A:T -0.817893  0.119582  1.145110e-09  ENSG00000007129.18   \n",
       "2765  19:41586462:A:T -0.817893  0.119582  1.145110e-09  ENSG00000007129.18   \n",
       "2766  19:41586462:A:T -1.014110  0.126437  5.143880e-12  ENSG00000007129.18   \n",
       "2767  19:41586462:A:T -1.014110  0.126437  5.143880e-12  ENSG00000007129.18   \n",
       "2768  19:41586462:A:T -1.014110  0.126437  5.143880e-12  ENSG00000007129.18   \n",
       "2769  19:41586462:A:T  1.134300  0.136305  1.271760e-12  ENSG00000007129.18   \n",
       "2770  19:41586462:A:T  1.134300  0.136305  1.271760e-12  ENSG00000007129.18   \n",
       "2771  19:41586462:A:T  1.134300  0.136305  1.271760e-12  ENSG00000007129.18   \n",
       "2778  19:41586462:A:T  0.646264  0.146786  3.091370e-05  ENSG00000007129.18   \n",
       "2779  19:41586462:A:T  0.646264  0.146786  3.091370e-05  ENSG00000007129.18   \n",
       "2780  19:41586462:A:T  0.646264  0.146786  3.091370e-05  ENSG00000007129.18   \n",
       "\n",
       "                                       phenotype_full  iteration  ColocPr  \\\n",
       "2763  chRNA.Splicing;19:41586195:41586464:clu_45477_+          1   0.5223   \n",
       "2764  chRNA.Splicing;19:41586195:41586464:clu_45477_+          1   0.5223   \n",
       "2765  chRNA.Splicing;19:41586195:41586464:clu_45477_+          1   0.5223   \n",
       "2766  chRNA.Splicing;19:41585871:41586464:clu_45477_+          1   0.5223   \n",
       "2767  chRNA.Splicing;19:41585871:41586464:clu_45477_+          1   0.5223   \n",
       "2768  chRNA.Splicing;19:41585871:41586464:clu_45477_+          1   0.5223   \n",
       "2769  chRNA.Splicing;19:41585871:41586154:clu_45477_+          1   0.5223   \n",
       "2770  chRNA.Splicing;19:41585871:41586154:clu_45477_+          1   0.5223   \n",
       "2771  chRNA.Splicing;19:41585871:41586154:clu_45477_+          1   0.5223   \n",
       "2778  chRNA.Splicing;19:41585495:41585840:clu_45477_+          1   0.5223   \n",
       "2779  chRNA.Splicing;19:41585495:41585840:clu_45477_+          1   0.5223   \n",
       "2780  chRNA.Splicing;19:41585495:41585840:clu_45477_+          1   0.5223   \n",
       "\n",
       "      RegionalPr  TopSNPFinemapPr                snp_y  ColocalizedCluster  \\\n",
       "2763      0.5853              1.0      19:41586462:A:T                   1   \n",
       "2764      0.5853              1.0      19:41585872:G:A                   2   \n",
       "2765      0.5853              1.0  19:41565563:C:CACAG                   3   \n",
       "2766      0.5853              1.0      19:41586462:A:T                   1   \n",
       "2767      0.5853              1.0      19:41585872:G:A                   2   \n",
       "2768      0.5853              1.0  19:41565563:C:CACAG                   3   \n",
       "2769      0.5853              1.0      19:41586462:A:T                   1   \n",
       "2770      0.5853              1.0      19:41585872:G:A                   2   \n",
       "2771      0.5853              1.0  19:41565563:C:CACAG                   3   \n",
       "2778      0.5853              1.0      19:41586462:A:T                   1   \n",
       "2779      0.5853              1.0      19:41585872:G:A                   2   \n",
       "2780      0.5853              1.0  19:41565563:C:CACAG                   3   \n",
       "\n",
       "      FinemapPr  \n",
       "2763   1.000000  \n",
       "2764   1.000000  \n",
       "2765   0.999082  \n",
       "2766   1.000000  \n",
       "2767   1.000000  \n",
       "2768   0.999082  \n",
       "2769   1.000000  \n",
       "2770   1.000000  \n",
       "2771   0.999082  \n",
       "2778   1.000000  \n",
       "2779   1.000000  \n",
       "2780   0.999082  "
      ]
     },
     "execution_count": 10,
     "metadata": {},
     "output_type": "execute_result"
    }
   ],
   "source": [
    "merged_splicing.loc[merged_splicing.snp_x == '19:41586462:A:T']"
   ]
  },
  {
   "cell_type": "code",
   "execution_count": 13,
   "id": "55c4b743",
   "metadata": {},
   "outputs": [
    {
     "data": {
      "text/plain": [
       "(-3.0, 3.0)"
      ]
     },
     "execution_count": 13,
     "metadata": {},
     "output_type": "execute_result"
    },
    {
     "data": {
      "image/png": "[encoded data removed]",
      "text/plain": [
       "<Figure size 432x288 with 1 Axes>"
      ]
     },
     "metadata": {
      "needs_background": "light"
     },
     "output_type": "display_data"
    }
   ],
   "source": [
    "plt.plot([0, 0], [-5, 5], linestyle='--', alpha=0.5, c='red')\n",
    "plt.plot([-20, 20], [0, 0], linestyle='--', alpha=0.5, c='red')\n",
    "plt.scatter(mut_diff, beta, alpha = 0.25, c='black')\n",
    "plt.xlabel(r'$\\Delta$ PWM')\n",
    "plt.ylabel('chRNA splicing beta')\n",
    "plt.title(\"5'Splice junction SNPs\")\n",
    "plt.xlim([-20, 12])\n",
    "plt.ylim([-3, 3])"
   ]
  },
  {
   "cell_type": "code",
   "execution_count": 35,
   "id": "168216a7",
   "metadata": {},
   "outputs": [],
   "source": [
    "ch_mut_diff = mut_diff\n",
    "ch_beta = beta\n",
    "ch_snp = sig_snp"
   ]
  },
  {
   "cell_type": "code",
   "execution_count": 83,
   "id": "6e666430",
   "metadata": {},
   "outputs": [
    {
     "data": {
      "text/plain": [
       "SpearmanrResult(correlation=0.6091564922496572, pvalue=1.3959083458530225e-15)"
      ]
     },
     "execution_count": 83,
     "metadata": {},
     "output_type": "execute_result"
    }
   ],
   "source": [
    "spearmanr(beta, mut_diff)"
   ]
  },
  {
   "cell_type": "code",
   "execution_count": 82,
   "id": "432bccb4",
   "metadata": {},
   "outputs": [
    {
     "data": {
      "text/plain": [
       "(0.531826615450316, 1.3659286793794182e-11)"
      ]
     },
     "execution_count": 82,
     "metadata": {},
     "output_type": "execute_result"
    }
   ],
   "source": [
    "pearsonr(beta, mut_diff)"
   ]
  },
  {
   "cell_type": "code",
   "execution_count": 36,
   "id": "235bd57c",
   "metadata": {},
   "outputs": [],
   "source": [
    "df = pd.read_csv('../../polyA.Splicing.hyprcoloc_5ss.sorted.tab', sep='\\t', names=['name', 'seq'])\n",
    "\n",
    "df['seq'] = df['seq'].apply(Seq)\n",
    "\n",
    "m  = motifs.create(df['seq'])\n",
    "pwm = m.counts.normalize()\n",
    "pssm = pwm.log_odds()\n",
    "\n",
    "df['score'] = df['seq'].apply(pssm.calculate)\n",
    "\n",
    "\n",
    "df_extended = pd.read_csv('../../polyA.Splicing.hyprcoloc_5ss.extended.sorted.tab', sep='\\t', names=['name', 'seq'])\n",
    "df_extended['seq'] = df_extended['seq'].apply(Seq)\n",
    "\n",
    "me  = motifs.create(df_extended['seq'])\n",
    "pwme = me.counts.normalize()\n",
    "pssme = pwme.log_odds()\n",
    "\n",
    "# pssm.calculate(m.consensus)\n",
    "df_extended['score'] = df_extended['seq'].apply(pssme.calculate)\n",
    "\n",
    "df.index = [df.name[i].split('::')[0] for i in range(len(df.name))]\n",
    "df_extended.index = [df_extended.name[i].split('::')[0] for i in range(len(df_extended.name))]\n",
    "\n",
    "merged_snps = colocalized.merge(snps, left_on='Locus', right_on='Locus')\n",
    "\n",
    "splicing_idx = merged_snps.loc[\n",
    "    [y == 'polyA.Splicing.Subset_YRI' for y in [x.split(';')[0] for x in merged_snps.phenotype_full]]\n",
    "].index"
   ]
  },
  {
   "cell_type": "code",
   "execution_count": 37,
   "id": "db67b99e",
   "metadata": {},
   "outputs": [
    {
     "name": "stderr",
     "output_type": "stream",
     "text": [
      "100%|██████████| 1018/1018 [00:16<00:00, 59.99it/s]\n"
     ]
    }
   ],
   "source": [
    "def mutate(seq, extended_seq, pos, snp, strand):\n",
    "    \n",
    "    chrom, position, original, new = snp.split(':')\n",
    "    \n",
    "    if strand == '-':\n",
    "        seq = get_neg_nucleotide(seq)\n",
    "        extended_seq = get_neg_nucleotide(extended_seq)\n",
    "    \n",
    "    if (len(original) == 1) and (len(new)==1):\n",
    "        \n",
    "        assert seq[pos] == original\n",
    "\n",
    "        nuc = list(seq)\n",
    "        nuc[pos] = new\n",
    "\n",
    "        mutated_seq = ''.join(nuc)\n",
    "\n",
    "        if strand == '-':\n",
    "            mutated_seq = get_neg_nucleotide(mutated_seq)\n",
    "\n",
    "        return mutated_seq\n",
    "    \n",
    "    else:\n",
    "        \n",
    "        if strand == '+':\n",
    "\n",
    "            assert extended_seq[(pos+20):(pos+len(original)+20)] == original\n",
    "            \n",
    "            seq5 = extended_seq[:(pos+20)]\n",
    "            seq3 = extended_seq[(pos+len(original)+20):]\n",
    "\n",
    "            mutated_seq = seq5 + new + seq3\n",
    "            mutated_seq = mutated_seq[20:28]\n",
    "            \n",
    "        else:\n",
    "            \n",
    "            assert extended_seq[(pos+21-len(original)):(pos+21)][::-1] == original\n",
    "            \n",
    "            seq5 = extended_seq[:(pos+21)][::-1]\n",
    "            seq3 = extended_seq[(pos+21-len(original)):][::-1]\n",
    "            \n",
    "            mutated_seq = seq5 + new + seq3\n",
    "            mutated_seq = get_neg_nucleotide(mutated_seq)[::-1][20:28]\n",
    "        \n",
    "        return mutated_seq\n",
    "        \n",
    "        \n",
    "    \n",
    "def get_neg_nucleotide(S):\n",
    "    new_S = ''\n",
    "    for i in range(len(S)):\n",
    "        N = S[i]\n",
    "        if N == 'A':\n",
    "            new_S += 'T'\n",
    "        elif N == 'T':\n",
    "            new_S += 'A'\n",
    "        elif N == 'G':\n",
    "            new_S += 'C'\n",
    "        elif N == 'C':\n",
    "            new_S += 'G'\n",
    "    return new_S#[::-1]\n",
    "        \n",
    "\n",
    "def get_splice_junctions(intron):\n",
    "    chrom, start, end, clu = intron.split(';')[1].split(':')\n",
    "    strand = clu.split('_')[-1]\n",
    "    \n",
    "    return int(start), int(end), strand\n",
    "\n",
    "\n",
    "def isSNPin5SS(snp, intron, mut_diff):\n",
    "    \n",
    "    snp_pos = int(snp.split(':')[1])\n",
    "    \n",
    "    start, end, strand = get_splice_junctions(intron)\n",
    "    \n",
    "    seq = str(df.loc[intron].seq)\n",
    "    extended_seq = str(df_extended.loc[intron].seq)\n",
    "    \n",
    "    for i in range(8):\n",
    "        if strand == '+':\n",
    "            test_pos = start + i - 1\n",
    "        else:\n",
    "            test_pos = end - i + 1\n",
    "        \n",
    "        if snp_pos == test_pos:\n",
    "            mutated_seq = mutate(seq, extended_seq, i, snp, strand)\n",
    "            mut_diff.append(np.max([pssm.calculate(Seq(mutated_seq)), -10]) - pssm.calculate(Seq(seq)))\n",
    "            \n",
    "            return mut_diff\n",
    "    return mut_diff\n",
    "\n",
    "\n",
    "def isClusterinSJ(data, snp_x, mut_diff, beta):\n",
    "    snp_x_data = data.loc[data.snp_x == snp_x]\n",
    "    \n",
    "    token = False\n",
    "    \n",
    "    snps_sj_pr = []\n",
    "    snps_no_sj_pr = []\n",
    "    betas = []\n",
    "    p = []\n",
    "    \n",
    "    for idx in snp_x_data.index:\n",
    "        \n",
    "        l = len(mut_diff)\n",
    "        \n",
    "        intron = snp_x_data.loc[idx, 'phenotype_full']\n",
    "        snp_y = snp_x_data.loc[idx, 'snp_y']\n",
    "        locus = snp_x_data.loc[idx, 'Locus']\n",
    "        \n",
    "        mut_diff = isSNPin5SS(snp_y, intron, mut_diff)\n",
    "        \n",
    "        if l < len(mut_diff):\n",
    "            beta.append(snp_x_data.loc[idx, 'beta'])\n",
    "            \n",
    "    return mut_diff, beta\n",
    "        \n",
    "        \n",
    "\n",
    "merged_splicing = merged_snps.loc[splicing_idx]\n",
    "\n",
    "mut_diff = []\n",
    "beta = []\n",
    "\n",
    "sig_snp = []\n",
    "\n",
    "for snp_x in tqdm(merged_splicing.snp_x.unique(), leave=True, position=0):\n",
    "    l = len(mut_diff)\n",
    "    mut_diff, beta = isClusterinSJ(merged_splicing, snp_x, mut_diff, beta)\n",
    "    if len(mut_diff) > l:\n",
    "        sig_snp.append(snp_x)"
   ]
  },
  {
   "cell_type": "code",
   "execution_count": 94,
   "id": "3bfa4e0f",
   "metadata": {},
   "outputs": [
    {
     "data": {
      "text/plain": [
       "117"
      ]
     },
     "execution_count": 94,
     "metadata": {},
     "output_type": "execute_result"
    }
   ],
   "source": [
    "len(beta)"
   ]
  },
  {
   "cell_type": "code",
   "execution_count": 38,
   "id": "3b0f7f85",
   "metadata": {},
   "outputs": [
    {
     "data": {
      "text/plain": [
       "(-3.0, 3.0)"
      ]
     },
     "execution_count": 38,
     "metadata": {},
     "output_type": "execute_result"
    },
    {
     "data": {
      "image/png": "[encoded data removed]",
      "text/plain": [
       "<Figure size 432x288 with 1 Axes>"
      ]
     },
     "metadata": {
      "needs_background": "light"
     },
     "output_type": "display_data"
    }
   ],
   "source": [
    "plt.plot([0, 0], [-5, 5], linestyle='--', alpha=0.3, c='gray')\n",
    "plt.plot([-20, 20], [0, 0], linestyle='--', alpha=0.3, c='gray')\n",
    "plt.scatter(mut_diff, beta, alpha = 0.5)\n",
    "plt.xlabel(r'$\\Delta$ PWM')\n",
    "plt.ylabel('polyRNA Splicing beta')\n",
    "plt.title(\"5'Splice junction SNPs\")\n",
    "plt.xlim([-20, 12])\n",
    "plt.ylim([-3, 3])"
   ]
  },
  {
   "cell_type": "code",
   "execution_count": 44,
   "id": "85cb2dca",
   "metadata": {},
   "outputs": [
    {
     "data": {
      "text/plain": [
       "(-3.0, 3.0)"
      ]
     },
     "execution_count": 44,
     "metadata": {},
     "output_type": "execute_result"
    },
    {
     "data": {
      "image/png": "[encoded data removed]",
      "text/plain": [
       "<Figure size 432x288 with 1 Axes>"
      ]
     },
     "metadata": {
      "needs_background": "light"
     },
     "output_type": "display_data"
    }
   ],
   "source": [
    "plt.plot([0, 0], [-5, 5], linestyle='--', alpha=0.5, c='red')\n",
    "plt.plot([-20, 20], [0, 0], linestyle='--', alpha=0.5, c='red')\n",
    "plt.scatter(mut_diff, beta, alpha = 0.25, c='black')\n",
    "plt.xlabel(r'$\\Delta$ PWM')\n",
    "plt.ylabel('polyA RNA splicing beta')\n",
    "plt.title(\"5'Splice junction SNPs\")\n",
    "plt.xlim([-20, 12])\n",
    "plt.ylim([-3, 3])"
   ]
  },
  {
   "cell_type": "code",
   "execution_count": 96,
   "id": "358d6b91",
   "metadata": {},
   "outputs": [],
   "source": [
    "from scipy.stats import pearsonr, spearmanr"
   ]
  },
  {
   "cell_type": "code",
   "execution_count": 18,
   "id": "f3e585f9",
   "metadata": {},
   "outputs": [
    {
     "data": {
      "text/plain": [
       "(0.4433842368622213, 5.542722642269713e-07)"
      ]
     },
     "execution_count": 18,
     "metadata": {},
     "output_type": "execute_result"
    }
   ],
   "source": [
    "pearsonr(mut_diff, beta)"
   ]
  },
  {
   "cell_type": "code",
   "execution_count": 98,
   "id": "53779566",
   "metadata": {},
   "outputs": [
    {
     "data": {
      "text/plain": [
       "SpearmanrResult(correlation=0.5399405524463241, pvalue=3.3341072928725283e-10)"
      ]
     },
     "execution_count": 98,
     "metadata": {},
     "output_type": "execute_result"
    }
   ],
   "source": [
    "spearmanr(mut_diff, beta)"
   ]
  },
  {
   "cell_type": "code",
   "execution_count": 19,
   "id": "2fe3dcc3",
   "metadata": {},
   "outputs": [
    {
     "data": {
      "text/plain": [
       "(0.531826615450316, 1.3659286793794182e-11)"
      ]
     },
     "execution_count": 19,
     "metadata": {},
     "output_type": "execute_result"
    }
   ],
   "source": [
    "pearsonr(ch_mut_diff, ch_beta)"
   ]
  },
  {
   "cell_type": "code",
   "execution_count": 45,
   "id": "fb35572e",
   "metadata": {},
   "outputs": [
    {
     "data": {
      "text/plain": [
       "SpearmanrResult(correlation=0.6091564922496572, pvalue=1.3959083458530225e-15)"
      ]
     },
     "execution_count": 45,
     "metadata": {},
     "output_type": "execute_result"
    }
   ],
   "source": [
    "spearmanr(ch_mut_diff, ch_beta)"
   ]
  },
  {
   "cell_type": "code",
   "execution_count": 42,
   "id": "b99f40c3",
   "metadata": {},
   "outputs": [],
   "source": [
    "ch = []\n",
    "po = []\n",
    "\n",
    "for i in range(len(sig_snp)):\n",
    "    if sig_snp[i] in ch_snp:\n",
    "        po.append(beta[i])\n",
    "        \n",
    "        j = ch_snp.index(sig_snp[i])\n",
    "        ch.append(ch_beta[j])"
   ]
  },
  {
   "cell_type": "code",
   "execution_count": 43,
   "id": "5fb4d3bb",
   "metadata": {},
   "outputs": [
    {
     "data": {
      "text/plain": [
       "<matplotlib.collections.PathCollection at 0x7fbcf18b5eb0>"
      ]
     },
     "execution_count": 43,
     "metadata": {},
     "output_type": "execute_result"
    },
    {
     "data": {
      "image/png": "[encoded data removed]",
      "text/plain": [
       "<Figure size 432x288 with 1 Axes>"
      ]
     },
     "metadata": {
      "needs_background": "light"
     },
     "output_type": "display_data"
    }
   ],
   "source": [
    "plt.scatter(ch, po)"
   ]
  },
  {
   "cell_type": "code",
   "execution_count": 24,
   "id": "ab210723",
   "metadata": {},
   "outputs": [
    {
     "ename": "ValueError",
     "evalue": "'17:48069291:T:A' is not in list",
     "output_type": "error",
     "traceback": [
      "\u001b[0;31m---------------------------------------------------------------------------\u001b[0m",
      "\u001b[0;31mValueError\u001b[0m                                Traceback (most recent call last)",
      "\u001b[0;32m<ipython-input-24-c735116d9be6>\u001b[0m in \u001b[0;36m<module>\u001b[0;34m\u001b[0m\n\u001b[0;32m----> 1\u001b[0;31m \u001b[0mch_snp\u001b[0m\u001b[0;34m.\u001b[0m\u001b[0mindex\u001b[0m\u001b[0;34m(\u001b[0m\u001b[0msig_snp\u001b[0m\u001b[0;34m[\u001b[0m\u001b[0;36m1\u001b[0m\u001b[0;34m]\u001b[0m\u001b[0;34m)\u001b[0m\u001b[0;34m\u001b[0m\u001b[0;34m\u001b[0m\u001b[0m\n\u001b[0m",
      "\u001b[0;31mValueError\u001b[0m: '17:48069291:T:A' is not in list"
     ]
    }
   ],
   "source": [
    "ch_snp.index(sig_snp[1])"
   ]
  },
  {
   "cell_type": "code",
   "execution_count": 21,
   "id": "42e3699d",
   "metadata": {},
   "outputs": [
    {
     "data": {
      "text/plain": [
       "['7:1998126:G:A',\n",
       " '17:48069291:T:A',\n",
       " '7:8176225:T:C',\n",
       " '2:201141373:G:A',\n",
       " '12:21501473:G:A',\n",
       " '2:75717401:C:T',\n",
       " '17:50547162:A:C',\n",
       " '17:12945405:T:C',\n",
       " '19:41565563:C:CACAG',\n",
       " '19:41586462:A:T',\n",
       " '19:41585872:G:A',\n",
       " '1:112546384:C:T',\n",
       " '16:601115:G:T',\n",
       " '1:1718040:T:TAG',\n",
       " '1:1689465:A:G',\n",
       " '12:16350855:T:G',\n",
       " '1:209758952:T:A',\n",
       " '1:209806682:C:T',\n",
       " '12:4605916:G:A',\n",
       " '7:38225578:CTTGAAAAGA:C',\n",
       " '3:52532898:C:A',\n",
       " '6:111842871:G:A',\n",
       " '17:51166498:G:A',\n",
       " '3:45474257:G:A',\n",
       " '3:45399578:CT:C',\n",
       " '16:21186745:T:C',\n",
       " '19:35338353:G:A',\n",
       " '6:53250392:T:C',\n",
       " '4:6609511:TG:T',\n",
       " '17:44316094:A:C',\n",
       " '16:29815217:T:C',\n",
       " '7:151336542:T:C',\n",
       " '12:31081986:A:G',\n",
       " '4:1744043:A:G',\n",
       " '10:99685834:A:C',\n",
       " '2:32678481:G:A',\n",
       " '1:24924042:CA:C',\n",
       " '10:112445631:G:A',\n",
       " '11:505006:G:C',\n",
       " '11:502217:C:T',\n",
       " '22:50526017:A:T',\n",
       " '6:26426755:CT:C',\n",
       " '12:95237500:T:C',\n",
       " '12:27416246:C:T',\n",
       " '12:27379288:C:T',\n",
       " '6:155242154:C:T',\n",
       " '17:44346476:T:G',\n",
       " '3:119309457:C:T',\n",
       " '6:49379837:G:A',\n",
       " '1:109283514:C:T',\n",
       " '13:20683192:G:A',\n",
       " '7:151211180:T:C',\n",
       " '8:100269430:T:C',\n",
       " '2:224919:A:G',\n",
       " '2:242793:G:C',\n",
       " '5:6600751:T:C',\n",
       " '4:25156333:A:C',\n",
       " '4:13578908:A:G',\n",
       " '15:78552768:A:G',\n",
       " '14:89956053:A:G',\n",
       " '5:134553551:C:A',\n",
       " '10:1056928:T:C',\n",
       " '6:42190858:A:C',\n",
       " '6:138400627:T:C',\n",
       " '2:159805547:T:C',\n",
       " '5:154006796:AT:A',\n",
       " '5:157288643:G:C',\n",
       " '10:100980514:T:C',\n",
       " '9:120920828:C:T',\n",
       " '7:140027335:G:A',\n",
       " '12:130716695:T:TTC',\n",
       " '16:1792208:A:G',\n",
       " '2:201286716:G:C',\n",
       " '19:1036019:G:A',\n",
       " '6:35259577:C:T',\n",
       " '2:74203846:G:T',\n",
       " '1:43320097:G:C',\n",
       " '6:30064292:C:CA',\n",
       " '16:8622064:C:G',\n",
       " '17:60078969:A:G',\n",
       " '2:47045106:C:T',\n",
       " '3:48694528:A:G',\n",
       " '2:45546372:A:G',\n",
       " '12:9678011:A:C',\n",
       " '12:9670678:T:A',\n",
       " '15:55993738:G:A',\n",
       " '7:24886859:T:G',\n",
       " '4:10096584:GC:G',\n",
       " '5:163468111:T:G',\n",
       " '5:163466413:T:C',\n",
       " '12:132941981:T:C',\n",
       " '1:161674597:A:T',\n",
       " '3:3148767:G:A',\n",
       " '17:7220519:C:T',\n",
       " '3:113581336:A:T',\n",
       " '3:185275382:T:C',\n",
       " '16:1772796:C:CACCT',\n",
       " '22:46291323:G:A',\n",
       " '10:38229374:G:A',\n",
       " '10:26437223:AT:A',\n",
       " '11:74596656:G:GAATAT',\n",
       " '8:17924649:T:G',\n",
       " '1:1231507:T:C',\n",
       " '2:230245867:C:T',\n",
       " '2:230250092:C:T',\n",
       " '19:19776483:C:T',\n",
       " '17:3685513:C:A',\n",
       " '19:58488906:A:G',\n",
       " '1:39738494:G:T',\n",
       " '5:69368688:C:T',\n",
       " '2:55269577:C:CTTTT',\n",
       " '2:233489850:ACAG:A',\n",
       " '2:233532134:G:T',\n",
       " '1:46282076:CA:C',\n",
       " '1:236249930:T:A',\n",
       " '7:74207960:G:T',\n",
       " '16:56973280:T:C',\n",
       " '4:2798529:G:A',\n",
       " '2:69826932:GA:G',\n",
       " '20:56388683:T:G',\n",
       " '13:110896987:TA:T',\n",
       " '12:121097345:ATTT:A',\n",
       " '20:5121961:CT:C',\n",
       " '20:18410618:C:A',\n",
       " '12:112919388:G:A',\n",
       " '12:120198746:C:A',\n",
       " '16:4573752:CA:C',\n",
       " '9:92116664:T:A',\n",
       " '7:140735277:A:G',\n",
       " '1:26974706:CT:C',\n",
       " '16:70147238:ATTTG:A',\n",
       " '15:43827115:CA:C',\n",
       " '15:42502216:C:CGG',\n",
       " '22:45166283:CTTTTTTTTT:C',\n",
       " '22:45166854:C:T',\n",
       " '10:35223871:T:C',\n",
       " '19:18086934:T:A',\n",
       " '1:86713428:C:A',\n",
       " '19:2098016:T:C',\n",
       " '22:23924767:A:C',\n",
       " '22:24609020:G:C',\n",
       " '22:26513784:A:G',\n",
       " '22:38737405:A:G',\n",
       " '22:50507370:C:G',\n",
       " '22:40410091:G:GTGTC',\n",
       " '22:36862771:A:G',\n",
       " '22:45322160:A:G',\n",
       " '22:41424479:A:ATTT',\n",
       " '22:41588775:A:AGGAG',\n",
       " '14:24434078:A:G',\n",
       " '14:24441004:C:A',\n",
       " '14:50332620:T:C',\n",
       " '14:57481662:T:C',\n",
       " '14:58401309:C:T',\n",
       " '14:92740960:G:T',\n",
       " '14:60278612:T:C',\n",
       " '14:96339388:C:T',\n",
       " '20:34869634:G:A',\n",
       " '20:34976886:G:A',\n",
       " '20:46122211:C:G',\n",
       " '20:43681869:T:C',\n",
       " '20:44906504:TAA:T',\n",
       " '20:44975362:C:T',\n",
       " '20:62201388:A:G',\n",
       " '20:62203169:G:T',\n",
       " '20:34674309:C:G',\n",
       " '18:3246457:T:C',\n",
       " '18:54263577:GA:G',\n",
       " '16:4690207:T:G',\n",
       " '16:67182207:C:T',\n",
       " '16:20839371:A:AT',\n",
       " '16:68842291:C:T',\n",
       " '16:80984310:G:C',\n",
       " '16:80981955:C:T',\n",
       " '16:400140:C:CAG',\n",
       " '16:16227375:A:T',\n",
       " '16:743092:A:G',\n",
       " '16:86530620:A:C',\n",
       " '16:1310600:C:T',\n",
       " '16:536144:T:C',\n",
       " '16:53435050:C:T',\n",
       " '16:53611920:T:A',\n",
       " '16:14877634:G:A',\n",
       " '16:27403215:C:T',\n",
       " '15:42413659:G:A',\n",
       " '8:98293311:A:T',\n",
       " '8:108182225:T:C',\n",
       " '8:78694286:GT:G',\n",
       " '8:78652834:G:A',\n",
       " '8:101973785:G:C',\n",
       " '8:124998014:A:T',\n",
       " '16:87730661:A:T',\n",
       " '19:7697494:TCCCCTGCAA:T',\n",
       " '19:45751881:C:T',\n",
       " '19:2975646:CTT:C',\n",
       " '19:3064709:C:T',\n",
       " '19:50035969:C:CT',\n",
       " '19:57489728:G:T',\n",
       " '8:141190368:G:A',\n",
       " '8:141160194:TTA:T',\n",
       " '19:41432656:C:CGTGTGT',\n",
       " '19:41427885:TGAG:T',\n",
       " '19:17266749:C:G',\n",
       " '19:42345969:T:C',\n",
       " '19:54119498:CT:C',\n",
       " '19:54104087:T:C',\n",
       " '19:18899016:C:T',\n",
       " '19:19057374:C:T',\n",
       " '19:35238846:C:T',\n",
       " '7:135210427:A:T',\n",
       " '7:139062986:G:A',\n",
       " '7:120854357:C:A',\n",
       " '7:6013285:A:G',\n",
       " '7:7189483:C:A',\n",
       " '7:42932812:A:G',\n",
       " '7:43620673:C:CA',\n",
       " '7:43558623:G:T',\n",
       " '9:98112522:A:C',\n",
       " '9:127848083:C:T',\n",
       " '9:5335470:C:T',\n",
       " '9:6718852:T:G',\n",
       " '10:44984424:A:G',\n",
       " '10:70484745:A:T',\n",
       " '10:125729012:C:T',\n",
       " '19:55393633:G:GTTT',\n",
       " '17:78169023:G:A',\n",
       " '17:27295620:G:A',\n",
       " '4:102753951:G:C',\n",
       " '4:185350730:T:C',\n",
       " '4:185464248:G:A',\n",
       " '4:39054234:T:C',\n",
       " '4:39535698:GT:G',\n",
       " '11:33656980:A:G',\n",
       " '11:44081529:A:T',\n",
       " '11:68043795:C:A',\n",
       " '11:18330886:G:A',\n",
       " '11:111377789:C:G',\n",
       " '12:3863956:C:T',\n",
       " '12:111411030:C:G',\n",
       " '12:12547457:C:CA',\n",
       " '12:112959261:G:A',\n",
       " '12:123613277:A:G',\n",
       " '12:130818832:C:T',\n",
       " '12:6493479:T:C',\n",
       " '12:6726319:A:G',\n",
       " '12:6872998:C:T',\n",
       " '12:6911516:AG:A',\n",
       " '6:88616498:C:T',\n",
       " '6:159774173:G:C',\n",
       " '6:37381144:C:T',\n",
       " '6:37695848:T:C',\n",
       " '6:132752994:G:A',\n",
       " '6:132753452:T:C',\n",
       " '6:24794687:C:T',\n",
       " '6:136870832:G:A',\n",
       " '6:80005051:C:T',\n",
       " '5:43637131:G:A',\n",
       " '5:72223837:C:T',\n",
       " '5:78884913:T:C',\n",
       " '3:132722937:A:G',\n",
       " '3:48448788:C:G',\n",
       " '3:108124634:C:T',\n",
       " '3:183633547:A:C',\n",
       " '2:208290484:T:C',\n",
       " '2:53763395:C:T',\n",
       " '2:74442668:T:C',\n",
       " '2:74587709:C:T',\n",
       " '2:58211263:T:C',\n",
       " '2:98607846:A:T',\n",
       " '2:218696098:C:G',\n",
       " '2:9843557:G:T',\n",
       " '2:131101323:G:A',\n",
       " '2:142990054:G:C',\n",
       " '2:42312579:G:A',\n",
       " '2:177332141:C:T',\n",
       " '1:54228581:C:G',\n",
       " '1:7969585:CT:C',\n",
       " '1:156469590:T:TAA',\n",
       " '1:67042231:C:G',\n",
       " '1:116536107:A:G',\n",
       " '1:117060566:G:T',\n",
       " '1:236549987:A:T',\n",
       " '1:236544722:GT:G',\n",
       " '1:84574035:C:T',\n",
       " '1:23776587:T:C',\n",
       " '1:207470328:T:C',\n",
       " '1:207797034:C:G',\n",
       " '1:207744154:A:G',\n",
       " '1:45555958:C:T',\n",
       " '1:46340570:G:T',\n",
       " '1:46349341:C:T',\n",
       " '1:93349933:T:C',\n",
       " '1:100003004:A:G',\n",
       " '1:220714617:G:C',\n",
       " '11:118553440:C:CA',\n",
       " '6:137867485:GCCCGGAGAG:G',\n",
       " '9:113351116:C:T',\n",
       " '9:125654595:C:T',\n",
       " '9:123768784:T:C',\n",
       " '18:63392121:G:A',\n",
       " '14:74268911:C:A',\n",
       " '14:74271674:T:C',\n",
       " '14:73957556:G:T',\n",
       " '14:73875738:CT:C',\n",
       " '10:119089897:CATA:C',\n",
       " '10:97668709:A:T',\n",
       " '11:130910120:C:T',\n",
       " '11:130851157:T:C',\n",
       " '11:130844095:A:G',\n",
       " '13:38358073:T:A',\n",
       " '8:22463293:G:A',\n",
       " '4:153597954:T:A',\n",
       " '12:21447981:T:TA',\n",
       " '13:19668946:C:T',\n",
       " '19:57631523:C:T',\n",
       " '7:100377231:CTTTTTTTTT:C',\n",
       " '4:39026377:A:AG',\n",
       " '13:27450550:GTACAGCGGA:G',\n",
       " '2:241081585:A:ATCAGG',\n",
       " '1:86271538:A:G',\n",
       " '1:95176198:C:CT',\n",
       " '1:93207166:A:C',\n",
       " '1:93322310:T:C',\n",
       " '9:36001199:A:C',\n",
       " '7:135171535:CCT:C',\n",
       " '12:113818201:G:A',\n",
       " '12:26701191:C:A',\n",
       " '19:14469823:G:A',\n",
       " '5:65788274:A:G',\n",
       " '12:57474460:G:A',\n",
       " '12:54561385:G:T',\n",
       " '4:121808146:T:C',\n",
       " '2:222900773:C:T',\n",
       " '2:219386456:T:C',\n",
       " '6:26379212:A:T',\n",
       " '6:26380847:C:T',\n",
       " '6:2936688:G:T',\n",
       " '6:27405014:C:CAA',\n",
       " '6:8507801:G:A',\n",
       " '6:5002503:G:A',\n",
       " '4:8236431:A:G',\n",
       " '16:56520101:C:T',\n",
       " '13:100674991:C:G',\n",
       " '5:132477658:T:C',\n",
       " '2:112544150:G:A',\n",
       " '19:6751268:A:G',\n",
       " '19:45523712:T:A',\n",
       " '20:410381:T:C',\n",
       " '20:16730146:G:T',\n",
       " '20:3211492:T:TTTTGTTTG',\n",
       " '20:3213247:A:C',\n",
       " '14:65055194:ATG:A',\n",
       " '20:35539237:TA:T',\n",
       " '20:35452158:C:T',\n",
       " '14:103618152:CA:C',\n",
       " '19:49665670:A:C',\n",
       " '19:49580957:C:T',\n",
       " '7:66165644:C:G',\n",
       " '17:42288747:G:A',\n",
       " '14:55048615:A:T',\n",
       " '14:64505031:G:A',\n",
       " '7:158852490:T:C',\n",
       " '4:952438:T:C',\n",
       " '1:19120093:C:T',\n",
       " '19:14776146:A:G',\n",
       " '7:76000956:T:C',\n",
       " '7:102395949:AC:A',\n",
       " '7:102370804:G:C',\n",
       " '7:128947297:CACTCTGCAG:C',\n",
       " '7:128993134:C:CA',\n",
       " '19:38927466:T:G',\n",
       " '15:40031197:G:C',\n",
       " '15:40482784:AT:A',\n",
       " '15:40561493:C:T',\n",
       " '15:40382371:T:G',\n",
       " '15:40375916:C:A',\n",
       " '15:68199690:G:A',\n",
       " '3:134486229:G:T',\n",
       " '3:134485954:G:A',\n",
       " '3:129400124:CTTTTTTTTT:C',\n",
       " '17:4819581:G:A',\n",
       " '14:23472868:A:T',\n",
       " '14:20339099:C:T',\n",
       " '14:20413368:T:C',\n",
       " '17:76479893:C:A',\n",
       " '8:33508145:T:C',\n",
       " '6:169768555:A:G',\n",
       " '19:11305538:TAATAAA:T',\n",
       " '13:114237284:C:A',\n",
       " '6:106640710:T:A',\n",
       " '19:38736468:TTTGACCAAG:T',\n",
       " '20:62291218:A:ATGTAACTTC',\n",
       " '1:28237741:A:G',\n",
       " '19:10118621:C:A',\n",
       " '19:10200649:A:G',\n",
       " '19:53557910:G:A',\n",
       " '4:483815:ATTTG:A',\n",
       " '4:356230:CA:C',\n",
       " '1:40038878:T:G',\n",
       " '3:16506520:C:T',\n",
       " '5:132257670:GGCT:G',\n",
       " '5:132701131:CAA:C',\n",
       " '14:54843774:G:A',\n",
       " '1:161710468:G:A',\n",
       " '1:162869699:T:C',\n",
       " '11:5667914:G:C',\n",
       " '17:1762130:G:A',\n",
       " '7:54750848:TG:T',\n",
       " '7:50447929:G:A',\n",
       " '17:75876888:A:AG',\n",
       " '17:6765445:T:A',\n",
       " '16:69249024:CT:C',\n",
       " '1:156900823:G:A',\n",
       " '17:17122682:G:C',\n",
       " '1:205823552:T:C',\n",
       " '13:42890817:T:C',\n",
       " '13:42976107:A:G',\n",
       " '18:74499889:C:G',\n",
       " '11:9699969:T:C',\n",
       " '11:10001459:C:CA',\n",
       " '11:10069477:A:C',\n",
       " '5:119604467:C:G',\n",
       " '14:91222300:T:C',\n",
       " '14:91154810:A:G',\n",
       " '14:73421182:G:T',\n",
       " '5:69238954:A:G',\n",
       " '3:9365152:T:C',\n",
       " '2:11770929:TACA:T',\n",
       " '10:11753771:C:CTTTTTA',\n",
       " '11:47262311:A:G',\n",
       " '1:37551269:C:CA',\n",
       " '18:36136129:G:A',\n",
       " '18:36781799:G:C',\n",
       " '11:57373940:C:G',\n",
       " '13:100588860:G:A',\n",
       " '13:110649196:C:G',\n",
       " '13:110647653:T:C',\n",
       " '11:125077120:C:G',\n",
       " '7:105532811:GTTC:G',\n",
       " '7:115031171:CTT:C',\n",
       " '6:85436306:T:G',\n",
       " '12:49324134:G:C',\n",
       " '12:57718406:A:G',\n",
       " '6:135497759:C:A',\n",
       " '6:135302695:C:T',\n",
       " '6:109417383:ATT:A',\n",
       " '2:230873083:G:A',\n",
       " '2:97063746:A:C',\n",
       " '12:108528482:C:CA',\n",
       " '13:52141758:C:CT',\n",
       " '7:6581236:G:C',\n",
       " '15:78761766:A:G',\n",
       " '2:113443090:G:A',\n",
       " '2:128054456:C:CT',\n",
       " '2:126688141:G:T',\n",
       " '9:104792547:T:G',\n",
       " '9:127935750:G:C',\n",
       " '6:3119325:G:C',\n",
       " '11:73136417:G:A',\n",
       " '11:71942805:C:CACAA',\n",
       " '11:82901653:C:T',\n",
       " '15:41354670:GAT:G',\n",
       " '1:78628396:T:A',\n",
       " '1:78650220:T:C',\n",
       " '1:78662885:G:GT',\n",
       " '2:24836411:C:T',\n",
       " '10:95840782:G:A',\n",
       " '10:95722235:G:GT',\n",
       " '10:92813626:C:T',\n",
       " '15:50433816:A:G',\n",
       " '15:74487391:TTAGATAGA:T',\n",
       " '4:75939782:G:A',\n",
       " '4:105389566:C:G',\n",
       " '4:107667929:C:G',\n",
       " '4:102283640:A:G',\n",
       " '12:6462882:A:G',\n",
       " '12:6473048:G:GAA',\n",
       " '12:113412576:A:G',\n",
       " '12:109559359:C:T',\n",
       " '12:109862179:G:A',\n",
       " '12:48670198:C:CAA',\n",
       " '14:24431003:C:G',\n",
       " '14:89922628:G:T',\n",
       " '14:100374259:G:C',\n",
       " '15:40033659:A:G',\n",
       " '15:76226795:C:T',\n",
       " '15:79967672:T:C',\n",
       " '15:75358681:C:CCCACATGCT',\n",
       " '15:64816280:T:C',\n",
       " '15:100553925:C:T',\n",
       " '15:74837752:T:C',\n",
       " '16:8802052:C:A',\n",
       " '16:31467390:G:A',\n",
       " '16:24928688:G:A',\n",
       " '16:83998993:G:C',\n",
       " '16:669592:G:A',\n",
       " '16:1953853:C:T',\n",
       " '16:89909088:G:A',\n",
       " '16:69748952:C:T',\n",
       " '17:55795985:G:A',\n",
       " '18:26159350:T:C',\n",
       " '17:78124950:C:T',\n",
       " '17:82720752:C:CCTT',\n",
       " '17:82445239:G:C',\n",
       " '17:75900218:C:T',\n",
       " '18:59898995:G:T',\n",
       " '19:17406017:A:AGGGCCTGGG',\n",
       " '21:44353556:C:T',\n",
       " '21:44279871:T:C',\n",
       " '21:32338333:A:G',\n",
       " '19:51417359:C:T',\n",
       " '1:16206527:C:T',\n",
       " '1:21459183:G:C',\n",
       " '1:169303061:A:T',\n",
       " '1:165632229:G:A',\n",
       " '1:179885662:G:A',\n",
       " '1:151236821:C:CTT',\n",
       " '1:154152104:A:AAAG',\n",
       " '1:153840029:CTTT:C',\n",
       " '1:225786829:A:G',\n",
       " '2:9099506:C:T',\n",
       " '2:73741096:G:A',\n",
       " '3:11844891:T:C',\n",
       " '3:11844742:C:T',\n",
       " '3:66236632:G:A',\n",
       " '3:121901845:T:TTG',\n",
       " '4:973551:C:G',\n",
       " '4:82798853:A:G',\n",
       " '4:112273519:G:A',\n",
       " '4:186191475:G:C',\n",
       " '5:71009379:G:A',\n",
       " '5:69096193:C:G',\n",
       " '6:13313612:T:C',\n",
       " '7:1138191:GCGCCCACCT:G',\n",
       " '7:76514308:G:A',\n",
       " '7:76541239:T:C',\n",
       " '7:156958001:G:A',\n",
       " '7:158638215:C:T',\n",
       " '7:158651179:G:A',\n",
       " '8:53955209:T:C',\n",
       " '8:104547247:T:TTC',\n",
       " '8:144804025:C:T',\n",
       " '8:143578341:C:CG',\n",
       " '9:65734978:T:C',\n",
       " '9:65669636:A:T',\n",
       " '9:94920542:G:A',\n",
       " '9:113401365:G:C',\n",
       " '9:133378413:GCCATCTCT:G',\n",
       " '9:136528392:TG:T',\n",
       " '10:93700060:C:T',\n",
       " '10:133399759:T:C',\n",
       " '10:104270015:C:CT',\n",
       " '11:31332871:G:C',\n",
       " '11:43853766:G:A',\n",
       " '11:34925949:A:G',\n",
       " '11:46948049:T:C',\n",
       " '11:77397091:G:A',\n",
       " '11:113364697:A:G',\n",
       " '11:113367851:T:TGTAGAGA',\n",
       " '20:18161818:A:G',\n",
       " '11:62624757:C:A',\n",
       " '11:124998737:CT:C',\n",
       " '11:117195063:T:C',\n",
       " '11:69679359:T:A',\n",
       " '5:32289866:G:A',\n",
       " '12:124912818:A:G',\n",
       " '2:658381:TTTAC:T',\n",
       " '2:676177:C:G',\n",
       " '14:77434902:GA:G',\n",
       " '4:129109497:A:G',\n",
       " '4:129118729:A:G',\n",
       " '11:134238879:A:G',\n",
       " '10:133263761:A:G',\n",
       " '4:184687707:C:T',\n",
       " '4:44703584:T:C',\n",
       " '2:223776146:C:T',\n",
       " '2:37017214:G:A',\n",
       " '2:38791412:C:CA',\n",
       " '13:49620258:G:A',\n",
       " '2:172695454:A:T',\n",
       " '5:75684364:AT:A',\n",
       " '5:75712851:T:G',\n",
       " '5:83353124:G:A',\n",
       " '5:96736076:A:G',\n",
       " '2:112074958:CAAT:C',\n",
       " '16:4470163:CAAAAAAAAA:C',\n",
       " '1:84944861:C:T',\n",
       " '1:84985702:A:C',\n",
       " '17:57272806:C:T',\n",
       " '11:124626727:G:A',\n",
       " '10:123161032:G:GT',\n",
       " '17:35539318:C:A',\n",
       " '3:14200481:G:A',\n",
       " '3:16272371:G:T',\n",
       " '18:11905954:C:T',\n",
       " '7:55566490:AG:A',\n",
       " '7:55502612:C:A',\n",
       " '10:97479964:C:T',\n",
       " '14:22808794:G:A',\n",
       " '5:56909530:A:G',\n",
       " '10:74122967:T:C',\n",
       " '8:95021089:G:A',\n",
       " '8:94976153:C:T',\n",
       " '10:102727625:C:T',\n",
       " '14:103905523:TAAAAATACA:T',\n",
       " '8:96255639:GA:G',\n",
       " '8:96241560:C:T',\n",
       " '8:123141449:A:AATTTCCTTA',\n",
       " '8:123423187:G:A',\n",
       " '8:125115739:T:A',\n",
       " '9:93077811:C:T',\n",
       " '16:70443116:CTTT:C',\n",
       " '14:24289435:G:A',\n",
       " '3:57293583:G:A',\n",
       " '15:89871410:C:G',\n",
       " '1:2394570:G:A',\n",
       " '1:25551808:C:G',\n",
       " '8:143348171:C:T',\n",
       " '5:138296360:C:T',\n",
       " '7:130588109:A:C',\n",
       " '1:205617885:G:A',\n",
       " '16:89761422:G:GA',\n",
       " '5:131387551:T:C',\n",
       " '5:131276007:A:T',\n",
       " '11:78133835:A:G',\n",
       " '21:33262748:G:GT',\n",
       " '17:47811983:G:A',\n",
       " '17:48936031:G:GT',\n",
       " '15:72787163:G:A',\n",
       " '16:66827933:G:A',\n",
       " '1:46666848:C:T',\n",
       " '21:44086564:C:T',\n",
       " '21:44819532:G:T',\n",
       " '9:127897953:T:C',\n",
       " '9:127907283:CCT:C',\n",
       " '11:117211047:C:G',\n",
       " '1:154592236:T:A',\n",
       " '1:155319754:T:G',\n",
       " '1:156236330:G:A',\n",
       " '8:144438201:T:C',\n",
       " '7:102436115:G:A',\n",
       " '5:179820912:G:A',\n",
       " '19:35507460:T:G',\n",
       " '19:35717140:C:CT',\n",
       " '3:197528302:G:A',\n",
       " '17:44736148:A:AT',\n",
       " '17:7442500:A:AGGTAC',\n",
       " '16:43392:T:C',\n",
       " '16:653721:A:C',\n",
       " '1:9937021:T:C',\n",
       " '1:19801518:G:T',\n",
       " '1:2207633:G:A',\n",
       " '1:58484483:C:G',\n",
       " '1:74766436:G:A',\n",
       " '1:74731849:A:G',\n",
       " '1:98661649:A:G',\n",
       " '1:99875034:G:C',\n",
       " '1:212859741:C:CATA',\n",
       " '2:42770474:G:A',\n",
       " '1:228107668:C:T',\n",
       " '2:101270819:G:C',\n",
       " '4:83450999:A:G',\n",
       " '3:88054626:G:A',\n",
       " '3:69009632:C:T',\n",
       " '2:218674514:C:T',\n",
       " '2:179012597:C:T',\n",
       " '2:84469872:A:G',\n",
       " '1:159073911:C:T',\n",
       " '4:39595135:T:C',\n",
       " '3:58200992:C:A',\n",
       " '3:45985149:G:T',\n",
       " '3:47507361:CA:C',\n",
       " '3:53173500:C:G',\n",
       " '3:48146945:C:CA',\n",
       " '3:49698739:C:A',\n",
       " '4:146170847:CA:C',\n",
       " '4:184691083:T:C',\n",
       " '5:96785448:A:C',\n",
       " '5:96788627:T:C',\n",
       " '5:79637798:C:CT',\n",
       " '5:79667290:G:A',\n",
       " '7:7618155:A:G',\n",
       " '7:7580680:A:G',\n",
       " '8:47200532:T:C',\n",
       " '7:1074745:C:T',\n",
       " '8:99878314:T:C',\n",
       " '8:94826118:C:G',\n",
       " '9:15431884:C:CT',\n",
       " '7:128445896:T:C',\n",
       " '9:83979883:C:T',\n",
       " '7:73832874:G:A',\n",
       " '14:39447129:A:G',\n",
       " '10:45593599:C:T',\n",
       " '13:20483441:C:A',\n",
       " '11:82930322:G:C',\n",
       " '11:82896614:T:C',\n",
       " '14:94098196:C:A',\n",
       " '14:94097693:A:G',\n",
       " '14:95251204:A:G',\n",
       " '11:93507805:C:T',\n",
       " '15:40808947:C:T',\n",
       " '15:49578229:T:C',\n",
       " '17:54999625:G:A',\n",
       " '10:72193843:AT:A',\n",
       " '10:72205401:G:T',\n",
       " '10:73171631:CT:C',\n",
       " '18:74260915:C:T',\n",
       " '18:63967130:AGACTCTTT:A',\n",
       " '12:8698552:C:A',\n",
       " '16:10771087:G:A',\n",
       " '15:43707916:G:C',\n",
       " '11:59116747:GATAT:G',\n",
       " '15:64878238:T:C',\n",
       " '20:44885562:C:T',\n",
       " '11:60385111:G:A',\n",
       " '15:43185915:G:C',\n",
       " '17:79082873:T:C',\n",
       " '19:52414373:A:G',\n",
       " '19:36213385:TTTTG:T',\n",
       " '17:5111073:T:A',\n",
       " '17:5493705:C:T',\n",
       " '17:74482438:AG:A',\n",
       " '17:78134866:G:T',\n",
       " '17:78121820:AAC:A',\n",
       " '17:78133555:T:C',\n",
       " '11:62845006:C:T',\n",
       " '2:241275334:G:A',\n",
       " '16:23385792:T:C',\n",
       " '16:28838957:C:T',\n",
       " '1:39025923:T:C',\n",
       " '16:67318558:CA:C',\n",
       " '5:34927006:A:C',\n",
       " '1:109656105:C:G',\n",
       " '12:123659848:A:G',\n",
       " '16:69246420:T:C',\n",
       " '3:158555732:C:T',\n",
       " '17:27641186:C:T',\n",
       " '17:27639694:G:A',\n",
       " '4:75109599:CAACAAA:C',\n",
       " '19:49929735:G:A',\n",
       " '15:75622796:A:C',\n",
       " '5:131137991:A:G',\n",
       " '15:82992049:C:G',\n",
       " '3:129081734:T:C',\n",
       " '2:63842598:G:A',\n",
       " '17:7870889:CA:C',\n",
       " '17:9560397:C:CAA',\n",
       " '5:133057648:A:G',\n",
       " '12:121387222:A:C',\n",
       " '3:133466990:T:C',\n",
       " '19:54200892:A:C',\n",
       " '19:54207164:G:A',\n",
       " '19:53083927:T:C',\n",
       " '11:68252877:G:A',\n",
       " '7:150442614:C:A',\n",
       " '2:45844464:A:T',\n",
       " '3:9891793:G:A',\n",
       " '19:11872454:A:T',\n",
       " '17:80099098:C:T',\n",
       " '6:43539579:G:C',\n",
       " '1:6817502:A:G',\n",
       " '15:45389587:G:T',\n",
       " '3:67498302:AAAG:A',\n",
       " '11:119110553:G:A',\n",
       " '10:45753275:A:G',\n",
       " '10:45780992:G:T',\n",
       " '10:45672399:C:T',\n",
       " '8:33469884:C:T',\n",
       " '10:70384502:A:C',\n",
       " '3:122712942:T:G',\n",
       " '3:122707627:A:C',\n",
       " '3:122617278:T:C',\n",
       " '2:131490757:G:GGC',\n",
       " '11:65581592:G:A',\n",
       " '1:9866980:G:A',\n",
       " '19:12612331:T:G',\n",
       " '4:38769747:C:T',\n",
       " '1:241849237:T:G',\n",
       " '14:35657504:T:TA',\n",
       " '11:66438698:C:T',\n",
       " '19:9406861:C:G',\n",
       " '5:83052137:A:G',\n",
       " '19:6925282:G:A',\n",
       " '12:116928494:A:G',\n",
       " '17:15540420:A:G',\n",
       " '3:183881121:AT:A',\n",
       " '5:178232828:TCGCCCCGCA:T',\n",
       " '11:65980222:C:T',\n",
       " '11:7989639:TA:T',\n",
       " '1:32628328:C:G',\n",
       " '9:113266279:C:A',\n",
       " '14:95436970:TAGA:T',\n",
       " '16:89100667:C:CCCCAGGAGG',\n",
       " '8:85218399:A:G',\n",
       " '12:132697131:A:G',\n",
       " '12:132741820:G:T',\n",
       " '17:18319027:G:A',\n",
       " '9:137111108:G:A',\n",
       " '11:670801:C:T',\n",
       " '12:132685415:C:T',\n",
       " '3:48948966:A:T',\n",
       " '11:796037:A:G',\n",
       " '22:17105693:C:G',\n",
       " '11:827317:G:A',\n",
       " '11:833138:C:T',\n",
       " '5:115903307:G:A',\n",
       " '11:108674147:C:A',\n",
       " '19:44063357:A:G',\n",
       " '12:50113460:C:T',\n",
       " '3:94105031:T:G',\n",
       " '15:74883783:T:A',\n",
       " '17:47327778:G:A',\n",
       " '17:82447676:T:C',\n",
       " '22:38988699:T:C',\n",
       " '1:28448693:T:C',\n",
       " '6:3279553:G:A',\n",
       " '6:3264253:T:C',\n",
       " '15:79897291:C:T',\n",
       " '15:42489155:C:A',\n",
       " '15:88621800:T:A',\n",
       " '9:137772069:T:G',\n",
       " '4:168396128:C:T',\n",
       " '17:30951654:CTTT:C',\n",
       " '17:45138265:C:T',\n",
       " '6:44002636:G:C',\n",
       " '10:73289280:T:A',\n",
       " '12:122981757:A:G',\n",
       " '21:46287125:T:TAAAAAA',\n",
       " '17:76711004:CGTCGCCGCG:C',\n",
       " '4:395978:C:T',\n",
       " '11:93754926:T:G',\n",
       " '6:26501243:AG:A',\n",
       " '17:7846914:T:C',\n",
       " '5:69314058:G:T',\n",
       " '14:105057937:C:T',\n",
       " '22:20061340:C:T',\n",
       " '10:119161076:T:C',\n",
       " '14:92115235:A:G',\n",
       " '7:20147939:C:A',\n",
       " '7:20237102:T:C',\n",
       " '12:123378266:T:C',\n",
       " '22:49869722:C:T',\n",
       " '12:9716675:A:G',\n",
       " '22:19895107:G:A',\n",
       " '8:141432336:G:A',\n",
       " '13:113820249:A:G',\n",
       " '5:139477397:C:T',\n",
       " '12:132141098:C:T',\n",
       " '14:103136303:G:A',\n",
       " '14:103124435:G:A',\n",
       " '12:123716977:G:A',\n",
       " '2:99192332:T:C',\n",
       " '1:212865485:ATTTTT:A',\n",
       " '22:19432783:C:G',\n",
       " '4:732533:G:A',\n",
       " '16:21756368:C:A',\n",
       " '13:113295436:G:A',\n",
       " '21:36058520:AAG:A',\n",
       " '19:57438168:T:C',\n",
       " '5:145760502:T:A',\n",
       " '11:58617071:TTG:T',\n",
       " '22:29207622:A:G',\n",
       " '22:29225139:C:G',\n",
       " '22:29232681:G:C',\n",
       " '22:29230871:G:A',\n",
       " '11:61392189:T:C',\n",
       " '17:15702348:T:G',\n",
       " '9:137367416:C:G',\n",
       " '14:23968713:A:C',\n",
       " '2:190249655:T:G',\n",
       " '2:219146138:G:A',\n",
       " '9:136363762:A:G',\n",
       " '19:14593415:G:A',\n",
       " '19:37526271:C:G',\n",
       " '10:45943647:G:A',\n",
       " '1:248572497:CCATTT:C',\n",
       " '15:82262805:CCTCTG:C',\n",
       " '10:125793330:T:G',\n",
       " '10:125807790:C:T',\n",
       " '3:40537866:A:G',\n",
       " '9:21101167:T:C',\n",
       " '1:954333:C:A',\n",
       " '19:36823994:C:CTTTTTTTTT',\n",
       " '1:153627648:T:C',\n",
       " '1:153634375:A:G',\n",
       " '9:127428531:T:A',\n",
       " '1:225881688:G:A',\n",
       " '7:64708639:G:GA',\n",
       " '19:52169649:T:C',\n",
       " '7:72834481:AT:A',\n",
       " '1:207326948:C:T',\n",
       " '14:100105544:A:G',\n",
       " '12:132958737:C:T',\n",
       " '12:56724579:C:T',\n",
       " '22:50275821:C:T',\n",
       " '19:9683159:C:T',\n",
       " '6:34666085:C:T',\n",
       " '19:37105990:G:C',\n",
       " '2:69806452:C:T',\n",
       " '19:21496491:G:C',\n",
       " '6:160057757:A:G',\n",
       " '10:112426866:G:A',\n",
       " '15:90784013:A:G',\n",
       " '11:68885764:C:T',\n",
       " '1:247008088:C:G',\n",
       " '11:59116442:T:G',\n",
       " '2:210013393:C:T',\n",
       " '19:40080794:A:C',\n",
       " '11:126219185:C:G',\n",
       " '8:144085313:G:A',\n",
       " '16:81858393:G:C',\n",
       " '22:31612053:A:G',\n",
       " '2:190319749:A:G',\n",
       " '19:58237264:A:G',\n",
       " '1:181425755:T:G',\n",
       " '7:2979170:C:G',\n",
       " '12:104286590:T:C',\n",
       " '19:57853825:G:A',\n",
       " '6:31495844:A:G',\n",
       " '14:90398432:C:T',\n",
       " '15:30937260:G:A',\n",
       " '6:4132528:C:G',\n",
       " '1:167641506:G:C',\n",
       " '6:166341830:G:GA',\n",
       " '3:193641776:A:G',\n",
       " '1:184082507:G:A',\n",
       " '2:96380075:T:C',\n",
       " '15:90983922:A:G',\n",
       " '16:88799256:A:C',\n",
       " '10:50761723:T:A',\n",
       " '10:50002097:G:A',\n",
       " '6:32938034:A:G',\n",
       " '6:31639319:T:TC',\n",
       " '6:31573180:T:C',\n",
       " '6:31591384:GCCTACCCCC:G',\n",
       " '6:30490287:G:A',\n",
       " '6:29690031:G:A',\n",
       " '19:43990004:T:C',\n",
       " '7:149297714:A:ATTTTTTTT',\n",
       " '12:103954652:A:G',\n",
       " '13:50103318:CAAAAACAAA:C',\n",
       " '8:109473555:T:C',\n",
       " '12:92429127:G:C',\n",
       " '5:82275850:C:T',\n",
       " '11:2989200:A:G',\n",
       " '5:70079431:CA:C',\n",
       " '16:25154299:C:T',\n",
       " '22:46248087:A:C',\n",
       " '6:29938995:G:A',\n",
       " '6:29947347:C:A',\n",
       " '3:113292103:C:T',\n",
       " '1:168221989:C:CAAAAAAAAA',\n",
       " '10:97288811:C:CTTT',\n",
       " '5:140473026:CT:C',\n",
       " '3:48699399:C:CA',\n",
       " '14:23564163:G:C',\n",
       " '15:42346618:T:A',\n",
       " '15:42179275:C:T',\n",
       " '19:16646891:T:C',\n",
       " '20:35624405:C:A',\n",
       " '17:15979608:A:G',\n",
       " '17:15972664:A:G',\n",
       " '15:34575362:C:A',\n",
       " '22:50562842:G:A',\n",
       " '16:4343375:A:C',\n",
       " '2:24164535:TCACACGATG:T',\n",
       " '18:63953532:G:A',\n",
       " '17:15677169:CACTT:C',\n",
       " '2:199850665:T:G',\n",
       " '7:102675797:T:G',\n",
       " '7:102698721:C:T',\n",
       " '2:97701308:C:A',\n",
       " '17:46359125:A:C',\n",
       " '6:33304189:G:A',\n",
       " '6:33304003:T:C',\n",
       " '6:32663718:T:C',\n",
       " '6:32660479:G:T',\n",
       " '16:18348505:G:A',\n",
       " '6:30256461:G:T',\n",
       " '2:61149328:T:C',\n",
       " '17:46496507:T:G',\n",
       " '11:5619868:AATTTTTGT:A',\n",
       " '6:32868982:C:T',\n",
       " '2:200877622:C:T',\n",
       " '10:18622037:G:GAC',\n",
       " '10:18648650:A:AAAG',\n",
       " '2:99046486:G:A',\n",
       " '5:33994077:T:C',\n",
       " '22:30400846:C:G',\n",
       " '22:42810944:A:C',\n",
       " '1:54717459:A:G',\n",
       " '20:35612055:G:A',\n",
       " '3:52218027:A:G',\n",
       " '4:126106:C:T',\n",
       " '2:46536088:G:C',\n",
       " '3:130094458:G:A',\n",
       " '8:90902334:C:T',\n",
       " '3:10114528:AAAGG:A',\n",
       " '19:12050430:T:C',\n",
       " '14:64917558:C:T',\n",
       " ...]"
      ]
     },
     "execution_count": 21,
     "metadata": {},
     "output_type": "execute_result"
    }
   ],
   "source": [
    "sig_snp"
   ]
  },
  {
   "cell_type": "code",
   "execution_count": null,
   "id": "cd241fb2",
   "metadata": {},
   "outputs": [],
   "source": []
  },
  {
   "cell_type": "code",
   "execution_count": 57,
   "id": "4556b12f",
   "metadata": {},
   "outputs": [],
   "source": [
    "df = pd.read_csv('../../hyprcoloc_output_old/hyprcoloc_3ss.sorted.tab', sep='\\t', names=['name', 'seq'])\n",
    "\n",
    "df['seq'] = df['seq'].apply(Seq)\n",
    "\n",
    "m  = motifs.create(df['seq'])\n",
    "pwm = m.counts.normalize()\n",
    "pssm = pwm.log_odds()\n",
    "\n",
    "df['score'] = df['seq'].apply(pssm.calculate)\n",
    "\n",
    "\n",
    "df_extended = pd.read_csv('../../hyprcoloc_output_old/hyprcoloc_3ss.extended.sorted.tab', sep='\\t', names=['name', 'seq'])\n",
    "df_extended['seq'] = df_extended['seq'].apply(Seq)\n",
    "\n",
    "me  = motifs.create(df_extended['seq'])\n",
    "pwme = me.counts.normalize()\n",
    "pssme = pwme.log_odds()\n",
    "\n",
    "# pssm.calculate(m.consensus)\n",
    "df_extended['score'] = df_extended['seq'].apply(pssme.calculate)\n",
    "\n",
    "df.index = [df.name[i].split('::')[0] for i in range(len(df.name))]\n",
    "df_extended.index = [df_extended.name[i].split('::')[0] for i in range(len(df_extended.name))]"
   ]
  },
  {
   "cell_type": "code",
   "execution_count": 29,
   "id": "baed6aff",
   "metadata": {},
   "outputs": [],
   "source": [
    "df = pd.read_csv('../../chRNA.Splicing.hyprcoloc_3ss.sorted.tab', sep='\\t', names=['name', 'seq'])\n",
    "\n",
    "df['seq'] = df['seq'].apply(Seq)\n",
    "\n",
    "m  = motifs.create(df['seq'])\n",
    "pwm = m.counts.normalize()\n",
    "pssm = pwm.log_odds()\n",
    "\n",
    "df['score'] = df['seq'].apply(pssm.calculate)\n",
    "\n",
    "\n",
    "df_extended = pd.read_csv('../../chRNA.Splicing.hyprcoloc_3ss.extended.sorted.tab', sep='\\t', names=['name', 'seq'])\n",
    "df_extended['seq'] = df_extended['seq'].apply(Seq)\n",
    "\n",
    "me  = motifs.create(df_extended['seq'])\n",
    "pwme = me.counts.normalize()\n",
    "pssme = pwme.log_odds()\n",
    "\n",
    "# pssm.calculate(m.consensus)\n",
    "df_extended['score'] = df_extended['seq'].apply(pssme.calculate)\n",
    "\n",
    "df.index = [df.name[i].split('::')[0] for i in range(len(df.name))]\n",
    "df_extended.index = [df_extended.name[i].split('::')[0] for i in range(len(df_extended.name))]\n",
    "\n",
    "merged_snps = colocalized.merge(snps, left_on='Locus', right_on='Locus')\n",
    "\n",
    "splicing_idx = merged_snps.loc[\n",
    "    [y == 'chRNA.Splicing' for y in [x.split(';')[0] for x in merged_snps.phenotype_full]]\n",
    "].index"
   ]
  },
  {
   "cell_type": "code",
   "execution_count": 32,
   "id": "eddc2401",
   "metadata": {},
   "outputs": [
    {
     "name": "stderr",
     "output_type": "stream",
     "text": [
      "  1%|          | 14/1150 [00:00<00:18, 62.10it/s]"
     ]
    },
    {
     "name": "stdout",
     "output_type": "stream",
     "text": [
      "2:201141373:G:A\n",
      "chRNA.Splicing;2:201140439:201141374:clu_8162_+\n",
      "-10.352043151855469\n",
      "-1.37174\n",
      "\n",
      "19:41586462:A:T\n",
      "chRNA.Splicing;19:41586195:41586464:clu_45477_+\n",
      "-18.568903923034668\n",
      "-0.817893\n",
      "\n",
      "19:41586462:A:T\n",
      "chRNA.Splicing;19:41585871:41586464:clu_45477_+\n",
      "-18.568903923034668\n",
      "-1.01411\n",
      "\n",
      "19:41586462:A:T\n",
      "chRNA.Splicing;19:41585495:41586464:clu_45477_+\n",
      "-18.568903923034668\n",
      "1.45665\n",
      "\n"
     ]
    },
    {
     "name": "stderr",
     "output_type": "stream",
     "text": [
      "  4%|▍         | 48/1150 [00:00<00:20, 53.38it/s]"
     ]
    },
    {
     "name": "stdout",
     "output_type": "stream",
     "text": [
      "12:27390095:G:A\n",
      "chRNA.Splicing;12:27389296:27390096:clu_31236_+\n",
      "-10.13370829820633\n",
      "-2.47981\n",
      "\n"
     ]
    },
    {
     "name": "stderr",
     "output_type": "stream",
     "text": [
      " 11%|█         | 127/1150 [00:02<00:13, 73.09it/s]"
     ]
    },
    {
     "name": "stdout",
     "output_type": "stream",
     "text": [
      "3:185285514:TAG:T\n",
      "chRNA.Splicing;3:185283027:185285517:clu_11453_+\n",
      "-15.978557586669922\n",
      "-2.82654\n",
      "\n",
      "14:103457138:A:G\n",
      "chRNA.Splicing;14:103451983:103457142:clu_34038_+\n",
      "-0.21268749237060547\n",
      "-1.21873\n",
      "\n"
     ]
    },
    {
     "name": "stderr",
     "output_type": "stream",
     "text": [
      " 14%|█▍        | 161/1150 [00:02<00:14, 68.83it/s]"
     ]
    },
    {
     "name": "stdout",
     "output_type": "stream",
     "text": [
      "20:18412855:C:T\n",
      "chRNA.Splicing;20:18412853:18412968:clu_46136_-\n",
      "9.35038697719574\n",
      "0.867703\n",
      "\n",
      "20:18412855:C:T\n",
      "chRNA.Splicing;20:18412853:18414348:clu_46136_-\n",
      "9.35038697719574\n",
      "1.22033\n",
      "\n",
      "12:112919388:G:A\n",
      "chRNA.Splicing;12:112917700:112919389:clu_32064_+\n",
      "-10.352043867111206\n",
      "-1.21429\n",
      "\n",
      "7:140700870:C:G\n",
      "chRNA.Splicing;7:140696842:140700870:clu_20781_+\n",
      "1.7970702648162842\n",
      "0.58175\n",
      "\n"
     ]
    },
    {
     "name": "stderr",
     "output_type": "stream",
     "text": [
      " 15%|█▌        | 177/1150 [00:02<00:14, 67.01it/s]"
     ]
    },
    {
     "name": "stdout",
     "output_type": "stream",
     "text": [
      "19:18086934:T:A\n",
      "chRNA.Splicing;19:18086932:18090650:clu_43722_-\n",
      "-16.097581386566162\n",
      "-0.943364\n",
      "\n",
      "19:18086934:T:A\n",
      "chRNA.Splicing;19:18086932:18098755:clu_43722_-\n",
      "-16.097581386566162\n",
      "-1.15904\n",
      "\n",
      "22:50505337:G:A\n",
      "chRNA.Splicing;22:50505334:50505403:clu_49213_-\n",
      "-1.0618650913238525\n",
      "-1.00608\n",
      "\n"
     ]
    },
    {
     "name": "stderr",
     "output_type": "stream",
     "text": [
      " 17%|█▋        | 191/1150 [00:03<00:20, 47.14it/s]"
     ]
    },
    {
     "name": "stdout",
     "output_type": "stream",
     "text": [
      "14:57481662:T:C\n",
      "chRNA.Splicing;14:57481660:57483065:clu_34506_-\n",
      "-9.350386619567871\n",
      "-1.38605\n",
      "\n",
      "14:57481662:T:C\n",
      "chRNA.Splicing;14:57481657:57483065:clu_34506_-\n",
      "-0.3658714294433594\n",
      "1.22833\n",
      "\n",
      "14:58456677:G:A\n",
      "chRNA.Splicing;14:58453473:58456678:clu_33616_+\n",
      "-10.352043628692627\n",
      "-1.99587\n",
      "\n"
     ]
    },
    {
     "name": "stderr",
     "output_type": "stream",
     "text": [
      " 20%|██        | 232/1150 [00:03<00:14, 64.60it/s]"
     ]
    },
    {
     "name": "stdout",
     "output_type": "stream",
     "text": [
      "15:78939176:A:G\n",
      "chRNA.Splicing;15:78939171:78944778:clu_35747_-\n",
      "-1.1090106964111328\n",
      "-0.78751\n",
      "\n"
     ]
    },
    {
     "name": "stderr",
     "output_type": "stream",
     "text": [
      " 25%|██▍       | 286/1150 [00:04<00:12, 69.64it/s]"
     ]
    },
    {
     "name": "stdout",
     "output_type": "stream",
     "text": [
      "11:68043795:C:A\n",
      "chRNA.Splicing;11:68043653:68043798:clu_28881_+\n",
      "-3.269460618495941\n",
      "-1.52131\n",
      "\n",
      "12:3863956:C:T\n",
      "chRNA.Splicing;12:3863957:3873212:clu_29513_-\n",
      "0.6300995349884033\n",
      "-0.886607\n",
      "\n",
      "12:6872998:C:T\n",
      "chRNA.Splicing;12:6872997:6873246:clu_29573_-\n",
      "-10.352043151855469\n",
      "-1.09833\n",
      "\n"
     ]
    },
    {
     "name": "stderr",
     "output_type": "stream",
     "text": [
      " 27%|██▋       | 309/1150 [00:04<00:13, 62.37it/s]"
     ]
    },
    {
     "name": "stdout",
     "output_type": "stream",
     "text": [
      "3:132718123:A:G\n",
      "chRNA.Splicing;3:132718117:132718994:clu_9704_-\n",
      "-0.900604248046875\n",
      "-0.774248\n",
      "\n",
      "2:74455385:C:T\n",
      "chRNA.Splicing;2:74455174:74455391:clu_7329_+\n",
      "0.900604248046875\n",
      "1.41696\n",
      "\n"
     ]
    },
    {
     "name": "stderr",
     "output_type": "stream",
     "text": [
      " 30%|███       | 346/1150 [00:06<00:32, 25.08it/s]"
     ]
    },
    {
     "name": "stdout",
     "output_type": "stream",
     "text": [
      "4:153592475:A:G\n",
      "chRNA.Splicing;4:153591194:153592475:clu_12376_+\n",
      "0.7930903434753418\n",
      "-0.784165\n",
      "\n"
     ]
    },
    {
     "name": "stderr",
     "output_type": "stream",
     "text": [
      " 39%|███▉      | 449/1150 [00:08<00:11, 62.34it/s]"
     ]
    },
    {
     "name": "stdout",
     "output_type": "stream",
     "text": [
      "11:9724654:G:A\n",
      "chRNA.Splicing;11:9694286:9724658:clu_28231_+\n",
      "0.21268749237060547\n",
      "-0.624408\n",
      "\n"
     ]
    },
    {
     "name": "stderr",
     "output_type": "stream",
     "text": [
      " 41%|████      | 467/1150 [00:08<00:12, 53.70it/s]"
     ]
    },
    {
     "name": "stdout",
     "output_type": "stream",
     "text": [
      "6:109443332:G:T\n",
      "chRNA.Splicing;6:109443081:109443332:clu_16759_+\n",
      "-2.2201004028320312\n",
      "-0.687345\n",
      "\n"
     ]
    },
    {
     "name": "stderr",
     "output_type": "stream",
     "text": [
      " 43%|████▎     | 497/1150 [00:09<00:12, 50.30it/s]"
     ]
    },
    {
     "name": "stdout",
     "output_type": "stream",
     "text": [
      "1:93667232:G:A\n",
      "chRNA.Splicing;1:93667229:93674614:clu_1172_-\n",
      "-1.0618650913238525\n",
      "0.705749\n",
      "\n",
      "4:107670866:A:G\n",
      "chRNA.Splicing;4:107670863:107682015:clu_13148_-\n",
      "1.0618648529052734\n",
      "0.891729\n",
      "\n"
     ]
    },
    {
     "name": "stderr",
     "output_type": "stream",
     "text": [
      " 44%|████▍     | 509/1150 [00:09<00:14, 44.30it/s]"
     ]
    },
    {
     "name": "stdout",
     "output_type": "stream",
     "text": [
      "12:53164759:G:C\n",
      "chRNA.Splicing;12:53164755:53166205:clu_30008_-\n",
      "-0.2742753028869629\n",
      "-0.878178\n",
      "\n",
      "12:53164759:G:C\n",
      "chRNA.Splicing;12:53164755:53170072:clu_30008_-\n",
      "-0.2742753028869629\n",
      "-1.37333\n",
      "\n"
     ]
    },
    {
     "name": "stderr",
     "output_type": "stream",
     "text": [
      " 47%|████▋     | 539/1150 [00:10<00:09, 66.14it/s]"
     ]
    },
    {
     "name": "stdout",
     "output_type": "stream",
     "text": [
      "19:51417359:C:T\n",
      "chRNA.Splicing;19:51417358:51417545:clu_44305_-\n",
      "-10.352043151855469\n",
      "-0.878436\n",
      "\n",
      "1:179889309:G:A\n",
      "chRNA.Splicing;1:179884769:179889310:clu_4427_+\n",
      "-10.352043390274048\n",
      "-1.48477\n",
      "\n",
      "1:179889309:G:A\n",
      "chRNA.Splicing;1:179884769:179889313:clu_4427_+\n",
      "0.21268725395202637\n",
      "1.51448\n",
      "\n"
     ]
    },
    {
     "name": "stderr",
     "output_type": "stream",
     "text": [
      " 52%|█████▏    | 595/1150 [00:10<00:06, 87.42it/s]"
     ]
    },
    {
     "name": "stdout",
     "output_type": "stream",
     "text": [
      "11:113368360:G:A\n",
      "chRNA.Splicing;11:113368258:113368361:clu_29212_+\n",
      "-10.352043628692627\n",
      "-1.10542\n",
      "\n",
      "20:18161818:A:G\n",
      "chRNA.Splicing;20:18159265:18161823:clu_46739_+\n",
      "-0.3658714294433594\n",
      "1.45529\n",
      "\n",
      "20:18161818:A:G\n",
      "chRNA.Splicing;20:18159265:18161820:clu_46739_+\n",
      "-9.350386619567871\n",
      "-1.90532\n",
      "\n"
     ]
    },
    {
     "name": "stderr",
     "output_type": "stream",
     "text": [
      " 54%|█████▎    | 618/1150 [00:11<00:10, 52.38it/s]"
     ]
    },
    {
     "name": "stdout",
     "output_type": "stream",
     "text": [
      "5:83353124:G:A\n",
      "chRNA.Splicing;5:83258677:83353125:clu_13962_+\n",
      "-10.352043390274048\n",
      "-1.20591\n",
      "\n",
      "17:69179009:T:C\n",
      "chRNA.Splicing;17:69179008:69182153:clu_40562_-\n",
      "10.352043628692627\n",
      "1.1201\n",
      "\n"
     ]
    },
    {
     "name": "stderr",
     "output_type": "stream",
     "text": [
      " 55%|█████▌    | 636/1150 [00:11<00:07, 64.47it/s]"
     ]
    },
    {
     "name": "stdout",
     "output_type": "stream",
     "text": [
      "18:11905954:C:T\n",
      "chRNA.Splicing;18:11905953:11906203:clu_42838_-\n",
      "-10.352043628692627\n",
      "-0.951451\n",
      "\n",
      "8:123441303:T:A\n",
      "chRNA.Splicing;8:123438238:123441306:clu_22519_+\n",
      "-2.2075953483581543\n",
      "0.762653\n",
      "\n",
      "8:123441303:T:A\n",
      "chRNA.Splicing;8:123437334:123441306:clu_22519_+\n",
      "-2.2075953483581543\n",
      "-1.17139\n",
      "\n"
     ]
    },
    {
     "name": "stderr",
     "output_type": "stream",
     "text": [
      " 58%|█████▊    | 664/1150 [00:12<00:13, 36.30it/s]"
     ]
    },
    {
     "name": "stdout",
     "output_type": "stream",
     "text": [
      "5:131391830:G:A\n",
      "chRNA.Splicing;5:131391108:131391829:clu_14237_+\n",
      "0.6300997734069824\n",
      "0.877254\n",
      "\n"
     ]
    },
    {
     "name": "stderr",
     "output_type": "stream",
     "text": [
      " 60%|██████    | 690/1150 [00:12<00:08, 55.21it/s]"
     ]
    },
    {
     "name": "stdout",
     "output_type": "stream",
     "text": [
      "9:127905303:C:T\n",
      "chRNA.Splicing;9:127905302:127905935:clu_23488_-\n",
      "-10.352043151855469\n",
      "-1.175\n",
      "\n",
      "9:127905303:C:T\n",
      "chRNA.Splicing;9:127905302:127905935:clu_23488_-\n",
      "-10.352043151855469\n",
      "-1.175\n",
      "\n",
      "1:92476723:G:GA\n",
      "chRNA.Splicing;1:92476720:92478588:clu_1155_-\n",
      "-18.467432975769043\n",
      "0.909395\n",
      "\n"
     ]
    },
    {
     "name": "stderr",
     "output_type": "stream",
     "text": [
      " 63%|██████▎   | 720/1150 [00:13<00:08, 51.76it/s]"
     ]
    },
    {
     "name": "stdout",
     "output_type": "stream",
     "text": [
      "3:121923201:A:T\n",
      "chRNA.Splicing;3:121923129:121923206:clu_11006_+\n",
      "2.569490909576416\n",
      "0.884419\n",
      "\n"
     ]
    },
    {
     "name": "stderr",
     "output_type": "stream",
     "text": [
      " 64%|██████▎   | 732/1150 [00:13<00:11, 37.50it/s]"
     ]
    },
    {
     "name": "stdout",
     "output_type": "stream",
     "text": [
      "5:79660796:G:C\n",
      "chRNA.Splicing;5:79657001:79660801:clu_13923_+\n",
      "1.8263516426086426\n",
      "0.809815\n",
      "\n",
      "8:99892049:T:C\n",
      "chRNA.Splicing;8:99892047:99893639:clu_21426_-\n",
      "-9.350386440753937\n",
      "-0.834983\n",
      "\n"
     ]
    },
    {
     "name": "stderr",
     "output_type": "stream",
     "text": [
      " 65%|██████▌   | 749/1150 [00:14<00:07, 54.42it/s]"
     ]
    },
    {
     "name": "stdout",
     "output_type": "stream",
     "text": [
      "8:125083261:G:A\n",
      "chRNA.Splicing;8:125083258:125091615:clu_21555_-\n",
      "-1.0618653297424316\n",
      "-0.96544\n",
      "\n",
      "13:20483441:C:A\n",
      "chRNA.Splicing;13:20483435:20489370:clu_32356_-\n",
      "2.452622890472412\n",
      "1.12773\n",
      "\n",
      "17:54999625:G:A\n",
      "chRNA.Splicing;17:54999451:54999626:clu_41851_+\n",
      "-10.352043628692627\n",
      "-1.62113\n",
      "\n"
     ]
    },
    {
     "name": "stderr",
     "output_type": "stream",
     "text": [
      " 68%|██████▊   | 786/1150 [00:14<00:05, 64.80it/s]"
     ]
    },
    {
     "name": "stdout",
     "output_type": "stream",
     "text": [
      "16:28835545:G:A\n",
      "chRNA.Splicing;16:28835399:28835546:clu_38512_+\n",
      "-10.352043628692627\n",
      "-1.54732\n",
      "\n",
      "16:28835545:G:A\n",
      "chRNA.Splicing;16:28835399:28835549:clu_38512_+\n",
      "0.21268725395202637\n",
      "1.41754\n",
      "\n"
     ]
    },
    {
     "name": "stderr",
     "output_type": "stream",
     "text": [
      " 72%|███████▏  | 830/1150 [00:15<00:04, 69.77it/s]"
     ]
    },
    {
     "name": "stdout",
     "output_type": "stream",
     "text": [
      "11:71444125:C:T\n",
      "chRNA.Splicing;11:71444119:71444855:clu_27560_-\n",
      "0.022809505462646484\n",
      "0.831299\n",
      "\n"
     ]
    },
    {
     "name": "stderr",
     "output_type": "stream",
     "text": [
      " 76%|███████▌  | 870/1150 [00:17<00:17, 15.89it/s]"
     ]
    },
    {
     "name": "stdout",
     "output_type": "stream",
     "text": [
      "14:95436970:TAGA:T\n",
      "chRNA.Splicing;14:95436966:95439033:clu_34846_-\n",
      "-17.66830015182495\n",
      "-2.00047\n",
      "\n",
      "16:89100658:C:G\n",
      "chRNA.Splicing;16:89098763:89100662:clu_39178_+\n",
      "-0.2742753028869629\n",
      "-1.00269\n",
      "\n",
      "16:89100658:C:G\n",
      "chRNA.Splicing;16:89093992:89100662:clu_39178_+\n",
      "-0.2742753028869629\n",
      "-0.509406\n",
      "\n",
      "16:89100658:C:G\n",
      "chRNA.Splicing;16:89093996:89100662:clu_39178_+\n",
      "-0.2742753028869629\n",
      "-1.04443\n",
      "\n"
     ]
    },
    {
     "name": "stderr",
     "output_type": "stream",
     "text": [
      " 79%|███████▉  | 906/1150 [00:18<00:07, 32.71it/s]"
     ]
    },
    {
     "name": "stdout",
     "output_type": "stream",
     "text": [
      "3:56565131:T:C\n",
      "chRNA.Splicing;3:56564125:56565134:clu_10753_+\n",
      "1.0618653297424316\n",
      "1.70611\n",
      "\n",
      "4:168396128:C:T\n",
      "chRNA.Splicing;4:168396124:168400826:clu_13384_-\n",
      "0.21268749237060547\n",
      "1.31433\n",
      "\n",
      "4:168396128:C:T\n",
      "chRNA.Splicing;4:168396127:168400826:clu_13384_-\n",
      "-10.287634432315826\n",
      "-1.37672\n",
      "\n"
     ]
    },
    {
     "name": "stderr",
     "output_type": "stream",
     "text": [
      " 82%|████████▏ | 938/1150 [00:18<00:03, 67.13it/s]"
     ]
    },
    {
     "name": "stdout",
     "output_type": "stream",
     "text": [
      "7:20147939:C:A\n",
      "chRNA.Splicing;7:20147934:20154193:clu_18605_-\n",
      "2.9353623390197754\n",
      "1.11629\n",
      "\n"
     ]
    },
    {
     "name": "stderr",
     "output_type": "stream",
     "text": [
      " 83%|████████▎ | 955/1150 [00:19<00:03, 63.11it/s]"
     ]
    },
    {
     "name": "stdout",
     "output_type": "stream",
     "text": [
      "2:99197151:T:C\n",
      "chRNA.Splicing;2:99195756:99197154:clu_7530_+\n",
      "1.0618653297424316\n",
      "0.69223\n",
      "\n",
      "2:99197151:T:C\n",
      "chRNA.Splicing;2:99195756:99197154:clu_7530_+\n",
      "1.0618653297424316\n",
      "0.69223\n",
      "\n"
     ]
    },
    {
     "name": "stderr",
     "output_type": "stream",
     "text": [
      " 85%|████████▍ | 972/1150 [00:19<00:02, 60.80it/s]"
     ]
    },
    {
     "name": "stdout",
     "output_type": "stream",
     "text": [
      "11:58610951:A:G\n",
      "chRNA.Splicing;11:58610334:58610950:clu_28517_+\n",
      "-0.6300997734069824\n",
      "0.987146\n",
      "\n",
      "11:58610951:A:G\n",
      "chRNA.Splicing;11:58610334:58610953:clu_28517_+\n",
      "-9.35038697719574\n",
      "-1.13805\n",
      "\n",
      "11:61398259:C:CA\n",
      "chRNA.Splicing;11:61397975:61398261:clu_28563_+\n",
      "-1.9269371032714844\n",
      "1.69789\n",
      "\n",
      "19:36689395:A:G\n",
      "chRNA.Splicing;19:36687634:36689401:clu_45344_+\n",
      "-0.022809863090515137\n",
      "0.991642\n",
      "\n"
     ]
    },
    {
     "name": "stderr",
     "output_type": "stream",
     "text": [
      " 86%|████████▌ | 990/1150 [00:19<00:02, 56.02it/s]"
     ]
    },
    {
     "name": "stdout",
     "output_type": "stream",
     "text": [
      "19:36689395:A:G\n",
      "chRNA.Splicing;19:36687686:36689397:clu_45344_+\n",
      "-9.35038685798645\n",
      "-0.969831\n",
      "\n"
     ]
    },
    {
     "name": "stderr",
     "output_type": "stream",
     "text": [
      " 94%|█████████▍| 1083/1150 [00:22<00:03, 21.51it/s]"
     ]
    },
    {
     "name": "stdout",
     "output_type": "stream",
     "text": [
      "14:23564163:G:C\n",
      "chRNA.Splicing;14:23564159:23564333:clu_34232_-\n",
      "-0.2742753028869629\n",
      "-2.6584\n",
      "\n"
     ]
    },
    {
     "name": "stderr",
     "output_type": "stream",
     "text": [
      "100%|██████████| 1150/1150 [00:24<00:00, 47.75it/s]\n"
     ]
    }
   ],
   "source": [
    "def mutate(seq, extended_seq, pos, snp, strand):\n",
    "    \n",
    "    \n",
    "    chrom, position, original, new = snp.split(':')\n",
    "    \n",
    "    if strand == '-':\n",
    "        seq = get_neg_nucleotide(seq)\n",
    "        extended_seq = get_neg_nucleotide(extended_seq)\n",
    "    \n",
    "    if (len(original) == 1) and (len(new)==1):\n",
    "        \n",
    "        assert seq[pos] == original\n",
    "\n",
    "        nuc = list(seq)\n",
    "        nuc[pos] = new\n",
    "\n",
    "        mutated_seq = ''.join(nuc)\n",
    "\n",
    "        if strand == '-':\n",
    "            mutated_seq = get_neg_nucleotide(mutated_seq)\n",
    "\n",
    "        return mutated_seq\n",
    "    \n",
    "    else:\n",
    "        \n",
    "        if strand == '+':\n",
    "\n",
    "            assert extended_seq[(pos+20):(pos+len(original)+20)] == original\n",
    "            \n",
    "            seq5 = extended_seq[:(pos+20)]\n",
    "            seq3 = extended_seq[(pos+len(original)+20):]\n",
    "\n",
    "            mutated_seq = seq5 + new + seq3\n",
    "            mutated_seq = mutated_seq[20:28]\n",
    "            \n",
    "        else:\n",
    "            \n",
    "            assert extended_seq[(pos+21-len(original)):(pos+21)][::-1] == original\n",
    "            \n",
    "            seq5 = extended_seq[:(pos+21)][::-1]\n",
    "            seq3 = extended_seq[(pos+21-len(original)):][::-1]\n",
    "            \n",
    "            mutated_seq = seq5 + new + seq3\n",
    "            mutated_seq = get_neg_nucleotide(mutated_seq)[::-1][20:28]\n",
    "        \n",
    "        return mutated_seq\n",
    "        \n",
    "        \n",
    "    \n",
    "def get_neg_nucleotide(S):\n",
    "    new_S = ''\n",
    "    for i in range(len(S)):\n",
    "        N = S[i]\n",
    "        if N == 'A':\n",
    "            new_S += 'T'\n",
    "        elif N == 'T':\n",
    "            new_S += 'A'\n",
    "        elif N == 'G':\n",
    "            new_S += 'C'\n",
    "        elif N == 'C':\n",
    "            new_S += 'G'\n",
    "    return new_S#[::-1]\n",
    "        \n",
    "\n",
    "def get_splice_junctions(intron):\n",
    "    chrom, start, end, clu = intron.split(';')[1].split(':')\n",
    "    strand = clu.split('_')[-1]\n",
    "    \n",
    "    return int(start), int(end), strand\n",
    "\n",
    "\n",
    "def isSNPin3SS(snp, intron, mut_diff):\n",
    "    \n",
    "    snp_pos = int(snp.split(':')[1])\n",
    "    \n",
    "    start, end, strand = get_splice_junctions(intron)\n",
    "    \n",
    "    seq = str(df.loc[intron].seq)\n",
    "    extended_seq = str(df_extended.loc[intron].seq)\n",
    "    \n",
    "    for i in range(8):\n",
    "        if strand == '+':\n",
    "            test_pos = end + i - 6\n",
    "        else:\n",
    "            test_pos = start - i + 6\n",
    "        \n",
    "        if snp_pos == test_pos:\n",
    "            mutated_seq = mutate(seq, extended_seq, i, snp, strand)\n",
    "            \n",
    "            mut_diff.append(np.max([pssm.calculate(Seq(mutated_seq)), -10]) - pssm.calculate(Seq(seq)))\n",
    "            \n",
    "            return mut_diff\n",
    "    return mut_diff\n",
    "\n",
    "\n",
    "def isClusterinSJ(data, snp_x, mut_diff, beta):\n",
    "    snp_x_data = data.loc[data.snp_x == snp_x]\n",
    "    \n",
    "    token = False\n",
    "    \n",
    "    snps_sj_pr = []\n",
    "    snps_no_sj_pr = []\n",
    "    betas = []\n",
    "    p = []\n",
    "    \n",
    "    df_list = []\n",
    "    \n",
    "    for idx in snp_x_data.index:\n",
    "        \n",
    "        l = len(mut_diff)\n",
    "        \n",
    "        intron = snp_x_data.loc[idx, 'phenotype_full']\n",
    "        snp_y = snp_x_data.loc[idx, 'snp_y']\n",
    "        locus = snp_x_data.loc[idx, 'Locus']\n",
    "        \n",
    "        mut_diff = isSNPin3SS(snp_y, intron, mut_diff)\n",
    "        \n",
    "        if l < len(mut_diff):\n",
    "            beta.append(snp_x_data.loc[idx, 'beta'])\n",
    "            \n",
    "            \n",
    "            df_list.append([snp_y, intron, mut_diff[-1], snp_x_data.loc[idx, 'beta']])\n",
    "            \n",
    "            print(snp_y)\n",
    "            print(intron)\n",
    "            print(mut_diff[-1])\n",
    "            print(snp_x_data.loc[idx, 'beta'])\n",
    "            print('')\n",
    "            \n",
    "    return mut_diff, beta, df_list\n",
    "        \n",
    "        \n",
    "\n",
    "merged_splicing = merged_snps.loc[splicing_idx]\n",
    "\n",
    "mut_diff = []\n",
    "beta = []\n",
    "df_out_3ss = []\n",
    "\n",
    "for snp_x in tqdm(merged_splicing.snp_x.unique(), leave=True, position=0):\n",
    "    \n",
    "    mut_diff, beta, df_list = isClusterinSJ(merged_splicing, snp_x, mut_diff, beta)\n",
    "    df_out_3ss.extend(df_list)"
   ]
  },
  {
   "cell_type": "code",
   "execution_count": 33,
   "id": "44545383",
   "metadata": {},
   "outputs": [
    {
     "data": {
      "text/plain": [
       "(-3.0, 3.0)"
      ]
     },
     "execution_count": 33,
     "metadata": {},
     "output_type": "execute_result"
    },
    {
     "data": {
      "image/png": "[encoded data removed]",
      "text/plain": [
       "<Figure size 432x288 with 1 Axes>"
      ]
     },
     "metadata": {
      "needs_background": "light"
     },
     "output_type": "display_data"
    }
   ],
   "source": [
    "plt.plot([0, 0], [-5, 5], linestyle='--', alpha=0.3, c='gray')\n",
    "plt.plot([-20, 20], [0, 0], linestyle='--', alpha=0.3, c='gray')\n",
    "plt.scatter(mut_diff, beta, alpha = 0.5)\n",
    "plt.xlabel(r'$\\Delta$ PWM')\n",
    "plt.ylabel('Splicing beta')\n",
    "plt.title(\"3'Splice junction SNPs\")\n",
    "plt.xlim([-20, 12])\n",
    "plt.ylim([-3, 3])"
   ]
  },
  {
   "cell_type": "code",
   "execution_count": 34,
   "id": "5fdff965",
   "metadata": {},
   "outputs": [],
   "source": [
    "df_3ss = pd.DataFrame(df_out_3ss).drop_duplicates()\n",
    "df_3ss.columns = ['SNP', 'Intron', 'DeltaPWM', \"Beta\"]\n",
    "df_3ss.to_csv('chRNA.3SS.tab', sep='\\t', index=False, header=True)"
   ]
  },
  {
   "cell_type": "code",
   "execution_count": 35,
   "id": "ee20b900",
   "metadata": {},
   "outputs": [
    {
     "data": {
      "text/html": [
       "<div>\n",
       "<style scoped>\n",
       "    .dataframe tbody tr th:only-of-type {\n",
       "        vertical-align: middle;\n",
       "    }\n",
       "\n",
       "    .dataframe tbody tr th {\n",
       "        vertical-align: top;\n",
       "    }\n",
       "\n",
       "    .dataframe thead th {\n",
       "        text-align: right;\n",
       "    }\n",
       "</style>\n",
       "<table border=\"1\" class=\"dataframe\">\n",
       "  <thead>\n",
       "    <tr style=\"text-align: right;\">\n",
       "      <th></th>\n",
       "      <th>SNP</th>\n",
       "      <th>Intron</th>\n",
       "      <th>DeltaPWM</th>\n",
       "      <th>Beta</th>\n",
       "    </tr>\n",
       "  </thead>\n",
       "  <tbody>\n",
       "    <tr>\n",
       "      <th>0</th>\n",
       "      <td>2:201141373:G:A</td>\n",
       "      <td>chRNA.Splicing;2:201140439:201141374:clu_8162_+</td>\n",
       "      <td>-10.352043</td>\n",
       "      <td>-1.371740</td>\n",
       "    </tr>\n",
       "    <tr>\n",
       "      <th>1</th>\n",
       "      <td>19:41586462:A:T</td>\n",
       "      <td>chRNA.Splicing;19:41586195:41586464:clu_45477_+</td>\n",
       "      <td>-18.568904</td>\n",
       "      <td>-0.817893</td>\n",
       "    </tr>\n",
       "    <tr>\n",
       "      <th>2</th>\n",
       "      <td>19:41586462:A:T</td>\n",
       "      <td>chRNA.Splicing;19:41585871:41586464:clu_45477_+</td>\n",
       "      <td>-18.568904</td>\n",
       "      <td>-1.014110</td>\n",
       "    </tr>\n",
       "    <tr>\n",
       "      <th>3</th>\n",
       "      <td>19:41586462:A:T</td>\n",
       "      <td>chRNA.Splicing;19:41585495:41586464:clu_45477_+</td>\n",
       "      <td>-18.568904</td>\n",
       "      <td>1.456650</td>\n",
       "    </tr>\n",
       "    <tr>\n",
       "      <th>4</th>\n",
       "      <td>12:27390095:G:A</td>\n",
       "      <td>chRNA.Splicing;12:27389296:27390096:clu_31236_+</td>\n",
       "      <td>-10.133708</td>\n",
       "      <td>-2.479810</td>\n",
       "    </tr>\n",
       "    <tr>\n",
       "      <th>...</th>\n",
       "      <td>...</td>\n",
       "      <td>...</td>\n",
       "      <td>...</td>\n",
       "      <td>...</td>\n",
       "    </tr>\n",
       "    <tr>\n",
       "      <th>65</th>\n",
       "      <td>11:58610951:A:G</td>\n",
       "      <td>chRNA.Splicing;11:58610334:58610953:clu_28517_+</td>\n",
       "      <td>-9.350387</td>\n",
       "      <td>-1.138050</td>\n",
       "    </tr>\n",
       "    <tr>\n",
       "      <th>66</th>\n",
       "      <td>11:61398259:C:CA</td>\n",
       "      <td>chRNA.Splicing;11:61397975:61398261:clu_28563_+</td>\n",
       "      <td>-1.926937</td>\n",
       "      <td>1.697890</td>\n",
       "    </tr>\n",
       "    <tr>\n",
       "      <th>67</th>\n",
       "      <td>19:36689395:A:G</td>\n",
       "      <td>chRNA.Splicing;19:36687634:36689401:clu_45344_+</td>\n",
       "      <td>-0.022810</td>\n",
       "      <td>0.991642</td>\n",
       "    </tr>\n",
       "    <tr>\n",
       "      <th>68</th>\n",
       "      <td>19:36689395:A:G</td>\n",
       "      <td>chRNA.Splicing;19:36687686:36689397:clu_45344_+</td>\n",
       "      <td>-9.350387</td>\n",
       "      <td>-0.969831</td>\n",
       "    </tr>\n",
       "    <tr>\n",
       "      <th>69</th>\n",
       "      <td>14:23564163:G:C</td>\n",
       "      <td>chRNA.Splicing;14:23564159:23564333:clu_34232_-</td>\n",
       "      <td>-0.274275</td>\n",
       "      <td>-2.658400</td>\n",
       "    </tr>\n",
       "  </tbody>\n",
       "</table>\n",
       "<p>68 rows × 4 columns</p>\n",
       "</div>"
      ],
      "text/plain": [
       "                 SNP                                           Intron  \\\n",
       "0    2:201141373:G:A  chRNA.Splicing;2:201140439:201141374:clu_8162_+   \n",
       "1    19:41586462:A:T  chRNA.Splicing;19:41586195:41586464:clu_45477_+   \n",
       "2    19:41586462:A:T  chRNA.Splicing;19:41585871:41586464:clu_45477_+   \n",
       "3    19:41586462:A:T  chRNA.Splicing;19:41585495:41586464:clu_45477_+   \n",
       "4    12:27390095:G:A  chRNA.Splicing;12:27389296:27390096:clu_31236_+   \n",
       "..               ...                                              ...   \n",
       "65   11:58610951:A:G  chRNA.Splicing;11:58610334:58610953:clu_28517_+   \n",
       "66  11:61398259:C:CA  chRNA.Splicing;11:61397975:61398261:clu_28563_+   \n",
       "67   19:36689395:A:G  chRNA.Splicing;19:36687634:36689401:clu_45344_+   \n",
       "68   19:36689395:A:G  chRNA.Splicing;19:36687686:36689397:clu_45344_+   \n",
       "69   14:23564163:G:C  chRNA.Splicing;14:23564159:23564333:clu_34232_-   \n",
       "\n",
       "     DeltaPWM      Beta  \n",
       "0  -10.352043 -1.371740  \n",
       "1  -18.568904 -0.817893  \n",
       "2  -18.568904 -1.014110  \n",
       "3  -18.568904  1.456650  \n",
       "4  -10.133708 -2.479810  \n",
       "..        ...       ...  \n",
       "65  -9.350387 -1.138050  \n",
       "66  -1.926937  1.697890  \n",
       "67  -0.022810  0.991642  \n",
       "68  -9.350387 -0.969831  \n",
       "69  -0.274275 -2.658400  \n",
       "\n",
       "[68 rows x 4 columns]"
      ]
     },
     "execution_count": 35,
     "metadata": {},
     "output_type": "execute_result"
    }
   ],
   "source": [
    "df_3ss"
   ]
  },
  {
   "cell_type": "code",
   "execution_count": null,
   "id": "7bfa8b70",
   "metadata": {},
   "outputs": [],
   "source": []
  }
 ],
 "metadata": {
  "kernelspec": {
   "display_name": "Python 3",
   "language": "python",
   "name": "python3"
  },
  "language_info": {
   "codemirror_mode": {
    "name": "ipython",
    "version": 3
   },
   "file_extension": ".py",
   "mimetype": "text/x-python",
   "name": "python",
   "nbconvert_exporter": "python",
   "pygments_lexer": "ipython3",
   "version": "3.8.8"
  }
 },
 "nbformat": 4,
 "nbformat_minor": 5
}
