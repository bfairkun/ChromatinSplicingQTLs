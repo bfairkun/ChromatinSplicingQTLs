{
 "cells": [
  {
   "cell_type": "code",
   "execution_count": 1,
   "id": "4c6c896a",
   "metadata": {},
   "outputs": [],
   "source": [
    "import numpy as np\n",
    "import pandas as pd\n",
    "import matplotlib.pyplot as plt\n",
    "import seaborn as sns\n",
    "from scipy.stats import pearsonr, spearmanr, zscore\n",
    "from tqdm import tqdm\n",
    "import sys\n",
    "\n",
    "sys.path.append('../code/scripts/useful_modules')\n",
    "\n",
    "# Some useful functions for plotting that I wrote previously\n",
    "from plot_functions import *\n",
    "from regression_functions import *"
   ]
  },
  {
   "cell_type": "code",
   "execution_count": 2,
   "id": "1ca27414",
   "metadata": {},
   "outputs": [],
   "source": [
    "all_RPKM = pd.read_csv(\n",
    "    '../code/ReadLengthMapExperimentResults/tables/AllRNASeq.Normalized.RPKM.bed.gz', sep='\\t',\n",
    "                   index_col=3)\n",
    "\n",
    "CDS_len = all_RPKM.Length\n",
    "gene_len = all_RPKM.end - all_RPKM.start"
   ]
  },
  {
   "cell_type": "code",
   "execution_count": 3,
   "id": "2d35ed94",
   "metadata": {},
   "outputs": [],
   "source": [
    "\n",
    "intron_annot = pd.read_csv('../data/IntronAnnotationsFromYang.tsv.gz', sep='\\t')\n",
    "intron_annot['junction'] = intron_annot[['chrom', 'start', 'end', 'strand']].astype(str).agg(':'.join, axis=1)\n",
    "long_table = pd.read_csv(\n",
    "    '/project2/yangili1/bjf79/ChromatinSplicingQTLs/code/SplicingAnalysis/CombinedJuncTables/YRI.tsv.gz', sep='\\t'\n",
    ")\n",
    "#long_table = pd.read_csv(\"../code/ReadLengthMapExperimentResults/JuncCountsTidy/LongTable.txt.gz\", sep='\\t')\n",
    "long_table = long_table.loc[long_table.RepNumber == '1.junc'].drop_duplicates()\n",
    "long_table = long_table.loc[~((long_table.IndID == 'NA18855') & (long_table.Dataset == 'chRNA.Expression.Splicing'))]#.assay.unique()"
   ]
  },
  {
   "cell_type": "code",
   "execution_count": 6,
   "id": "6bf5ebd2",
   "metadata": {},
   "outputs": [],
   "source": [
    "long_table = long_table.loc[long_table.Dataset == 'chRNA.Expression.Splicing']"
   ]
  },
  {
   "cell_type": "code",
   "execution_count": 7,
   "id": "cb3a9dde",
   "metadata": {},
   "outputs": [
    {
     "name": "stderr",
     "output_type": "stream",
     "text": [
      "/project2/mstephens/cfbuenabadn/anaconda3/envs/jnotebook/lib/python3.8/site-packages/pandas/core/generic.py:5494: SettingWithCopyWarning: \n",
      "A value is trying to be set on a copy of a slice from a DataFrame.\n",
      "Try using .loc[row_indexer,col_indexer] = value instead\n",
      "\n",
      "See the caveats in the documentation: https://pandas.pydata.org/pandas-docs/stable/user_guide/indexing.html#returning-a-view-versus-a-copy\n",
      "  self[name] = value\n"
     ]
    }
   ],
   "source": [
    "# Adjustment needed to match the introns in Yang's annotation...\n",
    "long_table.stop += 1\n",
    "\n",
    "long_table = long_table.merge(intron_annot, left_on=['chrom', 'start', 'stop', 'strand'], \n",
    "                 right_on=['chrom', 'start', 'end', 'strand'])\n",
    "\n",
    "\n",
    "# long_table = long_table.merge(intron_annot, left_on=['chrom', 'start', 'end', 'strand', 'gene', 'NewAnnotation'], \n",
    "#                  right_on=['chrom', 'start', 'end', 'strand', 'gene', 'NewAnnotation'])\n",
    "\n"
   ]
  },
  {
   "cell_type": "code",
   "execution_count": 10,
   "id": "b42d73c9",
   "metadata": {},
   "outputs": [],
   "source": [
    "pc_counts = long_table.loc[long_table.SuperAnnotation.isin(['AnnotatedJunc_ProductiveCodingGene',\n",
    "                                                            'UnannotatedJunc_ProductiveCodingGene'])\n",
    "                          ].groupby(['gene', 'IndID']).Count.sum().reset_index()"
   ]
  },
  {
   "cell_type": "code",
   "execution_count": 11,
   "id": "fa69512c",
   "metadata": {},
   "outputs": [
    {
     "data": {
      "text/html": [
       "<div>\n",
       "<style scoped>\n",
       "    .dataframe tbody tr th:only-of-type {\n",
       "        vertical-align: middle;\n",
       "    }\n",
       "\n",
       "    .dataframe tbody tr th {\n",
       "        vertical-align: top;\n",
       "    }\n",
       "\n",
       "    .dataframe thead th {\n",
       "        text-align: right;\n",
       "    }\n",
       "</style>\n",
       "<table border=\"1\" class=\"dataframe\">\n",
       "  <thead>\n",
       "    <tr style=\"text-align: right;\">\n",
       "      <th></th>\n",
       "      <th>gene</th>\n",
       "      <th>IndID</th>\n",
       "      <th>Count</th>\n",
       "    </tr>\n",
       "  </thead>\n",
       "  <tbody>\n",
       "    <tr>\n",
       "      <th>0</th>\n",
       "      <td>ENSG00000000419.13</td>\n",
       "      <td>NA18486</td>\n",
       "      <td>1167</td>\n",
       "    </tr>\n",
       "    <tr>\n",
       "      <th>1</th>\n",
       "      <td>ENSG00000000419.13</td>\n",
       "      <td>NA18497</td>\n",
       "      <td>1745</td>\n",
       "    </tr>\n",
       "    <tr>\n",
       "      <th>2</th>\n",
       "      <td>ENSG00000000419.13</td>\n",
       "      <td>NA18498</td>\n",
       "      <td>2245</td>\n",
       "    </tr>\n",
       "    <tr>\n",
       "      <th>3</th>\n",
       "      <td>ENSG00000000419.13</td>\n",
       "      <td>NA18499</td>\n",
       "      <td>1595</td>\n",
       "    </tr>\n",
       "    <tr>\n",
       "      <th>4</th>\n",
       "      <td>ENSG00000000419.13</td>\n",
       "      <td>NA18502</td>\n",
       "      <td>1874</td>\n",
       "    </tr>\n",
       "    <tr>\n",
       "      <th>...</th>\n",
       "      <td>...</td>\n",
       "      <td>...</td>\n",
       "      <td>...</td>\n",
       "    </tr>\n",
       "    <tr>\n",
       "      <th>1081148</th>\n",
       "      <td>ENSG00000288684.1</td>\n",
       "      <td>NA19238</td>\n",
       "      <td>11</td>\n",
       "    </tr>\n",
       "    <tr>\n",
       "      <th>1081149</th>\n",
       "      <td>ENSG00000288684.1</td>\n",
       "      <td>NA19239</td>\n",
       "      <td>11</td>\n",
       "    </tr>\n",
       "    <tr>\n",
       "      <th>1081150</th>\n",
       "      <td>ENSG00000288684.1</td>\n",
       "      <td>NA19247</td>\n",
       "      <td>4</td>\n",
       "    </tr>\n",
       "    <tr>\n",
       "      <th>1081151</th>\n",
       "      <td>ENSG00000288684.1</td>\n",
       "      <td>NA19257</td>\n",
       "      <td>4</td>\n",
       "    </tr>\n",
       "    <tr>\n",
       "      <th>1081152</th>\n",
       "      <td>ENSG00000288695.1</td>\n",
       "      <td>NA19225</td>\n",
       "      <td>1</td>\n",
       "    </tr>\n",
       "  </tbody>\n",
       "</table>\n",
       "<p>1081153 rows × 3 columns</p>\n",
       "</div>"
      ],
      "text/plain": [
       "                       gene    IndID  Count\n",
       "0        ENSG00000000419.13  NA18486   1167\n",
       "1        ENSG00000000419.13  NA18497   1745\n",
       "2        ENSG00000000419.13  NA18498   2245\n",
       "3        ENSG00000000419.13  NA18499   1595\n",
       "4        ENSG00000000419.13  NA18502   1874\n",
       "...                     ...      ...    ...\n",
       "1081148   ENSG00000288684.1  NA19238     11\n",
       "1081149   ENSG00000288684.1  NA19239     11\n",
       "1081150   ENSG00000288684.1  NA19247      4\n",
       "1081151   ENSG00000288684.1  NA19257      4\n",
       "1081152   ENSG00000288695.1  NA19225      1\n",
       "\n",
       "[1081153 rows x 3 columns]"
      ]
     },
     "execution_count": 11,
     "metadata": {},
     "output_type": "execute_result"
    }
   ],
   "source": [
    "pc_counts"
   ]
  },
  {
   "cell_type": "code",
   "execution_count": null,
   "id": "d1154541",
   "metadata": {},
   "outputs": [],
   "source": []
  }
 ],
 "metadata": {
  "kernelspec": {
   "display_name": "Python 3 (ipykernel)",
   "language": "python",
   "name": "python3"
  },
  "language_info": {
   "codemirror_mode": {
    "name": "ipython",
    "version": 3
   },
   "file_extension": ".py",
   "mimetype": "text/x-python",
   "name": "python",
   "nbconvert_exporter": "python",
   "pygments_lexer": "ipython3",
   "version": "3.8.8"
  }
 },
 "nbformat": 4,
 "nbformat_minor": 5
}
