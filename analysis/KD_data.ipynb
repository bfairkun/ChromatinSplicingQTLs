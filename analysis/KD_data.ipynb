{
 "cells": [
  {
   "cell_type": "code",
   "execution_count": 25,
   "id": "3c2dd251",
   "metadata": {},
   "outputs": [],
   "source": [
    "import numpy as np\n",
    "import pandas as pd\n",
    "from matplotlib import pyplot as plt\n",
    "import seaborn as sns\n",
    "from tqdm import tqdm\n",
    "from scipy.stats import pearsonr, spearmanr\n",
    "\n",
    "intron_annot = pd.read_csv('/project2/yangili1/bjf79/ChromatinSplicingQTLs/data/IntronAnnotationsFromYang.tsv.gz', sep='\\t')\n",
    "intron_annot['junction'] = intron_annot[['chrom', 'start', 'end', 'strand']].astype(str).agg(':'.join, axis=1)\n",
    "\n",
    "long_table = pd.read_csv(\n",
    "    '../code/SplicingAnalysis/CombinedJuncTables/NMD_KD.tsv.gz', sep='\\t'\n",
    ")\n"
   ]
  },
  {
   "cell_type": "code",
   "execution_count": 26,
   "id": "80636ba8",
   "metadata": {},
   "outputs": [],
   "source": [
    "# Adjustment needed to match the introns in Yang's annotation...\n",
    "long_table.stop += 1\n",
    "\n",
    "long_table = long_table.merge(intron_annot, left_on=['chrom', 'start', 'stop', 'strand'], \n",
    "                 right_on=['chrom', 'start', 'end', 'strand'])\n",
    "\n",
    "long_table['isNMD'] = long_table.SuperAnnotation.isin(['AnnotatedJunc_UnproductiveCodingGene', \n",
    "                                                       'UnannotatedJunc_UnproductiveCodingGene'])\n",
    "\n",
    "long_table = long_table.loc[long_table.SuperAnnotation.isin(['AnnotatedJunc_UnproductiveCodingGene', \n",
    "                                                       'UnannotatedJunc_UnproductiveCodingGene',\n",
    "                                                            'AnnotatedJunc_ProductiveCodingGene', \n",
    "                                                       'UnannotatedJunc_ProductiveCodingGene'])]"
   ]
  },
  {
   "cell_type": "code",
   "execution_count": 27,
   "id": "b2bfa533",
   "metadata": {},
   "outputs": [],
   "source": [
    "expressed_genes = pd.read_csv('../code/ExpressionAnalysis/polyA/ExpressedGeneList.txt', sep ='\\t',\n",
    "                             names = ['chrom', 'start', 'end', 'gene', 'score', 'strand'])"
   ]
  },
  {
   "cell_type": "code",
   "execution_count": 28,
   "id": "e5a46bc4",
   "metadata": {},
   "outputs": [],
   "source": [
    "long_table = long_table.loc[long_table.gene.isin(expressed_genes.gene)]"
   ]
  },
  {
   "cell_type": "code",
   "execution_count": 21,
   "id": "7f92b164",
   "metadata": {},
   "outputs": [
    {
     "data": {
      "text/plain": [
       "IndID\n",
       "SRR4081222    0.008618\n",
       "SRR4081223    0.009047\n",
       "SRR4081224    0.008920\n",
       "SRR4081237    0.007828\n",
       "SRR4081238    0.008336\n",
       "SRR4081239    0.008731\n",
       "Name: Count, dtype: float64"
      ]
     },
     "execution_count": 21,
     "metadata": {},
     "output_type": "execute_result"
    }
   ],
   "source": [
    "long_table.loc[(long_table.Dataset=='HeLa.scr') & (long_table.isNMD)].groupby('IndID').Count.sum()/long_table.loc[(long_table.Dataset=='HeLa.scr')].groupby('IndID').Count.sum()"
   ]
  },
  {
   "cell_type": "code",
   "execution_count": 29,
   "id": "689ea013",
   "metadata": {},
   "outputs": [
    {
     "data": {
      "text/plain": [
       "IndID\n",
       "SRR4081246    0.029074\n",
       "SRR4081247    0.029175\n",
       "SRR4081248    0.029247\n",
       "Name: Count, dtype: float64"
      ]
     },
     "execution_count": 29,
     "metadata": {},
     "output_type": "execute_result"
    }
   ],
   "source": [
    "long_table.loc[(long_table.Dataset=='HeLa.dKD') & (long_table.isNMD)].groupby('IndID').Count.sum()/long_table.loc[(long_table.Dataset=='HeLa.dKD')].groupby('IndID').Count.sum()"
   ]
  },
  {
   "cell_type": "code",
   "execution_count": 30,
   "id": "965caf50",
   "metadata": {},
   "outputs": [
    {
     "data": {
      "text/plain": [
       "array(['HeLa.scr', 'HeLa.SMG6.KD', 'HeLa.SMG7.KD', 'HeLa.UPF1.KD',\n",
       "       'HeLa.dKD'], dtype=object)"
      ]
     },
     "execution_count": 30,
     "metadata": {},
     "output_type": "execute_result"
    }
   ],
   "source": [
    "long_table.Dataset.unique()"
   ]
  },
  {
   "cell_type": "code",
   "execution_count": null,
   "id": "fdf75720",
   "metadata": {},
   "outputs": [],
   "source": []
  }
 ],
 "metadata": {
  "kernelspec": {
   "display_name": "Python 3 (ipykernel)",
   "language": "python",
   "name": "python3"
  },
  "language_info": {
   "codemirror_mode": {
    "name": "ipython",
    "version": 3
   },
   "file_extension": ".py",
   "mimetype": "text/x-python",
   "name": "python",
   "nbconvert_exporter": "python",
   "pygments_lexer": "ipython3",
   "version": "3.8.8"
  }
 },
 "nbformat": 4,
 "nbformat_minor": 5
}
